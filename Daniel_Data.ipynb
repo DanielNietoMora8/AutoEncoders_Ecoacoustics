{
 "cells": [
  {
   "cell_type": "code",
   "execution_count": 1,
   "metadata": {
    "id": "5Jo5E4cmabyk"
   },
   "outputs": [],
   "source": [
    "import os\n",
    "import math\n",
    "import numpy as np\n",
    "import pandas as pd\n",
    "import statistics\n",
    "import matplotlib.pyplot as plt\n",
    "from scipy import signal, stats\n",
    "from scipy.spatial import distance\n",
    "from numpy import linalg as LA\n",
    "from sklearn.metrics.cluster import adjusted_mutual_info_score\n",
    "from sklearn import metrics\n",
    "from sklearn.cluster import kmeans_plusplus\n",
    "from sklearn.datasets import make_blobs\n",
    "import matplotlib.pyplot as plt\n",
    "from sklearn.metrics import accuracy_score\n",
    "from sklearn.metrics import classification_report\n",
    "from sklearn.mixture import GaussianMixture\n",
    "from sklearn.metrics import accuracy_score\n",
    "from sklearn.metrics import classification_report\n",
    "from sklearn.metrics import f1_score\n",
    "import warnings\n",
    "warnings.filterwarnings(\"ignore\")"
   ]
  },
  {
   "cell_type": "code",
   "execution_count": 2,
   "metadata": {
    "id": "lumrCsRYbMvs"
   },
   "outputs": [],
   "source": [
    "def uncertainity_mean(X_train1,pred,means,covariances,weights,km,numberofdimens):\n",
    "    X_train1[\"pred\"]=pred\n",
    "    meanss=means\n",
    "    weiths=weights\n",
    "    variances=[]\n",
    "    covariancematrix=covariances\n",
    "    for i in covariancematrix: #The diagonal of cov is the variance of each gmm\n",
    "        diag=np.diag(i)\n",
    "        variances.append(diag)\n",
    "    variances=np.array(variances)\n",
    "    countiterations=0\n",
    "    unc=[]\n",
    "    un=[]\n",
    "\n",
    "    sep=[]\n",
    "    for g in range(0,len(meanss)):    ##Frechet distance\n",
    "        for t in range(0,len(meanss)):\n",
    "            if (t==g):\n",
    "                continue\n",
    "            else:\n",
    "                sep.append(frechetDistance(meanss[t],meanss[g],covariancematrix[t],covariancematrix[g]))\n",
    "    separation=np.array(sep)\n",
    "    Dmin=np.array(separation).min()\n",
    "    Dmax=np.array(separation).max()\n",
    "    Sep=(Dmax/Dmin)*(1/separation.sum())\n",
    "\n",
    "    for i in range(0,len(meanss)):    #Uncertainty    ##i run each cluster\n",
    "        cweight=weiths[i]\n",
    "        cmean=meanss[i]\n",
    "        cvar=variances[i]\n",
    "        lim_inf=cmean-(km*cvar)\n",
    "        lim_sup=cmean+(km*cvar)\n",
    "        unc=[]\n",
    "        o=X_train1[X_train1[\"pred\"]==i].iloc[:,:numberofdimens].copy()\n",
    "\n",
    "        for j in range(len(o)): # j run each data\n",
    "            DM=distance.mahalanobis(np.array(o.iloc[j]), cmean, np.linalg.inv(covariancematrix[i]))\n",
    "            varbool=(DM>=km)\n",
    "            varunc=[]\n",
    "            #print(\"varbool\",varbool)\n",
    "            if (varbool):\n",
    "                varunc.append(2*km*DM)\n",
    "            else:\n",
    "                vs=((DM**2)+(km*DM)+(km**2)/2)\n",
    "                varunc.append(vs)\n",
    "        un.append(np.array(varunc))\n",
    "    return np.sum(un)/Sep"
   ]
  },
  {
   "cell_type": "code",
   "execution_count": 3,
   "metadata": {
    "id": "q5CMBV6pUcIo"
   },
   "outputs": [],
   "source": [
    "def merguncertain (xtrain,y,Means,covariances,weights,numberofdimens):\n",
    "    X_train11=xtrain\n",
    "    X_train11[\"pred\"]=y\n",
    "    UNIndex=[]\n",
    "    len(Means)\n",
    "    Pairwise=np.ones((len(Means), len(Means)))\n",
    "    labels=[]\n",
    "    for i in range(len(Means)):\n",
    "        labels.append(i)\n",
    "        for j in range(len(Means)):\n",
    "                if (i==j):\n",
    "                    continue\n",
    "                Pairwise[j,i]=(frechetDistance(Means[i],Means[j],covariances[i],covariances[j]))\n",
    "\n",
    "    while len(Pairwise) > 2 :\n",
    "            UNIndex.append(uncertainity_mean(X_train11.iloc[:,:numberofdimens],X_train11[\"pred\"],Means,covariances,weights,1,numberofdimens))\n",
    "\n",
    "            Similar_clusters=np.unravel_index(Pairwise.argmin(),Pairwise.shape)\n",
    "            Similar_clusters_labels=( labels[Similar_clusters[0]],labels[Similar_clusters[1]])\n",
    "\n",
    "            #update Mean\n",
    "            data_size_1=len(X_train11[X_train11[\"pred\"]==Similar_clusters_labels[0]])\n",
    "            data_size_2=len(X_train11[X_train11[\"pred\"]==Similar_clusters_labels[1]])\n",
    "            mean_1=Means[Similar_clusters[0]]\n",
    "            mean_2=Means[Similar_clusters[1]]\n",
    "            new_mean = (data_size_1* mean_1 + data_size_2*mean_2)/(data_size_1 + data_size_2)\n",
    "            Means[Similar_clusters[0]]=new_mean\n",
    "\n",
    "            #Update labels\n",
    "            X_train11[\"pred\"]=X_train11[\"pred\"].replace(Similar_clusters_labels[1], Similar_clusters_labels[0])\n",
    "            #print(X_train11[\"pred\"].unique())\n",
    "            NewCovariance=X_train11[X_train11[\"pred\"]==Similar_clusters_labels[0]].iloc[:,:numberofdimens].cov()\n",
    "            covariances[Similar_clusters[0]]=NewCovariance\n",
    "            weights[Similar_clusters[0]]=weights[Similar_clusters[0]]+weights[Similar_clusters[1]]\n",
    "\n",
    "            updpairwisecolum=[]\n",
    "            for j in range(0,len(Means)):\n",
    "                    updpairwisecolum.append((frechetDistance(Means[Similar_clusters[0]],Means[j],covariances[Similar_clusters[0]],covariances[j])))\n",
    "            #print(updpairwisecolum)\n",
    "            Pairwise[:,Similar_clusters[0]]=updpairwisecolum\n",
    "            Pairwise[Similar_clusters[0],:]=updpairwisecolum\n",
    "\n",
    "            Means= np.delete(Means, (Similar_clusters[1]), axis=0)\n",
    "            weights= np.delete(weights, (Similar_clusters[1]), axis=0)\n",
    "            covariances=np.delete(covariances, (Similar_clusters[1]), axis=0)\n",
    "            labels.remove(Similar_clusters_labels[1])\n",
    "            Pairwise= np.delete(Pairwise, (Similar_clusters[1]), axis=0)\n",
    "            Pairwise= np.delete(Pairwise, (Similar_clusters[1]), axis=1)\n",
    "            np.fill_diagonal(Pairwise, 1)\n",
    "    return UNIndex"
   ]
  },
  {
   "cell_type": "code",
   "execution_count": 4,
   "metadata": {
    "id": "F7SrKoKiyvkP"
   },
   "outputs": [],
   "source": [
    "def frechetDistance(u1,u2,E1,E2):\n",
    "    return (LA.norm(np.absolute(u1-u2)**2))+np.trace(E1+E2-(2*(E1*E2)**(0.5)))"
   ]
  },
  {
   "cell_type": "code",
   "execution_count": 5,
   "metadata": {
    "colab": {
     "base_uri": "https://localhost:8080/",
     "height": 35
    },
    "id": "FY7zKoUvapIk",
    "outputId": "dced4507-0fb1-49a8-d16e-8ec7b9312aee"
   },
   "outputs": [
    {
     "data": {
      "application/vnd.google.colaboratory.intrinsic+json": {
       "type": "string"
      },
      "text/plain": [
       "'/content'"
      ]
     },
     "execution_count": 5,
     "metadata": {},
     "output_type": "execute_result"
    }
   ],
   "source": [
    "pwd"
   ]
  },
  {
   "cell_type": "code",
   "execution_count": 6,
   "metadata": {
    "colab": {
     "base_uri": "https://localhost:8080/"
    },
    "id": "E4ibwTi6CaLM",
    "outputId": "f015c172-55ff-4e0e-95d8-a63d485ac641"
   },
   "outputs": [
    {
     "name": "stdout",
     "output_type": "stream",
     "text": [
      "Mounted at /content/drive\n"
     ]
    }
   ],
   "source": [
    "from google.colab import drive\n",
    "drive.mount('/content/drive')"
   ]
  },
  {
   "cell_type": "code",
   "execution_count": null,
   "metadata": {
    "id": "KmM3oDe6UhOt"
   },
   "outputs": [],
   "source": [
    "import numpy as np\n",
    "import pandas as pd\n",
    "from sklearn.datasets import load_iris\n",
    "\n",
    "df=pd.read_csv('/content/drive/MyDrive/Doctorado/2023/Agosto/Daniel Nieto/X_UMAP.csv')"
   ]
  },
  {
   "cell_type": "code",
   "execution_count": null,
   "metadata": {
    "id": "MfJfcKP7UhRG"
   },
   "outputs": [],
   "source": [
    "df=df.iloc[:,1:]"
   ]
  },
  {
   "cell_type": "markdown",
   "metadata": {
    "id": "ZeXg56ASq5pa"
   },
   "source": [
    "## Approach 1: Calculating performance in base of index UF\n"
   ]
  },
  {
   "cell_type": "code",
   "execution_count": null,
   "metadata": {
    "id": "ms37QYslqC2n"
   },
   "outputs": [],
   "source": [
    "Index=[]\n",
    "liminfierior=2\n",
    "limsuperior=20\n",
    "for i in range(2,20):\n",
    "\n",
    "    X_train111=df.copy()\n",
    "    GM = GaussianMixture(n_components=i, covariance_type=\"full\",random_state=1).fit(X_train111)\n",
    "    X_train111[\"pred\"]=GM.predict(X_train111)\n",
    "    Means=GM.means_\n",
    "    covariances=GM.covariances_\n",
    "    weights=GM.weights_\n",
    "    numberofdimens=X_train111.shape[1]-1\n",
    "    y=X_train111[\"pred\"]\n",
    "    Index.append(uncertainity_mean(X_train111.iloc[:,:numberofdimens],X_train111[\"pred\"],Means,covariances,weights,1,numberofdimens))\n"
   ]
  },
  {
   "cell_type": "code",
   "execution_count": null,
   "metadata": {
    "colab": {
     "base_uri": "https://localhost:8080/",
     "height": 467
    },
    "id": "z6G-8oV0q4Vd",
    "outputId": "9f060f85-a211-48cd-9ee3-debb9f18a8a2"
   },
   "outputs": [
    {
     "data": {
      "text/plain": [
       "<Axes: xlabel='ind'>"
      ]
     },
     "execution_count": 15,
     "metadata": {},
     "output_type": "execute_result"
    },
    {
     "data": {
      "image/png": "[encoded data removed]",
      "text/plain": [
       "<Figure size 640x480 with 1 Axes>"
      ]
     },
     "metadata": {},
     "output_type": "display_data"
    }
   ],
   "source": [
    "change=pd.DataFrame(Index,columns=[\"UFindex\"])\n",
    "change[\"ind\"]=np.linspace(2,len(change)+2,len(change))\n",
    "\n",
    "change.plot(\"ind\",[\"UFindex\"])"
   ]
  },
  {
   "cell_type": "code",
   "execution_count": null,
   "metadata": {
    "colab": {
     "base_uri": "https://localhost:8080/"
    },
    "id": "4Y7mEwGRnn-Y",
    "outputId": "d0d40edd-5db5-4d84-ed1d-859dc4ad2c0e"
   },
   "outputs": [
    {
     "data": {
      "text/plain": [
       "0"
      ]
     },
     "execution_count": 16,
     "metadata": {},
     "output_type": "execute_result"
    }
   ],
   "source": [
    "change[\"UFindex\"].argmin()"
   ]
  },
  {
   "cell_type": "markdown",
   "metadata": {
    "id": "b-y4yVx4dkrQ"
   },
   "source": [
    "## Approach 2: Meging methodology\n"
   ]
  },
  {
   "cell_type": "code",
   "execution_count": null,
   "metadata": {
    "colab": {
     "base_uri": "https://localhost:8080/",
     "height": 483
    },
    "id": "IEFl9INY5OU6",
    "outputId": "a166a1bb-5236-4c6b-bdd8-c96955f7375a"
   },
   "outputs": [
    {
     "data": {
      "text/plain": [
       "<Axes: xlabel='ind'>"
      ]
     },
     "execution_count": 25,
     "metadata": {},
     "output_type": "execute_result"
    },
    {
     "data": {
      "image/png": "[encoded data removed]",
      "text/plain": [
       "<Figure size 640x480 with 1 Axes>"
      ]
     },
     "metadata": {},
     "output_type": "display_data"
    }
   ],
   "source": [
    "from sklearn.model_selection import train_test_split\n",
    "\n",
    "X=df\n",
    "X_train111=df.copy()\n",
    "GM = GaussianMixture(n_components=20, covariance_type=\"full\", random_state=2).fit(X_train111)\n",
    "X_train111[\"pred\"]=GM.predict(X_train111)\n",
    "Means=GM.means_\n",
    "covariances=GM.covariances_\n",
    "weights=GM.weights_\n",
    "y=X_train111[\"pred\"]\n",
    "index=merguncertain (X,y,Means,covariances,weights,X.shape[1])\n",
    "index.reverse()\n",
    "change=pd.DataFrame(index,columns=[\"a\"])\n",
    "change[\"ind\"]=np.linspace(0,len(change),len(change))\n",
    "\n",
    "change.plot(\"ind\",[\"a\"])\n"
   ]
  },
  {
   "cell_type": "code",
   "execution_count": null,
   "metadata": {
    "id": "ggCZKnZcDt71"
   },
   "outputs": [],
   "source": [
    "\n",
    "change=change.iloc[:-1,:]"
   ]
  },
  {
   "cell_type": "code",
   "execution_count": null,
   "metadata": {
    "colab": {
     "base_uri": "https://localhost:8080/"
    },
    "id": "i0tmChDa-9gH",
    "outputId": "16fc5166-d4f9-4614-ca31-96a2b331b8e4"
   },
   "outputs": [
    {
     "data": {
      "text/plain": [
       "5"
      ]
     },
     "execution_count": 27,
     "metadata": {},
     "output_type": "execute_result"
    }
   ],
   "source": [
    "\n",
    "recomended=change[\"a\"].argmin()+2\n",
    "GMM_test= GaussianMixture(n_components=recomended, covariance_type=\"full\",random_state=0).fit(X)\n",
    "predy=GMM_test.predict(X)\n",
    "recomended"
   ]
  },
  {
   "cell_type": "code",
   "execution_count": 7,
   "metadata": {
    "id": "rUW99_1oQucl"
   },
   "outputs": [],
   "source": [
    "import numpy as np\n",
    "import pandas as pd\n",
    "from sklearn.datasets import load_iris\n",
    "\n",
    "df=pd.read_csv('/content/drive/MyDrive/Doctorado/2023/Agosto/Daniel Nieto/X_PCA.csv')"
   ]
  },
  {
   "cell_type": "code",
   "execution_count": 8,
   "metadata": {
    "colab": {
     "base_uri": "https://localhost:8080/",
     "height": 461
    },
    "id": "rrHTT_58fk97",
    "outputId": "bade3366-ff02-4f62-827f-23f5e8dcc8da"
   },
   "outputs": [
    {
     "data": {
      "text/html": [
       "\n",
       "  <div id=\"df-5bf07f24-a71b-4ecb-914e-60f00802550c\" class=\"colab-df-container\">\n",
       "    <div>\n",
       "<style scoped>\n",
       "    .dataframe tbody tr th:only-of-type {\n",
       "        vertical-align: middle;\n",
       "    }\n",
       "\n",
       "    .dataframe tbody tr th {\n",
       "        vertical-align: top;\n",
       "    }\n",
       "\n",
       "    .dataframe thead th {\n",
       "        text-align: right;\n",
       "    }\n",
       "</style>\n",
       "<table border=\"1\" class=\"dataframe\">\n",
       "  <thead>\n",
       "    <tr style=\"text-align: right;\">\n",
       "      <th></th>\n",
       "      <th>Unnamed: 0</th>\n",
       "      <th>0</th>\n",
       "      <th>1</th>\n",
       "      <th>2</th>\n",
       "      <th>3</th>\n",
       "      <th>4</th>\n",
       "      <th>5</th>\n",
       "      <th>6</th>\n",
       "      <th>7</th>\n",
       "      <th>8</th>\n",
       "      <th>...</th>\n",
       "      <th>110</th>\n",
       "      <th>111</th>\n",
       "      <th>112</th>\n",
       "      <th>113</th>\n",
       "      <th>114</th>\n",
       "      <th>115</th>\n",
       "      <th>116</th>\n",
       "      <th>117</th>\n",
       "      <th>118</th>\n",
       "      <th>119</th>\n",
       "    </tr>\n",
       "  </thead>\n",
       "  <tbody>\n",
       "    <tr>\n",
       "      <th>0</th>\n",
       "      <td>0</td>\n",
       "      <td>13.044993</td>\n",
       "      <td>-5.593243</td>\n",
       "      <td>-0.696683</td>\n",
       "      <td>3.662379</td>\n",
       "      <td>-0.139850</td>\n",
       "      <td>1.397526</td>\n",
       "      <td>-0.063161</td>\n",
       "      <td>-1.465234</td>\n",
       "      <td>0.641279</td>\n",
       "      <td>...</td>\n",
       "      <td>0.019893</td>\n",
       "      <td>0.039672</td>\n",
       "      <td>0.064869</td>\n",
       "      <td>-0.007133</td>\n",
       "      <td>-0.003154</td>\n",
       "      <td>0.052942</td>\n",
       "      <td>-0.143180</td>\n",
       "      <td>0.016084</td>\n",
       "      <td>0.041965</td>\n",
       "      <td>-0.144944</td>\n",
       "    </tr>\n",
       "    <tr>\n",
       "      <th>1</th>\n",
       "      <td>1</td>\n",
       "      <td>13.875603</td>\n",
       "      <td>-5.328022</td>\n",
       "      <td>-0.665485</td>\n",
       "      <td>4.617260</td>\n",
       "      <td>0.346263</td>\n",
       "      <td>1.968226</td>\n",
       "      <td>-0.531593</td>\n",
       "      <td>-1.299002</td>\n",
       "      <td>0.259782</td>\n",
       "      <td>...</td>\n",
       "      <td>0.121575</td>\n",
       "      <td>-0.109509</td>\n",
       "      <td>-0.122442</td>\n",
       "      <td>-0.397819</td>\n",
       "      <td>-0.255171</td>\n",
       "      <td>0.722521</td>\n",
       "      <td>0.198130</td>\n",
       "      <td>0.118104</td>\n",
       "      <td>-0.123503</td>\n",
       "      <td>-0.216296</td>\n",
       "    </tr>\n",
       "    <tr>\n",
       "      <th>2</th>\n",
       "      <td>2</td>\n",
       "      <td>14.163228</td>\n",
       "      <td>-4.024805</td>\n",
       "      <td>-1.698744</td>\n",
       "      <td>3.429611</td>\n",
       "      <td>1.149026</td>\n",
       "      <td>1.210555</td>\n",
       "      <td>-0.957066</td>\n",
       "      <td>-0.507815</td>\n",
       "      <td>-0.411193</td>\n",
       "      <td>...</td>\n",
       "      <td>0.298003</td>\n",
       "      <td>-0.492308</td>\n",
       "      <td>0.061939</td>\n",
       "      <td>-0.140935</td>\n",
       "      <td>0.001497</td>\n",
       "      <td>0.197287</td>\n",
       "      <td>0.413545</td>\n",
       "      <td>0.127607</td>\n",
       "      <td>-0.147375</td>\n",
       "      <td>-0.002372</td>\n",
       "    </tr>\n",
       "    <tr>\n",
       "      <th>3</th>\n",
       "      <td>3</td>\n",
       "      <td>13.339255</td>\n",
       "      <td>-5.152263</td>\n",
       "      <td>-1.238184</td>\n",
       "      <td>2.765433</td>\n",
       "      <td>0.338360</td>\n",
       "      <td>1.332335</td>\n",
       "      <td>-0.071660</td>\n",
       "      <td>-0.988279</td>\n",
       "      <td>0.347291</td>\n",
       "      <td>...</td>\n",
       "      <td>-0.112915</td>\n",
       "      <td>0.316427</td>\n",
       "      <td>0.312912</td>\n",
       "      <td>0.295916</td>\n",
       "      <td>-0.007619</td>\n",
       "      <td>-0.287507</td>\n",
       "      <td>-0.180218</td>\n",
       "      <td>-0.076333</td>\n",
       "      <td>-0.005957</td>\n",
       "      <td>-0.145642</td>\n",
       "    </tr>\n",
       "    <tr>\n",
       "      <th>4</th>\n",
       "      <td>4</td>\n",
       "      <td>13.032797</td>\n",
       "      <td>-5.614934</td>\n",
       "      <td>-0.873001</td>\n",
       "      <td>3.313101</td>\n",
       "      <td>-0.152759</td>\n",
       "      <td>1.348218</td>\n",
       "      <td>0.167714</td>\n",
       "      <td>-1.382820</td>\n",
       "      <td>0.526010</td>\n",
       "      <td>...</td>\n",
       "      <td>-0.773008</td>\n",
       "      <td>0.517045</td>\n",
       "      <td>-0.012045</td>\n",
       "      <td>0.213165</td>\n",
       "      <td>-0.114372</td>\n",
       "      <td>-0.624625</td>\n",
       "      <td>-0.203918</td>\n",
       "      <td>-0.176463</td>\n",
       "      <td>0.131390</td>\n",
       "      <td>0.000729</td>\n",
       "    </tr>\n",
       "    <tr>\n",
       "      <th>...</th>\n",
       "      <td>...</td>\n",
       "      <td>...</td>\n",
       "      <td>...</td>\n",
       "      <td>...</td>\n",
       "      <td>...</td>\n",
       "      <td>...</td>\n",
       "      <td>...</td>\n",
       "      <td>...</td>\n",
       "      <td>...</td>\n",
       "      <td>...</td>\n",
       "      <td>...</td>\n",
       "      <td>...</td>\n",
       "      <td>...</td>\n",
       "      <td>...</td>\n",
       "      <td>...</td>\n",
       "      <td>...</td>\n",
       "      <td>...</td>\n",
       "      <td>...</td>\n",
       "      <td>...</td>\n",
       "      <td>...</td>\n",
       "      <td>...</td>\n",
       "    </tr>\n",
       "    <tr>\n",
       "      <th>84815</th>\n",
       "      <td>84815</td>\n",
       "      <td>-6.467999</td>\n",
       "      <td>-0.248116</td>\n",
       "      <td>-0.875998</td>\n",
       "      <td>0.143440</td>\n",
       "      <td>1.353136</td>\n",
       "      <td>-2.378663</td>\n",
       "      <td>-0.730882</td>\n",
       "      <td>0.877220</td>\n",
       "      <td>-1.331696</td>\n",
       "      <td>...</td>\n",
       "      <td>-0.154823</td>\n",
       "      <td>-0.053806</td>\n",
       "      <td>-0.172043</td>\n",
       "      <td>0.275375</td>\n",
       "      <td>-0.446103</td>\n",
       "      <td>0.254066</td>\n",
       "      <td>-0.083799</td>\n",
       "      <td>0.034226</td>\n",
       "      <td>-0.208030</td>\n",
       "      <td>-0.261192</td>\n",
       "    </tr>\n",
       "    <tr>\n",
       "      <th>84816</th>\n",
       "      <td>84816</td>\n",
       "      <td>-5.337506</td>\n",
       "      <td>0.974563</td>\n",
       "      <td>-0.358455</td>\n",
       "      <td>-0.879336</td>\n",
       "      <td>-0.074972</td>\n",
       "      <td>-1.955175</td>\n",
       "      <td>-1.746127</td>\n",
       "      <td>0.314756</td>\n",
       "      <td>-1.072748</td>\n",
       "      <td>...</td>\n",
       "      <td>0.096165</td>\n",
       "      <td>0.242761</td>\n",
       "      <td>-0.262010</td>\n",
       "      <td>-0.386270</td>\n",
       "      <td>-0.052821</td>\n",
       "      <td>0.126551</td>\n",
       "      <td>-0.106586</td>\n",
       "      <td>-0.022384</td>\n",
       "      <td>-0.062952</td>\n",
       "      <td>-0.162167</td>\n",
       "    </tr>\n",
       "    <tr>\n",
       "      <th>84817</th>\n",
       "      <td>84817</td>\n",
       "      <td>-3.177078</td>\n",
       "      <td>2.026082</td>\n",
       "      <td>-0.916378</td>\n",
       "      <td>-2.305128</td>\n",
       "      <td>-2.788081</td>\n",
       "      <td>-0.980782</td>\n",
       "      <td>-2.227399</td>\n",
       "      <td>-0.687388</td>\n",
       "      <td>-1.470637</td>\n",
       "      <td>...</td>\n",
       "      <td>-0.146229</td>\n",
       "      <td>-0.124592</td>\n",
       "      <td>0.301288</td>\n",
       "      <td>-0.076214</td>\n",
       "      <td>0.047400</td>\n",
       "      <td>-0.045529</td>\n",
       "      <td>0.322252</td>\n",
       "      <td>-0.568262</td>\n",
       "      <td>-0.046207</td>\n",
       "      <td>0.448779</td>\n",
       "    </tr>\n",
       "    <tr>\n",
       "      <th>84818</th>\n",
       "      <td>84818</td>\n",
       "      <td>-5.394916</td>\n",
       "      <td>0.959071</td>\n",
       "      <td>-0.848343</td>\n",
       "      <td>-0.845878</td>\n",
       "      <td>-0.101228</td>\n",
       "      <td>-1.828374</td>\n",
       "      <td>-1.763605</td>\n",
       "      <td>-0.021771</td>\n",
       "      <td>-1.363137</td>\n",
       "      <td>...</td>\n",
       "      <td>0.245340</td>\n",
       "      <td>-0.225756</td>\n",
       "      <td>-0.286206</td>\n",
       "      <td>-0.226923</td>\n",
       "      <td>0.135791</td>\n",
       "      <td>0.212662</td>\n",
       "      <td>-0.076181</td>\n",
       "      <td>0.064242</td>\n",
       "      <td>-0.258144</td>\n",
       "      <td>-0.115306</td>\n",
       "    </tr>\n",
       "    <tr>\n",
       "      <th>84819</th>\n",
       "      <td>84819</td>\n",
       "      <td>-6.301805</td>\n",
       "      <td>-0.044730</td>\n",
       "      <td>-0.258039</td>\n",
       "      <td>-0.079388</td>\n",
       "      <td>1.233265</td>\n",
       "      <td>-2.308826</td>\n",
       "      <td>-1.355503</td>\n",
       "      <td>0.982330</td>\n",
       "      <td>-0.991491</td>\n",
       "      <td>...</td>\n",
       "      <td>0.249783</td>\n",
       "      <td>0.096280</td>\n",
       "      <td>0.016855</td>\n",
       "      <td>-0.101100</td>\n",
       "      <td>0.160447</td>\n",
       "      <td>-0.252731</td>\n",
       "      <td>-0.193626</td>\n",
       "      <td>-0.216705</td>\n",
       "      <td>0.089276</td>\n",
       "      <td>0.091050</td>\n",
       "    </tr>\n",
       "  </tbody>\n",
       "</table>\n",
       "<p>84820 rows × 121 columns</p>\n",
       "</div>\n",
       "    <div class=\"colab-df-buttons\">\n",
       "\n",
       "  <div class=\"colab-df-container\">\n",
       "    <button class=\"colab-df-convert\" onclick=\"convertToInteractive('df-5bf07f24-a71b-4ecb-914e-60f00802550c')\"\n",
       "            title=\"Convert this dataframe to an interactive table.\"\n",
       "            style=\"display:none;\">\n",
       "\n",
       "  <svg xmlns=\"http://www.w3.org/2000/svg\" height=\"24px\" viewBox=\"0 -960 960 960\">\n",
       "    <path d=\"M120-120v-720h720v720H120Zm60-500h600v-160H180v160Zm220 220h160v-160H400v160Zm0 220h160v-160H400v160ZM180-400h160v-160H180v160Zm440 0h160v-160H620v160ZM180-180h160v-160H180v160Zm440 0h160v-160H620v160Z\"/>\n",
       "  </svg>\n",
       "    </button>\n",
       "\n",
       "  <style>\n",
       "    .colab-df-container {\n",
       "      display:flex;\n",
       "      gap: 12px;\n",
       "    }\n",
       "\n",
       "    .colab-df-convert {\n",
       "      background-color: #E8F0FE;\n",
       "      border: none;\n",
       "      border-radius: 50%;\n",
       "      cursor: pointer;\n",
       "      display: none;\n",
       "      fill: #1967D2;\n",
       "      height: 32px;\n",
       "      padding: 0 0 0 0;\n",
       "      width: 32px;\n",
       "    }\n",
       "\n",
       "    .colab-df-convert:hover {\n",
       "      background-color: #E2EBFA;\n",
       "      box-shadow: 0px 1px 2px rgba(60, 64, 67, 0.3), 0px 1px 3px 1px rgba(60, 64, 67, 0.15);\n",
       "      fill: #174EA6;\n",
       "    }\n",
       "\n",
       "    .colab-df-buttons div {\n",
       "      margin-bottom: 4px;\n",
       "    }\n",
       "\n",
       "    [theme=dark] .colab-df-convert {\n",
       "      background-color: #3B4455;\n",
       "      fill: #D2E3FC;\n",
       "    }\n",
       "\n",
       "    [theme=dark] .colab-df-convert:hover {\n",
       "      background-color: #434B5C;\n",
       "      box-shadow: 0px 1px 3px 1px rgba(0, 0, 0, 0.15);\n",
       "      filter: drop-shadow(0px 1px 2px rgba(0, 0, 0, 0.3));\n",
       "      fill: #FFFFFF;\n",
       "    }\n",
       "  </style>\n",
       "\n",
       "    <script>\n",
       "      const buttonEl =\n",
       "        document.querySelector('#df-5bf07f24-a71b-4ecb-914e-60f00802550c button.colab-df-convert');\n",
       "      buttonEl.style.display =\n",
       "        google.colab.kernel.accessAllowed ? 'block' : 'none';\n",
       "\n",
       "      async function convertToInteractive(key) {\n",
       "        const element = document.querySelector('#df-5bf07f24-a71b-4ecb-914e-60f00802550c');\n",
       "        const dataTable =\n",
       "          await google.colab.kernel.invokeFunction('convertToInteractive',\n",
       "                                                    [key], {});\n",
       "        if (!dataTable) return;\n",
       "\n",
       "        const docLinkHtml = 'Like what you see? Visit the ' +\n",
       "          '<a target=\"_blank\" href=https://colab.research.google.com/notebooks/data_table.ipynb>data table notebook</a>'\n",
       "          + ' to learn more about interactive tables.';\n",
       "        element.innerHTML = '';\n",
       "        dataTable['output_type'] = 'display_data';\n",
       "        await google.colab.output.renderOutput(dataTable, element);\n",
       "        const docLink = document.createElement('div');\n",
       "        docLink.innerHTML = docLinkHtml;\n",
       "        element.appendChild(docLink);\n",
       "      }\n",
       "    </script>\n",
       "  </div>\n",
       "\n",
       "\n",
       "<div id=\"df-63d53deb-e939-47c1-8dda-badbbee74542\">\n",
       "  <button class=\"colab-df-quickchart\" onclick=\"quickchart('df-63d53deb-e939-47c1-8dda-badbbee74542')\"\n",
       "            title=\"Suggest charts.\"\n",
       "            style=\"display:none;\">\n",
       "\n",
       "<svg xmlns=\"http://www.w3.org/2000/svg\" height=\"24px\"viewBox=\"0 0 24 24\"\n",
       "     width=\"24px\">\n",
       "    <g>\n",
       "        <path d=\"M19 3H5c-1.1 0-2 .9-2 2v14c0 1.1.9 2 2 2h14c1.1 0 2-.9 2-2V5c0-1.1-.9-2-2-2zM9 17H7v-7h2v7zm4 0h-2V7h2v10zm4 0h-2v-4h2v4z\"/>\n",
       "    </g>\n",
       "</svg>\n",
       "  </button>\n",
       "\n",
       "<style>\n",
       "  .colab-df-quickchart {\n",
       "    background-color: #E8F0FE;\n",
       "    border: none;\n",
       "    border-radius: 50%;\n",
       "    cursor: pointer;\n",
       "    display: none;\n",
       "    fill: #1967D2;\n",
       "    height: 32px;\n",
       "    padding: 0 0 0 0;\n",
       "    width: 32px;\n",
       "  }\n",
       "\n",
       "  .colab-df-quickchart:hover {\n",
       "    background-color: #E2EBFA;\n",
       "    box-shadow: 0px 1px 2px rgba(60, 64, 67, 0.3), 0px 1px 3px 1px rgba(60, 64, 67, 0.15);\n",
       "    fill: #174EA6;\n",
       "  }\n",
       "\n",
       "  [theme=dark] .colab-df-quickchart {\n",
       "    background-color: #3B4455;\n",
       "    fill: #D2E3FC;\n",
       "  }\n",
       "\n",
       "  [theme=dark] .colab-df-quickchart:hover {\n",
       "    background-color: #434B5C;\n",
       "    box-shadow: 0px 1px 3px 1px rgba(0, 0, 0, 0.15);\n",
       "    filter: drop-shadow(0px 1px 2px rgba(0, 0, 0, 0.3));\n",
       "    fill: #FFFFFF;\n",
       "  }\n",
       "</style>\n",
       "\n",
       "  <script>\n",
       "    async function quickchart(key) {\n",
       "      const charts = await google.colab.kernel.invokeFunction(\n",
       "          'suggestCharts', [key], {});\n",
       "    }\n",
       "    (() => {\n",
       "      let quickchartButtonEl =\n",
       "        document.querySelector('#df-63d53deb-e939-47c1-8dda-badbbee74542 button');\n",
       "      quickchartButtonEl.style.display =\n",
       "        google.colab.kernel.accessAllowed ? 'block' : 'none';\n",
       "    })();\n",
       "  </script>\n",
       "</div>\n",
       "    </div>\n",
       "  </div>\n"
      ],
      "text/plain": [
       "       Unnamed: 0          0         1         2         3         4  \\\n",
       "0               0  13.044993 -5.593243 -0.696683  3.662379 -0.139850   \n",
       "1               1  13.875603 -5.328022 -0.665485  4.617260  0.346263   \n",
       "2               2  14.163228 -4.024805 -1.698744  3.429611  1.149026   \n",
       "3               3  13.339255 -5.152263 -1.238184  2.765433  0.338360   \n",
       "4               4  13.032797 -5.614934 -0.873001  3.313101 -0.152759   \n",
       "...           ...        ...       ...       ...       ...       ...   \n",
       "84815       84815  -6.467999 -0.248116 -0.875998  0.143440  1.353136   \n",
       "84816       84816  -5.337506  0.974563 -0.358455 -0.879336 -0.074972   \n",
       "84817       84817  -3.177078  2.026082 -0.916378 -2.305128 -2.788081   \n",
       "84818       84818  -5.394916  0.959071 -0.848343 -0.845878 -0.101228   \n",
       "84819       84819  -6.301805 -0.044730 -0.258039 -0.079388  1.233265   \n",
       "\n",
       "              5         6         7         8  ...       110       111  \\\n",
       "0      1.397526 -0.063161 -1.465234  0.641279  ...  0.019893  0.039672   \n",
       "1      1.968226 -0.531593 -1.299002  0.259782  ...  0.121575 -0.109509   \n",
       "2      1.210555 -0.957066 -0.507815 -0.411193  ...  0.298003 -0.492308   \n",
       "3      1.332335 -0.071660 -0.988279  0.347291  ... -0.112915  0.316427   \n",
       "4      1.348218  0.167714 -1.382820  0.526010  ... -0.773008  0.517045   \n",
       "...         ...       ...       ...       ...  ...       ...       ...   \n",
       "84815 -2.378663 -0.730882  0.877220 -1.331696  ... -0.154823 -0.053806   \n",
       "84816 -1.955175 -1.746127  0.314756 -1.072748  ...  0.096165  0.242761   \n",
       "84817 -0.980782 -2.227399 -0.687388 -1.470637  ... -0.146229 -0.124592   \n",
       "84818 -1.828374 -1.763605 -0.021771 -1.363137  ...  0.245340 -0.225756   \n",
       "84819 -2.308826 -1.355503  0.982330 -0.991491  ...  0.249783  0.096280   \n",
       "\n",
       "            112       113       114       115       116       117       118  \\\n",
       "0      0.064869 -0.007133 -0.003154  0.052942 -0.143180  0.016084  0.041965   \n",
       "1     -0.122442 -0.397819 -0.255171  0.722521  0.198130  0.118104 -0.123503   \n",
       "2      0.061939 -0.140935  0.001497  0.197287  0.413545  0.127607 -0.147375   \n",
       "3      0.312912  0.295916 -0.007619 -0.287507 -0.180218 -0.076333 -0.005957   \n",
       "4     -0.012045  0.213165 -0.114372 -0.624625 -0.203918 -0.176463  0.131390   \n",
       "...         ...       ...       ...       ...       ...       ...       ...   \n",
       "84815 -0.172043  0.275375 -0.446103  0.254066 -0.083799  0.034226 -0.208030   \n",
       "84816 -0.262010 -0.386270 -0.052821  0.126551 -0.106586 -0.022384 -0.062952   \n",
       "84817  0.301288 -0.076214  0.047400 -0.045529  0.322252 -0.568262 -0.046207   \n",
       "84818 -0.286206 -0.226923  0.135791  0.212662 -0.076181  0.064242 -0.258144   \n",
       "84819  0.016855 -0.101100  0.160447 -0.252731 -0.193626 -0.216705  0.089276   \n",
       "\n",
       "            119  \n",
       "0     -0.144944  \n",
       "1     -0.216296  \n",
       "2     -0.002372  \n",
       "3     -0.145642  \n",
       "4      0.000729  \n",
       "...         ...  \n",
       "84815 -0.261192  \n",
       "84816 -0.162167  \n",
       "84817  0.448779  \n",
       "84818 -0.115306  \n",
       "84819  0.091050  \n",
       "\n",
       "[84820 rows x 121 columns]"
      ]
     },
     "execution_count": 8,
     "metadata": {},
     "output_type": "execute_result"
    }
   ],
   "source": [
    "df"
   ]
  },
  {
   "cell_type": "code",
   "execution_count": 9,
   "metadata": {
    "id": "H6CsrxeCQucl"
   },
   "outputs": [],
   "source": [
    "df=df.iloc[:,1:10]"
   ]
  },
  {
   "cell_type": "markdown",
   "metadata": {
    "id": "8d7V7HYvQucm"
   },
   "source": [
    "## Approach 1: Calculating performance in base of index UF\n"
   ]
  },
  {
   "cell_type": "code",
   "execution_count": null,
   "metadata": {
    "id": "KqydUu55Qucm"
   },
   "outputs": [],
   "source": [
    "Index=[]\n",
    "liminfierior=2\n",
    "limsuperior=20\n",
    "for i in range(2,20):\n",
    "\n",
    "    X_train111=df.copy()\n",
    "    GM = GaussianMixture(n_components=i, covariance_type=\"full\",random_state=1).fit(X_train111)\n",
    "    X_train111[\"pred\"]=GM.predict(X_train111)\n",
    "    Means=GM.means_\n",
    "    covariances=GM.covariances_\n",
    "    weights=GM.weights_\n",
    "    numberofdimens=X_train111.shape[1]-1\n",
    "    y=X_train111[\"pred\"]\n",
    "    Index.append(uncertainity_mean(X_train111.iloc[:,:numberofdimens],X_train111[\"pred\"],Means,covariances,weights,1,numberofdimens))\n"
   ]
  },
  {
   "cell_type": "code",
   "execution_count": null,
   "metadata": {
    "colab": {
     "base_uri": "https://localhost:8080/",
     "height": 467
    },
    "id": "_uQmyJEiQucm",
    "outputId": "5253a288-0b2d-429a-f1fa-28f1f376bc4b"
   },
   "outputs": [
    {
     "data": {
      "text/plain": [
       "<Axes: xlabel='ind'>"
      ]
     },
     "execution_count": 14,
     "metadata": {},
     "output_type": "execute_result"
    },
    {
     "data": {
      "image/png": "[encoded data removed]",
      "text/plain": [
       "<Figure size 640x480 with 1 Axes>"
      ]
     },
     "metadata": {},
     "output_type": "display_data"
    }
   ],
   "source": [
    "change=pd.DataFrame(Index,columns=[\"UFindex\"])\n",
    "change[\"ind\"]=np.linspace(2,len(change)+2,len(change))\n",
    "\n",
    "change.plot(\"ind\",[\"UFindex\"])"
   ]
  },
  {
   "cell_type": "code",
   "execution_count": null,
   "metadata": {
    "colab": {
     "base_uri": "https://localhost:8080/"
    },
    "id": "TjM66A5WQucn",
    "outputId": "6ea69e08-65d9-4f4a-dcdc-1641522d9c39"
   },
   "outputs": [
    {
     "data": {
      "text/plain": [
       "1"
      ]
     },
     "execution_count": 15,
     "metadata": {},
     "output_type": "execute_result"
    }
   ],
   "source": [
    "change[\"UFindex\"].argmin()"
   ]
  },
  {
   "cell_type": "markdown",
   "metadata": {
    "id": "cCPX1F0gQucn"
   },
   "source": [
    "## Approach 2: Meging methodology\n"
   ]
  },
  {
   "cell_type": "code",
   "execution_count": null,
   "metadata": {
    "id": "63nCam9JQucn"
   },
   "outputs": [],
   "source": [
    "from sklearn.model_selection import train_test_split\n",
    "\n",
    "X=df\n",
    "X_train111=df.copy()\n",
    "GM = GaussianMixture(n_components=20, covariance_type=\"full\", random_state=2).fit(X_train111)\n",
    "X_train111[\"pred\"]=GM.predict(X_train111)\n",
    "Means=GM.means_\n",
    "covariances=GM.covariances_\n",
    "weights=GM.weights_\n",
    "y=X_train111[\"pred\"]\n",
    "index=merguncertain (X,y,Means,covariances,weights,X.shape[1])\n",
    "\n",
    "index.reverse()\n",
    "change=pd.DataFrame(index,columns=[\"a\"])\n",
    "change[\"ind\"]=np.linspace(0,len(change),len(change))\n",
    "\n",
    "change.plot(\"ind\",[\"a\"])\n"
   ]
  },
  {
   "cell_type": "code",
   "execution_count": 11,
   "metadata": {
    "colab": {
     "base_uri": "https://localhost:8080/",
     "height": 483
    },
    "id": "qpzgh0tTHaHQ",
    "outputId": "938d8432-8190-4d62-f9ba-8268b63ec8ec"
   },
   "outputs": [
    {
     "data": {
      "text/plain": [
       "<Axes: xlabel='ind'>"
      ]
     },
     "execution_count": 11,
     "metadata": {},
     "output_type": "execute_result"
    },
    {
     "data": {
      "image/png": "[encoded data removed]",
      "text/plain": [
       "<Figure size 640x480 with 1 Axes>"
      ]
     },
     "metadata": {},
     "output_type": "display_data"
    }
   ],
   "source": [
    "change.plot(\"ind\",[\"a\"])"
   ]
  },
  {
   "cell_type": "code",
   "execution_count": 12,
   "metadata": {
    "id": "ePOmQq7GQucn"
   },
   "outputs": [],
   "source": [
    "\n",
    "change=change.iloc[:-1,:]"
   ]
  },
  {
   "cell_type": "code",
   "execution_count": 13,
   "metadata": {
    "colab": {
     "base_uri": "https://localhost:8080/"
    },
    "id": "BVYrb9NlQuco",
    "outputId": "ad057da3-df6c-428f-cca0-23bffa6e3e55"
   },
   "outputs": [
    {
     "data": {
      "text/plain": [
       "2"
      ]
     },
     "execution_count": 13,
     "metadata": {},
     "output_type": "execute_result"
    }
   ],
   "source": [
    "\n",
    "recomended=change[\"a\"].argmin()+2\n",
    "GMM_test= GaussianMixture(n_components=recomended, covariance_type=\"full\",random_state=0).fit(X)\n",
    "predy=GMM_test.predict(X)\n",
    "recomended"
   ]
  }
 ],
 "metadata": {
  "colab": {
   "provenance": [],
   "toc_visible": true
  },
  "kernelspec": {
   "display_name": "Python 3 (ipykernel)",
   "language": "python",
   "name": "python3"
  },
  "language_info": {
   "codemirror_mode": {
    "name": "ipython",
    "version": 3
   },
   "file_extension": ".py",
   "mimetype": "text/x-python",
   "name": "python",
   "nbconvert_exporter": "python",
   "pygments_lexer": "ipython3",
   "version": "3.10.4"
  }
 },
 "nbformat": 4,
 "nbformat_minor": 1
}
