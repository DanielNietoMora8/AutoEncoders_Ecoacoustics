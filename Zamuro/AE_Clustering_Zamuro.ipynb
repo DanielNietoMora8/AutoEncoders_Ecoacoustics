{
 "cells": [
  {
   "cell_type": "code",
   "execution_count": 1,
   "id": "1902a9c0",
   "metadata": {
    "ExecuteTime": {
     "end_time": "2024-04-16T22:33:02.324181Z",
     "start_time": "2024-04-16T22:33:02.306099Z"
    }
   },
   "outputs": [
    {
     "name": "stdout",
     "output_type": "stream",
     "text": [
      "Running on MIRP\n"
     ]
    }
   ],
   "source": [
    "if 'google.colab' in str(get_ipython()):\n",
    "    import sys\n",
    "    from google.colab import drive, output\n",
    "    drive.mount('/content/drive')\n",
    "\n",
    "    !pip install umap-learn\n",
    "    !pip install umap-learn[plot]\n",
    "    !pip install holoviews\n",
    "\n",
    "    !pip install joypy\n",
    "\n",
    "    output.clear()\n",
    "    print(\"Running on colab\")\n",
    "    %load_ext autoreload\n",
    "    %autoreload 1\n",
    "    %cd '/content/drive/MyDrive/PhD_Thesis_Experiments/DeepLearning/AutoEncoders/Project'\n",
    "    sys.path.append('/content/drive/MyDrive/PhD_Thesis_Experiments/DeepLearning/AutoEncoders/Project/Dataloader')\n",
    "    sys.path.append('/content/drive/MyDrive/PhD_Thesis_Experiments/DeepLearning/AutoEncoders/Project/Models')\n",
    "    sys.path.append('/content/drive/MyDrive/PhD_Thesis_Experiments/DeepLearning/AutoEncoders/Project/Modules')\n",
    "elif \"zmqshell\" in str(get_ipython()):\n",
    "    print(\"Running on MIRP\")\n",
    "    root = \"/home/mirp_ai/Documents/Daniel_Nieto/PhD/AutoEncoders_Ecoacoustics\"\n",
    "    root_path = \"/media/mirp_ai/Seagate Desktop Drive/Datos Rey Zamuro/Ultrasonido\"\n",
    "else:\n",
    "    import pathlib\n",
    "    temp = pathlib.PosixPath\n",
    "    pathlib.PosixPath = pathlib.WindowsPath\n",
    "    print(\"Running local\")"
   ]
  },
  {
   "cell_type": "code",
   "execution_count": 2,
   "id": "94b64ce2",
   "metadata": {},
   "outputs": [
    {
     "name": "stderr",
     "output_type": "stream",
     "text": [
      "/home/mirp_ai/anaconda3/envs/DANM/lib/python3.10/site-packages/umap/distances.py:1063: NumbaDeprecationWarning: The 'nopython' keyword argument was not supplied to the 'numba.jit' decorator. The implicit default value for this argument is currently False, but it will be changed to True in Numba 0.59.0. See https://numba.readthedocs.io/en/stable/reference/deprecation.html#deprecation-of-object-mode-fall-back-behaviour-when-using-jit for details.\n",
      "  @numba.jit()\n",
      "/home/mirp_ai/anaconda3/envs/DANM/lib/python3.10/site-packages/umap/distances.py:1071: NumbaDeprecationWarning: The 'nopython' keyword argument was not supplied to the 'numba.jit' decorator. The implicit default value for this argument is currently False, but it will be changed to True in Numba 0.59.0. See https://numba.readthedocs.io/en/stable/reference/deprecation.html#deprecation-of-object-mode-fall-back-behaviour-when-using-jit for details.\n",
      "  @numba.jit()\n",
      "/home/mirp_ai/anaconda3/envs/DANM/lib/python3.10/site-packages/umap/distances.py:1086: NumbaDeprecationWarning: The 'nopython' keyword argument was not supplied to the 'numba.jit' decorator. The implicit default value for this argument is currently False, but it will be changed to True in Numba 0.59.0. See https://numba.readthedocs.io/en/stable/reference/deprecation.html#deprecation-of-object-mode-fall-back-behaviour-when-using-jit for details.\n",
      "  @numba.jit()\n",
      "/home/mirp_ai/anaconda3/envs/DANM/lib/python3.10/site-packages/umap/umap_.py:660: NumbaDeprecationWarning: The 'nopython' keyword argument was not supplied to the 'numba.jit' decorator. The implicit default value for this argument is currently False, but it will be changed to True in Numba 0.59.0. See https://numba.readthedocs.io/en/stable/reference/deprecation.html#deprecation-of-object-mode-fall-back-behaviour-when-using-jit for details.\n",
      "  @numba.jit()\n"
     ]
    }
   ],
   "source": [
    "import os\n",
    "import matplotlib.pyplot as plt\n",
    "import seaborn as sns\n",
    "import numpy as np\n",
    "\n",
    "import datetime\n",
    "import gc\n",
    "import pandas as pd\n",
    "import joypy\n",
    "\n",
    "from sklearn.preprocessing import StandardScaler\n",
    "from sklearn.preprocessing import MinMaxScaler as Normalizer\n",
    "\n",
    "import torch\n",
    "import torch.nn as nn\n",
    "\n",
    "from torch.utils.data import DataLoader\n",
    "from torch.utils.data import random_split\n",
    "\n",
    "import torchvision.datasets as datasets\n",
    "\n",
    "from Zamuro_DataLoader import SoundscapeData\n",
    "from Models import ConvAE as AE\n",
    "from AE_training_functions import TestModel, TrainModel\n",
    "from AE_Clustering import AE_Clustering \n",
    "\n",
    "device = torch.device(\"cuda\" if torch.cuda.is_available() else \"cpu\")\n",
    "\n",
    "from datetime import timedelta\n",
    "\n",
    "from sklearn.manifold import TSNE\n",
    "from sklearn.decomposition import PCA\n",
    "import umap\n",
    "\n",
    "import random\n",
    "def _set_seed(seed: int):\n",
    "    \"\"\"\n",
    "    Helper function for reproducible behavior to set the seed in ``random``, ``numpy``, ``torch`` and/or ``tf`` (if\n",
    "    installed).\n",
    " \n",
    "    Args:\n",
    "        seed (:obj:`int`): The seed to set.\n",
    "    \"\"\"\n",
    "    random.seed(seed)\n",
    "    np.random.seed(seed)\n",
    "    if torch.cuda.is_available():\n",
    "        torch.manual_seed(seed)\n",
    "        torch.cuda.manual_seed_all(seed)\n",
    "        # ^^ safe to call this function even if cuda is not available\n",
    "_set_seed(1024)"
   ]
  },
  {
   "cell_type": "code",
   "execution_count": 3,
   "id": "3142c570",
   "metadata": {},
   "outputs": [
    {
     "name": "stdout",
     "output_type": "stream",
     "text": [
      "(53275, 5184)\n"
     ]
    }
   ],
   "source": [
    "model_type = \"AE\"\n",
    "identifier = \"batch_size_14_num_hiddens_64_\"\n",
    "day = 4\n",
    "hour = 9\n",
    "date_format = f\"day_{day}_hour_{hour}\"\n",
    "\n",
    "model_name = f\"{root}/Zamuro/temporal_zamuro/models/log_standarization_model_epochs_10/model_{model_type}_{identifier}_{date_format}_final.pth\"\n",
    "model = AE(num_hiddens=64).to(device)\n",
    "model.load_state_dict(torch.load(f'{model_name}', map_location=torch.device('cpu')))\n",
    "\n",
    "df_ae = pd.read_csv(f\"temporal_zamuro/Features/New_df_ae_unflat.csv\")\n",
    "X = np.asarray(df_ae.loc[:,\"0\":\"25919\"])\n",
    "X = np.reshape(X, [X.shape[0], 5, X.shape[1]//5])\n",
    "X = np.mean(X, axis=1)\n",
    "print(X.shape)\n",
    "\n",
    "# scaler = StandardScaler().fit(X)\n",
    "# X_scaled = scaler.transform(X)\n",
    "# Normalizer_ = Normalizer().fit(X)\n",
    "# X_norm = Normalizer_.transform(X)\n",
    "# PCA_ = PCA(n_components=60).fit(X_norm)\n",
    "# X_PCA = PCA_.transform(X_norm)\n",
    "# # X_TSNE = TSNE(n_components=60, learning_rate=\"auto\", init='random', random_state=0).fit_transform(X_PCA)\n",
    "# reducer = umap.UMAP(min_dist=0.9, n_components=60)\n",
    "# X_UMAP = reducer.fit_transform(X_norm)\n",
    "# X_batch = np.reshape(X_UMAP, (X_UMAP.shape[0]//5,5,X_UMAP.shape[1]))\n",
    "# # X_UMAP_Norm = Normalizer().fit_transform(X_UMAP)"
   ]
  },
  {
   "cell_type": "code",
   "execution_count": 4,
   "id": "95308cb4",
   "metadata": {},
   "outputs": [
    {
     "name": "stdout",
     "output_type": "stream",
     "text": [
      "/media/mirp_ai/Seagate Desktop Drive/Datos Rey Zamuro/Ultrasonido/\n"
     ]
    }
   ],
   "source": [
    "filters = {\"rain_FI\": \"NO\"}\n",
    "dataset = SoundscapeData('media/mirp_ai/Seagate Desktop Drive/Datos Rey Zamuro/Ultrasonido/',\n",
    "                         dataframe_path=\"Complementary_Files/zamuro_audios.csv\",\n",
    "                         audio_length=12, ext=\"wav\",\n",
    "                         win_length=1028, filters=filters)\n",
    "\n",
    "test_loader = DataLoader(dataset, batch_size=100)\n",
    "iterator = iter(test_loader)\n",
    "testing = TestModel(model, iterator, device=torch.device(\"cuda\"))"
   ]
  },
  {
   "cell_type": "markdown",
   "id": "8721eff7",
   "metadata": {},
   "source": [
    "## Traditional Clustering"
   ]
  },
  {
   "cell_type": "code",
   "execution_count": 10,
   "id": "a3322cd1",
   "metadata": {},
   "outputs": [],
   "source": [
    "# Batch methods\n",
    "from sklearn.cluster import KMeans\n",
    "from sklearn.cluster import Birch\n",
    "import matplotlib.cm as cm\n",
    "import math\n",
    "\n",
    "# Single methods\n",
    "from sklearn.cluster import KMeans\n",
    "from sklearn.cluster import DBSCAN\n",
    "from sklearn.cluster import AgglomerativeClustering\n",
    "from sklearn.neighbors import kneighbors_graph\n",
    "from sklearn import metrics\n",
    "from sklearn.metrics import silhouette_samples\n",
    "from Modules.Clustering_Utils_Zamuro import plot_silhouette\n",
    "from Modules.Clustering_Utils_Zamuro import plot_centroids\n",
    "from Modules.Clustering_Utils_Zamuro import ClusteringResults\n",
    "from sklearn.metrics import davies_bouldin_score as DB\n",
    "from sklearn.metrics import calinski_harabasz_score as CH\n",
    "\n",
    "import warnings\n",
    "warnings.filterwarnings(\"ignore\")"
   ]
  },
  {
   "cell_type": "code",
   "execution_count": null,
   "id": "078c9403",
   "metadata": {},
   "outputs": [],
   "source": [
    "def tagger(samples, n_clusters):\n",
    "    labels = []\n",
    "    for cluster in range(n_clusters):\n",
    "        index = np.where(Kmeans.labels_ == cluster)\n",
    "        index = list(index[0])\n",
    "        labels.append(samples[index])\n",
    "    df_ae[\"cluster\"] = Kmeans.labels_ \n",
    "    return labels\n",
    "\n",
    "def joyplot(n_clusters, joy_vars = [\"hour\", \"location\"]):\n",
    "    size_x = 8\n",
    "    size_y = 6\n",
    "    labels_cluster = []\n",
    "    for cluster in range(n_clusters):\n",
    "        print(f\"cluster: {cluster}\")\n",
    "        df = pd.DataFrame()\n",
    "        for i, label in enumerate(joy_vars):\n",
    "            labels_cluster.append(tagger(np.asarray(df_ae[label]), n_clusters))\n",
    "            df[label] = labels_cluster[i][cluster]\n",
    "\n",
    "        if (label == \"location\"):\n",
    "            joypy.joyplot(df, by=\"location\", column=\"hour\", range_style='own',\n",
    "                          grid=\"y\", hist=False, linewidth=1, legend=False, figsize=(size_x, size_y),\n",
    "                          title=f\"Cluster {cluster} \\nLabels distribution along recorders using recorders as rows\",\n",
    "                          colormap=cm.autumn_r, fade=False)\n",
    "            \n",
    "        elif (label == \"cover\"):\n",
    "            joypy.joyplot(df, by=\"cover\", column=\"location\", range_style='own',\n",
    "                          grid=\"y\", hist=False, linewidth=1, legend=False, figsize=(size_x, size_y),\n",
    "                          title=f\"Cluster {cluster} \\nLabels distribution along recorders using recorders as rows\",\n",
    "                          colormap=cm.autumn_r, fade=False)\n",
    "\n",
    "        plt.xticks(fontsize=22)\n",
    "        plt.yticks(fontsize=22)\n",
    "        plt.show()\n",
    "\n",
    "    return labels_cluster\n",
    "\n",
    "def one_cluster_eval(cluster, label):\n",
    "        index = np.where(Kmeans.labels_ == cluster)\n",
    "        index = list(index[0])\n",
    "        labels_cluster = df_ae.loc[index, label]\n",
    "#         labels_cluster = labels_cluster.loc[:,label]\n",
    "        return list(labels_cluster)"
   ]
  },
  {
   "cell_type": "code",
   "execution_count": 76,
   "id": "28abc079",
   "metadata": {},
   "outputs": [],
   "source": [
    "def num_rows_cols(num_elements):\n",
    "    num_rows = int(np.sqrt(num_elements))\n",
    "    num_cols = (num_elements + num_rows - 1) // num_rows\n",
    "    return num_rows, num_cols\n",
    "\n",
    "def get_row_col(pos, cols):\n",
    "    row = pos // cols\n",
    "    col = pos % cols\n",
    "    return row, col\n",
    "\n",
    "class ClusteringResults:\n",
    "    def __init__(self, model, df, y_label=\"hour\", hist_library=\"plt\"):\n",
    "        self._labels_cluster = None\n",
    "        self._n_labels = None\n",
    "        self._label = y_label\n",
    "        self._model = model\n",
    "        self._n_clusters = len(set(model.labels_))\n",
    "        self._y = df\n",
    "        self._n_labels = set(list(self._y.loc[:,self._label]))\n",
    "        \n",
    "    def one_cluster_eval(self, cluster):\n",
    "        index = np.where(self._model.labels_ == cluster)\n",
    "        index = list(index[0])\n",
    "        self._labels_cluster = self._y.loc[index, self._label]\n",
    "        return list(self._labels_cluster)\n",
    "\n",
    "    def tagger(self, samples):\n",
    "        labels = []\n",
    "        self._y[\"cluster\"] = self._model.labels_\n",
    "        for cluster in range(self._n_clusters):\n",
    "            index = np.where(self._model.labels_ == cluster)\n",
    "            index = index[0]\n",
    "            labels.append(samples[index])\n",
    "        return labels\n",
    "\n",
    "    def joyplot(self, joy_vars=None):\n",
    "        if joy_vars is None:\n",
    "            joy_vars = [\"hour\", \"location\"]\n",
    "        size_x = 8\n",
    "        size_y = 6\n",
    "        labels_cluster = []\n",
    "        df = pd.DataFrame()\n",
    "        for cluster in range(self._n_clusters):\n",
    "            df = pd.DataFrame()\n",
    "            for i, label in enumerate(joy_vars):\n",
    "                labels_cluster.append(self.tagger(np.asarray(self._y[label])))\n",
    "                df[label] = labels_cluster[i][cluster]\n",
    "\n",
    "            if (self._label == \"location\"):\n",
    "                joypy.joyplot(df, by=\"location\", column=\"hour\", range_style='own',\n",
    "                              grid=\"y\", hist=False, linewidth=1, legend=False, figsize=(size_x, size_y),\n",
    "                              title=f\"Cluster {cluster} \\nLabels distribution along recorders using recorders as rows\",\n",
    "                              colormap=cm.autumn_r, fade=False)\n",
    "            plt.xticks(fontsize=22)\n",
    "            plt.yticks(fontsize=22)\n",
    "            plt.show()\n",
    "\n",
    "    def histograms(self, hist_library=\"plt\", root=None, save=True):\n",
    "        bins = list(self._n_labels)\n",
    "        num_rows, num_cols = num_rows_cols(self._n_clusters)\n",
    "        fig, axes = plt.subplots(num_rows, num_cols, figsize=(14, 14))\n",
    "        if self._n_clusters <= 3:\n",
    "            axes = np.expand_dims(axes, 0)\n",
    "            fig.set_figheight(6)\n",
    "            fig.set_figwidth(12)\n",
    "            if self._n_clusters == 1:\n",
    "                axes = np.expand_dims(axes, 0)\n",
    "            else:\n",
    "                pass\n",
    "        else:\n",
    "            pass\n",
    "        for hist in range(self._n_clusters):\n",
    "            aux = self.one_cluster_eval(hist)\n",
    "            ax_0, ax_1 = get_row_col(hist, num_cols)\n",
    "            if hist_library == \"plt\":\n",
    "                axes[ax_0][ax_1].hist(aux, histtype=\"bar\",\n",
    "                                      color=\"paleturquoise\", cumulative=False,\n",
    "                                      edgecolor='black',\n",
    "                                      linewidth=1.2, bins=bins, stacked=False)\n",
    "                axes[ax_0][ax_1].set_title(f\"Cluster: {hist+1}\", size=16)\n",
    "            elif hist_library == \"sns\":\n",
    "                sns.distplot(aux, bins=np.arange(aux.min(), aux.max() + 1),\n",
    "                             hist_kws=dict(edgecolor=\"black\", linewidth=1),\n",
    "                             ax=axes[ax_0, ax_1])\n",
    "                axes[ax_0][ax_1].set_title(f\"Cluster: {hist+1}\", size=16)\n",
    "            else:\n",
    "                raise Exception(f\"Library {self._hist_library} unused\")\n",
    "\n",
    "            if (root is not None) & (save is True):\n",
    "                plt.savefig(f\"{root}/Histograms_plot_{self._n_clusters}.pdf\", format=\"pdf\")\n",
    "            else:\n",
    "                pass\n",
    "        plt.show()\n"
   ]
  },
  {
   "cell_type": "code",
   "execution_count": 80,
   "id": "19f61fca",
   "metadata": {},
   "outputs": [],
   "source": [
    "Kmeans = KMeans(n_clusters=8, random_state=0).fit(X)\n",
    "Kmeans_Results = ClusteringResults(Kmeans, df_ae, y_label=\"hour\")\n"
   ]
  },
  {
   "cell_type": "code",
   "execution_count": 81,
   "id": "4ae33037",
   "metadata": {},
   "outputs": [
    {
     "data": {
      "image/png": "[encoded data removed]",
      "text/plain": [
       "<Figure size 1400x1400 with 8 Axes>"
      ]
     },
     "metadata": {},
     "output_type": "display_data"
    }
   ],
   "source": [
    "Kmeans_Results.histograms()"
   ]
  },
  {
   "cell_type": "code",
   "execution_count": null,
   "id": "4550cbbc",
   "metadata": {},
   "outputs": [],
   "source": [
    "f = Kmeans_Results.tagger(path_flat)\n",
    "torch.save(f,f\"temporal/clusters/kmeans_UMAP_clustering_labels_PosAE_rainless_{len(set(Kmeans.labels_))}\")\n",
    "leido= torch.load(f\"Features/clustering_labels_clusters_3\")"
   ]
  },
  {
   "cell_type": "code",
   "execution_count": null,
   "id": "8e1c263d",
   "metadata": {},
   "outputs": [],
   "source": [
    "import warnings\n",
    "warnings.filterwarnings(\"ignore\")\n",
    "Kmeans_Results = Clustering_Results(Kmeans, y, y_label=\"hour\", hist_library=\"plt\")\n",
    "Kmeans_Results.histograms()"
   ]
  },
  {
   "cell_type": "markdown",
   "id": "02f88bae",
   "metadata": {},
   "source": [
    "## Kmeans"
   ]
  },
  {
   "cell_type": "code",
   "execution_count": null,
   "id": "bc530fe1",
   "metadata": {},
   "outputs": [],
   "source": [
    "clusters = [3, 5, 7, 10, 15, 20, 25, 30, 35]"
   ]
  },
  {
   "cell_type": "code",
   "execution_count": null,
   "id": "ed663b66",
   "metadata": {},
   "outputs": [],
   "source": [
    "silhouette_score_Kmeans = []\n",
    "CH_score_Kmeans = []\n",
    "DB_score_Kmeans = []\n",
    "\n",
    "# mean = X.mean()\n",
    "# std = X.std()\n",
    "for id_, n_cluster in enumerate(clusters):\n",
    "    Kmeans = KMeans(n_clusters=n_cluster, random_state=0).fit(X_norm)\n",
    "    silhouette_score_Kmeans.append(metrics.silhouette_score(X_norm, Kmeans.labels_))\n",
    "    DB_score_Kmeans.append(DB(X_norm, Kmeans.labels_))\n",
    "    CH_score_Kmeans.append(CH(X_norm, Kmeans.labels_))\n",
    "    print(f\"Silhouette: {silhouette_score_Kmeans}, DB: {DB_score_Kmeans}, CH: {CH_score_Kmeans}\")\n",
    "    plot_silhouette(X_norm, Kmeans.labels_, Kmeans.n_clusters, silhouette_score_Kmeans[id_], method=f\"Kmeans\", save=True)\n",
    "    cluster_centers = Normalizer_.inverse_transform(Kmeans.cluster_centers_)\n",
    "    plot_centroids(cluster_centers, testing, method=\"Kmeans\", save=False)\n",
    "    Kmeans_Results = Clustering_Results(Kmeans, y, y_label=\"hour\", hist_library=\"plt\")\n",
    "    Kmeans_Results.histograms(root=\"temporal/clustering_results/Kmeans/\")#, root=\"temporal/clustering_results/Kmeans/\")\n",
    "    Kmeans_Results.joyplot()\n",
    "with open(f\"temporal/clustering_results/Kmeans/silhouette_n-clusters_{Kmeans.n_clusters}\", \"wb\") as file:\n",
    "    pkl.dump(silhouette_score_Kmeans, file)\n",
    "with open(f\"temporal/clustering_results/Kmeans/DB_n-clusters_{Kmeans.n_clusters}\", \"wb\") as file:\n",
    "    pkl.dump(DB_score_Kmeans, file)\n",
    "with open(f\"temporal/clustering_results/Kmeans/CH_n-clusters_{Kmeans.n_clusters}\", \"wb\") as file:\n",
    "    pkl.dump(CH_score_Kmeans, file)"
   ]
  },
  {
   "cell_type": "code",
   "execution_count": null,
   "id": "07bd4b27",
   "metadata": {},
   "outputs": [],
   "source": [
    "import matplotlib.pyplot as plt\n",
    "import pandas as pd\n",
    "import numpy as np; np.random.seed(2)\n",
    "import random; random.seed(2)\n",
    "import joypy\n",
    "\n",
    "# Data frame de muestra\n",
    "df2 = pd.DataFrame({'var1': np.random.normal(70, 100, 500),\n",
    "                   'var2': np.random.normal(250, 100, 500),\n",
    "                   'grupo': random.choices([\"G1\", \"G2\", \"G3\", \"G4\", \"G5\"], k = 500)})\n",
    "\n",
    "fig, ax = joypy.joyplot(df2, by = \"grupo\", column = \"var1\")\n",
    "\n",
    "# plt.show()"
   ]
  }
 ],
 "metadata": {
  "kernelspec": {
   "display_name": "Python 3 (ipykernel)",
   "language": "python",
   "name": "python3"
  },
  "language_info": {
   "codemirror_mode": {
    "name": "ipython",
    "version": 3
   },
   "file_extension": ".py",
   "mimetype": "text/x-python",
   "name": "python",
   "nbconvert_exporter": "python",
   "pygments_lexer": "ipython3",
   "version": "3.10.4"
  }
 },
 "nbformat": 4,
 "nbformat_minor": 5
}
