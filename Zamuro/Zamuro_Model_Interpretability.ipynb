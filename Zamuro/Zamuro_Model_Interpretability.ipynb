{
 "cells": [
  {
   "cell_type": "code",
   "execution_count": 7,
   "id": "93a768e6",
   "metadata": {},
   "outputs": [
    {
     "name": "stdout",
     "output_type": "stream",
     "text": [
      "Requirement already satisfied: umap-learn in /home/mirp_ai/anaconda3/envs/DANM/lib/python3.10/site-packages (0.5.3)\n",
      "Requirement already satisfied: scipy>=1.0 in /home/mirp_ai/anaconda3/envs/DANM/lib/python3.10/site-packages (from umap-learn) (1.9.3)\n",
      "Requirement already satisfied: tqdm in /home/mirp_ai/anaconda3/envs/DANM/lib/python3.10/site-packages (from umap-learn) (4.65.0)\n",
      "Requirement already satisfied: scikit-learn>=0.22 in /home/mirp_ai/anaconda3/envs/DANM/lib/python3.10/site-packages (from umap-learn) (1.1.3)\n",
      "Requirement already satisfied: numba>=0.49 in /home/mirp_ai/anaconda3/envs/DANM/lib/python3.10/site-packages (from umap-learn) (0.56.4)\n",
      "Requirement already satisfied: pynndescent>=0.5 in /home/mirp_ai/anaconda3/envs/DANM/lib/python3.10/site-packages (from umap-learn) (0.5.10)\n",
      "Requirement already satisfied: numpy>=1.17 in /home/mirp_ai/anaconda3/envs/DANM/lib/python3.10/site-packages (from umap-learn) (1.23.1)\n",
      "Requirement already satisfied: setuptools in /home/mirp_ai/anaconda3/envs/DANM/lib/python3.10/site-packages (from numba>=0.49->umap-learn) (61.2.0)\n",
      "Requirement already satisfied: llvmlite<0.40,>=0.39.0dev0 in /home/mirp_ai/anaconda3/envs/DANM/lib/python3.10/site-packages (from numba>=0.49->umap-learn) (0.39.1)\n",
      "Requirement already satisfied: joblib>=0.11 in /home/mirp_ai/anaconda3/envs/DANM/lib/python3.10/site-packages (from pynndescent>=0.5->umap-learn) (1.2.0)\n",
      "Requirement already satisfied: threadpoolctl>=2.0.0 in /home/mirp_ai/anaconda3/envs/DANM/lib/python3.10/site-packages (from scikit-learn>=0.22->umap-learn) (3.1.0)\n",
      "Requirement already satisfied: umap-learn[plot] in /home/mirp_ai/anaconda3/envs/DANM/lib/python3.10/site-packages (0.5.3)\n",
      "Requirement already satisfied: tqdm in /home/mirp_ai/anaconda3/envs/DANM/lib/python3.10/site-packages (from umap-learn[plot]) (4.65.0)\n",
      "Requirement already satisfied: scikit-learn>=0.22 in /home/mirp_ai/anaconda3/envs/DANM/lib/python3.10/site-packages (from umap-learn[plot]) (1.1.3)\n",
      "Requirement already satisfied: numpy>=1.17 in /home/mirp_ai/anaconda3/envs/DANM/lib/python3.10/site-packages (from umap-learn[plot]) (1.23.1)\n",
      "Requirement already satisfied: scipy>=1.0 in /home/mirp_ai/anaconda3/envs/DANM/lib/python3.10/site-packages (from umap-learn[plot]) (1.9.3)\n",
      "Requirement already satisfied: pynndescent>=0.5 in /home/mirp_ai/anaconda3/envs/DANM/lib/python3.10/site-packages (from umap-learn[plot]) (0.5.10)\n",
      "Requirement already satisfied: numba>=0.49 in /home/mirp_ai/anaconda3/envs/DANM/lib/python3.10/site-packages (from umap-learn[plot]) (0.56.4)\n",
      "Requirement already satisfied: datashader in /home/mirp_ai/anaconda3/envs/DANM/lib/python3.10/site-packages (from umap-learn[plot]) (0.15.0)\n",
      "Requirement already satisfied: holoviews in /home/mirp_ai/anaconda3/envs/DANM/lib/python3.10/site-packages (from umap-learn[plot]) (1.16.2)\n",
      "Requirement already satisfied: scikit-image in /home/mirp_ai/anaconda3/envs/DANM/lib/python3.10/site-packages (from umap-learn[plot]) (0.21.0)\n",
      "Requirement already satisfied: matplotlib in /home/mirp_ai/anaconda3/envs/DANM/lib/python3.10/site-packages (from umap-learn[plot]) (3.6.2)\n",
      "Requirement already satisfied: bokeh in /home/mirp_ai/anaconda3/envs/DANM/lib/python3.10/site-packages (from umap-learn[plot]) (3.1.1)\n",
      "Requirement already satisfied: pandas in /home/mirp_ai/anaconda3/envs/DANM/lib/python3.10/site-packages (from umap-learn[plot]) (1.5.3)\n",
      "Requirement already satisfied: seaborn in /home/mirp_ai/anaconda3/envs/DANM/lib/python3.10/site-packages (from umap-learn[plot]) (0.12.2)\n",
      "Requirement already satisfied: colorcet in /home/mirp_ai/anaconda3/envs/DANM/lib/python3.10/site-packages (from umap-learn[plot]) (3.0.1)\n",
      "Requirement already satisfied: setuptools in /home/mirp_ai/anaconda3/envs/DANM/lib/python3.10/site-packages (from numba>=0.49->umap-learn[plot]) (61.2.0)\n",
      "Requirement already satisfied: llvmlite<0.40,>=0.39.0dev0 in /home/mirp_ai/anaconda3/envs/DANM/lib/python3.10/site-packages (from numba>=0.49->umap-learn[plot]) (0.39.1)\n",
      "Requirement already satisfied: joblib>=0.11 in /home/mirp_ai/anaconda3/envs/DANM/lib/python3.10/site-packages (from pynndescent>=0.5->umap-learn[plot]) (1.2.0)\n",
      "Requirement already satisfied: threadpoolctl>=2.0.0 in /home/mirp_ai/anaconda3/envs/DANM/lib/python3.10/site-packages (from scikit-learn>=0.22->umap-learn[plot]) (3.1.0)\n",
      "Requirement already satisfied: Jinja2>=2.9 in /home/mirp_ai/anaconda3/envs/DANM/lib/python3.10/site-packages (from bokeh->umap-learn[plot]) (3.1.2)\n",
      "Requirement already satisfied: xyzservices>=2021.09.1 in /home/mirp_ai/anaconda3/envs/DANM/lib/python3.10/site-packages (from bokeh->umap-learn[plot]) (2023.5.0)\n",
      "Requirement already satisfied: pillow>=7.1.0 in /home/mirp_ai/anaconda3/envs/DANM/lib/python3.10/site-packages (from bokeh->umap-learn[plot]) (9.3.0)\n",
      "Requirement already satisfied: packaging>=16.8 in /home/mirp_ai/anaconda3/envs/DANM/lib/python3.10/site-packages (from bokeh->umap-learn[plot]) (21.3)\n",
      "Requirement already satisfied: PyYAML>=3.10 in /home/mirp_ai/anaconda3/envs/DANM/lib/python3.10/site-packages (from bokeh->umap-learn[plot]) (6.0)\n",
      "Requirement already satisfied: tornado>=5.1 in /home/mirp_ai/anaconda3/envs/DANM/lib/python3.10/site-packages (from bokeh->umap-learn[plot]) (6.2)\n",
      "Requirement already satisfied: contourpy>=1 in /home/mirp_ai/anaconda3/envs/DANM/lib/python3.10/site-packages (from bokeh->umap-learn[plot]) (1.0.6)\n",
      "Requirement already satisfied: python-dateutil>=2.8.1 in /home/mirp_ai/anaconda3/envs/DANM/lib/python3.10/site-packages (from pandas->umap-learn[plot]) (2.8.2)\n",
      "Requirement already satisfied: pytz>=2020.1 in /home/mirp_ai/anaconda3/envs/DANM/lib/python3.10/site-packages (from pandas->umap-learn[plot]) (2022.1)\n",
      "Requirement already satisfied: pyct>=0.4.4 in /home/mirp_ai/anaconda3/envs/DANM/lib/python3.10/site-packages (from colorcet->umap-learn[plot]) (0.5.0)\n",
      "Requirement already satisfied: xarray in /home/mirp_ai/anaconda3/envs/DANM/lib/python3.10/site-packages (from datashader->umap-learn[plot]) (2023.6.0)\n",
      "Requirement already satisfied: requests in /home/mirp_ai/anaconda3/envs/DANM/lib/python3.10/site-packages (from datashader->umap-learn[plot]) (2.28.1)\n",
      "Requirement already satisfied: datashape in /home/mirp_ai/anaconda3/envs/DANM/lib/python3.10/site-packages (from datashader->umap-learn[plot]) (0.5.2)\n",
      "Requirement already satisfied: dask in /home/mirp_ai/anaconda3/envs/DANM/lib/python3.10/site-packages (from datashader->umap-learn[plot]) (2023.6.1)\n",
      "Requirement already satisfied: toolz in /home/mirp_ai/anaconda3/envs/DANM/lib/python3.10/site-packages (from datashader->umap-learn[plot]) (0.12.0)\n",
      "Requirement already satisfied: param in /home/mirp_ai/anaconda3/envs/DANM/lib/python3.10/site-packages (from datashader->umap-learn[plot]) (1.13.0)\n",
      "Requirement already satisfied: pyviz-comms>=0.7.4 in /home/mirp_ai/anaconda3/envs/DANM/lib/python3.10/site-packages (from holoviews->umap-learn[plot]) (2.3.2)\n",
      "Requirement already satisfied: panel>=0.13.1 in /home/mirp_ai/anaconda3/envs/DANM/lib/python3.10/site-packages (from holoviews->umap-learn[plot]) (1.1.1)\n",
      "Requirement already satisfied: pyparsing>=2.2.1 in /home/mirp_ai/anaconda3/envs/DANM/lib/python3.10/site-packages (from matplotlib->umap-learn[plot]) (3.0.9)\n",
      "Requirement already satisfied: fonttools>=4.22.0 in /home/mirp_ai/anaconda3/envs/DANM/lib/python3.10/site-packages (from matplotlib->umap-learn[plot]) (4.38.0)\n",
      "Requirement already satisfied: kiwisolver>=1.0.1 in /home/mirp_ai/anaconda3/envs/DANM/lib/python3.10/site-packages (from matplotlib->umap-learn[plot]) (1.4.4)\n",
      "Requirement already satisfied: cycler>=0.10 in /home/mirp_ai/anaconda3/envs/DANM/lib/python3.10/site-packages (from matplotlib->umap-learn[plot]) (0.11.0)\n",
      "Requirement already satisfied: tifffile>=2022.8.12 in /home/mirp_ai/anaconda3/envs/DANM/lib/python3.10/site-packages (from scikit-image->umap-learn[plot]) (2023.4.12)\n",
      "Requirement already satisfied: imageio>=2.27 in /home/mirp_ai/anaconda3/envs/DANM/lib/python3.10/site-packages (from scikit-image->umap-learn[plot]) (2.31.1)\n",
      "Requirement already satisfied: networkx>=2.8 in /home/mirp_ai/anaconda3/envs/DANM/lib/python3.10/site-packages (from scikit-image->umap-learn[plot]) (3.1)\n",
      "Requirement already satisfied: lazy_loader>=0.2 in /home/mirp_ai/anaconda3/envs/DANM/lib/python3.10/site-packages (from scikit-image->umap-learn[plot]) (0.2)\n",
      "Requirement already satisfied: PyWavelets>=1.1.1 in /home/mirp_ai/anaconda3/envs/DANM/lib/python3.10/site-packages (from scikit-image->umap-learn[plot]) (1.4.1)\n"
     ]
    },
    {
     "name": "stdout",
     "output_type": "stream",
     "text": [
      "Requirement already satisfied: MarkupSafe>=2.0 in /home/mirp_ai/anaconda3/envs/DANM/lib/python3.10/site-packages (from Jinja2>=2.9->bokeh->umap-learn[plot]) (2.1.1)\n",
      "Requirement already satisfied: linkify-it-py in /home/mirp_ai/anaconda3/envs/DANM/lib/python3.10/site-packages (from panel>=0.13.1->holoviews->umap-learn[plot]) (2.0.2)\n",
      "Requirement already satisfied: typing-extensions in /home/mirp_ai/anaconda3/envs/DANM/lib/python3.10/site-packages (from panel>=0.13.1->holoviews->umap-learn[plot]) (4.3.0)\n",
      "Requirement already satisfied: mdit-py-plugins in /home/mirp_ai/anaconda3/envs/DANM/lib/python3.10/site-packages (from panel>=0.13.1->holoviews->umap-learn[plot]) (0.4.0)\n",
      "Requirement already satisfied: markdown-it-py<3 in /home/mirp_ai/anaconda3/envs/DANM/lib/python3.10/site-packages (from panel>=0.13.1->holoviews->umap-learn[plot]) (2.2.0)\n",
      "Requirement already satisfied: markdown in /home/mirp_ai/anaconda3/envs/DANM/lib/python3.10/site-packages (from panel>=0.13.1->holoviews->umap-learn[plot]) (3.4.3)\n",
      "Requirement already satisfied: bleach in /home/mirp_ai/anaconda3/envs/DANM/lib/python3.10/site-packages (from panel>=0.13.1->holoviews->umap-learn[plot]) (4.1.0)\n",
      "Requirement already satisfied: six>=1.5 in /home/mirp_ai/anaconda3/envs/DANM/lib/python3.10/site-packages (from python-dateutil>=2.8.1->pandas->umap-learn[plot]) (1.16.0)\n",
      "Requirement already satisfied: partd>=1.2.0 in /home/mirp_ai/anaconda3/envs/DANM/lib/python3.10/site-packages (from dask->datashader->umap-learn[plot]) (1.4.0)\n",
      "Requirement already satisfied: importlib-metadata>=4.13.0 in /home/mirp_ai/anaconda3/envs/DANM/lib/python3.10/site-packages (from dask->datashader->umap-learn[plot]) (6.7.0)\n",
      "Requirement already satisfied: click>=8.0 in /home/mirp_ai/anaconda3/envs/DANM/lib/python3.10/site-packages (from dask->datashader->umap-learn[plot]) (8.1.3)\n",
      "Requirement already satisfied: cloudpickle>=1.5.0 in /home/mirp_ai/anaconda3/envs/DANM/lib/python3.10/site-packages (from dask->datashader->umap-learn[plot]) (2.2.1)\n",
      "Requirement already satisfied: fsspec>=2021.09.0 in /home/mirp_ai/anaconda3/envs/DANM/lib/python3.10/site-packages (from dask->datashader->umap-learn[plot]) (2023.6.0)\n",
      "Requirement already satisfied: multipledispatch>=0.4.7 in /home/mirp_ai/anaconda3/envs/DANM/lib/python3.10/site-packages (from datashape->datashader->umap-learn[plot]) (1.0.0)\n",
      "Requirement already satisfied: urllib3<1.27,>=1.21.1 in /home/mirp_ai/anaconda3/envs/DANM/lib/python3.10/site-packages (from requests->datashader->umap-learn[plot]) (1.26.12)\n",
      "Requirement already satisfied: charset-normalizer<3,>=2 in /home/mirp_ai/anaconda3/envs/DANM/lib/python3.10/site-packages (from requests->datashader->umap-learn[plot]) (2.0.4)\n",
      "Requirement already satisfied: certifi>=2017.4.17 in /home/mirp_ai/anaconda3/envs/DANM/lib/python3.10/site-packages (from requests->datashader->umap-learn[plot]) (2022.9.24)\n",
      "Requirement already satisfied: idna<4,>=2.5 in /home/mirp_ai/anaconda3/envs/DANM/lib/python3.10/site-packages (from requests->datashader->umap-learn[plot]) (3.4)\n",
      "Requirement already satisfied: zipp>=0.5 in /home/mirp_ai/anaconda3/envs/DANM/lib/python3.10/site-packages (from importlib-metadata>=4.13.0->dask->datashader->umap-learn[plot]) (3.15.0)\n",
      "Requirement already satisfied: mdurl~=0.1 in /home/mirp_ai/anaconda3/envs/DANM/lib/python3.10/site-packages (from markdown-it-py<3->panel>=0.13.1->holoviews->umap-learn[plot]) (0.1.2)\n",
      "Requirement already satisfied: locket in /home/mirp_ai/anaconda3/envs/DANM/lib/python3.10/site-packages (from partd>=1.2.0->dask->datashader->umap-learn[plot]) (1.0.0)\n",
      "Requirement already satisfied: webencodings in /home/mirp_ai/anaconda3/envs/DANM/lib/python3.10/site-packages (from bleach->panel>=0.13.1->holoviews->umap-learn[plot]) (0.5.1)\n",
      "Requirement already satisfied: uc-micro-py in /home/mirp_ai/anaconda3/envs/DANM/lib/python3.10/site-packages (from linkify-it-py->panel>=0.13.1->holoviews->umap-learn[plot]) (1.0.2)\n"
     ]
    },
    {
     "data": {
      "text/plain": [
       "3144"
      ]
     },
     "execution_count": 7,
     "metadata": {},
     "output_type": "execute_result"
    }
   ],
   "source": [
    "import os\n",
    "import matplotlib.pyplot as plt\n",
    "import numpy as np\n",
    "import datetime\n",
    "import gc\n",
    "import pandas as pd\n",
    "\n",
    "import torch\n",
    "import torch.nn as nn\n",
    "import torch.nn.functional as F\n",
    "from torch.utils.data import DataLoader\n",
    "from torch.utils.data import random_split\n",
    "import torch.optim as optim\n",
    "from torch.optim import lr_scheduler\n",
    "import torchvision.datasets as datasets\n",
    "import torchvision.transforms as transforms\n",
    "from torchvision.utils import make_grid\n",
    "import torchaudio.transforms as audio_transform\n",
    "\n",
    "\n",
    "from Models import ConvAE as AE\n",
    "from AE_training_functions import TestModel, TrainModel\n",
    "from AE_Clustering import AE_Clustering \n",
    "\n",
    "device = torch.device(\"cuda\" if torch.cuda.is_available() else \"cpu\")\n",
    "#device = xm.xla_device()\n",
    "\n",
    "from Zamuro_DataLoader import SoundscapeData\n",
    "\n",
    "\n",
    "import random\n",
    "def _set_seed(seed: int):\n",
    "    \"\"\"\n",
    "    Helper function for reproducible behavior to set the seed in ``random``, ``numpy``, ``torch`` and/or ``tf`` (if\n",
    "    installed).\n",
    " \n",
    "    Args:\n",
    "        seed (:obj:`int`): The seed to set.\n",
    "    \"\"\"\n",
    "    random.seed(seed)\n",
    "    np.random.seed(seed)\n",
    "    if torch.cuda.is_available():\n",
    "        torch.manual_seed(seed)\n",
    "        torch.cuda.manual_seed_all(seed)\n",
    "        # ^^ safe to call this function even if cuda is not available\n",
    "_set_seed(1024)\n",
    "\n",
    "gc.collect()"
   ]
  },
  {
   "cell_type": "code",
   "execution_count": 2,
   "id": "40469494",
   "metadata": {},
   "outputs": [],
   "source": [
    "root = \"/home/mirp_ai/Documents/Daniel_Nieto/PhD/AutoEncoders_Ecoacoustics\"\n",
    "root_path = \"media/mirp_ai/Seagate Desktop Drive/Datos Rey Zamuro/Ultrasonido/\""
   ]
  },
  {
   "cell_type": "code",
   "execution_count": 5,
   "id": "10bf9751",
   "metadata": {},
   "outputs": [
    {
     "data": {
      "text/plain": [
       "<All keys matched successfully>"
      ]
     },
     "execution_count": 5,
     "metadata": {},
     "output_type": "execute_result"
    }
   ],
   "source": [
    "model = \"AE\"\n",
    "identifier = \"batch_size_14_num_hiddens_64_\"\n",
    "day = 4\n",
    "hour = 9\n",
    "date_format = f\"day_{day}_hour_{hour}\"\n",
    "model_name = f\"{root}/Zamuro/temporal_zamuro/models/model_{model}_{identifier}_{date_format}_final.pth\"\n",
    "config = torch.load(f'{root}/Zamuro/temporal_zamuro/configs/config_{model}_{identifier}_{date_format}.pth', map_location=torch.device('cpu'))\n",
    "model = AE(num_hiddens=config[\"num_hiddens\"]).to(device)\n",
    "model.load_state_dict(torch.load(f'{model_name}', map_location=torch.device('cpu')))"
   ]
  },
  {
   "cell_type": "code",
   "execution_count": 32,
   "id": "384d72dc",
   "metadata": {},
   "outputs": [
    {
     "name": "stdout",
     "output_type": "stream",
     "text": [
      "/media/mirp_ai/Seagate Desktop Drive/Datos Rey Zamuro/Ultrasonido/\n"
     ]
    }
   ],
   "source": [
    "folders = os.listdir(f\"Complementary_Files/Audios_Zamuro/\")\n",
    "folder = folders[0]\n",
    "filters = {\"rain_FI\": \"NO\"}\n",
    "dataset = SoundscapeData('media/mirp_ai/Seagate Desktop Drive/Datos Rey Zamuro/Ultrasonido/',\n",
    "                         dataframe_path=f\"Complementary_Files/Audios_Zamuro/{folder}\",\n",
    "                         audio_length=12, ext=\"wav\",\n",
    "                         win_length=1028, filters=filters)\n",
    "\n",
    "dataloader = DataLoader(dataset, batch_size=20)\n",
    "iterator = iter(dataloader)\n",
    "a,b,c,d = next(iterator)\n"
   ]
  },
  {
   "cell_type": "code",
   "execution_count": 37,
   "id": "6b1999f9",
   "metadata": {},
   "outputs": [
    {
     "data": {
      "text/plain": [
       "20"
      ]
     },
     "execution_count": 37,
     "metadata": {},
     "output_type": "execute_result"
    }
   ],
   "source": [
    "len(c[\"recorder\"][0])"
   ]
  }
 ],
 "metadata": {
  "kernelspec": {
   "display_name": "Python 3 (ipykernel)",
   "language": "python",
   "name": "python3"
  },
  "language_info": {
   "codemirror_mode": {
    "name": "ipython",
    "version": 3
   },
   "file_extension": ".py",
   "mimetype": "text/x-python",
   "name": "python",
   "nbconvert_exporter": "python",
   "pygments_lexer": "ipython3",
   "version": "3.10.4"
  }
 },
 "nbformat": 4,
 "nbformat_minor": 5
}
