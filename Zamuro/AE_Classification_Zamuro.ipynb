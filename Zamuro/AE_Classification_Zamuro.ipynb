{
 "cells": [
  {
   "cell_type": "code",
   "execution_count": 1,
   "id": "ab1a613c",
   "metadata": {
    "ExecuteTime": {
     "end_time": "2024-04-16T17:11:14.970697Z",
     "start_time": "2024-04-16T17:11:14.953072Z"
    }
   },
   "outputs": [
    {
     "name": "stdout",
     "output_type": "stream",
     "text": [
      "Running on MIRP\n"
     ]
    }
   ],
   "source": [
    "if 'google.colab' in str(get_ipython()):\n",
    "    import sys\n",
    "    from google.colab import drive, output\n",
    "    drive.mount('/content/drive')\n",
    "\n",
    "    !pip install umap-learn\n",
    "    !pip install umap-learn[plot]\n",
    "    !pip install holoviews\n",
    "\n",
    "    !pip install joypy\n",
    "\n",
    "    output.clear()\n",
    "    print(\"Running on colab\")\n",
    "    %load_ext autoreload\n",
    "    %autoreload 1\n",
    "    %cd '/content/drive/MyDrive/PhD_Thesis_Experiments/DeepLearning/AutoEncoders/Project'\n",
    "    sys.path.append('/content/drive/MyDrive/PhD_Thesis_Experiments/DeepLearning/AutoEncoders/Project/Dataloader')\n",
    "    sys.path.append('/content/drive/MyDrive/PhD_Thesis_Experiments/DeepLearning/AutoEncoders/Project/Models')\n",
    "    sys.path.append('/content/drive/MyDrive/PhD_Thesis_Experiments/DeepLearning/AutoEncoders/Project/Modules')\n",
    "elif \"zmqshell\" in str(get_ipython()):\n",
    "    print(\"Running on MIRP\")\n",
    "    root = \"/home/mirp_ai/Documents/Daniel_Nieto/PhD/AutoEncoders_Ecoacoustics\"\n",
    "    root_path = \"/media/mirp_ai/Seagate Desktop Drive/Datos Rey Zamuro/Ultrasonido\"\n",
    "else:\n",
    "    import pathlib\n",
    "    temp = pathlib.PosixPath\n",
    "    pathlib.PosixPath = pathlib.WindowsPath\n",
    "    print(\"Running local\")"
   ]
  },
  {
   "cell_type": "code",
   "execution_count": 2,
   "id": "3f1eb0d5",
   "metadata": {},
   "outputs": [
    {
     "name": "stderr",
     "output_type": "stream",
     "text": [
      "/home/mirp_ai/anaconda3/envs/DANM/lib/python3.10/site-packages/torch/cuda/__init__.py:88: UserWarning: CUDA initialization: CUDA unknown error - this may be due to an incorrectly set up environment, e.g. changing env variable CUDA_VISIBLE_DEVICES after program start. Setting the available devices to be zero. (Triggered internally at /opt/conda/conda-bld/pytorch_1666643003845/work/c10/cuda/CUDAFunctions.cpp:109.)\n",
      "  return torch._C._cuda_getDeviceCount() > 0\n"
     ]
    }
   ],
   "source": [
    "import os\n",
    "import matplotlib.pyplot as plt\n",
    "import seaborn as sns\n",
    "import numpy as np\n",
    "\n",
    "import datetime\n",
    "import gc\n",
    "import pandas as pd\n",
    "import joypy\n",
    "\n",
    "from sklearn.preprocessing import StandardScaler\n",
    "from sklearn.preprocessing import MinMaxScaler as Normalizer\n",
    "\n",
    "import torch\n",
    "import torch.nn as nn\n",
    "\n",
    "from torch.utils.data import DataLoader\n",
    "from torch.utils.data import random_split\n",
    "\n",
    "import torchvision.datasets as datasets\n",
    "\n",
    "from Zamuro_DataLoader import SoundscapeData\n",
    "from Models import ConvAE as AE\n",
    "from AE_training_functions import TestModel, TrainModel\n",
    "from AE_Clustering import AE_Clustering \n",
    "\n",
    "device = torch.device(\"cuda\" if torch.cuda.is_available() else \"cpu\")\n",
    "\n",
    "from datetime import timedelta\n",
    "\n",
    "from sklearn.manifold import TSNE\n",
    "from sklearn.decomposition import PCA\n",
    "import umap\n",
    "\n",
    "import random\n",
    "def _set_seed(seed: int):\n",
    "    \"\"\"\n",
    "    Helper function for reproducible behavior to set the seed in ``random``, ``numpy``, ``torch`` and/or ``tf`` (if\n",
    "    installed).\n",
    " \n",
    "    Args:\n",
    "        seed (:obj:`int`): The seed to set.\n",
    "    \"\"\"\n",
    "    random.seed(seed)\n",
    "    np.random.seed(seed)\n",
    "    if torch.cuda.is_available():\n",
    "        torch.manual_seed(seed)\n",
    "        torch.cuda.manual_seed_all(seed)\n",
    "        # ^^ safe to call this function even if cuda is not available\n",
    "_set_seed(1024)"
   ]
  },
  {
   "cell_type": "markdown",
   "id": "3f927c49",
   "metadata": {},
   "source": [
    "# AE Model"
   ]
  },
  {
   "cell_type": "code",
   "execution_count": 3,
   "id": "2a1e154a",
   "metadata": {},
   "outputs": [
    {
     "name": "stdout",
     "output_type": "stream",
     "text": [
      "torch.Size([325320, 5184])\n"
     ]
    }
   ],
   "source": [
    "model_type = \"AE\"\n",
    "identifier = \"batch_size_14_num_hiddens_64_\"\n",
    "day = 4\n",
    "hour = 9\n",
    "date_format = f\"day_{day}_hour_{hour}\"\n",
    "\n",
    "model_name = f\"{root}/Zamuro/temporal_zamuro/models/model_{model_type}_{identifier}_{date_format}_final.pth\"\n",
    "config = torch.load(f'{root}/Zamuro/temporal_zamuro/configs/config_{model_type}_{identifier}_{date_format}.pth', map_location=torch.device('cpu'))\n",
    "model = AE(num_hiddens=config[\"num_hiddens\"]).to(device)\n",
    "model.load_state_dict(torch.load(f'{model_name}', map_location=torch.device('cpu')))\n",
    "\n",
    "# y = torch.load(f\"temporal_zamuro/Features/{folder}/AE_labels_{date_format}_No_rain_Audios_Jaguas.pth\",  map_location=torch.device('cpu'))\n",
    "X = torch.load(f\"{root}/Zamuro/temporal_zamuro/Features/AE_features_Zamuro.pth\",  map_location=torch.device('cpu'))\n",
    "y_path = torch.load(f\"{root}/Zamuro/temporal_zamuro/Features/AE_test_path_samples_Zamuro.pth\",  map_location=torch.device('cpu'))\n",
    "path_flat = [item for sublist in y_path for item in sublist]\n",
    "path_flat = np.asarray(path_flat)\n",
    "print(X.shape)\n",
    "\n",
    "scaler = StandardScaler().fit(X)\n",
    "X_scaled = scaler.transform(X)\n",
    "# Normalizer_ = Normalizer().fit(X)\n",
    "# X_norm = Normalizer_.transform(X)\n",
    "# PCA_ = PCA(n_components=60).fit(X_norm)\n",
    "# X_PCA = PCA_.transform(X_norm)\n",
    "# # X_TSNE = TSNE(n_components=60, learning_rate=\"auto\", init='random', random_state=0).fit_transform(X_PCA)\n",
    "# reducer = umap.UMAP(min_dist=0.9, n_components=60)\n",
    "# X_UMAP = reducer.fit_transform(X_norm)\n",
    "# X_batch = np.reshape(X_UMAP, (X_UMAP.shape[0]//5,5,X_UMAP.shape[1]))\n",
    "# # X_UMAP_Norm = Normalizer().fit_transform(X_UMAP)"
   ]
  },
  {
   "cell_type": "code",
   "execution_count": 4,
   "id": "023cc930",
   "metadata": {
    "scrolled": true
   },
   "outputs": [],
   "source": [
    "root_audios_Zamuro = f\"{root}/Zamuro/Complementary_Files/Audios_Zamuro/zamuro_audios.csv\"\n",
    "root_recorders_Zamuro = f\"{root}/Zamuro/Complementary_Files/zamuro_recorders.csv\"\n",
    "root_ai_Zamuro = f\"{root}/Zamuro/AI_Caract/AI_Zamuro.csv\"\n",
    "root_vggish_Zamuro = f\"{root}/Zamuro/vggish/Features_vggish\"\n",
    "\n",
    "audios = pd.read_csv(root_audios_Zamuro, index_col=0)\n",
    "recorders = pd.read_csv(root_recorders_Zamuro, index_col=0)\n",
    "ai = pd.read_csv(root_ai_Zamuro, index_col=0)\n",
    "ai.dropna(inplace=True)\n",
    "ai.set_index(\"file\",inplace=True, drop=True)\n",
    "ai.drop(columns=[\"Date\"], inplace=True)\n",
    "def combinar_nombre_ubicacion(row):\n",
    "    return f\"{row['field_number_PR']}_{row['Filename']}\"\n",
    "\n",
    "# Aplicando la función a cada fila del DataFrame para crear la nueva columna\n",
    "audios['Filename_'] = audios.apply(combinar_nombre_ubicacion, axis=1)\n",
    "\n",
    "audios.set_index(\"Filename_\", inplace=True)"
   ]
  },
  {
   "cell_type": "code",
   "execution_count": 40,
   "id": "29663bed",
   "metadata": {},
   "outputs": [
    {
     "data": {
      "text/plain": [
       "('RZUG11_20220906_214500.WAV_4',\n",
       " array([ 0.17501162,  0.11407401,  0.17391293, ..., -0.31956811,\n",
       "        -0.22422653, -0.76522111]))"
      ]
     },
     "execution_count": 40,
     "metadata": {},
     "output_type": "execute_result"
    }
   ],
   "source": [
    "root_audios_Zamuro = f\"{root}/Zamuro/Complementary_Files/Audios_Zamuro/zamuro_audios.csv\"\n",
    "root_recorders_Zamuro = f\"{root}/Zamuro/Complementary_Files/zamuro_recorders.csv\"\n",
    "root_ai_Zamuro = f\"{root}/Zamuro/AI_Caract/AI_Zamuro.csv\"\n",
    "root_vggish_Zamuro = f\"{root}/Zamuro/vggish/Features_vggish\"\n",
    "\n",
    "audios = pd.read_csv(root_audios_Zamuro, index_col=0)\n",
    "recorders = pd.read_csv(root_recorders_Zamuro, index_col=0)\n",
    "ai = pd.read_csv(root_ai_Zamuro, index_col=0)\n",
    "ai.dropna(inplace=True)\n",
    "ai.set_index(\"file\",inplace=True, drop=True)\n",
    "ai.drop(columns=[\"Date\"], inplace=True)\n",
    "def combinar_nombre_ubicacion(row):\n",
    "    return f\"{row['field_number_PR']}_{row['Filename']}\"\n",
    "\n",
    "# Aplicando la función a cada fila del DataFrame para crear la nueva columna\n",
    "audios['Filename_'] = audios.apply(combinar_nombre_ubicacion, axis=1)\n",
    "\n",
    "audios.set_index(\"Filename_\", inplace=True)\n"
   ]
  },
  {
   "cell_type": "code",
   "execution_count": 44,
   "id": "d200052c",
   "metadata": {},
   "outputs": [
    {
     "name": "stdout",
     "output_type": "stream",
     "text": [
      "RZUG11_20220906_214500.WAV_4 [ 0.17501162  0.11407401  0.17391293 ... -0.31956811 -0.22422653\n",
      " -0.76522111]\n",
      "RZUG11_20220906_104500.WAV\n"
     ]
    }
   ],
   "source": [
    "prueba = 133943\n",
    "print(path_flat[prueba], X_scaled[prueba])\n",
    "\n",
    "for i in range(len(X_3)):\n",
    "    if (X_3[i] == X_scaled[prueba]).all():\n",
    "        print(y_4[i])"
   ]
  },
  {
   "cell_type": "code",
   "execution_count": 56,
   "id": "cd2fcfb6",
   "metadata": {},
   "outputs": [],
   "source": [
    "X_vgg = torch.load(f\"{root_vggish_Zamuro}/vggish_features.pth\")"
   ]
  },
  {
   "cell_type": "code",
   "execution_count": null,
   "id": "15b3c0c3",
   "metadata": {},
   "outputs": [],
   "source": [
    "len(X_vgg3), len(y_vggp), len(X_vgg2), len(y_vgg2)"
   ]
  },
  {
   "cell_type": "markdown",
   "id": "467b6c6f",
   "metadata": {},
   "source": [
    "### VGGish data"
   ]
  },
  {
   "cell_type": "code",
   "execution_count": null,
   "id": "d6ee69a8",
   "metadata": {},
   "outputs": [
    {
     "name": "stderr",
     "output_type": "stream",
     "text": [
      "/home/mirp_ai/anaconda3/envs/DANM/lib/python3.10/site-packages/numpy/lib/function_base.py:5071: FutureWarning: The input object of type 'Tensor' is an array-like implementing one of the corresponding protocols (`__array__`, `__array_interface__` or `__array_struct__`); but not a sequence (or 0-D). In the future, this object will be coerced as if it was first converted using `np.array(obj)`. To retain the old behaviour, you have to either modify the type 'Tensor', or assign to an empty array created with `np.empty(correct_shape, dtype=object)`.\n",
      "  arr = asarray(arr)\n",
      "/home/mirp_ai/anaconda3/envs/DANM/lib/python3.10/site-packages/numpy/lib/function_base.py:5071: VisibleDeprecationWarning: Creating an ndarray from ragged nested sequences (which is a list-or-tuple of lists-or-tuples-or ndarrays with different lengths or shapes) is deprecated. If you meant to do this, you must specify 'dtype=object' when creating the ndarray.\n",
      "  arr = asarray(arr)\n"
     ]
    },
    {
     "name": "stdout",
     "output_type": "stream",
     "text": [
      "71556 71556\n",
      "71556\n",
      "71556\n",
      "71556\n"
     ]
    }
   ],
   "source": [
    "y_ = np.asarray(y_path)\n",
    "y_2 = y_[:,0]\n",
    "for i in range(len(y_2)):\n",
    "    y_2[i] = y_2[i][0:-2] \n",
    "y_3 = list(y_2)\n",
    "\n",
    "X_vgg = torch.load(f\"{root_vggish_Zamuro}/vggish_features.pth\")\n",
    "y_vgg = torch.load(f\"{root_vggish_Zamuro}/vggish_filenames.pth\")\n",
    "cont = 0\n",
    "vgg_corrupted = []\n",
    "X_corrupted = []\n",
    "for i in range(len(X_vgg)):\n",
    "    if(X_vgg[i].shape!= torch.Size([62, 128])):\n",
    "        vgg_corrupted.append(y_vgg[i])\n",
    "        X_corrupted.append(i)\n",
    "for i in range(len(vgg_corrupted)):\n",
    "    y_vgg.remove(vgg_corrupted[i])        \n",
    "X_vgg = np.delete(X_vgg, X_corrupted)\n",
    "\n",
    "print(len(y_vgg), len(X_vgg))\n",
    "\n",
    "y_vgg2 = [i.split('/')[6:8] for i in y_vgg]\n",
    "X_vgg2 = []\n",
    "\n",
    "print(len(y_vgg2))\n",
    "for i in range(len(y_vgg2)):\n",
    "    y_vgg2[i] = f\"{y_vgg2[i][0]}_{y_vgg2[i][1]}\"\n",
    "\n",
    "X_vgg2 = X_vgg\n",
    "X_vgg3 = []\n",
    "remove = []\n",
    "remove_idx = []\n",
    "keep_idx = []\n",
    "print(len(y_vgg2))\n",
    "y_vggp = y_vgg2.copy()\n",
    "print(len(y_vggp))\n",
    "\n",
    "\n",
    "for i in range(len(y_vgg2)):\n",
    "    #a[i] = X_vgg2[i]\n",
    "    if y_vgg2[i] not in y_3:\n",
    "        remove.append(y_vgg2[i])\n",
    "        remove_idx.append(X_vgg2[i])\n",
    "    else:\n",
    "        keep_idx.append(i)\n",
    "        \n",
    "for i in range(len(remove)): \n",
    "    y_vgg2.remove(remove[i])\n",
    "    \n",
    "for i in keep_idx:\n",
    "    X_vgg3.append(X_vgg2[i])\n",
    "    \n",
    "remove = []\n",
    "keep_idx = []\n",
    "X_2 = []\n",
    "for i in range(len(y_3)):\n",
    "    if y_3[i] not in y_vgg2:\n",
    "        remove.append(y_vgg2[i])\n",
    "    else:\n",
    "        keep_idx.append(i)\n",
    "\n",
    "X_1 = np.reshape(X_scaled, (X_scaled.shape[0]//5, 5, X_scaled.shape[1]))\n",
    "\n",
    "for i in range(len(remove)): \n",
    "    y_3.remove(remove[i])\n",
    "    \n",
    "for i in keep_idx:\n",
    "    X_2.append(X_1[i])\n",
    "    \n",
    "X_3 = np.asarray(X_2)\n",
    "X_3 = np.reshape(X_3, (X_3.shape[0]*X_3.shape[1], X_3.shape[2]))\n",
    "y_4 = np.repeat(y_3, 5)\n",
    "        \n",
    "print(len(y_4), len(X_3))\n",
    "    \n",
    "X_vgg4 = np.zeros([len(X_vgg3),62,128])\n",
    "for i in range (len(X_vgg3)):\n",
    "    X_vgg4[i] = X_vgg3[i].numpy()\n",
    "    \n",
    "X_vgg4 = X_vgg4.reshape(X_vgg4.shape[0], X_vgg4.shape[1]*X_vgg4.shape[2])\n",
    "labels = []\n",
    "for i in range(len(y_vgg2)):\n",
    "    labels.append(audios.loc[y_vgg2[i], \"cover\"])\n",
    "    \n",
    "from sklearn.model_selection import train_test_split\n",
    "X_train, X_test, labels_train, labels_test = train_test_split(X_vgg4, labels, test_size=0.2,random_state=0)\n",
    "\n",
    "from sklearn.ensemble import RandomForestClassifier\n",
    "from sklearn import metrics\n",
    "clf_rf = RandomForestClassifier(max_depth=32, random_state=0, n_jobs=-1)\n",
    "clf_rf.fit(X_train, labels_train)\n",
    "y_pred_rf = clf_rf.predict(X_test)\n",
    "accuracy_vggish = metrics.accuracy_score(labels_test, y_pred_rf)\n",
    "f1_score_vggish = metrics.f1_score(labels_test, y_pred_rf, average=\"macro\")\n",
    "recall_vggish = metrics.recall_score(labels_test, y_pred_rf, average=\"macro\")\n",
    "print(\"Accuracy:\", accuracy_vggish)\n",
    "print(\"f1:\", f1_score_vggish)\n",
    "print(\"recall\", recall_vggish)"
   ]
  },
  {
   "cell_type": "code",
   "execution_count": null,
   "id": "89d04702",
   "metadata": {},
   "outputs": [],
   "source": [
    "Normalizer_ = Normalizer().fit(X_3)\n",
    "X_norm = Normalizer_.transform(X_3)\n",
    "PCA_ = PCA(n_components=60).fit(X_norm)\n",
    "X_PCA = PCA_.transform(X_norm)\n",
    "X_TSNE = TSNE(n_components=2, learning_rate=\"auto\", init='random', random_state=0).fit_transform(X_norm)\n",
    "reducer = umap.UMAP(min_dist=0.9, n_components=2)\n",
    "X_UMAP = reducer.fit_transform(X_norm)\n",
    "# X_batch = np.reshape(X_UMAP, (X_UMAP.shape[0]//5,5,X_UMAP.shape[1]))\n",
    "# X_UMAP_Norm = Normalizer().fit_transform(X_UMAP)"
   ]
  },
  {
   "cell_type": "markdown",
   "id": "babcee1a",
   "metadata": {},
   "source": [
    "### Acoustic Indices Data"
   ]
  },
  {
   "cell_type": "code",
   "execution_count": null,
   "id": "c174fef9",
   "metadata": {
    "scrolled": true
   },
   "outputs": [],
   "source": [
    "X_ai = []\n",
    "remove = []\n",
    "s=0\n",
    "for i in range(len(y_3)):\n",
    "    \n",
    "    try:\n",
    "        X_ai.append(ai.loc[y_3[i]])\n",
    "    except:\n",
    "        s+=1\n",
    "        remove.append(y_3[i])\n",
    "for i in range(len(remove)):\n",
    "    y_3.remove(remove[i])\n",
    "X_ai = np.asarray(X_ai)\n",
    "\n",
    "labels_ai = []\n",
    "# audios.set_index(\"Filename\", inplace=True)\n",
    "for i in range(len(y_3)):\n",
    "    labels_ai.append(audios.loc[y_3[i], \"cover\"])\n",
    "    \n",
    "from sklearn.model_selection import train_test_split\n",
    "X_train, X_test, y_train, y_test = train_test_split(X_ai, labels_ai, test_size=0.2,random_state=0)\n",
    "\n",
    "from sklearn.ensemble import RandomForestClassifier\n",
    "from sklearn import metrics\n",
    "\n",
    "clf_rf = RandomForestClassifier(max_depth=32, random_state=0, n_jobs=-1)\n",
    "clf_rf.fit(X_train, y_train)\n",
    "y_pred_rf = clf_rf.predict(X_test)\n",
    "accuracy_ai = metrics.accuracy_score(y_test, y_pred_rf)\n",
    "f1_score_ai = metrics.f1_score(y_test, y_pred_rf, average=\"macro\")\n",
    "recall_ai = metrics.recall_score(y_test, y_pred_rf, average=\"macro\")\n",
    "print(\"Accuracy:\", accuracy_ai)\n",
    "print(\"f1:\", f1_score_ai)\n",
    "print(\"recall\", recall_ai)"
   ]
  },
  {
   "cell_type": "markdown",
   "id": "77bc2d1e",
   "metadata": {},
   "source": [
    "### Autoencoders Features and Labels using independent segments"
   ]
  },
  {
   "cell_type": "code",
   "execution_count": null,
   "id": "f86bc722",
   "metadata": {},
   "outputs": [],
   "source": [
    "set(audios[\"cover\"])"
   ]
  },
  {
   "cell_type": "code",
   "execution_count": null,
   "id": "56be0546",
   "metadata": {},
   "outputs": [],
   "source": [
    "set(audios[\"habitat\"])"
   ]
  },
  {
   "cell_type": "code",
   "execution_count": null,
   "id": "64533d0f",
   "metadata": {},
   "outputs": [],
   "source": [
    "from sklearn import svm\n",
    "from sklearn.model_selection import train_test_split\n",
    "\n",
    "# audios.set_index(\"Filename\", inplace=True)\n",
    "labels = []\n",
    "for i in range(len(y_4)):\n",
    "    labels.append(audios.loc[y_4[i], \"cover\"])\n",
    "\n",
    "X_train, X_test, y_train, y_test = train_test_split(X_3, labels, test_size=0.2,random_state=0)\n",
    "\n",
    "from sklearn.ensemble import RandomForestClassifier\n",
    "from sklearn import metrics\n",
    "clf_rf = RandomForestClassifier(max_depth=32, random_state=0, n_jobs=-1)\n",
    "clf_rf.fit(X_train, y_train)\n",
    "\n",
    "y_pred_rf = clf_rf.predict(X_test)\n",
    "accuracy_ae = metrics.accuracy_score(y_test, y_pred_rf)\n",
    "f1_score_ae = metrics.f1_score(y_test, y_pred_rf, average=\"macro\")\n",
    "recall_ae = metrics.recall_score(y_test, y_pred_rf, average=\"macro\")\n",
    "print(\"Accuracy:\", accuracy_ae)\n",
    "print(\"f1:\", f1_score_ae)\n",
    "print(\"recall\", recall_ae)\n"
   ]
  },
  {
   "cell_type": "markdown",
   "id": "dda32a30",
   "metadata": {},
   "source": [
    "### Autoencoders Features and Labels using 5 segments of the audio"
   ]
  },
  {
   "cell_type": "code",
   "execution_count": null,
   "id": "b6e27e51",
   "metadata": {},
   "outputs": [],
   "source": [
    "X_c = X_3\n",
    "y_c = y_4\n",
    "\n",
    "X_batch = np.reshape(X_c, (X_c.shape[0]//5,5,X_c.shape[1]))\n",
    "y_path = np.reshape(y_c, (y_c.shape[0]//5, 5))"
   ]
  },
  {
   "cell_type": "code",
   "execution_count": null,
   "id": "755f7324",
   "metadata": {},
   "outputs": [],
   "source": [
    "from sklearn import svm\n",
    "from sklearn.model_selection import train_test_split\n",
    "X_train, X_test, y_train, y_test = train_test_split(X_batch, y_path, test_size=0.2,random_state=0)\n",
    "\n",
    "X_train = X_train.reshape(X_train.shape[0]*X_train.shape[1], X_train.shape[2])\n",
    "X_test = X_test.reshape(X_test.shape[0]*X_test.shape[1], X_test.shape[2])\n",
    "y_train = np.asarray(y_train)\n",
    "y_test = np.asarray(y_test)\n",
    "y_train = y_train.reshape(y_train.shape[0]*y_train.shape[1])\n",
    "y_test = y_test.reshape(y_test.shape[0]*y_test.shape[1])\n",
    "\n",
    "labels_train = []\n",
    "for i in range(len(y_train)):\n",
    "    labels_train.append(audios.loc[y_train[i], \"cover\"])\n",
    "labels_test = []\n",
    "for i in range(len(y_test)):\n",
    "    labels_test.append(audios.loc[y_test[i], \"cover\"])"
   ]
  },
  {
   "cell_type": "markdown",
   "id": "e6b62a25",
   "metadata": {},
   "source": [
    "# Autoencoders Features and Labels using voting labels"
   ]
  },
  {
   "cell_type": "code",
   "execution_count": null,
   "id": "f37b9d96",
   "metadata": {},
   "outputs": [],
   "source": [
    "from sklearn.ensemble import RandomForestClassifier\n",
    "from sklearn import metrics\n",
    "clf_rf = RandomForestClassifier(max_depth=32, random_state=0, n_jobs=-1)\n",
    "clf_rf.fit(X_train, labels_train)\n",
    "y_pred_rf = clf_rf.predict(X_test)\n",
    "accuracy = metrics.accuracy_score(labels_test, y_pred_rf)\n",
    "f1_score = metrics.f1_score(labels_test, y_pred_rf, average=\"macro\")\n",
    "recall = metrics.recall_score(labels_test, y_pred_rf, average=\"macro\")\n",
    "print(\"Accuracy:\", accuracy)\n",
    "print(\"f1:\", f1_score)\n",
    "print(\"recall\", recall)"
   ]
  },
  {
   "cell_type": "code",
   "execution_count": null,
   "id": "7a7d83e8",
   "metadata": {},
   "outputs": [],
   "source": [
    "y_pred_rf2 = np.asarray(y_pred_rf)\n",
    "y_pred_rf2 = np.reshape(y_pred_rf2,(y_pred_rf2.shape[0]//5,5))\n",
    "y_test2 = np.asarray(labels_test)\n",
    "y_test2 = np.reshape(y_test2,(y_test2.shape[0]//5,5))\n",
    "\n",
    "def most_frequent(List):\n",
    "    return max(set(List), key = List.count)\n",
    "\n",
    "labels_test2 = []\n",
    "labels_pred = []\n",
    "for i in range(len(y_pred_rf2)):\n",
    "    labels_pred.append(most_frequent(list(y_pred_rf2[i])))\n",
    "    labels_test2.append(most_frequent(list(y_test2[i])))\n",
    "accuracy = metrics.accuracy_score(labels_test2, labels_pred)\n",
    "f1_score = metrics.f1_score(labels_test2, labels_pred, average=\"macro\")\n",
    "recall = metrics.recall_score(labels_test2, labels_pred, average=\"macro\")\n",
    "\n",
    "print(\"Accuracy:\", accuracy)\n",
    "print(\"f1:\", f1_score)\n",
    "print(\"recall\", recall)"
   ]
  },
  {
   "cell_type": "code",
   "execution_count": null,
   "id": "3823d359",
   "metadata": {},
   "outputs": [],
   "source": [
    "f1_scores = [f1_score_ai, f1_score_ae, f1_score_vggish] # [ai, AE_norm, AE_PCA, AE_UMAP, VGGISH, VGGISH_PCA, VGGISH_UMAP]\n",
    "accuracies = [accuracy_score_ai, accuracy_score_ae, accuracy_score_vggish]\n",
    "recalls = [recall_score_ai, recall_score_ae, recall_score_vggish]\n"
   ]
  }
 ],
 "metadata": {
  "kernelspec": {
   "display_name": "Python 3 (ipykernel)",
   "language": "python",
   "name": "python3"
  },
  "language_info": {
   "codemirror_mode": {
    "name": "ipython",
    "version": 3
   },
   "file_extension": ".py",
   "mimetype": "text/x-python",
   "name": "python",
   "nbconvert_exporter": "python",
   "pygments_lexer": "ipython3",
   "version": "3.10.4"
  }
 },
 "nbformat": 4,
 "nbformat_minor": 5
}
