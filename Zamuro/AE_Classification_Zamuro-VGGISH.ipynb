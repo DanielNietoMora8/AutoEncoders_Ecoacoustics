{
 "cells": [
  {
   "cell_type": "code",
   "execution_count": 1,
   "id": "ab1a613c",
   "metadata": {
    "ExecuteTime": {
     "end_time": "2024-04-22T16:04:40.092443Z",
     "start_time": "2024-04-22T16:04:40.078736Z"
    }
   },
   "outputs": [
    {
     "name": "stdout",
     "output_type": "stream",
     "text": [
      "Running on MIRP\n"
     ]
    }
   ],
   "source": [
    "if 'google.colab' in str(get_ipython()):\n",
    "    import sys\n",
    "    from google.colab import drive, output\n",
    "    drive.mount('/content/drive')\n",
    "\n",
    "    !pip install umap-learn\n",
    "    !pip install umap-learn[plot]\n",
    "    !pip install holoviews\n",
    "\n",
    "    !pip install joypy\n",
    "\n",
    "    output.clear()\n",
    "    print(\"Running on colab\")\n",
    "    %load_ext autoreload\n",
    "    %autoreload 1\n",
    "    %cd '/content/drive/MyDrive/PhD_Thesis_Experiments/DeepLearning/AutoEncoders/Project'\n",
    "    sys.path.append('/content/drive/MyDrive/PhD_Thesis_Experiments/DeepLearning/AutoEncoders/Project/Dataloader')\n",
    "    sys.path.append('/content/drive/MyDrive/PhD_Thesis_Experiments/DeepLearning/AutoEncoders/Project/Models')\n",
    "    sys.path.append('/content/drive/MyDrive/PhD_Thesis_Experiments/DeepLearning/AutoEncoders/Project/Modules')\n",
    "elif \"zmqshell\" in str(get_ipython()):\n",
    "    print(\"Running on MIRP\")\n",
    "    root = \"/home/mirp_ai/Documents/Daniel_Nieto/PhD/AutoEncoders_Ecoacoustics\"\n",
    "    root_path = \"/media/mirp_ai/Seagate Desktop Drive/Datos Rey Zamuro/Ultrasonido\"\n",
    "else:\n",
    "    import pathlib\n",
    "    temp = pathlib.PosixPath\n",
    "    pathlib.PosixPath = pathlib.WindowsPath\n",
    "    print(\"Running local\")"
   ]
  },
  {
   "cell_type": "code",
   "execution_count": 2,
   "id": "3f1eb0d5",
   "metadata": {},
   "outputs": [
    {
     "name": "stderr",
     "output_type": "stream",
     "text": [
      "/home/mirp_ai/anaconda3/envs/DANM/lib/python3.10/site-packages/umap/distances.py:1063: NumbaDeprecationWarning: The 'nopython' keyword argument was not supplied to the 'numba.jit' decorator. The implicit default value for this argument is currently False, but it will be changed to True in Numba 0.59.0. See https://numba.readthedocs.io/en/stable/reference/deprecation.html#deprecation-of-object-mode-fall-back-behaviour-when-using-jit for details.\n",
      "  @numba.jit()\n",
      "/home/mirp_ai/anaconda3/envs/DANM/lib/python3.10/site-packages/umap/distances.py:1071: NumbaDeprecationWarning: The 'nopython' keyword argument was not supplied to the 'numba.jit' decorator. The implicit default value for this argument is currently False, but it will be changed to True in Numba 0.59.0. See https://numba.readthedocs.io/en/stable/reference/deprecation.html#deprecation-of-object-mode-fall-back-behaviour-when-using-jit for details.\n",
      "  @numba.jit()\n",
      "/home/mirp_ai/anaconda3/envs/DANM/lib/python3.10/site-packages/umap/distances.py:1086: NumbaDeprecationWarning: The 'nopython' keyword argument was not supplied to the 'numba.jit' decorator. The implicit default value for this argument is currently False, but it will be changed to True in Numba 0.59.0. See https://numba.readthedocs.io/en/stable/reference/deprecation.html#deprecation-of-object-mode-fall-back-behaviour-when-using-jit for details.\n",
      "  @numba.jit()\n",
      "/home/mirp_ai/anaconda3/envs/DANM/lib/python3.10/site-packages/umap/umap_.py:660: NumbaDeprecationWarning: The 'nopython' keyword argument was not supplied to the 'numba.jit' decorator. The implicit default value for this argument is currently False, but it will be changed to True in Numba 0.59.0. See https://numba.readthedocs.io/en/stable/reference/deprecation.html#deprecation-of-object-mode-fall-back-behaviour-when-using-jit for details.\n",
      "  @numba.jit()\n"
     ]
    }
   ],
   "source": [
    "import os\n",
    "import matplotlib.pyplot as plt\n",
    "import seaborn as sns\n",
    "import numpy as np\n",
    "\n",
    "import datetime\n",
    "import gc\n",
    "import pandas as pd\n",
    "import joypy\n",
    "\n",
    "from sklearn.preprocessing import StandardScaler\n",
    "from sklearn.preprocessing import MinMaxScaler as Normalizer\n",
    "\n",
    "import torch\n",
    "import torch.nn as nn\n",
    "\n",
    "from torch.utils.data import DataLoader\n",
    "from torch.utils.data import random_split\n",
    "\n",
    "import torchvision.datasets as datasets\n",
    "\n",
    "from Zamuro_DataLoader import SoundscapeData\n",
    "from Models import ConvAE as AE\n",
    "from AE_training_functions import TestModel, TrainModel\n",
    "from AE_Clustering import AE_Clustering \n",
    "\n",
    "device = torch.device(\"cuda\" if torch.cuda.is_available() else \"cpu\")\n",
    "\n",
    "from datetime import timedelta\n",
    "\n",
    "from sklearn.manifold import TSNE\n",
    "from sklearn.decomposition import PCA\n",
    "import umap\n",
    "\n",
    "import random\n",
    "def _set_seed(seed: int):\n",
    "    \"\"\"\n",
    "    Helper function for reproducible behavior to set the seed in ``random``, ``numpy``, ``torch`` and/or ``tf`` (if\n",
    "    installed).\n",
    " \n",
    "    Args:\n",
    "        seed (:obj:`int`): The seed to set.\n",
    "    \"\"\"\n",
    "    random.seed(seed)\n",
    "    np.random.seed(seed)\n",
    "    if torch.cuda.is_available():\n",
    "        torch.manual_seed(seed)\n",
    "        torch.cuda.manual_seed_all(seed)\n",
    "        # ^^ safe to call this function even if cuda is not available\n",
    "_set_seed(1024)"
   ]
  },
  {
   "cell_type": "code",
   "execution_count": 3,
   "id": "023cc930",
   "metadata": {
    "scrolled": true
   },
   "outputs": [],
   "source": [
    "root_audios_Zamuro = f\"{root}/Zamuro/Complementary_Files/zamuro_audios.csv\"\n",
    "root_recorders_Zamuro = f\"{root}/Zamuro/Complementary_Files/zamuro_recorders.csv\"\n",
    "root_vggish_Zamuro = f\"{root}/Zamuro/vggish/Features_vggish\"\n",
    "\n",
    "audios = pd.read_csv(root_audios_Zamuro, index_col=0)\n",
    "recorders = pd.read_csv(root_recorders_Zamuro, index_col=0)\n",
    "\n",
    "def combinar_nombre_ubicacion(row):\n",
    "    return f\"{row['field_number_PR']}_{row['Filename']}\"\n",
    "\n",
    "# Aplicando la función a cada fila del DataFrame para crear la nueva columna\n",
    "audios['Filename_'] = audios.apply(combinar_nombre_ubicacion, axis=1)\n",
    "\n",
    "audios.set_index(\"Filename_\", inplace=True)"
   ]
  },
  {
   "cell_type": "code",
   "execution_count": 4,
   "id": "3f7ccb8a",
   "metadata": {},
   "outputs": [],
   "source": [
    "X_vgg = torch.load(f\"{root_vggish_Zamuro}/vggish_features.pth\")\n",
    "y_vgg = torch.load(f\"{root_vggish_Zamuro}/vggish_filenames.pth\")\n",
    "y_vgg = [i.split('/')[6:8] for i in y_vgg]\n",
    "for i in range(len(y_vgg)):\n",
    "    y_vgg[i] = f\"{y_vgg[i][0]}_{y_vgg[i][1]}\""
   ]
  },
  {
   "cell_type": "code",
   "execution_count": 6,
   "id": "6f16cf0b",
   "metadata": {},
   "outputs": [],
   "source": [
    "X_add = []\n",
    "for i in range(len(X_vgg)):\n",
    "    if(X_vgg[i].shape == torch.Size([62, 128])):\n",
    "        X_add.append(i)\n",
    "X_vgg2 = []\n",
    "y_vgg2 = []\n",
    "for i, value in enumerate(X_add):\n",
    "    X_vgg2.append(X_vgg[value])\n",
    "    y_vgg2.append(y_vgg[value])\n",
    "X_vgg2 = torch.stack(X_vgg2)\n",
    "X_vgg2 = X_vgg2.numpy()\n",
    "X_vgg2 = X_vgg2.reshape(X_vgg2.shape[0], X_vgg2.shape[1]*X_vgg2.shape[2])"
   ]
  },
  {
   "cell_type": "code",
   "execution_count": 7,
   "id": "a8072123",
   "metadata": {},
   "outputs": [],
   "source": [
    "df_vgg = pd.DataFrame(X_vgg2)\n",
    "df_vgg[\"y\"] = y_vgg2\n",
    "df_vgg\n",
    "df_vgg.set_index(\"y\", inplace=True, drop=False)\n",
    "df_vgg['cover'] = df_vgg.index.map(audios['cover'])\n",
    "df_vgg['rain_FI'] = df_vgg.index.map(audios['rain_FI'])"
   ]
  },
  {
   "cell_type": "code",
   "execution_count": 8,
   "id": "ab8041d1",
   "metadata": {},
   "outputs": [],
   "source": [
    "def extract_parts(row):\n",
    "    parts = row.split('_')\n",
    "    location = parts[0]\n",
    "    date = parts[1]\n",
    "    time = parts[2].split('.')[0]  # Eliminar la extensión .WAV\n",
    "    day = date[-2:]  # Últimos dos caracteres para el día\n",
    "    hour = time[:2]\n",
    "    return pd.Series([location, day, hour])\n",
    "\n",
    "# Aplicar la función a la columna 'y' y crear nuevas columnas\n",
    "df_vgg[['location', 'day', 'hour']] =df_vgg['y'].apply(extract_parts)\n",
    "\n",
    "def define_hour_stage(hour):\n",
    "    hour = int(hour)\n",
    "    if 5 <= hour <= 8:\n",
    "        return 'morning'\n",
    "    elif 9 <= hour <= 16:\n",
    "        return 'day'\n",
    "    else:\n",
    "        return 'night'\n",
    "\n",
    "df_vgg['hour_stage'] =df_vgg['hour'].apply(define_hour_stage)\n",
    "df_vgg.set_index(\"y\", inplace=True, drop=False)\n",
    "df_vgg['cover'] = df_vgg.index.map(audios['cover'])\n",
    "df_vgg = df_vgg[df_vgg['rain_FI'] == 'NO']"
   ]
  },
  {
   "cell_type": "code",
   "execution_count": 14,
   "id": "088c792b",
   "metadata": {},
   "outputs": [],
   "source": [
    "df_vgg.to_csv('df_vgg.csv', index=False) \n",
    "df_vgg = pd.read_csv(\"New_df_vgg.csv\")\n",
    "df_vgg.set_index(\"y\", inplace=True)"
   ]
  },
  {
   "cell_type": "markdown",
   "id": "299ba486",
   "metadata": {},
   "source": [
    "## All classification covers"
   ]
  },
  {
   "cell_type": "code",
   "execution_count": 28,
   "id": "61fc82b8",
   "metadata": {},
   "outputs": [
    {
     "name": "stdout",
     "output_type": "stream",
     "text": [
      "Accuracy: 0.6920694509619897\n",
      "f1: 0.5666160664180073\n",
      "recall 0.5487212688250795\n",
      "[[0.06851244 0.09206945 0.03894885]\n",
      " [0.01163773 0.54265603 0.01773815]\n",
      " [0.03538245 0.11215392 0.08090099]]\n",
      "[[ 730  981  415]\n",
      " [ 124 5782  189]\n",
      " [ 377 1195  862]]\n"
     ]
    },
    {
     "data": {
      "image/png": "[encoded data removed]",
      "text/plain": [
       "<Figure size 640x480 with 2 Axes>"
      ]
     },
     "metadata": {},
     "output_type": "display_data"
    }
   ],
   "source": [
    "from sklearn import metrics\n",
    "from sklearn.metrics import accuracy_score, precision_score, recall_score, f1_score\n",
    "from sklearn.metrics import classification_report\n",
    "import matplotlib.pyplot as plt\n",
    "import seaborn as sns\n",
    "\n",
    "\n",
    "X = np.asarray(df_vgg.iloc[:,0:7936])\n",
    "y = np.asarray(df_vgg.loc[:,\"cover\"])\n",
    "X_train, X_test, y_train, y_test = train_test_split(X, y, test_size=0.2,random_state=0)\n",
    "clf_rf = RandomForestClassifier(max_depth=32, random_state=0, n_jobs=-1)\n",
    "clf_rf.fit(X_train, y_train)\n",
    "y_pred_rf = clf_rf.predict(X_test)\n",
    "accuracy = metrics.accuracy_score(y_test, y_pred_rf)\n",
    "f1_score = metrics.f1_score(y_test, y_pred_rf, average=\"macro\")\n",
    "recall = metrics.recall_score(y_test, y_pred_rf, average=\"macro\")\n",
    "print(\"Accuracy:\", accuracy)\n",
    "print(\"f1:\", f1_score)\n",
    "print(\"recall\", recall)\n",
    "\n",
    "confusion_matrix = metrics.confusion_matrix(y_test, y_pred_rf)\n",
    "confusion_matrix_norm = metrics.confusion_matrix(y_test, y_pred_rf, normalize=\"all\")\n",
    "print(confusion_matrix_norm)\n",
    "print(confusion_matrix)\n",
    "cm_display = metrics.ConfusionMatrixDisplay(confusion_matrix = confusion_matrix_norm, display_labels = [\"forest\", \"pasture\", \"savanna\"])\n",
    "cm_display.plot()\n",
    "plt.show()\n"
   ]
  },
  {
   "cell_type": "markdown",
   "id": "9a0498cf",
   "metadata": {},
   "source": [
    "## All classification Hours"
   ]
  },
  {
   "cell_type": "code",
   "execution_count": 33,
   "id": "aef223c2",
   "metadata": {},
   "outputs": [
    {
     "name": "stdout",
     "output_type": "stream",
     "text": [
      "Accuracy: 0.7632097606757391\n",
      "f1: 0.6576930886446982\n",
      "recall 0.6581342739762196\n",
      "[[0.28718911 0.01679962 0.03256687]\n",
      " [0.07714688 0.04110746 0.04382919]\n",
      " [0.0531206  0.01332708 0.43491319]]\n",
      "[[3060  179  347]\n",
      " [ 822  438  467]\n",
      " [ 566  142 4634]]\n"
     ]
    },
    {
     "data": {
      "image/png": "[encoded data removed]",
      "text/plain": [
       "<Figure size 640x480 with 2 Axes>"
      ]
     },
     "metadata": {},
     "output_type": "display_data"
    }
   ],
   "source": [
    "from sklearn import metrics\n",
    "from sklearn.metrics import accuracy_score, precision_score, recall_score, f1_score\n",
    "from sklearn.metrics import classification_report\n",
    "import matplotlib.pyplot as plt\n",
    "import seaborn as sns\n",
    "\n",
    "\n",
    "X = np.asarray(df_vgg.iloc[:,0:7936])\n",
    "y = np.asarray(df_vgg.loc[:,\"hour_stage\"])\n",
    "X_train, X_test, y_train, y_test = train_test_split(X, y, test_size=0.2,random_state=0)\n",
    "clf_rf = RandomForestClassifier(max_depth=32, random_state=0, n_jobs=-1)\n",
    "clf_rf.fit(X_train, y_train)\n",
    "y_pred_rf = clf_rf.predict(X_test)\n",
    "accuracy = metrics.accuracy_score(y_test, y_pred_rf)\n",
    "f1_score = metrics.f1_score(y_test, y_pred_rf, average=\"macro\")\n",
    "recall = metrics.recall_score(y_test, y_pred_rf, average=\"macro\")\n",
    "print(\"Accuracy:\", accuracy)\n",
    "print(\"f1:\", f1_score)\n",
    "print(\"recall\", recall)\n",
    "\n",
    "confusion_matrix = metrics.confusion_matrix(y_test, y_pred_rf)\n",
    "confusion_matrix_norm = metrics.confusion_matrix(y_test, y_pred_rf, normalize=\"all\")\n",
    "print(confusion_matrix_norm)\n",
    "print(confusion_matrix)\n",
    "cm_display = metrics.ConfusionMatrixDisplay(confusion_matrix = confusion_matrix_norm, display_labels = [\"day\", \"morning\", \"night\"])\n",
    "cm_display.plot()\n",
    "plt.show()\n"
   ]
  },
  {
   "cell_type": "markdown",
   "id": "65452988",
   "metadata": {},
   "source": [
    "## Cover classification"
   ]
  },
  {
   "cell_type": "code",
   "execution_count": 30,
   "id": "acbcbb49",
   "metadata": {},
   "outputs": [
    {
     "name": "stdout",
     "output_type": "stream",
     "text": [
      "Accuracy: 0.7409638554216867\n",
      "f1: 0.517826813907228\n",
      "recall 0.49421921921921924\n",
      "Accuracy: 0.7258261933904528\n",
      "f1: 0.5352950434290147\n",
      "recall 0.5094189639157664\n",
      "Accuracy: 0.672911787665886\n",
      "f1: 0.5423741084044416\n",
      "recall 0.530647827996421\n",
      "Accuracy: 0.6739876458476322\n",
      "f1: 0.5577197731043885\n",
      "recall 0.5448442348224868\n",
      "Accuracy: 0.6973047684865239\n",
      "f1: 0.5695047368781326\n",
      "recall 0.5516767277853639\n",
      "Accuracy: 0.6713286713286714\n",
      "f1: 0.5334184929818446\n",
      "recall 0.5184010691938522\n",
      "Accuracy: 0.7314453125\n",
      "f1: 0.6443469841817392\n",
      "recall 0.6239249441692435\n",
      "Accuracy: 0.7023255813953488\n",
      "f1: 0.6073186102630636\n",
      "recall 0.5901138199274846\n",
      "Accuracy: 0.6823843416370107\n",
      "f1: 0.5433396017992743\n",
      "recall 0.526469136526882\n",
      "Accuracy: 0.699724517906336\n",
      "f1: 0.5143587617468215\n",
      "recall 0.4968577339661677\n",
      "Accuracy: 0.7695652173913043\n",
      "f1: 0.6126932387869084\n",
      "recall 0.5597807865892972\n"
     ]
    }
   ],
   "source": [
    "from sklearn import svm\n",
    "from sklearn.model_selection import train_test_split\n",
    "from sklearn.ensemble import RandomForestClassifier\n",
    "from sklearn import metrics\n",
    "\n",
    "accuracies_vgg_covers = []\n",
    "f1_scores_vgg_covers = []\n",
    "recalls_vgg_covers = []\n",
    "df_day={}\n",
    "for i in [\"03\",\"04\",\"05\",\"06\",\"07\",\"08\",\"09\",\"10\",\"11\",\"12\",\"13\"]:\n",
    "    df_day = df_vgg[df_vgg['day'].isin([int(i)])]\n",
    "    X = np.asarray(df_day.iloc[:,0:7936])\n",
    "    y = np.asarray(df_day.loc[:,\"cover\"])\n",
    "    X_train, X_test, y_train, y_test = train_test_split(X, y, test_size=0.2,random_state=0)\n",
    "    clf_rf = RandomForestClassifier(max_depth=32, random_state=0, n_jobs=-1)\n",
    "    clf_rf.fit(X_train, y_train)\n",
    "    y_pred_rf = clf_rf.predict(X_test)\n",
    "    accuracy = metrics.accuracy_score(y_test, y_pred_rf)\n",
    "    f1_score = metrics.f1_score(y_test, y_pred_rf, average=\"macro\")\n",
    "    recall = metrics.recall_score(y_test, y_pred_rf, average=\"macro\")\n",
    "    print(\"Accuracy:\", accuracy)\n",
    "    print(\"f1:\", f1_score)\n",
    "    print(\"recall\", recall)\n",
    "\n",
    "    accuracies_vgg_covers.append(accuracy)\n",
    "    f1_scores_vgg_covers.append(f1_score)\n",
    "    recalls_vgg_covers.append(recall)\n",
    "    \n",
    "np.save(f\"{root}/Zamuro/temporal_zamuro/zamuro_classification_results/accuracies_vgg_covers.npy\", accuracies_vgg_covers)\n",
    "np.save(f\"{root}/Zamuro/temporal_zamuro/zamuro_classification_results/f1_scores_vgg_covers.npy\", f1_scores_vgg_covers)\n",
    "np.save(f\"{root}/Zamuro/temporal_zamuro/zamuro_classification_results/recalls_vgg_covers.npy\", recalls_vgg_covers)"
   ]
  },
  {
   "cell_type": "markdown",
   "id": "90be8a13",
   "metadata": {},
   "source": [
    "## Hour stage classification"
   ]
  },
  {
   "cell_type": "code",
   "execution_count": 11,
   "id": "360b5548",
   "metadata": {},
   "outputs": [
    {
     "name": "stdout",
     "output_type": "stream",
     "text": [
      "Accuracy: 0.8744588744588745\n",
      "f1: 0.544538504951003\n",
      "recall 0.5466715794645051\n",
      "Accuracy: 0.8043694141012909\n",
      "f1: 0.6801789829725702\n",
      "recall 0.6636315440689199\n",
      "Accuracy: 0.7925973197192087\n",
      "f1: 0.685916507724201\n",
      "recall 0.6796180111550197\n",
      "Accuracy: 0.8091954022988506\n",
      "f1: 0.744113094338467\n",
      "recall 0.7379110407412295\n",
      "Accuracy: 0.8302752293577982\n",
      "f1: 0.7576789393014014\n",
      "recall 0.7532690485835275\n",
      "Accuracy: 0.7560025957170668\n",
      "f1: 0.7062505941711029\n",
      "recall 0.703047714069536\n",
      "Accuracy: 0.7723177723177723\n",
      "f1: 0.6099180676509789\n",
      "recall 0.6041618468807569\n",
      "Accuracy: 0.7513069454817027\n",
      "f1: 0.5654124336623073\n",
      "recall 0.5819439475253428\n",
      "Accuracy: 0.7885174418604651\n",
      "f1: 0.7115831865320104\n",
      "recall 0.7050334006236699\n",
      "Accuracy: 0.7851428571428571\n",
      "f1: 0.7525824343343852\n",
      "recall 0.761300908522797\n",
      "Accuracy: 0.7878787878787878\n",
      "f1: 0.7345715037449958\n",
      "recall 0.719786505032825\n"
     ]
    }
   ],
   "source": [
    "from sklearn import svm\n",
    "from sklearn.model_selection import train_test_split\n",
    "from sklearn.ensemble import RandomForestClassifier\n",
    "from sklearn import metrics\n",
    "\n",
    "accuracies_vgg_hours = []\n",
    "f1_scores_vgg_hours = []\n",
    "recalls_vgg_hours = []\n",
    "df_day={}\n",
    "for i in [\"03\",\"04\",\"05\",\"06\",\"07\",\"08\",\"09\",\"10\",\"11\",\"12\",\"13\"]:\n",
    "    df_day = df_vgg[df_vgg['day'].isin([i])]\n",
    "    X = np.asarray(df_day.loc[:,0:7935])\n",
    "    y = np.asarray(df_day.loc[:,\"hour_stage\"])\n",
    "    X_train, X_test, y_train, y_test = train_test_split(X, y, test_size=0.2,random_state=0)\n",
    "    clf_rf = RandomForestClassifier(max_depth=32, random_state=0, n_jobs=-1)\n",
    "    clf_rf.fit(X_train, y_train)\n",
    "    y_pred_rf = clf_rf.predict(X_test)\n",
    "    accuracy = metrics.accuracy_score(y_test, y_pred_rf)\n",
    "    f1_score = metrics.f1_score(y_test, y_pred_rf, average=\"macro\")\n",
    "    recall = metrics.recall_score(y_test, y_pred_rf, average=\"macro\")\n",
    "    print(\"Accuracy:\", accuracy)\n",
    "    print(\"f1:\", f1_score)\n",
    "    print(\"recall\", recall)\n",
    "\n",
    "    accuracies_vgg_hours.append(accuracy)\n",
    "    f1_scores_vgg_hours.append(f1_score)\n",
    "    recalls_vgg_hours.append(recall)\n",
    "    \n",
    "np.save(f\"{root}/Zamuro/temporal_zamuro/zamuro_classification_results/accuracies_vgg_hours.npy\", accuracies_vgg_hours)\n",
    "np.save(f\"{root}/Zamuro/temporal_zamuro/zamuro_classification_results/f1_scores_vgg_hours.npy\", f1_scores_vgg_hours)\n",
    "np.save(f\"{root}/Zamuro/temporal_zamuro/zamuro_classification_results/recalls_vgg_hours.npy\", recalls_vgg_hours)"
   ]
  }
 ],
 "metadata": {
  "kernelspec": {
   "display_name": "Python 3 (ipykernel)",
   "language": "python",
   "name": "python3"
  },
  "language_info": {
   "codemirror_mode": {
    "name": "ipython",
    "version": 3
   },
   "file_extension": ".py",
   "mimetype": "text/x-python",
   "name": "python",
   "nbconvert_exporter": "python",
   "pygments_lexer": "ipython3",
   "version": "3.10.4"
  }
 },
 "nbformat": 4,
 "nbformat_minor": 5
}
