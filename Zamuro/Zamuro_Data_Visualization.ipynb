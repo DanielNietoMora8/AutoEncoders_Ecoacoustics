{
 "cells": [
  {
   "cell_type": "code",
   "execution_count": 1,
   "id": "59bfbed8",
   "metadata": {
    "ExecuteTime": {
     "end_time": "2024-05-20T20:16:51.934576Z",
     "start_time": "2024-05-20T20:16:51.901927Z"
    }
   },
   "outputs": [
    {
     "name": "stdout",
     "output_type": "stream",
     "text": [
      "Running on MIRP\n"
     ]
    }
   ],
   "source": [
    "if 'google.colab' in str(get_ipython()):\n",
    "    import sys\n",
    "    from google.colab import drive, output\n",
    "    drive.mount('/content/drive')\n",
    "\n",
    "    !pip install umap-learn\n",
    "    !pip install umap-learn[plot]\n",
    "    !pip install holoviews\n",
    "\n",
    "    !pip install joypy\n",
    "\n",
    "    output.clear()\n",
    "    print(\"Running on colab\")\n",
    "    %load_ext autoreload\n",
    "    %autoreload 1\n",
    "    %cd '/content/drive/MyDrive/PhD_Thesis_Experiments/DeepLearning/AutoEncoders/Project'\n",
    "    sys.path.append('/content/drive/MyDrive/PhD_Thesis_Experiments/DeepLearning/AutoEncoders/Project/Dataloader')\n",
    "    sys.path.append('/content/drive/MyDrive/PhD_Thesis_Experiments/DeepLearning/AutoEncoders/Project/Models')\n",
    "    sys.path.append('/content/drive/MyDrive/PhD_Thesis_Experiments/DeepLearning/AutoEncoders/Project/Modules')\n",
    "elif \"zmqshell\" in str(get_ipython()):\n",
    "    print(\"Running on MIRP\")\n",
    "    root = \"/home/mirp_ai/Documents/Daniel_Nieto/PhD/AutoEncoders_Ecoacoustics\"\n",
    "    root_path = \"/media/mirp_ai/Seagate Desktop Drive/Datos Rey Zamuro/Ultrasonido\"\n",
    "else:\n",
    "    import pathlib\n",
    "    temp = pathlib.PosixPath\n",
    "    pathlib.PosixPath = pathlib.WindowsPath\n",
    "    print(\"Running local\")"
   ]
  },
  {
   "cell_type": "code",
   "execution_count": 2,
   "id": "1686a54c",
   "metadata": {},
   "outputs": [
    {
     "name": "stdout",
     "output_type": "stream",
     "text": [
      "Requirement already satisfied: umap-learn in /home/mirp_ai/anaconda3/envs/DANM/lib/python3.10/site-packages (0.5.3)\n",
      "Requirement already satisfied: numpy>=1.17 in /home/mirp_ai/anaconda3/envs/DANM/lib/python3.10/site-packages (from umap-learn) (1.23.1)\n",
      "Requirement already satisfied: numba>=0.49 in /home/mirp_ai/anaconda3/envs/DANM/lib/python3.10/site-packages (from umap-learn) (0.58.0)\n",
      "Requirement already satisfied: tqdm in /home/mirp_ai/anaconda3/envs/DANM/lib/python3.10/site-packages (from umap-learn) (4.65.0)\n",
      "Requirement already satisfied: scipy>=1.0 in /home/mirp_ai/anaconda3/envs/DANM/lib/python3.10/site-packages (from umap-learn) (1.9.3)\n",
      "Requirement already satisfied: pynndescent>=0.5 in /home/mirp_ai/anaconda3/envs/DANM/lib/python3.10/site-packages (from umap-learn) (0.5.10)\n",
      "Requirement already satisfied: scikit-learn>=0.22 in /home/mirp_ai/anaconda3/envs/DANM/lib/python3.10/site-packages (from umap-learn) (1.1.3)\n",
      "Requirement already satisfied: llvmlite<0.42,>=0.41.0dev0 in /home/mirp_ai/anaconda3/envs/DANM/lib/python3.10/site-packages (from numba>=0.49->umap-learn) (0.41.1)\n",
      "Requirement already satisfied: joblib>=0.11 in /home/mirp_ai/anaconda3/envs/DANM/lib/python3.10/site-packages (from pynndescent>=0.5->umap-learn) (1.2.0)\n",
      "Requirement already satisfied: threadpoolctl>=2.0.0 in /home/mirp_ai/anaconda3/envs/DANM/lib/python3.10/site-packages (from scikit-learn>=0.22->umap-learn) (3.1.0)\n",
      "Requirement already satisfied: umap-learn[plot] in /home/mirp_ai/anaconda3/envs/DANM/lib/python3.10/site-packages (0.5.3)\n",
      "Requirement already satisfied: scikit-learn>=0.22 in /home/mirp_ai/anaconda3/envs/DANM/lib/python3.10/site-packages (from umap-learn[plot]) (1.1.3)\n",
      "Requirement already satisfied: numpy>=1.17 in /home/mirp_ai/anaconda3/envs/DANM/lib/python3.10/site-packages (from umap-learn[plot]) (1.23.1)\n",
      "Requirement already satisfied: scipy>=1.0 in /home/mirp_ai/anaconda3/envs/DANM/lib/python3.10/site-packages (from umap-learn[plot]) (1.9.3)\n",
      "Requirement already satisfied: tqdm in /home/mirp_ai/anaconda3/envs/DANM/lib/python3.10/site-packages (from umap-learn[plot]) (4.65.0)\n",
      "Requirement already satisfied: pynndescent>=0.5 in /home/mirp_ai/anaconda3/envs/DANM/lib/python3.10/site-packages (from umap-learn[plot]) (0.5.10)\n",
      "Requirement already satisfied: numba>=0.49 in /home/mirp_ai/anaconda3/envs/DANM/lib/python3.10/site-packages (from umap-learn[plot]) (0.58.0)\n",
      "Requirement already satisfied: colorcet in /home/mirp_ai/anaconda3/envs/DANM/lib/python3.10/site-packages (from umap-learn[plot]) (3.0.1)\n",
      "Requirement already satisfied: pandas in /home/mirp_ai/anaconda3/envs/DANM/lib/python3.10/site-packages (from umap-learn[plot]) (1.5.3)\n",
      "Requirement already satisfied: matplotlib in /home/mirp_ai/anaconda3/envs/DANM/lib/python3.10/site-packages (from umap-learn[plot]) (3.6.2)\n",
      "Requirement already satisfied: bokeh in /home/mirp_ai/anaconda3/envs/DANM/lib/python3.10/site-packages (from umap-learn[plot]) (3.1.1)\n",
      "Requirement already satisfied: scikit-image in /home/mirp_ai/anaconda3/envs/DANM/lib/python3.10/site-packages (from umap-learn[plot]) (0.21.0)\n",
      "Requirement already satisfied: holoviews in /home/mirp_ai/anaconda3/envs/DANM/lib/python3.10/site-packages (from umap-learn[plot]) (1.16.2)\n",
      "Requirement already satisfied: datashader in /home/mirp_ai/anaconda3/envs/DANM/lib/python3.10/site-packages (from umap-learn[plot]) (0.15.0)\n",
      "Requirement already satisfied: seaborn in /home/mirp_ai/anaconda3/envs/DANM/lib/python3.10/site-packages (from umap-learn[plot]) (0.12.2)\n",
      "Requirement already satisfied: llvmlite<0.42,>=0.41.0dev0 in /home/mirp_ai/anaconda3/envs/DANM/lib/python3.10/site-packages (from numba>=0.49->umap-learn[plot]) (0.41.1)\n",
      "Requirement already satisfied: joblib>=0.11 in /home/mirp_ai/anaconda3/envs/DANM/lib/python3.10/site-packages (from pynndescent>=0.5->umap-learn[plot]) (1.2.0)\n",
      "Requirement already satisfied: threadpoolctl>=2.0.0 in /home/mirp_ai/anaconda3/envs/DANM/lib/python3.10/site-packages (from scikit-learn>=0.22->umap-learn[plot]) (3.1.0)\n",
      "Requirement already satisfied: tornado>=5.1 in /home/mirp_ai/anaconda3/envs/DANM/lib/python3.10/site-packages (from bokeh->umap-learn[plot]) (6.2)\n",
      "Requirement already satisfied: PyYAML>=3.10 in /home/mirp_ai/anaconda3/envs/DANM/lib/python3.10/site-packages (from bokeh->umap-learn[plot]) (6.0)\n",
      "Requirement already satisfied: xyzservices>=2021.09.1 in /home/mirp_ai/anaconda3/envs/DANM/lib/python3.10/site-packages (from bokeh->umap-learn[plot]) (2023.5.0)\n",
      "Requirement already satisfied: Jinja2>=2.9 in /home/mirp_ai/anaconda3/envs/DANM/lib/python3.10/site-packages (from bokeh->umap-learn[plot]) (3.1.2)\n",
      "Requirement already satisfied: contourpy>=1 in /home/mirp_ai/anaconda3/envs/DANM/lib/python3.10/site-packages (from bokeh->umap-learn[plot]) (1.0.6)\n",
      "Requirement already satisfied: packaging>=16.8 in /home/mirp_ai/anaconda3/envs/DANM/lib/python3.10/site-packages (from bokeh->umap-learn[plot]) (21.3)\n",
      "Requirement already satisfied: pillow>=7.1.0 in /home/mirp_ai/anaconda3/envs/DANM/lib/python3.10/site-packages (from bokeh->umap-learn[plot]) (9.3.0)\n",
      "Requirement already satisfied: pytz>=2020.1 in /home/mirp_ai/anaconda3/envs/DANM/lib/python3.10/site-packages (from pandas->umap-learn[plot]) (2022.1)\n",
      "Requirement already satisfied: python-dateutil>=2.8.1 in /home/mirp_ai/anaconda3/envs/DANM/lib/python3.10/site-packages (from pandas->umap-learn[plot]) (2.8.2)\n",
      "Requirement already satisfied: pyct>=0.4.4 in /home/mirp_ai/anaconda3/envs/DANM/lib/python3.10/site-packages (from colorcet->umap-learn[plot]) (0.5.0)\n",
      "Requirement already satisfied: dask in /home/mirp_ai/anaconda3/envs/DANM/lib/python3.10/site-packages (from datashader->umap-learn[plot]) (2023.6.1)\n",
      "Requirement already satisfied: datashape in /home/mirp_ai/anaconda3/envs/DANM/lib/python3.10/site-packages (from datashader->umap-learn[plot]) (0.5.2)\n",
      "Requirement already satisfied: toolz in /home/mirp_ai/anaconda3/envs/DANM/lib/python3.10/site-packages (from datashader->umap-learn[plot]) (0.12.0)\n",
      "Requirement already satisfied: requests in /home/mirp_ai/anaconda3/envs/DANM/lib/python3.10/site-packages (from datashader->umap-learn[plot]) (2.28.1)\n",
      "Requirement already satisfied: xarray in /home/mirp_ai/anaconda3/envs/DANM/lib/python3.10/site-packages (from datashader->umap-learn[plot]) (2023.6.0)\n",
      "Requirement already satisfied: param in /home/mirp_ai/anaconda3/envs/DANM/lib/python3.10/site-packages (from datashader->umap-learn[plot]) (1.13.0)\n",
      "Requirement already satisfied: panel>=0.13.1 in /home/mirp_ai/anaconda3/envs/DANM/lib/python3.10/site-packages (from holoviews->umap-learn[plot]) (1.1.1)\n",
      "Requirement already satisfied: pyviz-comms>=0.7.4 in /home/mirp_ai/anaconda3/envs/DANM/lib/python3.10/site-packages (from holoviews->umap-learn[plot]) (2.3.2)\n",
      "Requirement already satisfied: kiwisolver>=1.0.1 in /home/mirp_ai/anaconda3/envs/DANM/lib/python3.10/site-packages (from matplotlib->umap-learn[plot]) (1.4.4)\n",
      "Requirement already satisfied: pyparsing>=2.2.1 in /home/mirp_ai/anaconda3/envs/DANM/lib/python3.10/site-packages (from matplotlib->umap-learn[plot]) (3.0.9)\n",
      "Requirement already satisfied: fonttools>=4.22.0 in /home/mirp_ai/anaconda3/envs/DANM/lib/python3.10/site-packages (from matplotlib->umap-learn[plot]) (4.38.0)\n",
      "Requirement already satisfied: cycler>=0.10 in /home/mirp_ai/anaconda3/envs/DANM/lib/python3.10/site-packages (from matplotlib->umap-learn[plot]) (0.11.0)\n",
      "Requirement already satisfied: networkx>=2.8 in /home/mirp_ai/anaconda3/envs/DANM/lib/python3.10/site-packages (from scikit-image->umap-learn[plot]) (3.1)\n",
      "Requirement already satisfied: tifffile>=2022.8.12 in /home/mirp_ai/anaconda3/envs/DANM/lib/python3.10/site-packages (from scikit-image->umap-learn[plot]) (2023.4.12)\n",
      "Requirement already satisfied: imageio>=2.27 in /home/mirp_ai/anaconda3/envs/DANM/lib/python3.10/site-packages (from scikit-image->umap-learn[plot]) (2.31.1)\n",
      "Requirement already satisfied: lazy_loader>=0.2 in /home/mirp_ai/anaconda3/envs/DANM/lib/python3.10/site-packages (from scikit-image->umap-learn[plot]) (0.2)\n",
      "Requirement already satisfied: PyWavelets>=1.1.1 in /home/mirp_ai/anaconda3/envs/DANM/lib/python3.10/site-packages (from scikit-image->umap-learn[plot]) (1.4.1)\n",
      "Requirement already satisfied: MarkupSafe>=2.0 in /home/mirp_ai/anaconda3/envs/DANM/lib/python3.10/site-packages (from Jinja2>=2.9->bokeh->umap-learn[plot]) (2.1.1)\n"
     ]
    },
    {
     "name": "stdout",
     "output_type": "stream",
     "text": [
      "Requirement already satisfied: bleach in /home/mirp_ai/anaconda3/envs/DANM/lib/python3.10/site-packages (from panel>=0.13.1->holoviews->umap-learn[plot]) (4.1.0)\n",
      "Requirement already satisfied: markdown in /home/mirp_ai/anaconda3/envs/DANM/lib/python3.10/site-packages (from panel>=0.13.1->holoviews->umap-learn[plot]) (3.4.3)\n",
      "Requirement already satisfied: linkify-it-py in /home/mirp_ai/anaconda3/envs/DANM/lib/python3.10/site-packages (from panel>=0.13.1->holoviews->umap-learn[plot]) (2.0.2)\n",
      "Requirement already satisfied: markdown-it-py<3 in /home/mirp_ai/anaconda3/envs/DANM/lib/python3.10/site-packages (from panel>=0.13.1->holoviews->umap-learn[plot]) (2.2.0)\n",
      "Requirement already satisfied: mdit-py-plugins in /home/mirp_ai/anaconda3/envs/DANM/lib/python3.10/site-packages (from panel>=0.13.1->holoviews->umap-learn[plot]) (0.4.0)\n",
      "Requirement already satisfied: typing-extensions in /home/mirp_ai/anaconda3/envs/DANM/lib/python3.10/site-packages (from panel>=0.13.1->holoviews->umap-learn[plot]) (4.3.0)\n",
      "Requirement already satisfied: six>=1.5 in /home/mirp_ai/anaconda3/envs/DANM/lib/python3.10/site-packages (from python-dateutil>=2.8.1->pandas->umap-learn[plot]) (1.16.0)\n",
      "Requirement already satisfied: cloudpickle>=1.5.0 in /home/mirp_ai/anaconda3/envs/DANM/lib/python3.10/site-packages (from dask->datashader->umap-learn[plot]) (2.2.1)\n",
      "Requirement already satisfied: importlib-metadata>=4.13.0 in /home/mirp_ai/anaconda3/envs/DANM/lib/python3.10/site-packages (from dask->datashader->umap-learn[plot]) (6.7.0)\n",
      "Requirement already satisfied: fsspec>=2021.09.0 in /home/mirp_ai/anaconda3/envs/DANM/lib/python3.10/site-packages (from dask->datashader->umap-learn[plot]) (2023.6.0)\n",
      "Requirement already satisfied: click>=8.0 in /home/mirp_ai/anaconda3/envs/DANM/lib/python3.10/site-packages (from dask->datashader->umap-learn[plot]) (8.1.3)\n",
      "Requirement already satisfied: partd>=1.2.0 in /home/mirp_ai/anaconda3/envs/DANM/lib/python3.10/site-packages (from dask->datashader->umap-learn[plot]) (1.4.0)\n",
      "Requirement already satisfied: multipledispatch>=0.4.7 in /home/mirp_ai/anaconda3/envs/DANM/lib/python3.10/site-packages (from datashape->datashader->umap-learn[plot]) (1.0.0)\n",
      "Requirement already satisfied: certifi>=2017.4.17 in /home/mirp_ai/anaconda3/envs/DANM/lib/python3.10/site-packages (from requests->datashader->umap-learn[plot]) (2022.9.24)\n",
      "Requirement already satisfied: idna<4,>=2.5 in /home/mirp_ai/anaconda3/envs/DANM/lib/python3.10/site-packages (from requests->datashader->umap-learn[plot]) (3.4)\n",
      "Requirement already satisfied: charset-normalizer<3,>=2 in /home/mirp_ai/anaconda3/envs/DANM/lib/python3.10/site-packages (from requests->datashader->umap-learn[plot]) (2.0.4)\n",
      "Requirement already satisfied: urllib3<1.27,>=1.21.1 in /home/mirp_ai/anaconda3/envs/DANM/lib/python3.10/site-packages (from requests->datashader->umap-learn[plot]) (1.26.12)\n",
      "Requirement already satisfied: zipp>=0.5 in /home/mirp_ai/anaconda3/envs/DANM/lib/python3.10/site-packages (from importlib-metadata>=4.13.0->dask->datashader->umap-learn[plot]) (3.15.0)\n",
      "Requirement already satisfied: mdurl~=0.1 in /home/mirp_ai/anaconda3/envs/DANM/lib/python3.10/site-packages (from markdown-it-py<3->panel>=0.13.1->holoviews->umap-learn[plot]) (0.1.2)\n",
      "Requirement already satisfied: locket in /home/mirp_ai/anaconda3/envs/DANM/lib/python3.10/site-packages (from partd>=1.2.0->dask->datashader->umap-learn[plot]) (1.0.0)\n",
      "Requirement already satisfied: webencodings in /home/mirp_ai/anaconda3/envs/DANM/lib/python3.10/site-packages (from bleach->panel>=0.13.1->holoviews->umap-learn[plot]) (0.5.1)\n",
      "Requirement already satisfied: uc-micro-py in /home/mirp_ai/anaconda3/envs/DANM/lib/python3.10/site-packages (from linkify-it-py->panel>=0.13.1->holoviews->umap-learn[plot]) (1.0.2)\n"
     ]
    },
    {
     "name": "stderr",
     "output_type": "stream",
     "text": [
      "/home/mirp_ai/anaconda3/envs/DANM/lib/python3.10/site-packages/umap/distances.py:1063: NumbaDeprecationWarning: The 'nopython' keyword argument was not supplied to the 'numba.jit' decorator. The implicit default value for this argument is currently False, but it will be changed to True in Numba 0.59.0. See https://numba.readthedocs.io/en/stable/reference/deprecation.html#deprecation-of-object-mode-fall-back-behaviour-when-using-jit for details.\n",
      "  @numba.jit()\n",
      "/home/mirp_ai/anaconda3/envs/DANM/lib/python3.10/site-packages/umap/distances.py:1071: NumbaDeprecationWarning: The 'nopython' keyword argument was not supplied to the 'numba.jit' decorator. The implicit default value for this argument is currently False, but it will be changed to True in Numba 0.59.0. See https://numba.readthedocs.io/en/stable/reference/deprecation.html#deprecation-of-object-mode-fall-back-behaviour-when-using-jit for details.\n",
      "  @numba.jit()\n",
      "/home/mirp_ai/anaconda3/envs/DANM/lib/python3.10/site-packages/umap/distances.py:1086: NumbaDeprecationWarning: The 'nopython' keyword argument was not supplied to the 'numba.jit' decorator. The implicit default value for this argument is currently False, but it will be changed to True in Numba 0.59.0. See https://numba.readthedocs.io/en/stable/reference/deprecation.html#deprecation-of-object-mode-fall-back-behaviour-when-using-jit for details.\n",
      "  @numba.jit()\n",
      "/home/mirp_ai/anaconda3/envs/DANM/lib/python3.10/site-packages/umap/umap_.py:660: NumbaDeprecationWarning: The 'nopython' keyword argument was not supplied to the 'numba.jit' decorator. The implicit default value for this argument is currently False, but it will be changed to True in Numba 0.59.0. See https://numba.readthedocs.io/en/stable/reference/deprecation.html#deprecation-of-object-mode-fall-back-behaviour-when-using-jit for details.\n",
      "  @numba.jit()\n"
     ]
    },
    {
     "data": {
      "text/plain": [
       "35139"
      ]
     },
     "execution_count": 2,
     "metadata": {},
     "output_type": "execute_result"
    }
   ],
   "source": [
    "import os\n",
    "import matplotlib.pyplot as plt\n",
    "import seaborn as sns\n",
    "import numpy as np\n",
    "\n",
    "from six.moves import xrange\n",
    "import datetime\n",
    "import gc\n",
    "import pandas as pd\n",
    "import joypy\n",
    "\n",
    "from scipy import signal\n",
    "from sklearn.preprocessing import StandardScaler\n",
    "from sklearn.preprocessing import MinMaxScaler as Normalizer\n",
    "\n",
    "import torch\n",
    "import torch.nn as nn\n",
    "import torch.nn.functional as F\n",
    "from torch.utils.data import DataLoader\n",
    "from torch.utils.data import random_split\n",
    "import torch.optim as optim\n",
    "from torch.optim import lr_scheduler\n",
    "import torchvision.datasets as datasets\n",
    "import torchvision.transforms as transforms\n",
    "from torchvision.utils import make_grid\n",
    "import torchaudio.transforms as audio_transform\n",
    "\n",
    "\n",
    "#from ResidualStack import ResidualStack\n",
    "#from Residual import Residual\n",
    "\n",
    "from Jaguas_DataLoader_rainless import SoundscapeData\n",
    "from Models import ConvAE as AE\n",
    "from AE_training_functions import TestModel, TrainModel\n",
    "from AE_Clustering import AE_Clustering \n",
    "\n",
    "device = torch.device(\"cuda\" if torch.cuda.is_available() else \"cpu\")\n",
    "#device = xm.xla_device()\n",
    "\n",
    "from datetime import timedelta\n",
    "import wandb\n",
    "from wandb import AlertLevel\n",
    "\n",
    "!pip install umap-learn\n",
    "!pip install umap-learn[plot]\n",
    "import umap\n",
    "from sklearn.manifold import TSNE\n",
    "from sklearn.decomposition import PCA\n",
    "\n",
    "import seaborn as sns\n",
    "import pickle as pkl\n",
    "\n",
    "import random\n",
    "def _set_seed(seed: int):\n",
    "    \"\"\"\n",
    "    Helper function for reproducible behavior to set the seed in ``random``, ``numpy``, ``torch`` and/or ``tf`` (if\n",
    "    installed).\n",
    " \n",
    "    Args:\n",
    "        seed (:obj:`int`): The seed to set.\n",
    "    \"\"\"\n",
    "    random.seed(seed)\n",
    "    np.random.seed(seed)\n",
    "    if torch.cuda.is_available():\n",
    "        torch.manual_seed(seed)\n",
    "        torch.cuda.manual_seed_all(seed)\n",
    "        # ^^ safe to call this function even if cuda is not available\n",
    "_set_seed(1024)\n",
    "\n",
    "gc.collect()"
   ]
  },
  {
   "cell_type": "code",
   "execution_count": 3,
   "id": "ff57580c",
   "metadata": {},
   "outputs": [],
   "source": [
    "model_type = \"AE\"\n",
    "identifier = \"batch_size_14_num_hiddens_64_\"\n",
    "day = 4\n",
    "hour = 9\n",
    "date_format = f\"day_{day}_hour_{hour}\"\n",
    "\n",
    "# y = torch.load(f\"temporal_zamuro/Features/{folder}/AE_labels_{date_format}_No_rain_Audios_Jaguas.pth\",  map_location=torch.device('cpu'))\n",
    "# X = torch.load(f\"{root}/Zamuro/temporal_zamuro/Features/AE_features_Zamuro.pth\",  map_location=torch.device('cpu'))\n",
    "X_ae_norm = np.load(f\"temporal_zamuro/Features/X_ae_norm.pth.npy\")\n",
    "y_ae = np.load(f\"temporal_zamuro/Features/y_ae.pth.npy\")\n",
    "audios = pd.read_csv(f\"Complementary_Files/zamuro_audios.csv\", index_col=0)\n",
    "recorders = pd.read_csv(f\"Complementary_Files/zamuro_recorders.csv\")\n",
    "# y_path = torch.load(f\"{root}/Zamuro/temporal_zamuro/Features/AE_test_path_samples_Zamuro.pth\",  map_location=torch.device('cpu'))\n",
    "# path_flat = [item for sublist in y_path for item in sublist]\n",
    "# path_flat = np.asarray(path_flat)\n",
    "\n"
   ]
  },
  {
   "cell_type": "code",
   "execution_count": 4,
   "id": "23399567",
   "metadata": {},
   "outputs": [],
   "source": [
    "from datetime import datetime, time\n",
    "def obtener_hora(row):\n",
    "    hora_str = row['name_FI'].split('_')[1]  # Obtener la parte de la hora\n",
    "    hora = time(hour=int(hora_str[:2]), minute=int(hora_str[2:4]), second=int(hora_str[4:6]))\n",
    "    return hora\n",
    "\n",
    "# Aplicar la función a cada fila y crear una nueva columna 'hora'\n",
    "audios['hora'] = audios.apply(obtener_hora, axis=1)\n"
   ]
  },
  {
   "cell_type": "code",
   "execution_count": 5,
   "id": "a6eb0728",
   "metadata": {},
   "outputs": [],
   "source": [
    "from sklearn.preprocessing import LabelEncoder\n",
    "y_hora = []\n",
    "y_site = []\n",
    "y_cover = []\n",
    "for i in range(len(y_ae)):\n",
    "    y_hora.append(int(y_ae[i].split(\"_\")[2][0:2]))\n",
    "    y_site.append(y_ae[i].split(\"_\")[0])\n",
    "    y_cover.append(recorders[recorders[\"field_number_PR\"] == y_ae[i].split(\"_\")[0]][\"cover\"].values[0])\n",
    "    \n",
    "encoder = LabelEncoder()\n",
    "y_site = encoder.fit_transform(y_site)\n",
    "y_cover = encoder.fit_transform(y_cover)"
   ]
  },
  {
   "cell_type": "code",
   "execution_count": 6,
   "id": "37ea270c",
   "metadata": {},
   "outputs": [],
   "source": [
    "tasa_submuestreo = 0.2\n",
    "\n",
    "# Obtener el número de muestras a submuestrear\n",
    "num_muestras_submuestreadas = int(len(X_ae_norm) * tasa_submuestreo)\n",
    "\n",
    "# Generar índices aleatorios sin reemplazo\n",
    "indices_submuestreo = np.random.choice(len(X_ae_norm), num_muestras_submuestreadas, replace=False)\n",
    "\n",
    "X_norm = X_ae_norm[indices_submuestreo]\n",
    "y_n = [y_cover[i] for i in indices_submuestreo]"
   ]
  },
  {
   "cell_type": "code",
   "execution_count": 7,
   "id": "0a7bda26",
   "metadata": {},
   "outputs": [],
   "source": [
    "def projector(data, y=None, method=\"PCA\", n_components=2, random_state=0, **kwargs):\n",
    "    \n",
    "    if method == \"PCA\":\n",
    "        X = PCA(n_components=n_components, random_state=0).fit_transform(data)\n",
    "    elif method == \"ICA\":\n",
    "        X = FastICA(n_components=n_components,\n",
    "                    random_state=0).fit_transform(data)\n",
    "    elif method == \"tSNE\":\n",
    "        X = TSNE(n_components=n_components, learning_rate=kwargs[\"learning_rate\"],\n",
    "                 init=kwargs[\"init\"], random_state=random_state,\n",
    "                 n_jobs=kwargs[\"n_jobs\"]).fit_transform(X_PCA)\n",
    "        \n",
    "    elif method == \"UMAP\":\n",
    "        reducer = umap.UMAP(n_components=n_components, min_dist=kwargs[\"min_dist\"],\n",
    "                            metric=kwargs[\"metric\"], n_neighbors=kwargs[\"n_neighbors\"],\n",
    "                            random_state=random_state, n_jobs=kwargs[\"n_jobs\"])\n",
    "        X = reducer.fit_transform(data)\n",
    "    return X"
   ]
  },
  {
   "cell_type": "markdown",
   "id": "95c7e66a",
   "metadata": {},
   "source": [
    "### UMAP grid search\n",
    "- https://pair-code.github.io/understanding-umap/\n",
    "- Pre-selected params are: 0.1-60, 0.5-60, 0.5-180 and 1-60"
   ]
  },
  {
   "cell_type": "code",
   "execution_count": null,
   "id": "df0aad82",
   "metadata": {},
   "outputs": [],
   "source": [
    "etiquetas = y_n\n",
    "recuento_etiquetas = {}\n",
    "for etiqueta in etiquetas:\n",
    "    if etiqueta in recuento_etiquetas:\n",
    "        recuento_etiquetas[etiqueta] += 1\n",
    "    else:\n",
    "        recuento_etiquetas[etiqueta] = 1\n",
    "\n",
    "# Mostramos el recuento de cada etiqueta\n",
    "for etiqueta, recuento in recuento_etiquetas.items():\n",
    "    print(f\"Etiqueta '{etiqueta}': {recuento} muestras\")"
   ]
  },
  {
   "cell_type": "code",
   "execution_count": null,
   "id": "57eb2849",
   "metadata": {},
   "outputs": [],
   "source": [
    "min_dist = 0.1\n",
    "n_neighbor = 180\n",
    "metric = \"euclidean\"\n",
    "n_components = [2, 15, 30, 45, 60]\n",
    "\n",
    "for i,component in enumerate(n_components):\n",
    "    print(f\"Running {component} components. Iteration {i+1} of {len(n_components)}\")\n",
    "    X_projected = projector(X_ae_norm, method=\"UMAP\", \n",
    "                                 min_dist=min_dist,\n",
    "                                 n_neighbors=n_neighbor,\n",
    "                                 metric=metric, n_components=component, n_jobs=-1)\n",
    "\n",
    "    np.save(f'temporal_zamuro/Features/X_ae_norm_UMAP_full_{component}D.npy', X_projected)"
   ]
  },
  {
   "cell_type": "markdown",
   "id": "35d1ee0e",
   "metadata": {},
   "source": [
    "### Interactive 2D"
   ]
  },
  {
   "cell_type": "code",
   "execution_count": null,
   "id": "4c6bf8c0",
   "metadata": {
    "scrolled": false
   },
   "outputs": [],
   "source": [
    "import plotly.graph_objs as go\n",
    "import plotly.io as pio\n",
    "\n",
    "\n",
    "# Crear la figura interactiva\n",
    "fig = go.Figure()\n",
    "\n",
    "# Agregar los puntos a la figura para cada par de componentes\n",
    "for i in range(0, 30, 2):\n",
    "    fig.add_trace(go.Scatter(\n",
    "        x=X_projected_30d[:, i],\n",
    "        y=X_projected_30d[:, i+1],\n",
    "        mode='markers',\n",
    "        marker=dict(\n",
    "            size=1,\n",
    "            color=y_n,\n",
    "            colorscale='Viridis',\n",
    "            opacity=1\n",
    "        ),\n",
    "        name=f'Componentes {i+1}-{i+2}'\n",
    "    ))\n",
    "\n",
    "# Establecer el diseño del gráfico\n",
    "fig.update_layout(\n",
    "    xaxis_title='UMAP Component 1',\n",
    "    yaxis_title='UMAP Component 2',\n",
    "    title='UMAP Projection in 2D with All Component Pairs (30 components)'\n",
    ")\n",
    "\n",
    "# Guardar la figura como un archivo HTML interactivo\n",
    "# pio.write_html(fig, 'umap_projection_2d_all_pairs_30_components_interactive.html')\n",
    "\n",
    "# Mostrar la figura interactiva\n",
    "fig.show()"
   ]
  },
  {
   "cell_type": "markdown",
   "id": "94c98130",
   "metadata": {},
   "source": [
    "### Interactive 3D"
   ]
  },
  {
   "cell_type": "code",
   "execution_count": null,
   "id": "30d246c0",
   "metadata": {},
   "outputs": [],
   "source": [
    "import plotly.graph_objs as go\n",
    "import plotly.io as pio\n",
    "\n",
    "min_dist = 0.5\n",
    "n_neighbor = 180\n",
    "metric = \"euclidean\"\n",
    "\n",
    "\n",
    "# Crear la figura interactiva\n",
    "fig = go.Figure()\n",
    "\n",
    "# Agregar los puntos a la figura\n",
    "for i in range(0, 30, 3):\n",
    "    fig.add_trace(go.Scatter3d(\n",
    "        x=X_projected_30d[:, i],\n",
    "        y=X_projected_30d[:, i+1],\n",
    "        z=X_projected_30d[:, i+2],\n",
    "        mode='markers',\n",
    "        marker=dict(\n",
    "            size=1,\n",
    "            color=y_n,\n",
    "            colorscale='Viridis',\n",
    "            opacity=0.5\n",
    "        ),\n",
    "        name=f'Componentes {i+1}-{i+3}'\n",
    "    ))\n",
    "\n",
    "# Establecer el diseño de la escena\n",
    "fig.update_layout(\n",
    "    scene=dict(\n",
    "        xaxis_title='X',\n",
    "        yaxis_title='Y',\n",
    "        zaxis_title='Z'\n",
    "    ),\n",
    "    title='UMAP Projection in 3D with 30 components'\n",
    ")\n",
    "\n",
    "# Guardar la figura como un archivo HTML interactivo\n",
    "pio.write_html(fig, 'umap_projection_3d_18_components_interactive5.html')\n",
    "\n",
    "# Mostrar la figura interactiva\n",
    "fig.show()\n"
   ]
  },
  {
   "cell_type": "code",
   "execution_count": null,
   "id": "5bdeb749",
   "metadata": {},
   "outputs": [],
   "source": [
    "metrics = [\"euclidean\", \"minkowski\", \"correlation\"]\n",
    "min_dists = [0.1, 0.5, 1]\n",
    "n_neighbors = [15, 60, 180, 512]\n",
    "\n",
    "label_mapping = {valor: f\"Clase {valor}\" for valor in np.unique(y_n)}\n",
    "\n",
    "for metric in metrics:\n",
    "    for min_dist in min_dists:\n",
    "        for n_neighbor in n_neighbors:\n",
    "            print(f\"iterating with: \\n metric: {metric} \\n min_dist: {min_dist}, \\n n_neighbors: {n_neighbor}\")\n",
    "            X_projected = projector(X_ae_norm, method=\"UMAP\", \n",
    "                                    min_dist=min_dist,\n",
    "                                    n_neighbors=n_neighbor,\n",
    "                                    metric=metric, n_jobs=-1)\n",
    "            labels = [label_mapping[valor] for valor in y_n]\n",
    "            plt.scatter(X_projected[:,0], X_projected[:,1],alpha=0.5, s=0.1, c=y_n, label=labels)\n",
    "#             plt.legend()\n",
    "#             plt.savefig(f\"temporal_zamuro/zamuro_projections/hour/UMAP_metric-{metric}_mindist-{min_dist}_nneighbors-{n_neighbor}.pdf\")\n",
    "            plt.show()\n",
    "       "
   ]
  },
  {
   "cell_type": "markdown",
   "id": "2c7c99bd",
   "metadata": {},
   "source": [
    "### Connectivity"
   ]
  },
  {
   "cell_type": "code",
   "execution_count": null,
   "id": "5da65380",
   "metadata": {},
   "outputs": [],
   "source": [
    "mapper = umap.UMAP(n_components=2, min_dist=0.1,\n",
    "                            metric=\"euclidean\", n_neighbors=256,\n",
    "                            random_state=0, n_jobs=-1).fit(X_norm)\n",
    "X_projected = mapper.transform(X_norm)"
   ]
  },
  {
   "cell_type": "code",
   "execution_count": null,
   "id": "eca96438",
   "metadata": {},
   "outputs": [],
   "source": [
    "import umap.plot\n",
    "umap.plot.connectivity(mapper, show_points=True, edge_bundling='hammer')"
   ]
  },
  {
   "cell_type": "code",
   "execution_count": null,
   "id": "057ddafc",
   "metadata": {
    "scrolled": true
   },
   "outputs": [],
   "source": [
    "import umap.plot\n",
    "metrics = [\"euclidean\"]\n",
    "min_dists = [0.01, 0.05, 0.1]\n",
    "n_neighbors = [180]\n",
    "\n",
    "labels = np.asarray(y_n)\n",
    "\n",
    "for metric in metrics:\n",
    "    for min_dist in min_dists:\n",
    "        for n_neighbor in n_neighbors:\n",
    "            print(f\"iterating with: \\n metric: {metric} \\n min_dist: {min_dist}, \\n n_neighbors: {n_neighbor}\")\n",
    "            mapper = umap.UMAP(n_components=2, min_dist=min_dist,\n",
    "                            metric=metric, n_neighbors=n_neighbor,\n",
    "                            random_state=0, n_jobs=-1).fit(X_norm)\n",
    "            X_projected = mapper.transform(X_norm)\n",
    "            y_n = [y_hora[i] for i in indices_submuestreo]\n",
    "            labels = np.asarray(y_n)\n",
    "            umap.plot.connectivity(mapper, show_points=True, labels=labels, theme= \"viridis\", edge_bundling='hammer')\n",
    "            plt.savefig(f\"temporal_zamuro/zamuro_projections/connectivity/hour/UMAP_connectivity_metric-{metric}_mindist-{min_dist}_nneighbors-{n_neighbor}_hammer.pdf\")\n",
    "            plt.show()            \n",
    "            y_n = [y_site[i] for i in indices_submuestreo]\n",
    "            labels = np.asarray(y_n)\n",
    "            umap.plot.connectivity(mapper, show_points=True, labels=labels, theme= \"viridis\", edge_bundling='hammer')\n",
    "            plt.savefig(f\"temporal_zamuro/zamuro_projections/connectivity/site/UMAP_connectivity_metric-{metric}_mindist-{min_dist}_nneighbors-{n_neighbor}_hammer.pdf\")\n",
    "            plt.show()            \n",
    "            y_n = [y_cover[i] for i in indices_submuestreo]\n",
    "            labels = np.asarray(y_n)\n",
    "            umap.plot.connectivity(mapper, show_points=True, labels=labels, theme= \"viridis\", edge_bundling='hammer')\n",
    "            plt.savefig(f\"temporal_zamuro/zamuro_projections/connectivity/cover/UMAP_connectivity_metric-{metric}_mindist-{min_dist}_nneighbors-{n_neighbor}_hammer.pdf\")\n",
    "            plt.show()"
   ]
  },
  {
   "cell_type": "code",
   "execution_count": null,
   "id": "cdc11c95",
   "metadata": {},
   "outputs": [],
   "source": [
    "import numpy as np\n",
    "import umap.plot\n",
    "\n",
    "for i in range(10):\n",
    "    selected_labels = np.random.choice(np.unique(y_site), size=10, replace=False)\n",
    "\n",
    "    selected_indices = np.where(np.isin(y_site, selected_labels))[0]\n",
    "\n",
    "    sample_size = int(1 * len(selected_indices))\n",
    "\n",
    "    subsample_indices = np.random.choice(selected_indices, size=sample_size, replace=False)\n",
    "\n",
    "    # Submuestrear los datos\n",
    "    X_norm = X_ae_norm[subsample_indices]\n",
    "    y_site_subsampled = y_site[subsample_indices]\n",
    "\n",
    "    mapper = umap.UMAP(n_components=2, min_dist=0.5,\n",
    "                                metric=\"euclidean\", n_neighbors=180,\n",
    "                                random_state=0, n_jobs=-1).fit(X_norm, y=y_site_subsampled)\n",
    "    X_projected = mapper.transform(X_norm)\n",
    "    y_n = y_site_subsampled\n",
    "    labels = np.asarray(y_n)\n",
    "    umap.plot.connectivity(mapper, show_points=True, labels=labels, theme= \"viridis\")\n",
    "    plt.savefig(f\"temporal_zamuro/zamuro_projections/connectivity/site_subsampled_guided/UMAP_connectivity_metric-{mapper.metric}_mindist-{mapper.min_dist}_nneighbors-{mapper.n_neighbors}_{i}.pdf\")\n",
    "    plt.show()\n",
    "    umap.plot.points(mapper, labels=labels, theme= \"viridis\", alpha=0.2 )\n",
    "    plt.savefig(f\"temporal_zamuro/zamuro_projections/connectivity/site_subsampled_guided/UMAP_points_metric-{mapper.metric}_mindist-{mapper.min_dist}_nneighbors-{mapper.n_neighbors}_{i}.pdf\")\n",
    "    plt.show()\n"
   ]
  },
  {
   "cell_type": "code",
   "execution_count": null,
   "id": "f9b341dc",
   "metadata": {},
   "outputs": [],
   "source": [
    "# Submuestrear los datos\n",
    "X_norm = X_ae_norm[subsample_indices]\n",
    "y_site_subsampled = y_site[subsample_indices]\n",
    "\n",
    "mapper = umap.UMAP(n_components=2, min_dist=0.1,\n",
    "                            metric=\"euclidean\", n_neighbors=180,\n",
    "                            random_state=0, n_jobs=-1).fit(X_norm)\n",
    "X_projected = mapper.transform(X_norm)\n",
    "y_n = y_site_subsampled\n",
    "labels = np.asarray(y_n)\n",
    "umap.plot.connectivity(mapper, show_points=True, labels=labels, theme= \"viridis\")\n",
    "plt.savefig(f\"temporal_zamuro/zamuro_projections/connectivity/hour/UMAP_connectivity_metric-{metric}_mindist-{min_dist}_nneighbors-{n_neighbor}_hammer.pdf\")\n",
    "plt.show()    \n"
   ]
  },
  {
   "cell_type": "code",
   "execution_count": null,
   "id": "58bfba2d",
   "metadata": {},
   "outputs": [],
   "source": [
    "mapper.\n",
    "#https://www.researchgate.net/publication/353863256_Clustering_with_UMAP_Why_and_How_Connectivity_Matters"
   ]
  },
  {
   "cell_type": "code",
   "execution_count": null,
   "id": "ac1e2a1c",
   "metadata": {},
   "outputs": [],
   "source": [
    "mapper = umap.UMAP(n_components=2, min_dist=0.6,\n",
    "                            metric=\"euclidean\", n_neighbors=180,\n",
    "                            random_state=0, n_jobs=-1).fit(X_norm, y=y_n)\n",
    "umap.plot.points(mapper, labels=labels, theme= \"viridis\", alpha=0.2 )\n",
    "umap.plot.connectivity(mapper, show_points=True, labels=labels, theme= \"viridis\")\n"
   ]
  },
  {
   "cell_type": "code",
   "execution_count": null,
   "id": "d5ef65af",
   "metadata": {},
   "outputs": [],
   "source": [
    "import umap.plot\n",
    "y_n = [y_cover[i] for i in indices_submuestreo]\n",
    "labels = np.asarray(y_n)\n",
    "umap.plot.points(mapper, labels=labels, theme= \"viridis\")\n",
    "plt.savefig(\"pruebaaa_cover2\")"
   ]
  },
  {
   "cell_type": "code",
   "execution_count": null,
   "id": "78f19d2e",
   "metadata": {},
   "outputs": [],
   "source": [
    "import umap.plot\n",
    "umap.plot.connectivity(mapper, show_points=True, labels=labels, theme=\"viridis\")\n",
    "plt.savefig(\"connectivity_pruebaaa_sites2\")"
   ]
  },
  {
   "cell_type": "markdown",
   "id": "b64aba9e",
   "metadata": {},
   "source": [
    "### PACMAP"
   ]
  },
  {
   "cell_type": "code",
   "execution_count": null,
   "id": "ec8a44c3",
   "metadata": {
    "scrolled": true
   },
   "outputs": [],
   "source": [
    "import pacmap\n",
    "import time\n",
    "FP_ratios = [0.5, 1, 5, 10, 20, 50]\n",
    "MN_ratios = [0.1, 0.3, 0.5, 0.7, 1]\n",
    "n_neighbors = [15, 60, 180]\n",
    "# y_n = [y_cover[i] for i in indices_submuestreo]\n",
    "exec_times = []\n",
    "for FP_ratio in FP_ratios:\n",
    "    for MN_ratio in MN_ratios:\n",
    "        for n_neighbor in n_neighbors:\n",
    "            init_time = time.time()\n",
    "            print(f\"Running FP Ratio: {FP_ratio}, MN Ratio: {MN_ratio}, n_neighbors: {n_neighbor}\")\n",
    "            embedded = pacmap.PaCMAP(n_components=2, n_neighbors=n_neighbor, MN_ratio=MN_ratio, FP_ratio=FP_ratio) \n",
    "            X_pacmap = embedded.fit_transform(X_norm, init=\"pca\")\n",
    "            fig, ax = plt.subplots(1, 1, figsize=(6, 6))\n",
    "            ax.scatter(X_pacmap[:, 0], X_pacmap[:, 1], cmap=\"viridis\", s=0.01, alpha=0.5)\n",
    "            plt.savefig(f\"temporal_zamuro/zamuro_projections/PACMAP/PACMAP_MNratio-{MN_ratio}_nneighbors-{n_neighbor}_FPratio_{FP_ratio}.pdf\")\n",
    "            plt.title(f\"PACMAP_MNratio-{MN_ratio}_nneighbors-{n_neighbor}_FPratio_{FP_ratio}\")\n",
    "            plt.show()\n",
    "            end_time = time.time()\n",
    "            exec_time = end_time - init_time\n",
    "            exec_times.append(exec_time)\n",
    "            print(f\"Time of execution: {exec_time}\")"
   ]
  },
  {
   "cell_type": "code",
   "execution_count": null,
   "id": "dc9d49c0",
   "metadata": {},
   "outputs": [],
   "source": [
    "embedded = pacmap.PaCMAP(n_components=2, n_neighbors=60, MN_ratio=1, FP_ratio=20) \n",
    "X_pacmap = embedded.fit_transform(X_norm, init=\"pca\")"
   ]
  },
  {
   "cell_type": "code",
   "execution_count": null,
   "id": "969df2f2",
   "metadata": {},
   "outputs": [],
   "source": [
    "embedded = pacmap.PaCMAP(n_components=2, n_neighbors=n_neighbor, MN_ratio=MN_ratio, FP_ratio=FP_ratio) "
   ]
  },
  {
   "cell_type": "code",
   "execution_count": null,
   "id": "8779b365",
   "metadata": {},
   "outputs": [],
   "source": [
    "np.save(f'temporal_zamuro/zamuro_projections/PACMAP/exec_times.npy', X_projected)"
   ]
  },
  {
   "cell_type": "markdown",
   "id": "165c49e0",
   "metadata": {},
   "source": [
    "### PCA Elbow"
   ]
  },
  {
   "cell_type": "code",
   "execution_count": null,
   "id": "e71ab220",
   "metadata": {},
   "outputs": [],
   "source": [
    "pca = PCA(n_components = 5184)\n",
    "pca_fit = pca.fit(X_ae_norm)"
   ]
  },
  {
   "cell_type": "code",
   "execution_count": null,
   "id": "12ab99ee",
   "metadata": {
    "scrolled": true
   },
   "outputs": [],
   "source": [
    "import seaborn as sns\n",
    "\n",
    "# Set style and figure size\n",
    "sns.set_style(\"whitegrid\")\n",
    "plt.figure(figsize=(10, 6))\n",
    "\n",
    "# Scree Plot\n",
    "PC_values = np.arange(pca.n_components) + 1\n",
    "plt.plot(PC_values[0:80], pca.explained_variance_ratio_[0:80].cumsum(),\n",
    "         'o-',markersize=4, linewidth=1, color='maroon')\n",
    "\n",
    "# Add text with explained variance ratio values on selected points\n",
    "points_to_annotate = [10, 20, 30, 40, 50, 60, 80]  # Add values for the points you want to annotate\n",
    "variance_ratio = pca.explained_variance_ratio_.cumsum()\n",
    "for point in points_to_annotate:\n",
    "    plt.text(point, variance_ratio[point-1]+0.02, f'{variance_ratio[point-1]*100:.2f}%', ha='center', va='bottom', fontsize=10)\n",
    "\n",
    "# Titles and axis labels\n",
    "plt.title('Scree Plot', fontsize=16)\n",
    "plt.xlabel('Number of Principal Components', fontsize=14)\n",
    "plt.ylabel('Explained Variance', fontsize=14)\n",
    "\n",
    "# Save the figure as a PDF file\n",
    "plt.savefig(\"temporal_zamuro/zamuro_projections/PCA/scree_plot.pdf\",\n",
    "             dpi=300)\n",
    "\n",
    "# Show the plot\n",
    "plt.show()\n",
    "\n"
   ]
  }
 ],
 "metadata": {
  "kernelspec": {
   "display_name": "Python 3 (ipykernel)",
   "language": "python",
   "name": "python3"
  },
  "language_info": {
   "codemirror_mode": {
    "name": "ipython",
    "version": 3
   },
   "file_extension": ".py",
   "mimetype": "text/x-python",
   "name": "python",
   "nbconvert_exporter": "python",
   "pygments_lexer": "ipython3",
   "version": "3.10.4"
  }
 },
 "nbformat": 4,
 "nbformat_minor": 5
}
