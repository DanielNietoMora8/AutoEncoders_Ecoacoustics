{
 "cells": [
  {
   "cell_type": "code",
   "execution_count": 1,
   "id": "59bfbed8",
   "metadata": {
    "ExecuteTime": {
     "end_time": "2024-04-23T21:18:31.515867Z",
     "start_time": "2024-04-23T21:18:31.484413Z"
    }
   },
   "outputs": [
    {
     "name": "stdout",
     "output_type": "stream",
     "text": [
      "Running on MIRP\n"
     ]
    }
   ],
   "source": [
    "if 'google.colab' in str(get_ipython()):\n",
    "    import sys\n",
    "    from google.colab import drive, output\n",
    "    drive.mount('/content/drive')\n",
    "\n",
    "    !pip install umap-learn\n",
    "    !pip install umap-learn[plot]\n",
    "    !pip install holoviews\n",
    "\n",
    "    !pip install joypy\n",
    "\n",
    "    output.clear()\n",
    "    print(\"Running on colab\")\n",
    "    %load_ext autoreload\n",
    "    %autoreload 1\n",
    "    %cd '/content/drive/MyDrive/PhD_Thesis_Experiments/DeepLearning/AutoEncoders/Project'\n",
    "    sys.path.append('/content/drive/MyDrive/PhD_Thesis_Experiments/DeepLearning/AutoEncoders/Project/Dataloader')\n",
    "    sys.path.append('/content/drive/MyDrive/PhD_Thesis_Experiments/DeepLearning/AutoEncoders/Project/Models')\n",
    "    sys.path.append('/content/drive/MyDrive/PhD_Thesis_Experiments/DeepLearning/AutoEncoders/Project/Modules')\n",
    "elif \"zmqshell\" in str(get_ipython()):\n",
    "    print(\"Running on MIRP\")\n",
    "    root = \"/home/mirp_ai/Documents/Daniel_Nieto/PhD/AutoEncoders_Ecoacoustics\"\n",
    "    root_path = \"/media/mirp_ai/Seagate Desktop Drive/Datos Rey Zamuro/Ultrasonido\"\n",
    "else:\n",
    "    import pathlib\n",
    "    temp = pathlib.PosixPath\n",
    "    pathlib.PosixPath = pathlib.WindowsPath\n",
    "    print(\"Running local\")"
   ]
  },
  {
   "cell_type": "code",
   "execution_count": 2,
   "id": "1686a54c",
   "metadata": {},
   "outputs": [
    {
     "name": "stdout",
     "output_type": "stream",
     "text": [
      "Requirement already satisfied: umap-learn in /home/mirp_ai/anaconda3/envs/DANM/lib/python3.10/site-packages (0.5.3)\n",
      "Requirement already satisfied: tqdm in /home/mirp_ai/anaconda3/envs/DANM/lib/python3.10/site-packages (from umap-learn) (4.65.0)\n",
      "Requirement already satisfied: scikit-learn>=0.22 in /home/mirp_ai/anaconda3/envs/DANM/lib/python3.10/site-packages (from umap-learn) (1.1.3)\n",
      "Requirement already satisfied: numba>=0.49 in /home/mirp_ai/anaconda3/envs/DANM/lib/python3.10/site-packages (from umap-learn) (0.56.4)\n",
      "Requirement already satisfied: pynndescent>=0.5 in /home/mirp_ai/anaconda3/envs/DANM/lib/python3.10/site-packages (from umap-learn) (0.5.10)\n",
      "Requirement already satisfied: scipy>=1.0 in /home/mirp_ai/anaconda3/envs/DANM/lib/python3.10/site-packages (from umap-learn) (1.9.3)\n",
      "Requirement already satisfied: numpy>=1.17 in /home/mirp_ai/anaconda3/envs/DANM/lib/python3.10/site-packages (from umap-learn) (1.23.1)\n",
      "Requirement already satisfied: llvmlite<0.40,>=0.39.0dev0 in /home/mirp_ai/anaconda3/envs/DANM/lib/python3.10/site-packages (from numba>=0.49->umap-learn) (0.39.1)\n",
      "Requirement already satisfied: setuptools in /home/mirp_ai/anaconda3/envs/DANM/lib/python3.10/site-packages (from numba>=0.49->umap-learn) (61.2.0)\n",
      "Requirement already satisfied: joblib>=0.11 in /home/mirp_ai/anaconda3/envs/DANM/lib/python3.10/site-packages (from pynndescent>=0.5->umap-learn) (1.2.0)\n",
      "Requirement already satisfied: threadpoolctl>=2.0.0 in /home/mirp_ai/anaconda3/envs/DANM/lib/python3.10/site-packages (from scikit-learn>=0.22->umap-learn) (3.1.0)\n",
      "Requirement already satisfied: umap-learn[plot] in /home/mirp_ai/anaconda3/envs/DANM/lib/python3.10/site-packages (0.5.3)\n",
      "Requirement already satisfied: numba>=0.49 in /home/mirp_ai/anaconda3/envs/DANM/lib/python3.10/site-packages (from umap-learn[plot]) (0.56.4)\n",
      "Requirement already satisfied: scipy>=1.0 in /home/mirp_ai/anaconda3/envs/DANM/lib/python3.10/site-packages (from umap-learn[plot]) (1.9.3)\n",
      "Requirement already satisfied: pynndescent>=0.5 in /home/mirp_ai/anaconda3/envs/DANM/lib/python3.10/site-packages (from umap-learn[plot]) (0.5.10)\n",
      "Requirement already satisfied: tqdm in /home/mirp_ai/anaconda3/envs/DANM/lib/python3.10/site-packages (from umap-learn[plot]) (4.65.0)\n",
      "Requirement already satisfied: numpy>=1.17 in /home/mirp_ai/anaconda3/envs/DANM/lib/python3.10/site-packages (from umap-learn[plot]) (1.23.1)\n",
      "Requirement already satisfied: scikit-learn>=0.22 in /home/mirp_ai/anaconda3/envs/DANM/lib/python3.10/site-packages (from umap-learn[plot]) (1.1.3)\n",
      "Requirement already satisfied: colorcet in /home/mirp_ai/anaconda3/envs/DANM/lib/python3.10/site-packages (from umap-learn[plot]) (3.0.1)\n",
      "Requirement already satisfied: datashader in /home/mirp_ai/anaconda3/envs/DANM/lib/python3.10/site-packages (from umap-learn[plot]) (0.15.0)\n",
      "Requirement already satisfied: holoviews in /home/mirp_ai/anaconda3/envs/DANM/lib/python3.10/site-packages (from umap-learn[plot]) (1.16.2)\n",
      "Requirement already satisfied: seaborn in /home/mirp_ai/anaconda3/envs/DANM/lib/python3.10/site-packages (from umap-learn[plot]) (0.12.2)\n",
      "Requirement already satisfied: scikit-image in /home/mirp_ai/anaconda3/envs/DANM/lib/python3.10/site-packages (from umap-learn[plot]) (0.21.0)\n",
      "Requirement already satisfied: pandas in /home/mirp_ai/anaconda3/envs/DANM/lib/python3.10/site-packages (from umap-learn[plot]) (1.5.3)\n",
      "Requirement already satisfied: bokeh in /home/mirp_ai/anaconda3/envs/DANM/lib/python3.10/site-packages (from umap-learn[plot]) (3.1.1)\n",
      "Requirement already satisfied: matplotlib in /home/mirp_ai/anaconda3/envs/DANM/lib/python3.10/site-packages (from umap-learn[plot]) (3.6.2)\n",
      "Requirement already satisfied: llvmlite<0.40,>=0.39.0dev0 in /home/mirp_ai/anaconda3/envs/DANM/lib/python3.10/site-packages (from numba>=0.49->umap-learn[plot]) (0.39.1)\n",
      "Requirement already satisfied: setuptools in /home/mirp_ai/anaconda3/envs/DANM/lib/python3.10/site-packages (from numba>=0.49->umap-learn[plot]) (61.2.0)\n",
      "Requirement already satisfied: joblib>=0.11 in /home/mirp_ai/anaconda3/envs/DANM/lib/python3.10/site-packages (from pynndescent>=0.5->umap-learn[plot]) (1.2.0)\n",
      "Requirement already satisfied: threadpoolctl>=2.0.0 in /home/mirp_ai/anaconda3/envs/DANM/lib/python3.10/site-packages (from scikit-learn>=0.22->umap-learn[plot]) (3.1.0)\n",
      "Requirement already satisfied: tornado>=5.1 in /home/mirp_ai/anaconda3/envs/DANM/lib/python3.10/site-packages (from bokeh->umap-learn[plot]) (6.2)\n",
      "Requirement already satisfied: Jinja2>=2.9 in /home/mirp_ai/anaconda3/envs/DANM/lib/python3.10/site-packages (from bokeh->umap-learn[plot]) (3.1.2)\n",
      "Requirement already satisfied: contourpy>=1 in /home/mirp_ai/anaconda3/envs/DANM/lib/python3.10/site-packages (from bokeh->umap-learn[plot]) (1.0.6)\n",
      "Requirement already satisfied: packaging>=16.8 in /home/mirp_ai/anaconda3/envs/DANM/lib/python3.10/site-packages (from bokeh->umap-learn[plot]) (21.3)\n",
      "Requirement already satisfied: xyzservices>=2021.09.1 in /home/mirp_ai/anaconda3/envs/DANM/lib/python3.10/site-packages (from bokeh->umap-learn[plot]) (2023.5.0)\n",
      "Requirement already satisfied: pillow>=7.1.0 in /home/mirp_ai/anaconda3/envs/DANM/lib/python3.10/site-packages (from bokeh->umap-learn[plot]) (9.3.0)\n",
      "Requirement already satisfied: PyYAML>=3.10 in /home/mirp_ai/anaconda3/envs/DANM/lib/python3.10/site-packages (from bokeh->umap-learn[plot]) (6.0)\n",
      "Requirement already satisfied: python-dateutil>=2.8.1 in /home/mirp_ai/anaconda3/envs/DANM/lib/python3.10/site-packages (from pandas->umap-learn[plot]) (2.8.2)\n",
      "Requirement already satisfied: pytz>=2020.1 in /home/mirp_ai/anaconda3/envs/DANM/lib/python3.10/site-packages (from pandas->umap-learn[plot]) (2022.1)\n",
      "Requirement already satisfied: pyct>=0.4.4 in /home/mirp_ai/anaconda3/envs/DANM/lib/python3.10/site-packages (from colorcet->umap-learn[plot]) (0.5.0)\n",
      "Requirement already satisfied: param in /home/mirp_ai/anaconda3/envs/DANM/lib/python3.10/site-packages (from datashader->umap-learn[plot]) (1.13.0)\n",
      "Requirement already satisfied: xarray in /home/mirp_ai/anaconda3/envs/DANM/lib/python3.10/site-packages (from datashader->umap-learn[plot]) (2023.6.0)\n",
      "Requirement already satisfied: requests in /home/mirp_ai/anaconda3/envs/DANM/lib/python3.10/site-packages (from datashader->umap-learn[plot]) (2.28.1)\n",
      "Requirement already satisfied: datashape in /home/mirp_ai/anaconda3/envs/DANM/lib/python3.10/site-packages (from datashader->umap-learn[plot]) (0.5.2)\n",
      "Requirement already satisfied: dask in /home/mirp_ai/anaconda3/envs/DANM/lib/python3.10/site-packages (from datashader->umap-learn[plot]) (2023.6.1)\n",
      "Requirement already satisfied: toolz in /home/mirp_ai/anaconda3/envs/DANM/lib/python3.10/site-packages (from datashader->umap-learn[plot]) (0.12.0)\n",
      "Requirement already satisfied: pyviz-comms>=0.7.4 in /home/mirp_ai/anaconda3/envs/DANM/lib/python3.10/site-packages (from holoviews->umap-learn[plot]) (2.3.2)\n",
      "Requirement already satisfied: panel>=0.13.1 in /home/mirp_ai/anaconda3/envs/DANM/lib/python3.10/site-packages (from holoviews->umap-learn[plot]) (1.1.1)\n",
      "Requirement already satisfied: kiwisolver>=1.0.1 in /home/mirp_ai/anaconda3/envs/DANM/lib/python3.10/site-packages (from matplotlib->umap-learn[plot]) (1.4.4)\n",
      "Requirement already satisfied: pyparsing>=2.2.1 in /home/mirp_ai/anaconda3/envs/DANM/lib/python3.10/site-packages (from matplotlib->umap-learn[plot]) (3.0.9)\n",
      "Requirement already satisfied: fonttools>=4.22.0 in /home/mirp_ai/anaconda3/envs/DANM/lib/python3.10/site-packages (from matplotlib->umap-learn[plot]) (4.38.0)\n",
      "Requirement already satisfied: cycler>=0.10 in /home/mirp_ai/anaconda3/envs/DANM/lib/python3.10/site-packages (from matplotlib->umap-learn[plot]) (0.11.0)\n",
      "Requirement already satisfied: networkx>=2.8 in /home/mirp_ai/anaconda3/envs/DANM/lib/python3.10/site-packages (from scikit-image->umap-learn[plot]) (3.1)\n",
      "Requirement already satisfied: tifffile>=2022.8.12 in /home/mirp_ai/anaconda3/envs/DANM/lib/python3.10/site-packages (from scikit-image->umap-learn[plot]) (2023.4.12)\n",
      "Requirement already satisfied: PyWavelets>=1.1.1 in /home/mirp_ai/anaconda3/envs/DANM/lib/python3.10/site-packages (from scikit-image->umap-learn[plot]) (1.4.1)\n",
      "Requirement already satisfied: imageio>=2.27 in /home/mirp_ai/anaconda3/envs/DANM/lib/python3.10/site-packages (from scikit-image->umap-learn[plot]) (2.31.1)\n",
      "Requirement already satisfied: lazy_loader>=0.2 in /home/mirp_ai/anaconda3/envs/DANM/lib/python3.10/site-packages (from scikit-image->umap-learn[plot]) (0.2)\n"
     ]
    },
    {
     "name": "stdout",
     "output_type": "stream",
     "text": [
      "Requirement already satisfied: MarkupSafe>=2.0 in /home/mirp_ai/anaconda3/envs/DANM/lib/python3.10/site-packages (from Jinja2>=2.9->bokeh->umap-learn[plot]) (2.1.1)\n",
      "Requirement already satisfied: bleach in /home/mirp_ai/anaconda3/envs/DANM/lib/python3.10/site-packages (from panel>=0.13.1->holoviews->umap-learn[plot]) (4.1.0)\n",
      "Requirement already satisfied: mdit-py-plugins in /home/mirp_ai/anaconda3/envs/DANM/lib/python3.10/site-packages (from panel>=0.13.1->holoviews->umap-learn[plot]) (0.4.0)\n",
      "Requirement already satisfied: markdown in /home/mirp_ai/anaconda3/envs/DANM/lib/python3.10/site-packages (from panel>=0.13.1->holoviews->umap-learn[plot]) (3.4.3)\n",
      "Requirement already satisfied: markdown-it-py<3 in /home/mirp_ai/anaconda3/envs/DANM/lib/python3.10/site-packages (from panel>=0.13.1->holoviews->umap-learn[plot]) (2.2.0)\n",
      "Requirement already satisfied: linkify-it-py in /home/mirp_ai/anaconda3/envs/DANM/lib/python3.10/site-packages (from panel>=0.13.1->holoviews->umap-learn[plot]) (2.0.2)\n",
      "Requirement already satisfied: typing-extensions in /home/mirp_ai/anaconda3/envs/DANM/lib/python3.10/site-packages (from panel>=0.13.1->holoviews->umap-learn[plot]) (4.3.0)\n",
      "Requirement already satisfied: six>=1.5 in /home/mirp_ai/anaconda3/envs/DANM/lib/python3.10/site-packages (from python-dateutil>=2.8.1->pandas->umap-learn[plot]) (1.16.0)\n",
      "Requirement already satisfied: fsspec>=2021.09.0 in /home/mirp_ai/anaconda3/envs/DANM/lib/python3.10/site-packages (from dask->datashader->umap-learn[plot]) (2023.6.0)\n",
      "Requirement already satisfied: partd>=1.2.0 in /home/mirp_ai/anaconda3/envs/DANM/lib/python3.10/site-packages (from dask->datashader->umap-learn[plot]) (1.4.0)\n",
      "Requirement already satisfied: click>=8.0 in /home/mirp_ai/anaconda3/envs/DANM/lib/python3.10/site-packages (from dask->datashader->umap-learn[plot]) (8.1.3)\n",
      "Requirement already satisfied: cloudpickle>=1.5.0 in /home/mirp_ai/anaconda3/envs/DANM/lib/python3.10/site-packages (from dask->datashader->umap-learn[plot]) (2.2.1)\n",
      "Requirement already satisfied: importlib-metadata>=4.13.0 in /home/mirp_ai/anaconda3/envs/DANM/lib/python3.10/site-packages (from dask->datashader->umap-learn[plot]) (6.7.0)\n",
      "Requirement already satisfied: multipledispatch>=0.4.7 in /home/mirp_ai/anaconda3/envs/DANM/lib/python3.10/site-packages (from datashape->datashader->umap-learn[plot]) (1.0.0)\n",
      "Requirement already satisfied: idna<4,>=2.5 in /home/mirp_ai/anaconda3/envs/DANM/lib/python3.10/site-packages (from requests->datashader->umap-learn[plot]) (3.4)\n",
      "Requirement already satisfied: charset-normalizer<3,>=2 in /home/mirp_ai/anaconda3/envs/DANM/lib/python3.10/site-packages (from requests->datashader->umap-learn[plot]) (2.0.4)\n",
      "Requirement already satisfied: certifi>=2017.4.17 in /home/mirp_ai/anaconda3/envs/DANM/lib/python3.10/site-packages (from requests->datashader->umap-learn[plot]) (2022.9.24)\n",
      "Requirement already satisfied: urllib3<1.27,>=1.21.1 in /home/mirp_ai/anaconda3/envs/DANM/lib/python3.10/site-packages (from requests->datashader->umap-learn[plot]) (1.26.12)\n",
      "Requirement already satisfied: zipp>=0.5 in /home/mirp_ai/anaconda3/envs/DANM/lib/python3.10/site-packages (from importlib-metadata>=4.13.0->dask->datashader->umap-learn[plot]) (3.15.0)\n",
      "Requirement already satisfied: mdurl~=0.1 in /home/mirp_ai/anaconda3/envs/DANM/lib/python3.10/site-packages (from markdown-it-py<3->panel>=0.13.1->holoviews->umap-learn[plot]) (0.1.2)\n",
      "Requirement already satisfied: locket in /home/mirp_ai/anaconda3/envs/DANM/lib/python3.10/site-packages (from partd>=1.2.0->dask->datashader->umap-learn[plot]) (1.0.0)\n",
      "Requirement already satisfied: webencodings in /home/mirp_ai/anaconda3/envs/DANM/lib/python3.10/site-packages (from bleach->panel>=0.13.1->holoviews->umap-learn[plot]) (0.5.1)\n",
      "Requirement already satisfied: uc-micro-py in /home/mirp_ai/anaconda3/envs/DANM/lib/python3.10/site-packages (from linkify-it-py->panel>=0.13.1->holoviews->umap-learn[plot]) (1.0.2)\n"
     ]
    },
    {
     "data": {
      "text/plain": [
       "33313"
      ]
     },
     "execution_count": 2,
     "metadata": {},
     "output_type": "execute_result"
    }
   ],
   "source": [
    "import os\n",
    "import matplotlib.pyplot as plt\n",
    "import seaborn as sns\n",
    "import numpy as np\n",
    "\n",
    "from six.moves import xrange\n",
    "import datetime\n",
    "import gc\n",
    "import pandas as pd\n",
    "import joypy\n",
    "\n",
    "from scipy import signal\n",
    "from sklearn.preprocessing import StandardScaler\n",
    "from sklearn.preprocessing import MinMaxScaler as Normalizer\n",
    "\n",
    "import torch\n",
    "import torch.nn as nn\n",
    "import torch.nn.functional as F\n",
    "from torch.utils.data import DataLoader\n",
    "from torch.utils.data import random_split\n",
    "import torch.optim as optim\n",
    "from torch.optim import lr_scheduler\n",
    "import torchvision.datasets as datasets\n",
    "import torchvision.transforms as transforms\n",
    "from torchvision.utils import make_grid\n",
    "import torchaudio.transforms as audio_transform\n",
    "\n",
    "\n",
    "#from ResidualStack import ResidualStack\n",
    "#from Residual import Residual\n",
    "\n",
    "from Jaguas_DataLoader_rainless import SoundscapeData\n",
    "from Models import ConvAE as AE\n",
    "from AE_training_functions import TestModel, TrainModel\n",
    "from AE_Clustering import AE_Clustering \n",
    "\n",
    "device = torch.device(\"cuda\" if torch.cuda.is_available() else \"cpu\")\n",
    "#device = xm.xla_device()\n",
    "\n",
    "from datetime import timedelta\n",
    "import wandb\n",
    "from wandb import AlertLevel\n",
    "\n",
    "!pip install umap-learn\n",
    "!pip install umap-learn[plot]\n",
    "import umap\n",
    "from sklearn.manifold import TSNE\n",
    "from sklearn.decomposition import PCA\n",
    "\n",
    "import seaborn as sns\n",
    "import pickle as pkl\n",
    "\n",
    "import random\n",
    "def _set_seed(seed: int):\n",
    "    \"\"\"\n",
    "    Helper function for reproducible behavior to set the seed in ``random``, ``numpy``, ``torch`` and/or ``tf`` (if\n",
    "    installed).\n",
    " \n",
    "    Args:\n",
    "        seed (:obj:`int`): The seed to set.\n",
    "    \"\"\"\n",
    "    random.seed(seed)\n",
    "    np.random.seed(seed)\n",
    "    if torch.cuda.is_available():\n",
    "        torch.manual_seed(seed)\n",
    "        torch.cuda.manual_seed_all(seed)\n",
    "        # ^^ safe to call this function even if cuda is not available\n",
    "_set_seed(1024)\n",
    "\n",
    "gc.collect()"
   ]
  },
  {
   "cell_type": "code",
   "execution_count": 3,
   "id": "ff57580c",
   "metadata": {},
   "outputs": [],
   "source": [
    "model_type = \"AE\"\n",
    "identifier = \"batch_size_14_num_hiddens_64_\"\n",
    "day = 4\n",
    "hour = 9\n",
    "date_format = f\"day_{day}_hour_{hour}\"\n",
    "\n",
    "# model_name = f\"{root}/Zamuro/temporal_zamuro/models/model_{model_type}_{identifier}_{date_format}_final.pth\"\n",
    "# config = torch.load(f'{root}/Zamuro/temporal_zamuro/configs/config_{model_type}_{identifier}_{date_format}.pth', map_location=torch.device('cpu'))\n",
    "# model = AE(num_hiddens=config[\"num_hiddens\"]).to(device)\n",
    "# model.load_state_dict(torch.load(f'{model_name}', map_location=torch.device('cpu')))\n",
    "\n",
    "# y = torch.load(f\"temporal_zamuro/Features/{folder}/AE_labels_{date_format}_No_rain_Audios_Jaguas.pth\",  map_location=torch.device('cpu'))\n",
    "# X = torch.load(f\"{root}/Zamuro/temporal_zamuro/Features/AE_features_Zamuro.pth\",  map_location=torch.device('cpu'))\n",
    "X_ae_norm = np.load(f\"temporal_zamuro/Features/X_ae_norm.pth.npy\")\n",
    "y_ae = np.load(f\"temporal_zamuro/Features/y_ae.pth.npy\")\n",
    "audios = pd.read_csv(f\"Complementary_Files/zamuro_audios.csv\", index_col=0)\n",
    "# y_path = torch.load(f\"{root}/Zamuro/temporal_zamuro/Features/AE_test_path_samples_Zamuro.pth\",  map_location=torch.device('cpu'))\n",
    "# path_flat = [item for sublist in y_path for item in sublist]\n",
    "# path_flat = np.asarray(path_flat)\n",
    "# print(X.shape)\n",
    "\n",
    "# scaler = StandardScaler().fit(X)\n",
    "# X_scaled = scaler.transform(X)\n",
    "# Normalizer_ = Normalizer().fit(X)\n",
    "# X_norm = Normalizer_.transform(X)\n",
    "# PCA_ = PCA(n_components=60).fit(X_norm)\n",
    "# X_PCA = PCA_.transform(X_norm)\n",
    "# # X_TSNE = TSNE(n_components=60, learning_rate=\"auto\", init='random', random_state=0).fit_transform(X_PCA)\n",
    "# reducer = umap.UMAP(min_dist=0.9, n_components=60)\n",
    "# X_UMAP = reducer.fit_transform(X_norm)\n",
    "# X_batch = np.reshape(X_UMAP, (X_UMAP.shape[0]//5,5,X_UMAP.shape[1]))\n",
    "# # X_UMAP_Norm = Normalizer().fit_transform(X_UMAP)"
   ]
  },
  {
   "cell_type": "code",
   "execution_count": 4,
   "id": "23399567",
   "metadata": {},
   "outputs": [],
   "source": [
    "from datetime import datetime, time\n",
    "def obtener_hora(row):\n",
    "    hora_str = row['name_FI'].split('_')[1]  # Obtener la parte de la hora\n",
    "    hora = time(hour=int(hora_str[:2]), minute=int(hora_str[2:4]), second=int(hora_str[4:6]))\n",
    "    return hora\n",
    "\n",
    "# Aplicar la función a cada fila y crear una nueva columna 'hora'\n",
    "audios['hora'] = audios.apply(obtener_hora, axis=1)\n"
   ]
  },
  {
   "cell_type": "code",
   "execution_count": 5,
   "id": "a6eb0728",
   "metadata": {},
   "outputs": [],
   "source": [
    "from sklearn.preprocessing import LabelEncoder\n",
    "y_hora = []\n",
    "y_site = []\n",
    "for i in range(len(y_ae)):\n",
    "    y_hora.append(int(y_ae[i].split(\"_\")[2][0:2]))\n",
    "    y_site.append(y_ae[i].split(\"_\")[0])\n",
    "    \n",
    "encoder = LabelEncoder()\n",
    "y_site = encoder.fit_transform(y_site)"
   ]
  },
  {
   "cell_type": "code",
   "execution_count": null,
   "id": "be07055f",
   "metadata": {},
   "outputs": [],
   "source": [
    "y_n = y_hora\n",
    "X_ = [X_scaled, X_norm, X_PCA, X_TSNE, X_UMAP]\n",
    "Feats = [\"Scaled\", \"Norm\", f\"PCA{n_components}\", \"TSNE\", \"UMAP\"]\n",
    "for enum, x in enumerate(X_):\n",
    "    sns.jointplot(x=X_[enum][:,0], y= X_[enum][:,1], hue=y_n, joint_kws={'alpha': 0.03}) \n",
    "#     plt.savefig(f\"Projection_{model}_{Feats[enum]}_{metadata}_alpha_03\")"
   ]
  },
  {
   "cell_type": "code",
   "execution_count": 16,
   "id": "37ea270c",
   "metadata": {},
   "outputs": [],
   "source": [
    "tasa_submuestreo = 0.1\n",
    "\n",
    "# Obtener el número de muestras a submuestrear\n",
    "num_muestras_submuestreadas = int(len(X_ae_norm) * tasa_submuestreo)\n",
    "\n",
    "# Generar índices aleatorios sin reemplazo\n",
    "indices_submuestreo = np.random.choice(len(X_ae_norm), num_muestras_submuestreadas, replace=False)\n",
    "\n",
    "X_norm = X_ae_norm[indices_submuestreo]\n",
    "y_n = [y_hora[i] for i in indices_submuestreo]"
   ]
  },
  {
   "cell_type": "code",
   "execution_count": null,
   "id": "36de51e9",
   "metadata": {},
   "outputs": [],
   "source": [
    "reducer = umap.UMAP(min_dist=0.2, n_components=2)\n",
    "X_UMAP = reducer.fit_transform(X_norm)"
   ]
  },
  {
   "cell_type": "code",
   "execution_count": null,
   "id": "afad1bbb",
   "metadata": {},
   "outputs": [],
   "source": [
    "a= np.arange(X_UMAP.shape[0])\n",
    "a = np.random.choice(a, size=len(X_UMAP)//2)\n",
    "new_embedding = X_UMAP[a]\n",
    "y_n = np.array(y_n)\n",
    "y_n2 = y_n[a]\n",
    "\n",
    "plt.scatter(\n",
    "    new_embedding[:, 0],\n",
    "    new_embedding[:, 1], c=y_n2, alpha=0.5, s=0.1)\n",
    "plt.gca().set_aspect('equal', 'datalim')\n",
    "plt.title('UMAP projection of Zmuro dataset', fontsize=14);"
   ]
  },
  {
   "cell_type": "code",
   "execution_count": 6,
   "id": "fcf24f0f",
   "metadata": {},
   "outputs": [],
   "source": [
    "def projector(data, y=None, method=\"PCA\", n_components=2, random_state=0, **kwargs):\n",
    "    \n",
    "    if method == \"PCA\":\n",
    "        X = PCA(n_components=n_components, random_state=0).fit_transform(data)\n",
    "    elif method == \"ICA\":\n",
    "        X = FastICA(n_components=n_components,\n",
    "                    random_state=0).fit_transform(data)\n",
    "    elif method == \"tSNE\":\n",
    "        X = TSNE(n_components=n_components, learning_rate=kwargs[\"learning_rate\"],\n",
    "                 init=kwargs[\"init\"], random_state=random_state,\n",
    "                 n_jobs=kwargs[\"n_jobs\"]).fit_transform(X_PCA)\n",
    "        \n",
    "    elif method == \"UMAP\":\n",
    "        reducer = umap.UMAP(n_components=n_components, min_dist=kwargs[\"min_dist\"],\n",
    "                            metric=kwargs[\"metric\"], n_neighbors=kwargs[\"n_neighbors\"],\n",
    "                            random_state=random_state, n_jobs=kwargs[\"n_jobs\"])\n",
    "        X = reducer.fit_transform(data)\n",
    "    return X"
   ]
  },
  {
   "cell_type": "code",
   "execution_count": null,
   "id": "4c0abdff",
   "metadata": {},
   "outputs": [],
   "source": [
    "a=projector(X_ae_norm[:100000], method=\"UMAP\", min_dist=0.5, n_neighbors=60, metric=\"euclidean\")\n",
    "plt.scatter(a[:,0], a[:,1],alpha=0.5, s=0.1)"
   ]
  },
  {
   "cell_type": "markdown",
   "id": "2e1bdc61",
   "metadata": {},
   "source": [
    "### UMAP grid search\n",
    "- https://pair-code.github.io/understanding-umap/"
   ]
  },
  {
   "cell_type": "code",
   "execution_count": null,
   "id": "28e4ad0e",
   "metadata": {},
   "outputs": [],
   "source": [
    "metrics = [\"correlation\"]#[\"euclidean\", \"minkowski\", \"mahalanobis\", \"correlation\"]\n",
    "min_dists = [0.1, 0.5, 1]\n",
    "n_neighbors = [15, 60, 180, 512]\n",
    "\n",
    "label_mapping = {valor: f\"Clase {valor}\" for valor in np.unique(y_n)}\n",
    "\n",
    "for metric in metrics:\n",
    "    for min_dist in min_dists:\n",
    "        for n_neighbor in n_neighbors:\n",
    "            print(f\"iterating with: \\n metric: {metric} \\n min_dist: {min_dist}, \\n n_neighbors: {n_neighbor}\")\n",
    "            X_projected = projector(X_norm, method=\"UMAP\", \n",
    "                                    min_dist=min_dist,\n",
    "                                    n_neighbors=n_neighbor,\n",
    "                                    metric=metric, n_jobs=-1)\n",
    "            labels = [label_mapping[valor] for valor in y_n]\n",
    "            plt.scatter(X_projected[:,0], X_projected[:,1],alpha=0.5, s=0.1, c=y_n, label=labels)\n",
    "#             plt.legend()\n",
    "#             plt.savefig(f\"temporal_zamuro/zamuro_projections/hour/UMAP_metric-{metric}_mindist-{min_dist}_nneighbors-{n_neighbor}.pdf\")\n",
    "            plt.show()\n",
    "       "
   ]
  },
  {
   "cell_type": "markdown",
   "id": "e01ee182",
   "metadata": {},
   "source": [
    "### PCA Elbow"
   ]
  },
  {
   "cell_type": "code",
   "execution_count": 54,
   "id": "ab0cbd00",
   "metadata": {},
   "outputs": [],
   "source": [
    "pca = PCA(n_components = 5184)\n",
    "pca_fit = pca.fit(X_ae_norm)"
   ]
  },
  {
   "cell_type": "code",
   "execution_count": 55,
   "id": "dd90d5d9",
   "metadata": {},
   "outputs": [
    {
     "data": {
      "image/png": "[encoded data removed]",
      "text/plain": [
       "<Figure size 640x480 with 1 Axes>"
      ]
     },
     "metadata": {},
     "output_type": "display_data"
    }
   ],
   "source": [
    "PC_values = np.arange(pca.n_components) + 1\n",
    "plt.plot(PC_values, pca.explained_variance_ratio_.cumsum(), 'o-', linewidth=1, color='maroon')\n",
    "plt.title('Scree Plot')\n",
    "plt.xlabel('Principal Component')\n",
    "plt.ylabel('Variance Explained')\n",
    "plt.show()"
   ]
  },
  {
   "cell_type": "code",
   "execution_count": 45,
   "id": "770d0f44",
   "metadata": {},
   "outputs": [
    {
     "data": {
      "text/plain": [
       "array([0.41593075, 0.52180575, 0.59642586, 0.66591291, 0.70051323,\n",
       "       0.73029342, 0.75406386, 0.77502288, 0.79026217, 0.80128012,\n",
       "       0.81125554, 0.81959675, 0.82711538, 0.83442579, 0.84066396,\n",
       "       0.84659149, 0.85159185, 0.85610659, 0.86017556, 0.86379747,\n",
       "       0.86727707, 0.8705332 , 0.87356774, 0.87644269, 0.87923738,\n",
       "       0.88184308, 0.88442002, 0.88679573, 0.88902238, 0.89115991,\n",
       "       0.89326592, 0.89516814, 0.89705935, 0.89880878, 0.90047103,\n",
       "       0.90200563, 0.90351119, 0.90498245, 0.90643536, 0.9078469 ,\n",
       "       0.90924675, 0.91060179, 0.91190816, 0.91312814, 0.91429694,\n",
       "       0.9154471 , 0.91658843, 0.91770658, 0.91878444, 0.91980381,\n",
       "       0.92079717, 0.92175437, 0.92270109, 0.92361576, 0.924516  ,\n",
       "       0.92540621, 0.92626849, 0.92710678, 0.92791964, 0.9287149 ])"
      ]
     },
     "execution_count": 45,
     "metadata": {},
     "output_type": "execute_result"
    }
   ],
   "source": [
    "pca.explained_variance_ratio_.cumsum()[0:60]"
   ]
  }
 ],
 "metadata": {
  "kernelspec": {
   "display_name": "Python 3 (ipykernel)",
   "language": "python",
   "name": "python3"
  },
  "language_info": {
   "codemirror_mode": {
    "name": "ipython",
    "version": 3
   },
   "file_extension": ".py",
   "mimetype": "text/x-python",
   "name": "python",
   "nbconvert_exporter": "python",
   "pygments_lexer": "ipython3",
   "version": "3.10.4"
  }
 },
 "nbformat": 4,
 "nbformat_minor": 5
}
