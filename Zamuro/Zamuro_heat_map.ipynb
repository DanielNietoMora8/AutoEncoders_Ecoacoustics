{
 "cells": [
  {
   "cell_type": "code",
   "execution_count": 3,
   "metadata": {
    "colab": {
     "base_uri": "https://localhost:8080/"
    },
    "executionInfo": {
     "elapsed": 33320,
     "status": "ok",
     "timestamp": 1696800862105,
     "user": {
      "displayName": "DANIEL ALEXIS NIETO MORA",
      "userId": "09305600849699039845"
     },
     "user_tz": 300
    },
    "id": "TC8QQP3xxoz-",
    "outputId": "eb8bad42-a435-43c6-c295-652aeacde257"
   },
   "outputs": [],
   "source": [
    "import pandas as pd\n",
    "import folium\n",
    "from folium.plugins import HeatMap"
   ]
  },
  {
   "cell_type": "code",
   "execution_count": 4,
   "metadata": {
    "executionInfo": {
     "elapsed": 327,
     "status": "ok",
     "timestamp": 1696800862425,
     "user": {
      "displayName": "DANIEL ALEXIS NIETO MORA",
      "userId": "09305600849699039845"
     },
     "user_tz": 300
    },
    "id": "i9d5vjkixo0D"
   },
   "outputs": [],
   "source": [
    "#Extracion de los datos\n",
    "df_tot = pd.read_csv(\"/home/mirp_ai/Documents/Daniel_Nieto/PhD/AutoEncoders_Ecoacoustics/Zamuro/Complementary_Files/UDAS Pasivo_20221001_Zamuro.csv\", )"
   ]
  },
  {
   "cell_type": "code",
   "execution_count": 28,
   "metadata": {
    "executionInfo": {
     "elapsed": 12,
     "status": "ok",
     "timestamp": 1696800862426,
     "user": {
      "displayName": "DANIEL ALEXIS NIETO MORA",
      "userId": "09305600849699039845"
     },
     "user_tz": 300
    },
    "id": "ohT7cAJbxo0D"
   },
   "outputs": [],
   "source": [
    "#Extraer la columnas importantes\n",
    "import numpy as np\n",
    "df = df_tot.loc[:, [\"latitude_IG\", \"longitud_IG\"]]\n",
    "df[\"number\"] = np.random.randint(0,500,106)"
   ]
  },
  {
   "cell_type": "code",
   "execution_count": 18,
   "metadata": {},
   "outputs": [
    {
     "data": {
      "text/html": [
       "<div>\n",
       "<style scoped>\n",
       "    .dataframe tbody tr th:only-of-type {\n",
       "        vertical-align: middle;\n",
       "    }\n",
       "\n",
       "    .dataframe tbody tr th {\n",
       "        vertical-align: top;\n",
       "    }\n",
       "\n",
       "    .dataframe thead th {\n",
       "        text-align: right;\n",
       "    }\n",
       "</style>\n",
       "<table border=\"1\" class=\"dataframe\">\n",
       "  <thead>\n",
       "    <tr style=\"text-align: right;\">\n",
       "      <th></th>\n",
       "      <th>latitude_IG</th>\n",
       "      <th>longitud_IG</th>\n",
       "      <th>number</th>\n",
       "    </tr>\n",
       "  </thead>\n",
       "  <tbody>\n",
       "    <tr>\n",
       "      <th>0</th>\n",
       "      <td>3.555860</td>\n",
       "      <td>-73.411659</td>\n",
       "      <td>20</td>\n",
       "    </tr>\n",
       "    <tr>\n",
       "      <th>1</th>\n",
       "      <td>3.552269</td>\n",
       "      <td>-73.411659</td>\n",
       "      <td>42</td>\n",
       "    </tr>\n",
       "    <tr>\n",
       "      <th>2</th>\n",
       "      <td>3.548784</td>\n",
       "      <td>-73.411520</td>\n",
       "      <td>21</td>\n",
       "    </tr>\n",
       "    <tr>\n",
       "      <th>3</th>\n",
       "      <td>3.548641</td>\n",
       "      <td>-73.411726</td>\n",
       "      <td>34</td>\n",
       "    </tr>\n",
       "    <tr>\n",
       "      <th>4</th>\n",
       "      <td>3.544981</td>\n",
       "      <td>-73.411514</td>\n",
       "      <td>26</td>\n",
       "    </tr>\n",
       "    <tr>\n",
       "      <th>...</th>\n",
       "      <td>...</td>\n",
       "      <td>...</td>\n",
       "      <td>...</td>\n",
       "    </tr>\n",
       "    <tr>\n",
       "      <th>101</th>\n",
       "      <td>3.523199</td>\n",
       "      <td>-73.397082</td>\n",
       "      <td>31</td>\n",
       "    </tr>\n",
       "    <tr>\n",
       "      <th>102</th>\n",
       "      <td>3.537848</td>\n",
       "      <td>-73.411489</td>\n",
       "      <td>16</td>\n",
       "    </tr>\n",
       "    <tr>\n",
       "      <th>103</th>\n",
       "      <td>3.520385</td>\n",
       "      <td>-73.407643</td>\n",
       "      <td>21</td>\n",
       "    </tr>\n",
       "    <tr>\n",
       "      <th>104</th>\n",
       "      <td>3.515825</td>\n",
       "      <td>-73.404630</td>\n",
       "      <td>33</td>\n",
       "    </tr>\n",
       "    <tr>\n",
       "      <th>105</th>\n",
       "      <td>3.545063</td>\n",
       "      <td>-73.393795</td>\n",
       "      <td>25</td>\n",
       "    </tr>\n",
       "  </tbody>\n",
       "</table>\n",
       "<p>106 rows × 3 columns</p>\n",
       "</div>"
      ],
      "text/plain": [
       "     latitude_IG  longitud_IG  number\n",
       "0       3.555860   -73.411659      20\n",
       "1       3.552269   -73.411659      42\n",
       "2       3.548784   -73.411520      21\n",
       "3       3.548641   -73.411726      34\n",
       "4       3.544981   -73.411514      26\n",
       "..           ...          ...     ...\n",
       "101     3.523199   -73.397082      31\n",
       "102     3.537848   -73.411489      16\n",
       "103     3.520385   -73.407643      21\n",
       "104     3.515825   -73.404630      33\n",
       "105     3.545063   -73.393795      25\n",
       "\n",
       "[106 rows x 3 columns]"
      ]
     },
     "execution_count": 18,
     "metadata": {},
     "output_type": "execute_result"
    }
   ],
   "source": [
    "df"
   ]
  },
  {
   "cell_type": "code",
   "execution_count": 6,
   "metadata": {
    "colab": {
     "base_uri": "https://localhost:8080/"
    },
    "executionInfo": {
     "elapsed": 225,
     "status": "ok",
     "timestamp": 1696800870767,
     "user": {
      "displayName": "DANIEL ALEXIS NIETO MORA",
      "userId": "09305600849699039845"
     },
     "user_tz": 300
    },
    "id": "iqODIfMrxo0E",
    "outputId": "8820b173-8a5e-4321-fd5a-977f71e0803e"
   },
   "outputs": [
    {
     "ename": "NameError",
     "evalue": "name 'conv_loc' is not defined",
     "output_type": "error",
     "traceback": [
      "\u001b[0;31m---------------------------------------------------------------------------\u001b[0m",
      "\u001b[0;31mNameError\u001b[0m                                 Traceback (most recent call last)",
      "Cell \u001b[0;32mIn [6], line 5\u001b[0m\n\u001b[1;32m      2\u001b[0m df \u001b[38;5;241m=\u001b[39m df\u001b[38;5;241m.\u001b[39mdropna()\n\u001b[1;32m      3\u001b[0m \u001b[38;5;66;03m# def conv_loc(row):\u001b[39;00m\n\u001b[1;32m      4\u001b[0m \u001b[38;5;66;03m#     return float(row.replace(\",\", \".\"))\u001b[39;00m\n\u001b[0;32m----> 5\u001b[0m df[\u001b[38;5;124m'\u001b[39m\u001b[38;5;124mlatitude_IG\u001b[39m\u001b[38;5;124m'\u001b[39m] \u001b[38;5;241m=\u001b[39m df[\u001b[38;5;124m'\u001b[39m\u001b[38;5;124mlatitude_IG\u001b[39m\u001b[38;5;124m'\u001b[39m]\u001b[38;5;241m.\u001b[39mapply(\u001b[43mconv_loc\u001b[49m)\n\u001b[1;32m      6\u001b[0m df[\u001b[38;5;124m'\u001b[39m\u001b[38;5;124mlongitud_IG\u001b[39m\u001b[38;5;124m'\u001b[39m] \u001b[38;5;241m=\u001b[39m df[\u001b[38;5;124m'\u001b[39m\u001b[38;5;124mlongitud_IG\u001b[39m\u001b[38;5;124m'\u001b[39m]\u001b[38;5;241m.\u001b[39mapply(conv_loc)\n",
      "\u001b[0;31mNameError\u001b[0m: name 'conv_loc' is not defined"
     ]
    }
   ],
   "source": [
    "#convertir los datos <objt> a <float>\n",
    "df = df.dropna()\n",
    "# def conv_loc(row):\n",
    "#     return float(row.replace(\",\", \".\"))\n",
    "df['latitude_IG'] = df['latitude_IG'].apply(conv_loc)\n",
    "df['longitud_IG'] = df['longitud_IG'].apply(conv_loc)"
   ]
  },
  {
   "cell_type": "code",
   "execution_count": 29,
   "metadata": {
    "colab": {
     "base_uri": "https://localhost:8080/",
     "height": 685
    },
    "executionInfo": {
     "elapsed": 273,
     "status": "ok",
     "timestamp": 1696800915980,
     "user": {
      "displayName": "DANIEL ALEXIS NIETO MORA",
      "userId": "09305600849699039845"
     },
     "user_tz": 300
    },
    "id": "oNycU9IHxo0F",
    "outputId": "a8641e79-67a4-4df2-d903-6528d3564aed"
   },
   "outputs": [
    {
     "data": {
      "text/html": [
       "<div style=\"width:100%;\"><div style=\"position:relative;width:100%;height:0;padding-bottom:60%;\"><span style=\"color:#565656\">Make this Notebook Trusted to load map: File -> Trust Notebook</span><iframe srcdoc=\"&lt;!DOCTYPE html&gt;\n",
       "&lt;html&gt;\n",
       "&lt;head&gt;\n",
       "    \n",
       "    &lt;meta http-equiv=&quot;content-type&quot; content=&quot;text/html; charset=UTF-8&quot; /&gt;\n",
       "    \n",
       "        &lt;script&gt;\n",
       "            L_NO_TOUCH = false;\n",
       "            L_DISABLE_3D = false;\n",
       "        &lt;/script&gt;\n",
       "    \n",
       "    &lt;style&gt;html, body {width: 100%;height: 100%;margin: 0;padding: 0;}&lt;/style&gt;\n",
       "    &lt;style&gt;#map {position:absolute;top:0;bottom:0;right:0;left:0;}&lt;/style&gt;\n",
       "    &lt;script src=&quot;https://cdn.jsdelivr.net/npm/leaflet@1.9.3/dist/leaflet.js&quot;&gt;&lt;/script&gt;\n",
       "    &lt;script src=&quot;https://code.jquery.com/jquery-1.12.4.min.js&quot;&gt;&lt;/script&gt;\n",
       "    &lt;script src=&quot;https://cdn.jsdelivr.net/npm/bootstrap@5.2.2/dist/js/bootstrap.bundle.min.js&quot;&gt;&lt;/script&gt;\n",
       "    &lt;script src=&quot;https://cdnjs.cloudflare.com/ajax/libs/Leaflet.awesome-markers/2.0.2/leaflet.awesome-markers.js&quot;&gt;&lt;/script&gt;\n",
       "    &lt;link rel=&quot;stylesheet&quot; href=&quot;https://cdn.jsdelivr.net/npm/leaflet@1.9.3/dist/leaflet.css&quot;/&gt;\n",
       "    &lt;link rel=&quot;stylesheet&quot; href=&quot;https://cdn.jsdelivr.net/npm/bootstrap@5.2.2/dist/css/bootstrap.min.css&quot;/&gt;\n",
       "    &lt;link rel=&quot;stylesheet&quot; href=&quot;https://netdna.bootstrapcdn.com/bootstrap/3.0.0/css/bootstrap.min.css&quot;/&gt;\n",
       "    &lt;link rel=&quot;stylesheet&quot; href=&quot;https://cdn.jsdelivr.net/npm/@fortawesome/fontawesome-free@6.2.0/css/all.min.css&quot;/&gt;\n",
       "    &lt;link rel=&quot;stylesheet&quot; href=&quot;https://cdnjs.cloudflare.com/ajax/libs/Leaflet.awesome-markers/2.0.2/leaflet.awesome-markers.css&quot;/&gt;\n",
       "    &lt;link rel=&quot;stylesheet&quot; href=&quot;https://cdn.jsdelivr.net/gh/python-visualization/folium/folium/templates/leaflet.awesome.rotate.min.css&quot;/&gt;\n",
       "    \n",
       "            &lt;meta name=&quot;viewport&quot; content=&quot;width=device-width,\n",
       "                initial-scale=1.0, maximum-scale=1.0, user-scalable=no&quot; /&gt;\n",
       "            &lt;style&gt;\n",
       "                #map_b6bcc5e6ccdfeaf89f44b0a6e62ec33d {\n",
       "                    position: relative;\n",
       "                    width: 100.0%;\n",
       "                    height: 100.0%;\n",
       "                    left: 0.0%;\n",
       "                    top: 0.0%;\n",
       "                }\n",
       "                .leaflet-container { font-size: 1rem; }\n",
       "            &lt;/style&gt;\n",
       "        \n",
       "    &lt;script src=&quot;https://cdn.jsdelivr.net/gh/python-visualization/folium@main/folium/templates/leaflet_heat.min.js&quot;&gt;&lt;/script&gt;\n",
       "&lt;/head&gt;\n",
       "&lt;body&gt;\n",
       "    \n",
       "    \n",
       "            &lt;div class=&quot;folium-map&quot; id=&quot;map_b6bcc5e6ccdfeaf89f44b0a6e62ec33d&quot; &gt;&lt;/div&gt;\n",
       "        \n",
       "&lt;/body&gt;\n",
       "&lt;script&gt;\n",
       "    \n",
       "    \n",
       "            var map_b6bcc5e6ccdfeaf89f44b0a6e62ec33d = L.map(\n",
       "                &quot;map_b6bcc5e6ccdfeaf89f44b0a6e62ec33d&quot;,\n",
       "                {\n",
       "                    center: [3.523199, -73.411489],\n",
       "                    crs: L.CRS.EPSG3857,\n",
       "                    zoom: 13.5,\n",
       "                    zoomControl: true,\n",
       "                    preferCanvas: false,\n",
       "                }\n",
       "            );\n",
       "\n",
       "            \n",
       "\n",
       "        \n",
       "    \n",
       "            var tile_layer_52b19cd531c0c0cddc8a0d5f9ee85722 = L.tileLayer(\n",
       "                &quot;https://{s}.tile.openstreetmap.org/{z}/{x}/{y}.png&quot;,\n",
       "                {&quot;attribution&quot;: &quot;Data by \\u0026copy; \\u003ca target=\\&quot;_blank\\&quot; href=\\&quot;http://openstreetmap.org\\&quot;\\u003eOpenStreetMap\\u003c/a\\u003e, under \\u003ca target=\\&quot;_blank\\&quot; href=\\&quot;http://www.openstreetmap.org/copyright\\&quot;\\u003eODbL\\u003c/a\\u003e.&quot;, &quot;detectRetina&quot;: false, &quot;maxNativeZoom&quot;: 18, &quot;maxZoom&quot;: 18, &quot;minZoom&quot;: 0, &quot;noWrap&quot;: false, &quot;opacity&quot;: 1, &quot;subdomains&quot;: &quot;abc&quot;, &quot;tms&quot;: false}\n",
       "            ).addTo(map_b6bcc5e6ccdfeaf89f44b0a6e62ec33d);\n",
       "        \n",
       "    \n",
       "            var heat_map_d95d80477a78722beef2c4b689800a85 = L.heatLayer(\n",
       "                [[3.55586, -73.411659, 486.0], [3.5522694, -73.4116585, 243.0], [3.5487842, -73.41152, 56.0], [3.5486414, -73.4117257, 282.0], [3.5449814, -73.4115144, 257.0], [3.541357, -73.4115714, 447.0], [3.5378482, -73.4114886, 225.0], [3.53451, -73.4113688, 88.0], [3.5306852, -73.4116395, 399.0], [3.5270875, -73.4120533, 94.0], [3.5232767, -73.4117267, 61.0], [3.5558748, -73.4080305, 142.0], [3.5519733, -73.407822, 306.0], [3.5519733, -73.407822, 242.0], [3.548788, -73.4079323, 42.0], [3.5452143, -73.408125, 25.0], [3.5414035, -73.4080353, 129.0], [3.5377706, -73.4073639, 468.0], [3.5339204, -73.4079365, 149.0], [3.5305841, -73.4078713, 436.0], [3.5269836, -73.4079213, 201.0], [3.5235147, -73.4083064, 341.0], [3.520385, -73.4076433, 464.0], [3.5556609, -73.4046697, 263.0], [3.5522801, -73.4042293, 57.0], [3.5486698, -73.4044693, 450.0], [3.5448921, -73.4042325, 147.0], [3.54505, -73.4042325, 383.0], [3.5414907, -73.4043366, 459.0], [3.537707, -73.4043351, 9.0], [3.5340425, -73.4044158, 176.0], [3.5306657, -73.404327, 19.0], [3.5269262, -73.4042486, 302.0], [3.5234838, -73.4041044, 4.0], [3.5197399, -73.4044419, 179.0], [3.515825, -73.40463, 173.0], [3.5557345, -73.4007442, 196.0], [3.5526071, -73.400668, 86.0], [3.5484844, -73.400941, 23.0], [3.5449771, -73.4008138, 145.0], [3.5413791, -73.4013883, 460.0], [3.5341646, -73.4007694, 19.0], [3.5341718, -73.4007314, 472.0], [3.5303421, -73.4009072, 288.0], [3.5269333, -73.4008, 122.0], [3.5231568, -73.400679, 221.0], [3.5199244, -73.4007633, 108.0], [3.5160464, -73.4007745, 247.0], [3.5125133, -73.4008033, 149.0], [3.5561279, -73.3972735, 326.0], [3.5522013, -73.3974511, 218.0], [3.5487094, -73.3972194, 117.0], [3.5449914, -73.3972399, 216.0], [3.5417191, -73.3970045, 114.0], [3.5376399, -73.3972562, 204.0], [3.5342635, -73.3972241, 17.0], [3.5302745, -73.3973067, 342.0], [3.5270035, -73.3969894, 336.0], [3.5231737, -73.3970715, 470.0], [3.5199658, -73.3971929, 189.0], [3.5160315, -73.3972121, 27.0], [3.5123433, -73.3969633, 247.0], [3.5524314, -73.3935531, 361.0], [3.5489585, -73.3935549, 402.0], [3.5450633, -73.393795, 243.0], [3.5415933, -73.39329, 270.0], [3.5378833, -73.393565, 277.0], [3.5341039, -73.3937334, 46.0], [3.5306064, -73.3935467, 104.0], [3.5270288, -73.3936281, 494.0], [3.523387, -73.3934064, 412.0], [3.5195729, -73.3934394, 465.0], [3.5161824, -73.3934387, 46.0], [3.5124373, -73.3936551, 440.0], [3.5524117, -73.390155, 22.0], [3.54856, -73.39011, 246.0], [3.545015, -73.38988, 139.0], [3.5413817, -73.3900267, 492.0], [3.5376934, -73.3899504, 468.0], [3.5342088, -73.3901217, 76.0], [3.5306671, -73.3899898, 457.0], [3.5269582, -73.3900327, 397.0], [3.5233018, -73.3896975, 35.0], [3.519165, -73.389476, 497.0], [3.5159883, -73.3899372, 451.0], [3.512642, -73.389965, 173.0], [3.5524467, -73.3862667, 204.0], [3.5489483, -73.3857683, 107.0], [3.5448817, -73.386605, 259.0], [3.5413297, -73.3863204, 75.0], [3.537977, -73.3863511, 28.0], [3.5342654, -73.3864111, 126.0], [3.5305017, -73.3865267, 18.0], [3.5271719, -73.386423, 395.0], [3.5235094, -73.3865415, 141.0], [3.5195896, -73.3862501, 430.0], [3.5160314, -73.3864581, 257.0], [3.5125106, -73.3863978, 470.0], [3.5235494, -73.404079, 442.0], [3.5306952, -73.4116356, 169.0], [3.5557621, -73.4007675, 264.0], [3.5231987, -73.3970825, 128.0], [3.5378484, -73.4114886, 45.0], [3.520385, -73.4076433, 138.0], [3.515825, -73.40463, 150.0], [3.5450633, -73.393795, 308.0]],\n",
       "                {&quot;blur&quot;: 15, &quot;maxZoom&quot;: 18, &quot;minOpacity&quot;: 0.5, &quot;radius&quot;: 42}\n",
       "            ).addTo(map_b6bcc5e6ccdfeaf89f44b0a6e62ec33d);\n",
       "        \n",
       "&lt;/script&gt;\n",
       "&lt;/html&gt;\" style=\"position:absolute;width:100%;height:100%;left:0;top:0;border:none !important;\" allowfullscreen webkitallowfullscreen mozallowfullscreen></iframe></div></div>"
      ],
      "text/plain": [
       "<folium.folium.Map at 0x7f55ad9007f0>"
      ]
     },
     "execution_count": 29,
     "metadata": {},
     "output_type": "execute_result"
    }
   ],
   "source": [
    "#diagramacion de los datos\n",
    "%matplotlib qt\n",
    "mapa = folium.Map(location=[3.523199, -73.411489], zoom_start=13.5)\n",
    "\n",
    "puntos = df[['latitude_IG', 'longitud_IG', 'number']].values.tolist()\n",
    "valores = df[\"number\"].tolist()\n",
    "HeatMap(puntos, radius=42, ).add_to(mapa)\n",
    "mapa"
   ]
  },
  {
   "cell_type": "code",
   "execution_count": null,
   "metadata": {
    "id": "cMTni0P1xo0G",
    "outputId": "6420aba3-6445-488d-9a65-1d62a331681b"
   },
   "outputs": [
    {
     "data": {
      "image/png": "[encoded data removed]",
      "text/plain": [
       "<Figure size 200x600 with 2 Axes>"
      ]
     },
     "metadata": {},
     "output_type": "display_data"
    }
   ],
   "source": [
    "#barra de calor\n",
    "import matplotlib.pyplot as plt\n",
    "import numpy as np\n",
    "import matplotlib.colors as mcolors\n",
    "import matplotlib.ticker as ticker\n",
    "\n",
    "data = np.random.randint(408,908, (10, 10))\n",
    "\n",
    "fig, ax = plt.subplots(figsize=(2, 6))  # Ajusta el tamaño según tus preferencias\n",
    "\n",
    "colors = ['#06EEEF', '#FFFB15', '#EE2B0A']\n",
    "cmap = mcolors.LinearSegmentedColormap.from_list('custom', colors, N=256)\n",
    "\n",
    "cax = ax.matshow(data, cmap=cmap)\n",
    "\n",
    "ax.axis('off')\n",
    "\n",
    "cbar = fig.colorbar(cax)\n",
    "\n",
    "cbar.formatter = ticker.FuncFormatter(lambda x, pos: f'{int(x):,}')\n",
    "cbar.update_ticks()\n",
    "\n",
    "plt.show()"
   ]
  }
 ],
 "metadata": {
  "colab": {
   "provenance": []
  },
  "kernelspec": {
   "display_name": "Python 3 (ipykernel)",
   "language": "python",
   "name": "python3"
  },
  "language_info": {
   "codemirror_mode": {
    "name": "ipython",
    "version": 3
   },
   "file_extension": ".py",
   "mimetype": "text/x-python",
   "name": "python",
   "nbconvert_exporter": "python",
   "pygments_lexer": "ipython3",
   "version": "3.10.4"
  }
 },
 "nbformat": 4,
 "nbformat_minor": 1
}
