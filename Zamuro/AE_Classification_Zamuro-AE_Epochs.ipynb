{
 "cells": [
  {
   "cell_type": "code",
   "execution_count": 2,
   "id": "ab1a613c",
   "metadata": {
    "ExecuteTime": {
     "end_time": "2024-08-16T15:11:58.425895Z",
     "start_time": "2024-08-16T15:11:58.420754Z"
    }
   },
   "outputs": [
    {
     "name": "stdout",
     "output_type": "stream",
     "text": [
      "Running on MIRP\n"
     ]
    }
   ],
   "source": [
    "if \"zmqshell\" in str(get_ipython()):\n",
    "    print(\"Running on MIRP\")\n",
    "    root = \"/home/mirp_ai/Documents/Daniel_Nieto/PhD/AutoEncoders_Ecoacoustics\"\n",
    "    root_path = \"/media/mirp_ai/Seagate Desktop Drive/Datos Rey Zamuro/Ultrasonido\"\n",
    "else:\n",
    "    import pathlib\n",
    "    temp = pathlib.PosixPath\n",
    "    pathlib.PosixPath = pathlib.WindowsPath\n",
    "    print(\"Running local\")"
   ]
  },
  {
   "cell_type": "code",
   "execution_count": 3,
   "id": "3f1eb0d5",
   "metadata": {},
   "outputs": [
    {
     "name": "stderr",
     "output_type": "stream",
     "text": [
      "/home/mirp_ai/anaconda3/envs/DANM/lib/python3.10/site-packages/umap/distances.py:1063: NumbaDeprecationWarning: The 'nopython' keyword argument was not supplied to the 'numba.jit' decorator. The implicit default value for this argument is currently False, but it will be changed to True in Numba 0.59.0. See https://numba.readthedocs.io/en/stable/reference/deprecation.html#deprecation-of-object-mode-fall-back-behaviour-when-using-jit for details.\n",
      "  @numba.jit()\n",
      "/home/mirp_ai/anaconda3/envs/DANM/lib/python3.10/site-packages/umap/distances.py:1071: NumbaDeprecationWarning: The 'nopython' keyword argument was not supplied to the 'numba.jit' decorator. The implicit default value for this argument is currently False, but it will be changed to True in Numba 0.59.0. See https://numba.readthedocs.io/en/stable/reference/deprecation.html#deprecation-of-object-mode-fall-back-behaviour-when-using-jit for details.\n",
      "  @numba.jit()\n",
      "/home/mirp_ai/anaconda3/envs/DANM/lib/python3.10/site-packages/umap/distances.py:1086: NumbaDeprecationWarning: The 'nopython' keyword argument was not supplied to the 'numba.jit' decorator. The implicit default value for this argument is currently False, but it will be changed to True in Numba 0.59.0. See https://numba.readthedocs.io/en/stable/reference/deprecation.html#deprecation-of-object-mode-fall-back-behaviour-when-using-jit for details.\n",
      "  @numba.jit()\n",
      "/home/mirp_ai/anaconda3/envs/DANM/lib/python3.10/site-packages/umap/umap_.py:660: NumbaDeprecationWarning: The 'nopython' keyword argument was not supplied to the 'numba.jit' decorator. The implicit default value for this argument is currently False, but it will be changed to True in Numba 0.59.0. See https://numba.readthedocs.io/en/stable/reference/deprecation.html#deprecation-of-object-mode-fall-back-behaviour-when-using-jit for details.\n",
      "  @numba.jit()\n"
     ]
    },
    {
     "data": {
      "text/plain": [
       "3019"
      ]
     },
     "execution_count": 3,
     "metadata": {},
     "output_type": "execute_result"
    }
   ],
   "source": [
    "import os\n",
    "import matplotlib.pyplot as plt\n",
    "import seaborn as sns\n",
    "import numpy as np\n",
    "\n",
    "import datetime\n",
    "import gc\n",
    "import pandas as pd\n",
    "import joypy\n",
    "\n",
    "from sklearn.preprocessing import StandardScaler\n",
    "from sklearn.preprocessing import MinMaxScaler as Normalizer\n",
    "\n",
    "import torch\n",
    "import torch.nn as nn\n",
    "\n",
    "from torch.utils.data import DataLoader\n",
    "from torch.utils.data import random_split\n",
    "\n",
    "import torchvision.datasets as datasets\n",
    "\n",
    "from Zamuro_DataLoader import SoundscapeData\n",
    "from Models import ConvAE as AE\n",
    "from AE_training_functions import TestModel, TrainModel\n",
    "from AE_Clustering import AE_Clustering \n",
    "\n",
    "device = torch.device(\"cuda\" if torch.cuda.is_available() else \"cpu\")\n",
    "\n",
    "from datetime import timedelta\n",
    "\n",
    "from sklearn.manifold import TSNE\n",
    "from sklearn.decomposition import PCA\n",
    "import umap\n",
    "\n",
    "import random\n",
    "\n",
    "\n",
    "import matplotlib.pyplot as plt\n",
    "import seaborn as sns\n",
    "def _set_seed(seed: int):\n",
    "    \"\"\"\n",
    "    Helper function for reproducible behavior to set the seed in ``random``, ``numpy``, ``torch`` and/or ``tf`` (if\n",
    "    installed).\n",
    " \n",
    "    Args:\n",
    "        seed (:obj:`int`): The seed to set.\n",
    "    \"\"\"\n",
    "    random.seed(seed)\n",
    "    np.random.seed(seed)\n",
    "    if torch.cuda.is_available():\n",
    "        torch.manual_seed(seed)\n",
    "        torch.cuda.manual_seed_all(seed)\n",
    "        # ^^ safe to call this function even if cuda is not available\n",
    "_set_seed(1024)\n",
    "\n",
    "gc.collect()"
   ]
  },
  {
   "cell_type": "code",
   "execution_count": 3,
   "id": "8577b020",
   "metadata": {},
   "outputs": [],
   "source": [
    "# PCA_ = PCA(n_components=60).fit(X_norm)\n",
    "# X_PCA = PCA_.transform(X_norm)\n",
    "# # X_TSNE = TSNE(n_components=60, learning_rate=\"auto\", init='random', random_state=0).fit_transform(X_PCA)\n",
    "# reducer = umap.UMAP(min_dist=0.9, n_components=60)\n",
    "# X_UMAP = reducer.fit_transform(X_norm)\n",
    "# X_batch = np.reshape(X_UMAP, (X_UMAP.shape[0]//5,5,X_UMAP.shape[1]))\n",
    "# # X_UMAP_Norm = Normalizer().fit_transform(X_UMAP)"
   ]
  },
  {
   "cell_type": "code",
   "execution_count": 3,
   "id": "2237d869",
   "metadata": {},
   "outputs": [],
   "source": [
    "root_audios_Zamuro = f\"{root}/Zamuro/Complementary_Files/zamuro_audios.csv\"\n",
    "root_recorders_Zamuro = f\"{root}/Zamuro/Complementary_Files/zamuro_recorders.csv\"\n",
    "\n",
    "audios = pd.read_csv(root_audios_Zamuro, index_col=0)\n",
    "recorders = pd.read_csv(root_recorders_Zamuro, index_col=0)\n",
    "\n",
    "def combinar_nombre_ubicacion(row):\n",
    "    return f\"{row['field_number_PR']}_{row['Filename']}\"\n",
    "\n",
    "# Aplicando la función a cada fila del DataFrame para crear la nueva columna\n",
    "audios['Filename_'] = audios.apply(combinar_nombre_ubicacion, axis=1)\n",
    "\n",
    "audios.set_index(\"Filename_\", inplace=True)"
   ]
  },
  {
   "cell_type": "markdown",
   "id": "3f927c49",
   "metadata": {},
   "source": [
    "# AE Model"
   ]
  },
  {
   "cell_type": "code",
   "execution_count": 1,
   "id": "2a1e154a",
   "metadata": {},
   "outputs": [
    {
     "ename": "NameError",
     "evalue": "name 'torch' is not defined",
     "output_type": "error",
     "traceback": [
      "\u001b[0;31m---------------------------------------------------------------------------\u001b[0m",
      "\u001b[0;31mNameError\u001b[0m                                 Traceback (most recent call last)",
      "Cell \u001b[0;32mIn [1], line 13\u001b[0m\n\u001b[1;32m     10\u001b[0m recalls \u001b[38;5;241m=\u001b[39m []\n\u001b[1;32m     11\u001b[0m \u001b[38;5;28;01mfor\u001b[39;00m  i, mod_id \u001b[38;5;129;01min\u001b[39;00m \u001b[38;5;28menumerate\u001b[39m(models):\n\u001b[0;32m---> 13\u001b[0m     X_ae \u001b[38;5;241m=\u001b[39m \u001b[43mtorch\u001b[49m\u001b[38;5;241m.\u001b[39mload(\u001b[38;5;124mf\u001b[39m\u001b[38;5;124m\"\u001b[39m\u001b[38;5;132;01m{\u001b[39;00mroot\u001b[38;5;132;01m}\u001b[39;00m\u001b[38;5;124m/Zamuro/temporal_zamuro/Features/log_standarization_epochs_10/\u001b[39m\u001b[38;5;132;01m{\u001b[39;00mmod_id\u001b[38;5;132;01m}\u001b[39;00m\u001b[38;5;124m/AE_features_Zamuro.pth\u001b[39m\u001b[38;5;124m\"\u001b[39m,  map_location\u001b[38;5;241m=\u001b[39mtorch\u001b[38;5;241m.\u001b[39mdevice(\u001b[38;5;124m'\u001b[39m\u001b[38;5;124mcpu\u001b[39m\u001b[38;5;124m'\u001b[39m))\n\u001b[1;32m     14\u001b[0m     X_ae \u001b[38;5;241m=\u001b[39m np\u001b[38;5;241m.\u001b[39masarray(X_ae)\n\u001b[1;32m     15\u001b[0m     y_path \u001b[38;5;241m=\u001b[39m torch\u001b[38;5;241m.\u001b[39mload(\u001b[38;5;124mf\u001b[39m\u001b[38;5;124m\"\u001b[39m\u001b[38;5;132;01m{\u001b[39;00mroot\u001b[38;5;132;01m}\u001b[39;00m\u001b[38;5;124m/Zamuro/temporal_zamuro/Features/log_standarization_epochs_10/\u001b[39m\u001b[38;5;132;01m{\u001b[39;00mmod_id\u001b[38;5;132;01m}\u001b[39;00m\u001b[38;5;124m/AE_test_path_samples_Zamuro.pth\u001b[39m\u001b[38;5;124m\"\u001b[39m,  map_location\u001b[38;5;241m=\u001b[39mtorch\u001b[38;5;241m.\u001b[39mdevice(\u001b[38;5;124m'\u001b[39m\u001b[38;5;124mcpu\u001b[39m\u001b[38;5;124m'\u001b[39m))\n",
      "\u001b[0;31mNameError\u001b[0m: name 'torch' is not defined"
     ]
    }
   ],
   "source": [
    "from sklearn import svm\n",
    "from sklearn.model_selection import train_test_split\n",
    "from sklearn.ensemble import RandomForestClassifier\n",
    "from sklearn import metrics\n",
    "\n",
    "models = [1,3,5,7,10,20,30,40,50]\n",
    "\n",
    "accuracies = []\n",
    "f1_scores = []\n",
    "recalls = []\n",
    "for  i, mod_id in enumerate(models):\n",
    "\n",
    "    X_ae = torch.load(f\"{root}/Zamuro/temporal_zamuro/Features/log_standarization_epochs_10/{mod_id}/AE_features_Zamuro.pth\",  map_location=torch.device('cpu'))\n",
    "    X_ae = np.asarray(X_ae)\n",
    "    y_path = torch.load(f\"{root}/Zamuro/temporal_zamuro/Features/log_standarization_epochs_10/{mod_id}/AE_test_path_samples_Zamuro.pth\",  map_location=torch.device('cpu'))\n",
    "    \n",
    "    y = np.asarray(y_path)\n",
    "    y_2 = y[:,0]\n",
    "    for i in range(len(y_2)):\n",
    "        y_2[i] = y_2[i][0:-2] \n",
    "    y_2 = list(y_2)\n",
    "    y_3 = np.repeat(y_2, 5)\n",
    "    labels_ae = []\n",
    "    for i in range(len(y_2)):\n",
    "        labels_ae.append(audios.loc[y_2[i], \"cover\"])\n",
    "        \n",
    "    X_ae = np.reshape(X_ae, [X_ae.shape[0]//5, 5, X_ae.shape[1]])\n",
    "        \n",
    "    X_train, X_test, y_train, y_test = train_test_split(X_ae, labels_ae, test_size=0.2,random_state=0)\n",
    "    \n",
    "    X_train = np.reshape(X_train, [X_train.shape[0]*5, X_train.shape[2]])\n",
    "    X_test = np.reshape(X_test, [X_test.shape[0]*5, X_test.shape[2]])\n",
    "    \n",
    "    y_train = np.repeat(y_train,5)\n",
    "    y_test = np.repeat(y_test,5)\n",
    "    \n",
    "    \n",
    "    \n",
    "    clf_rf = RandomForestClassifier(max_depth=32, random_state=0, n_jobs=-1)\n",
    "    clf_rf.fit(X_train, y_train)\n",
    "\n",
    "    y_pred_rf = clf_rf.predict(X_test)\n",
    "    accuracy = metrics.accuracy_score(y_test, y_pred_rf)\n",
    "    f1_score = metrics.f1_score(y_test, y_pred_rf, average=\"macro\")\n",
    "    recall = metrics.recall_score(y_test, y_pred_rf, average=\"macro\")\n",
    "    print(\"Accuracy:\", accuracy)\n",
    "    print(\"f1:\", f1_score)\n",
    "    print(\"recall\", recall)\n",
    "    \n",
    "    accuracies.append(accuracy)\n",
    "    f1_scores.append(f1_score)\n",
    "    recalls.append(recall)\n",
    "    \n",
    "np.save(f\"{root}/Zamuro/temporal_zamuro/zamuro_classification_results/accuracies.npy\", accuracies)\n",
    "np.save(f\"{root}/Zamuro/temporal_zamuro/zamuro_classification_results/f1_scores.npy\", f1_scores)\n",
    "np.save(f\"{root}/Zamuro/temporal_zamuro/zamuro_classification_results/recalls.npy\", recalls)\n",
    "\n",
    "# X_ae = torch.load(f\"{root}/Zamuro/temporal_zamuro/Features/log_standarization_epochs_10/AE_features_Zamuro.pth\",  map_location=torch.device('cpu'))\n",
    "# X_ae = np.asarray(X_ae)\n",
    "# y_path = torch.load(f\"{root}/Zamuro/temporal_zamuro/Features/log_standarization_epochs_10/AE_test_path_samples_Zamuro.pth\",  map_location=torch.device('cpu'))\n",
    "\n",
    "# scaler = StandardScaler().fit(X_ae)\n",
    "# X_scaled = scaler.transform(X_ae)\n",
    "\n",
    "# Normalizer_ = Normalizer().fit(X_ae)\n",
    "# X_norm = Normalizer_.transform(X_ae)\n"
   ]
  },
  {
   "cell_type": "markdown",
   "id": "ecdfd858",
   "metadata": {},
   "source": [
    "## 5 segments flattened "
   ]
  },
  {
   "cell_type": "code",
   "execution_count": 21,
   "id": "eda905f6",
   "metadata": {},
   "outputs": [],
   "source": [
    "X_ae = torch.load(f\"{root}/Zamuro/temporal_zamuro/Features/log_standarization_epochs_10/AE_features_Zamuro.pth\",  map_location=torch.device('cpu'))\n",
    "X_ae = np.asarray(X_ae)\n",
    "y_path = torch.load(f\"{root}/Zamuro/temporal_zamuro/Features/log_standarization_epochs_10/AE_test_path_samples_Zamuro.pth\",  map_location=torch.device('cpu'))\n",
    "\n",
    "y = np.asarray(y_path)\n",
    "y_2 = y[:,0]\n",
    "for i in range(len(y_2)):\n",
    "    y_2[i] = y_2[i][0:-2] \n",
    "y_2 = list(y_2)\n",
    "y_3 = np.repeat(y_2, 5)\n",
    "labels_ae = []\n",
    "for i in range(len(y_3)):\n",
    "    labels_ae.append(audios.loc[y_3[i], \"cover\"])\n",
    "\n",
    "df_ae = pd.DataFrame(X_ae)\n",
    "df_ae[\"y\"] = y_3"
   ]
  },
  {
   "cell_type": "code",
   "execution_count": 23,
   "id": "7ebe130d",
   "metadata": {},
   "outputs": [
    {
     "data": {
      "text/plain": [
       "65064"
      ]
     },
     "execution_count": 23,
     "metadata": {},
     "output_type": "execute_result"
    }
   ],
   "source": [
    "X_ae.shape[0]//5"
   ]
  },
  {
   "cell_type": "code",
   "execution_count": 5,
   "id": "42d728ad",
   "metadata": {},
   "outputs": [],
   "source": [
    "def extract_parts(row):\n",
    "    parts = row.split('_')\n",
    "    location = parts[0]\n",
    "    date = parts[1]\n",
    "    time = parts[2].split('.')[0]  # Eliminar la extensión .WAV\n",
    "    day = date[-2:]  # Últimos dos caracteres para el día\n",
    "    hour = time[:2]\n",
    "    return pd.Series([location, day, hour])\n",
    "\n",
    "# Aplicar la función a la columna 'y' y crear nuevas columnas\n",
    "df_ae[['location', 'day', 'hour']] =df_ae['y'].apply(extract_parts)\n",
    "\n",
    "def define_hour_stage(hour):\n",
    "    hour = int(hour)\n",
    "    if 5 <= hour <= 8:\n",
    "        return 'morning'\n",
    "    elif 9 <= hour <= 16:\n",
    "        return 'day'\n",
    "    else:\n",
    "        return 'night'\n",
    "\n",
    "df_ae['hour_stage'] =df_ae['hour'].apply(define_hour_stage)\n",
    "df_ae.set_index(\"y\", inplace=True, drop=False)\n",
    "df_ae['cover'] = df_ae.index.map(audios['cover'])"
   ]
  },
  {
   "cell_type": "code",
   "execution_count": null,
   "id": "d0937b00",
   "metadata": {},
   "outputs": [],
   "source": [
    "from sklearn import svm\n",
    "from sklearn.model_selection import train_test_split\n",
    "from sklearn.ensemble import RandomForestClassifier\n",
    "from sklearn import metrics\n",
    "\n",
    "df_day={}\n",
    "accuracies_ae = []\n",
    "f1_scores_ae = []\n",
    "recalls_ae = []\n",
    "for i in [\"03\",\"04\",\"05\",\"06\",\"07\",\"08\",\"09\",\"10\",\"11\",\"12\",\"13\"]:\n",
    "    df_day = df_ae[df_ae['day'].isin([i])]\n",
    "    X = np.asarray(df_day.loc[:,0:5183])\n",
    "    y = np.asarray(df_day.loc[:,\"cover\"])\n",
    "    X_train, X_test, y_train, y_test = train_test_split(X, y, test_size=0.2,random_state=0)\n",
    "    clf_rf = RandomForestClassifier(max_depth=32, random_state=0, n_jobs=-1)\n",
    "    clf_rf.fit(X_train, y_train)\n",
    "    y_pred_rf = clf_rf.predict(X_test)\n",
    "    accuracy = metrics.accuracy_score(y_test, y_pred_rf)\n",
    "    f1_score = metrics.f1_score(y_test, y_pred_rf, average=\"macro\")\n",
    "    recall = metrics.recall_score(y_test, y_pred_rf, average=\"macro\")\n",
    "    print(\"Accuracy:\", accuracy)\n",
    "    print(\"f1:\", f1_score)\n",
    "    print(\"recall\", recall)\n",
    "\n",
    "    accuracies_ae.append(accuracy)\n",
    "    f1_scores_ae.append(f1_score)\n",
    "    recalls_ae.append(recall)\n",
    "    \n",
    "np.save(f\"{root}/Zamuro/temporal_zamuro/zamuro_classification_results/accuracies_ae.npy\", accuracies_ae)\n",
    "np.save(f\"{root}/Zamuro/temporal_zamuro/zamuro_classification_results/f1_scores_ae.npy\", f1_scores_ae)\n",
    "np.save(f\"{root}/Zamuro/temporal_zamuro/zamuro_classification_results/recalls_ae.npy\", recalls_ae)"
   ]
  },
  {
   "cell_type": "markdown",
   "id": "e2c7f53d",
   "metadata": {},
   "source": [
    "## UNFLAT Mean"
   ]
  },
  {
   "cell_type": "code",
   "execution_count": 24,
   "id": "036b7161",
   "metadata": {},
   "outputs": [
    {
     "name": "stdout",
     "output_type": "stream",
     "text": [
      "(325320, 5184)\n",
      "(65064, 5, 5184)\n",
      "(65064, 25920)\n",
      "(65064, 5, 5184)\n",
      "(325320, 5184)\n",
      "True\n"
     ]
    }
   ],
   "source": [
    "print(X_ae.shape)\n",
    "X_ae_unflat = np.reshape(X_ae, [X_ae.shape[0]//5,5,X_ae.shape[1]])\n",
    "print(X_ae_unflat.shape)\n",
    "X_ae_unflat2 = np.reshape(X_ae_unflat, [X_ae_unflat.shape[0], X_ae_unflat.shape[1]*X_ae_unflat.shape[2]])\n",
    "print(X_ae_unflat2.shape)\n",
    "X_ae_unflat3 = np.reshape(X_ae_unflat2, [X_ae_unflat2.shape[0], 5, X_ae_unflat2.shape[1]//5])\n",
    "print(X_ae_unflat3.shape)\n",
    "X_ae_flat = np.reshape(X_ae_unflat3, [X_ae_unflat3.shape[0]*5,X_ae_unflat3.shape[2]])\n",
    "print(X_ae_flat.shape)\n",
    "print((X_ae_flat == X_ae).all())"
   ]
  },
  {
   "cell_type": "code",
   "execution_count": 31,
   "id": "2e85b357",
   "metadata": {},
   "outputs": [],
   "source": [
    "X_ae_unflat = np.reshape(X_ae, [X_ae.shape[0]//5,5,X_ae.shape[1]])\n",
    "# X_ae_unflat = X_ae_unflat2.mean(axis=1)\n",
    "# X_ae_unflat = np.median(X_ae_unflat, axis=1)\n",
    "X_ae_unflat = np.reshape(X_ae_unflat, [X_ae_unflat.shape[0], X_ae_unflat.shape[1]*X_ae_unflat.shape[2]])\n",
    "df_ae_unflat = pd.DataFrame(X_ae_unflat)\n",
    "df_ae_unflat[\"y\"] = y_2"
   ]
  },
  {
   "cell_type": "code",
   "execution_count": 33,
   "id": "1ad1851b",
   "metadata": {},
   "outputs": [],
   "source": [
    "def extract_parts(row):\n",
    "    parts = row.split('_')\n",
    "    location = parts[0]\n",
    "    date = parts[1]\n",
    "    time = parts[2].split('.')[0]  # Eliminar la extensión .WAV\n",
    "    day = date[-2:]  # Últimos dos caracteres para el día\n",
    "    hour = time[:2]\n",
    "    return pd.Series([location, day, hour])\n",
    "\n",
    "# Aplicar la función a la columna 'y' y crear nuevas columnas\n",
    "df_ae_unflat[['location', 'day', 'hour']] =df_ae_unflat['y'].apply(extract_parts)\n",
    "\n",
    "def define_hour_stage(hour):\n",
    "    hour = int(hour)\n",
    "    if 5 <= hour <= 8:\n",
    "        return 'morning'\n",
    "    elif 9 <= hour <= 16:\n",
    "        return 'day'\n",
    "    else:\n",
    "        return 'night'\n",
    "\n",
    "df_ae_unflat['hour_stage'] =df_ae_unflat['hour'].apply(define_hour_stage)\n",
    "df_ae_unflat.set_index(\"y\", inplace=True, drop=False)\n",
    "df_ae_unflat['cover'] = df_ae_unflat.index.map(audios['cover'])\n",
    "df_ae_unflat['rain_FI'] = df_ae_unflat.index.map(audios['rain_FI'])\n",
    "# df_ae_unflat['habitat'] = df_ae_unflat.index.map(audios['habitat'])\n",
    "df_ae_unflat = df_ae_unflat[df_ae_unflat['rain_FI'] == 'NO']\n",
    "df_ae_unflat = df_ae_unflat.dropna()"
   ]
  },
  {
   "cell_type": "code",
   "execution_count": 4,
   "id": "06d366e9",
   "metadata": {},
   "outputs": [
    {
     "ename": "NameError",
     "evalue": "name 'df_ae_unflat' is not defined",
     "output_type": "error",
     "traceback": [
      "\u001b[0;31m---------------------------------------------------------------------------\u001b[0m",
      "\u001b[0;31mNameError\u001b[0m                                 Traceback (most recent call last)",
      "Cell \u001b[0;32mIn [4], line 1\u001b[0m\n\u001b[0;32m----> 1\u001b[0m \u001b[43mdf_ae_unflat\u001b[49m\u001b[38;5;241m.\u001b[39mto_csv(\u001b[38;5;124m'\u001b[39m\u001b[38;5;124mdf_ae_unflat.csv\u001b[39m\u001b[38;5;124m'\u001b[39m, index\u001b[38;5;241m=\u001b[39m\u001b[38;5;28;01mFalse\u001b[39;00m)\n",
      "\u001b[0;31mNameError\u001b[0m: name 'df_ae_unflat' is not defined"
     ]
    }
   ],
   "source": [
    "df_ae_unflat.to_csv('df_ae_unflat.csv', index=False) "
   ]
  },
  {
   "cell_type": "code",
   "execution_count": 4,
   "id": "38f62b0d",
   "metadata": {},
   "outputs": [],
   "source": [
    "df_ae_unflat = pd.read_csv(\"New_df_ae_unflat.csv\")\n",
    "df_ae_unflat.set_index(\"y\", inplace=True)\n",
    "df_ae_unflat"
   ]
  },
  {
   "cell_type": "markdown",
   "id": "752b2cfa",
   "metadata": {},
   "source": [
    "## All classification covers"
   ]
  },
  {
   "cell_type": "code",
   "execution_count": 38,
   "id": "0117b44d",
   "metadata": {},
   "outputs": [
    {
     "name": "stdout",
     "output_type": "stream",
     "text": [
      "Accuracy: 0.8186766776161426\n",
      "f1: 0.7643747709459813\n",
      "recall 0.7420121713370476\n",
      "[[0.12707649 0.04981699 0.02263726]\n",
      " [0.01041764 0.54702956 0.0145847 ]\n",
      " [0.02907555 0.05479118 0.14457062]]\n",
      "[[ 6770  2654  1206]\n",
      " [  555 29143   777]\n",
      " [ 1549  2919  7702]]\n"
     ]
    },
    {
     "data": {
      "image/png": "[encoded data removed]",
      "text/plain": [
       "<Figure size 640x480 with 2 Axes>"
      ]
     },
     "metadata": {},
     "output_type": "display_data"
    }
   ],
   "source": [
    "from sklearn import svm\n",
    "from sklearn.model_selection import train_test_split\n",
    "from sklearn.ensemble import RandomForestClassifier\n",
    "from sklearn import metrics\n",
    "\n",
    "X = np.asarray(df_ae_unflat.iloc[:,0:25920])\n",
    "y = np.asarray(df_ae_unflat.loc[:,\"cover\"])\n",
    "X = np.reshape(X, [X.shape[0], 5, X.shape[1]//5])\n",
    "X_train, X_test, y_train, y_test = train_test_split(X, y, test_size=0.2,random_state=0)\n",
    "X_train = np.reshape(X_train, [X_train.shape[0]*5,X_train.shape[2]])\n",
    "X_test = np.reshape(X_test, [X_test.shape[0]*5,X_test.shape[2]])\n",
    "y_train = np.repeat(y_train,5)\n",
    "y_test = np.repeat(y_test,5)\n",
    "clf_rf = RandomForestClassifier(max_depth=32, random_state=0, n_jobs=-1)\n",
    "clf_rf.fit(X_train, y_train)\n",
    "y_pred_rf = clf_rf.predict(X_test)\n",
    "accuracy = metrics.accuracy_score(y_test, y_pred_rf)\n",
    "f1_score = metrics.f1_score(y_test, y_pred_rf, average=\"macro\")\n",
    "recall = metrics.recall_score(y_test, y_pred_rf, average=\"macro\")\n",
    "print(\"Accuracy:\", accuracy)\n",
    "print(\"f1:\", f1_score)\n",
    "print(\"recall\", recall)\n",
    "\n",
    "\n",
    "confusion_matrix = metrics.confusion_matrix(y_test, y_pred_rf)\n",
    "confusion_matrix_norm = metrics.confusion_matrix(y_test, y_pred_rf, normalize=\"all\")\n",
    "print(confusion_matrix_norm)\n",
    "print(confusion_matrix)\n",
    "cm_display = metrics.ConfusionMatrixDisplay(confusion_matrix = confusion_matrix_norm, display_labels = [\"forest\", \"pasture\", \"savanna\"])\n",
    "cm_display.plot()\n",
    "plt.show()\n",
    "\n"
   ]
  },
  {
   "cell_type": "markdown",
   "id": "8d17b90b",
   "metadata": {},
   "source": [
    "## All classification hours"
   ]
  },
  {
   "cell_type": "code",
   "execution_count": 6,
   "id": "c5ef99d5",
   "metadata": {},
   "outputs": [
    {
     "name": "stdout",
     "output_type": "stream",
     "text": [
      "Accuracy: 0.8363397465978414\n",
      "f1: 0.7593890815743308\n",
      "recall 0.7476706704247329\n",
      "[[0.3038198  0.01392773 0.01880807]\n",
      " [0.0605725  0.06661661 0.03489442]\n",
      " [0.02714219 0.00831534 0.46590333]]\n",
      "[[16186   742  1002]\n",
      " [ 3227  3549  1859]\n",
      " [ 1446   443 24821]]\n"
     ]
    },
    {
     "data": {
      "image/png": "[encoded data removed]",
      "text/plain": [
       "<Figure size 640x480 with 2 Axes>"
      ]
     },
     "metadata": {},
     "output_type": "display_data"
    }
   ],
   "source": [
    "from sklearn import svm\n",
    "from sklearn.model_selection import train_test_split\n",
    "from sklearn.ensemble import RandomForestClassifier\n",
    "from sklearn import metrics\n",
    "\n",
    "X = np.asarray(df_ae_unflat.iloc[:,0:25920])\n",
    "y = np.asarray(df_ae_unflat.loc[:,\"hour_stage\"])\n",
    "X = np.reshape(X, [X.shape[0], 5, X.shape[1]//5])\n",
    "X_train, X_test, y_train, y_test = train_test_split(X, y, test_size=0.2,random_state=0)\n",
    "X_train = np.reshape(X_train, [X_train.shape[0]*5,X_train.shape[2]])\n",
    "X_test = np.reshape(X_test, [X_test.shape[0]*5,X_test.shape[2]])\n",
    "y_train = np.repeat(y_train,5)\n",
    "y_test = np.repeat(y_test,5)\n",
    "clf_rf = RandomForestClassifier(max_depth=32, random_state=0, n_jobs=-1)\n",
    "clf_rf.fit(X_train, y_train)\n",
    "y_pred_rf = clf_rf.predict(X_test)\n",
    "accuracy = metrics.accuracy_score(y_test, y_pred_rf)\n",
    "f1_score = metrics.f1_score(y_test, y_pred_rf, average=\"macro\")\n",
    "recall = metrics.recall_score(y_test, y_pred_rf, average=\"macro\")\n",
    "print(\"Accuracy:\", accuracy)\n",
    "print(\"f1:\", f1_score)\n",
    "print(\"recall\", recall)\n",
    "\n",
    "\n",
    "confusion_matrix = metrics.confusion_matrix(y_test, y_pred_rf)\n",
    "confusion_matrix_norm = metrics.confusion_matrix(y_test, y_pred_rf, normalize=\"all\")\n",
    "print(confusion_matrix_norm)\n",
    "print(confusion_matrix)\n",
    "cm_display = metrics.ConfusionMatrixDisplay(confusion_matrix = confusion_matrix_norm, display_labels = [\"day\", \"morning\", \"night\"])\n",
    "cm_display.plot()\n",
    "plt.show()\n"
   ]
  },
  {
   "cell_type": "markdown",
   "id": "c82ea36a",
   "metadata": {},
   "source": [
    "## Cover Classification"
   ]
  },
  {
   "cell_type": "code",
   "execution_count": 43,
   "id": "6e8dad4f",
   "metadata": {},
   "outputs": [
    {
     "name": "stdout",
     "output_type": "stream",
     "text": [
      "Accuracy: 0.8662650602409638\n",
      "f1: 0.7753242713678086\n",
      "recall 0.7391291291291292\n",
      "Accuracy: 0.8700122399020808\n",
      "f1: 0.8093067613339396\n",
      "recall 0.7879184806784755\n",
      "Accuracy: 0.8315378610460578\n",
      "f1: 0.7939973560107022\n",
      "recall 0.7749281451411436\n",
      "Accuracy: 0.8140013726835964\n",
      "f1: 0.7689633559537318\n",
      "recall 0.7501766761851812\n",
      "Accuracy: 0.8051140290255702\n",
      "f1: 0.7447106715418518\n",
      "recall 0.7190642499254808\n",
      "Accuracy: 0.777933177933178\n",
      "f1: 0.7055653342938027\n",
      "recall 0.6811955531255696\n",
      "Accuracy: 0.8236328125\n",
      "f1: 0.7746488090824893\n",
      "recall 0.7607526451392587\n",
      "Accuracy: 0.8442790697674418\n",
      "f1: 0.803267746236632\n",
      "recall 0.783950038918983\n",
      "Accuracy: 0.8460854092526691\n",
      "f1: 0.804181034802648\n",
      "recall 0.7790410207114121\n",
      "Accuracy: 0.8495867768595041\n",
      "f1: 0.7850509910087359\n",
      "recall 0.7521924465538924\n",
      "Accuracy: 0.9260869565217391\n",
      "f1: 0.8807838187666515\n",
      "recall 0.8491149795830646\n"
     ]
    }
   ],
   "source": [
    "from sklearn import svm\n",
    "from sklearn.model_selection import train_test_split\n",
    "from sklearn.ensemble import RandomForestClassifier\n",
    "from sklearn import metrics\n",
    "\n",
    "df_day={}\n",
    "accuracies_ae_unflat_covers = []\n",
    "f1_scores_ae_unflat_covers = []\n",
    "recalls_ae_unflat_covers = []\n",
    "for i in [\"03\",\"04\",\"05\",\"06\",\"07\",\"08\",\"09\",\"10\",\"11\",\"12\",\"13\"]:\n",
    "    df_day = df_ae_unflat[df_ae_unflat['day'].isin([int(i)])]\n",
    "    X = np.asarray(df_day.iloc[:,0:25920])\n",
    "    y = np.asarray(df_day.loc[:,\"cover\"])\n",
    "    X = np.reshape(X, [X.shape[0], 5, X.shape[1]//5])\n",
    "    X_train, X_test, y_train, y_test = train_test_split(X, y, test_size=0.2,random_state=0)\n",
    "    X_train = np.reshape(X_train, [X_train.shape[0]*5,X_train.shape[2]])\n",
    "    X_test = np.reshape(X_test, [X_test.shape[0]*5,X_test.shape[2]])\n",
    "    y_train = np.repeat(y_train,5)\n",
    "    y_test = np.repeat(y_test,5)\n",
    "    clf_rf = RandomForestClassifier(max_depth=32, random_state=0, n_jobs=-1)\n",
    "    clf_rf.fit(X_train, y_train)\n",
    "    y_pred_rf = clf_rf.predict(X_test)\n",
    "    accuracy = metrics.accuracy_score(y_test, y_pred_rf)\n",
    "    f1_score = metrics.f1_score(y_test, y_pred_rf, average=\"macro\")\n",
    "    recall = metrics.recall_score(y_test, y_pred_rf, average=\"macro\")\n",
    "    print(\"Accuracy:\", accuracy)\n",
    "    print(\"f1:\", f1_score)\n",
    "    print(\"recall\", recall)\n",
    "\n",
    "    accuracies_ae_unflat_covers.append(accuracy)\n",
    "    f1_scores_ae_unflat_covers.append(f1_score)\n",
    "    recalls_ae_unflat_covers.append(recall)\n",
    "    \n",
    "np.save(f\"{root}/Zamuro/temporal_zamuro/zamuro_classification_results/accuracies_ae_unflat_covers.npy\", accuracies_ae_unflat_covers)\n",
    "np.save(f\"{root}/Zamuro/temporal_zamuro/zamuro_classification_results/f1_scores_ae_unflat_covers.npy\", f1_scores_ae_unflat_covers)\n",
    "np.save(f\"{root}/Zamuro/temporal_zamuro/zamuro_classification_results/recalls_ae_unflat_covers.npy\", recalls_ae_unflat_covers)"
   ]
  },
  {
   "cell_type": "markdown",
   "id": "bb38ff49",
   "metadata": {},
   "source": [
    "## Hour Stage Classification"
   ]
  },
  {
   "cell_type": "code",
   "execution_count": 44,
   "id": "b4a11828",
   "metadata": {},
   "outputs": [
    {
     "name": "stdout",
     "output_type": "stream",
     "text": [
      "Accuracy: 0.8975903614457831\n",
      "f1: 0.5757824742160399\n",
      "recall 0.5853505291005291\n",
      "Accuracy: 0.8859241126070991\n",
      "f1: 0.7941672362724993\n",
      "recall 0.7670764947876281\n",
      "Accuracy: 0.8518345042935207\n",
      "f1: 0.7900538503186275\n",
      "recall 0.7774422476937559\n",
      "Accuracy: 0.885929993136582\n",
      "f1: 0.8514798588215508\n",
      "recall 0.8426998142456418\n",
      "Accuracy: 0.8957843814789219\n",
      "f1: 0.8586258619446102\n",
      "recall 0.84663987090734\n",
      "Accuracy: 0.8590520590520591\n",
      "f1: 0.8270166313492977\n",
      "recall 0.8143420877122779\n",
      "Accuracy: 0.841796875\n",
      "f1: 0.6935792187778779\n",
      "recall 0.6799262398818783\n",
      "Accuracy: 0.8258604651162791\n",
      "f1: 0.6737255831239798\n",
      "recall 0.6737953997391001\n",
      "Accuracy: 0.8829181494661922\n",
      "f1: 0.8472106222792494\n",
      "recall 0.8331473730128808\n",
      "Accuracy: 0.8958677685950414\n",
      "f1: 0.8765594871159181\n",
      "recall 0.8715872002270469\n",
      "Accuracy: 0.8669565217391304\n",
      "f1: 0.841851302800927\n",
      "recall 0.8379233870967742\n"
     ]
    }
   ],
   "source": [
    "from sklearn import svm\n",
    "from sklearn.model_selection import train_test_split\n",
    "from sklearn.ensemble import RandomForestClassifier\n",
    "from sklearn import metrics\n",
    "\n",
    "df_day={}\n",
    "accuracies_ae_unflat_hours = []\n",
    "f1_scores_ae_unflat_hours = []\n",
    "recalls_ae_unflat_hours = []\n",
    "for i in [\"03\",\"04\",\"05\",\"06\",\"07\",\"08\",\"09\",\"10\",\"11\",\"12\",\"13\"]:\n",
    "    df_day = df_ae_unflat[df_ae_unflat['day'].isin([int(i)])]\n",
    "    X = np.asarray(df_day.iloc[:,0:25920])\n",
    "    y = np.asarray(df_day.loc[:,\"hour_stage\"])\n",
    "    X = np.reshape(X, [X.shape[0], 5, X.shape[1]//5])\n",
    "    X_train, X_test, y_train, y_test = train_test_split(X, y, test_size=0.2,random_state=0)\n",
    "    X_train = np.reshape(X_train, [X_train.shape[0]*5,X_train.shape[2]])\n",
    "    X_test = np.reshape(X_test, [X_test.shape[0]*5,X_test.shape[2]])\n",
    "    y_train = np.repeat(y_train,5)\n",
    "    y_test = np.repeat(y_test,5)\n",
    "    clf_rf = RandomForestClassifier(max_depth=32, random_state=0, n_jobs=-1)\n",
    "    clf_rf.fit(X_train, y_train)\n",
    "    y_pred_rf = clf_rf.predict(X_test)\n",
    "    accuracy = metrics.accuracy_score(y_test, y_pred_rf)\n",
    "    f1_score = metrics.f1_score(y_test, y_pred_rf, average=\"macro\")\n",
    "    recall = metrics.recall_score(y_test, y_pred_rf, average=\"macro\")\n",
    "    print(\"Accuracy:\", accuracy)\n",
    "    print(\"f1:\", f1_score)\n",
    "    print(\"recall\", recall)\n",
    "\n",
    "    accuracies_ae_unflat_hours.append(accuracy)\n",
    "    f1_scores_ae_unflat_hours.append(f1_score)\n",
    "    recalls_ae_unflat_hours.append(recall)\n",
    "    \n",
    "np.save(f\"{root}/Zamuro/temporal_zamuro/zamuro_classification_results/accuracies_ae_unflat_hours.npy\", accuracies_ae_unflat_hours)\n",
    "np.save(f\"{root}/Zamuro/temporal_zamuro/zamuro_classification_results/f1_scores_ae_unflat_hours.npy\", f1_scores_ae_unflat_hours)\n",
    "np.save(f\"{root}/Zamuro/temporal_zamuro/zamuro_classification_results/recalls_ae_unflat_hours.npy\", recalls_ae_unflat_hours)"
   ]
  },
  {
   "cell_type": "markdown",
   "id": "77bc2d1e",
   "metadata": {},
   "source": [
    "### Autoencoders Features and Labels using independent segments"
   ]
  },
  {
   "cell_type": "code",
   "execution_count": null,
   "id": "0ce1ccd7",
   "metadata": {},
   "outputs": [],
   "source": [
    "from sklearn import svm\n",
    "from sklearn.model_selection import train_test_split\n",
    "X_train, X_test, y_train, y_test = train_test_split(X_ae, labels_ae, test_size=0.2,random_state=0)\n",
    "from sklearn.ensemble import RandomForestClassifier\n",
    "from sklearn import metrics\n",
    "clf_rf = RandomForestClassifier(max_depth=32, random_state=0, n_jobs=-1)\n",
    "clf_rf.fit(X_train, y_train)\n",
    "\n",
    "y_pred_rf = clf_rf.predict(X_test)\n",
    "accuracy = metrics.accuracy_score(y_test, y_pred_rf)\n",
    "f1_score = metrics.f1_score(y_test, y_pred_rf, average=\"macro\")\n",
    "recall = metrics.recall_score(y_test, y_pred_rf, average=\"macro\")\n",
    "print(\"Accuracy:\", accuracy)\n",
    "print(\"f1:\", f1_score)\n",
    "print(\"recall\", recall)"
   ]
  },
  {
   "cell_type": "markdown",
   "id": "dda32a30",
   "metadata": {},
   "source": [
    "### Autoencoders Features and Labels using 5 segments of the audio"
   ]
  },
  {
   "cell_type": "code",
   "execution_count": null,
   "id": "b6e27e51",
   "metadata": {},
   "outputs": [],
   "source": [
    "X_batch = np.reshape(X_ae, (X_ae.shape[0]//5,5,X_ae.shape[1]))\n",
    "y_batch = np.reshape(y_ae, (y_ae.shape[0]//5, 5))"
   ]
  },
  {
   "cell_type": "code",
   "execution_count": null,
   "id": "84c5fb76",
   "metadata": {},
   "outputs": [],
   "source": [
    "y_3 == y_path[:,0]"
   ]
  },
  {
   "cell_type": "code",
   "execution_count": null,
   "id": "a8b0fb93",
   "metadata": {},
   "outputs": [],
   "source": [
    "len(labels_ai), y_path[0].shape"
   ]
  },
  {
   "cell_type": "code",
   "execution_count": null,
   "id": "755f7324",
   "metadata": {},
   "outputs": [],
   "source": [
    "from sklearn import svm\n",
    "from sklearn.model_selection import train_test_split\n",
    "X_train, X_test, y_train, y_test = train_test_split(X_batch, y_path, test_size=0.2,random_state=0)\n",
    "\n",
    "X_train = X_train.reshape(X_train.shape[0]*X_train.shape[1], X_train.shape[2])\n",
    "X_test = X_test.reshape(X_test.shape[0]*X_test.shape[1], X_test.shape[2])\n",
    "y_train = np.asarray(y_train)\n",
    "y_test = np.asarray(y_test)\n",
    "y_train = y_train.reshape(y_train.shape[0]*y_train.shape[1])\n",
    "y_test = y_test.reshape(y_test.shape[0]*y_test.shape[1])\n",
    "\n",
    "labels_train = []\n",
    "for i in range(len(y_train)):\n",
    "    labels_train.append(audios.loc[y_train[i], \"cover\"])\n",
    "labels_test = []\n",
    "for i in range(len(y_test)):\n",
    "    labels_test.append(audios.loc[y_test[i], \"cover\"])"
   ]
  },
  {
   "cell_type": "code",
   "execution_count": null,
   "id": "f37b9d96",
   "metadata": {},
   "outputs": [],
   "source": [
    "from sklearn.ensemble import RandomForestClassifier\n",
    "from sklearn import metrics\n",
    "clf_rf = RandomForestClassifier(max_depth=32, random_state=0, n_jobs=-1)\n",
    "clf_rf.fit(X_train, labels_train)\n",
    "y_pred_rf = clf_rf.predict(X_test)\n",
    "accuracy = metrics.accuracy_score(labels_test, y_pred_rf)\n",
    "f1_score = metrics.f1_score(labels_test, y_pred_rf, average=\"macro\")\n",
    "recall = metrics.recall_score(labels_test, y_pred_rf, average=\"macro\")\n",
    "print(\"Accuracy:\", accuracy)\n",
    "print(\"f1:\", f1_score)\n",
    "print(\"recall\", recall)"
   ]
  },
  {
   "cell_type": "markdown",
   "id": "e6b62a25",
   "metadata": {},
   "source": [
    "# Autoencoders Features and Labels using voting labels"
   ]
  },
  {
   "cell_type": "code",
   "execution_count": null,
   "id": "7a7d83e8",
   "metadata": {},
   "outputs": [],
   "source": [
    "y_pred_rf2 = np.asarray(y_pred_rf)\n",
    "y_pred_rf2 = np.reshape(y_pred_rf2,(y_pred_rf2.shape[0]//5,5))\n",
    "y_test2 = np.asarray(labels_test)\n",
    "y_test2 = np.reshape(y_test2,(y_test2.shape[0]//5,5))\n",
    "\n",
    "def most_frequent(List):\n",
    "    return max(set(List), key = List.count)\n",
    "\n",
    "labels_test2 = []\n",
    "labels_pred = []\n",
    "for i in range(len(y_pred_rf2)):\n",
    "    labels_pred.append(most_frequent(list(y_pred_rf2[i])))\n",
    "    labels_test2.append(most_frequent(list(y_test2[i])))\n",
    "accuracy_ae = metrics.accuracy_score(labels_test2, labels_pred)\n",
    "f1_score_ae = metrics.f1_score(labels_test2, labels_pred, average=\"macro\")\n",
    "recall_ae = metrics.recall_score(labels_test2, labels_pred, average=\"macro\")\n",
    "\n",
    "print(\"Accuracy:\", accuracy_ae)\n",
    "print(\"f1:\", f1_score_ae)\n",
    "print(\"recall\", recall_ae)"
   ]
  }
 ],
 "metadata": {
  "kernelspec": {
   "display_name": "Python 3 (ipykernel)",
   "language": "python",
   "name": "python3"
  },
  "language_info": {
   "codemirror_mode": {
    "name": "ipython",
    "version": 3
   },
   "file_extension": ".py",
   "mimetype": "text/x-python",
   "name": "python",
   "nbconvert_exporter": "python",
   "pygments_lexer": "ipython3",
   "version": "3.10.4"
  }
 },
 "nbformat": 4,
 "nbformat_minor": 5
}
