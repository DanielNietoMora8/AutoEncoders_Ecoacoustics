{
 "cells": [
  {
   "cell_type": "code",
   "execution_count": 1,
   "metadata": {
    "ExecuteTime": {
     "end_time": "2024-02-21T20:42:00.637636374Z",
     "start_time": "2024-02-21T20:42:00.611775016Z"
    }
   },
   "outputs": [
    {
     "name": "stdout",
     "output_type": "stream",
     "text": [
      "Running local\n"
     ]
    }
   ],
   "source": [
    "if 'google.colab' in str(get_ipython()):\n",
    "    import sys\n",
    "    from google.colab import drive, output\n",
    "    drive.mount('/content/drive')\n",
    "    !pip install torchaudio\n",
    "    !pip install wandb --upgrade\n",
    "    output.clear()\n",
    "    print(\"Running on colab\")\n",
    "    %load_ext autoreload\n",
    "    %autoreload 1\n",
    "    %cd '/content/drive/MyDrive/PhD_Thesis_Experiments/DeepLearning/AutoEncoders/Project'\n",
    "    root = \"/content/drive/MyDrive/PhD_Thesis_Experiments/DeepLearning/AutoEncoders/Project\"\n",
    "else:\n",
    "    print(\"Running local\")\n",
    "    root = \"/home/mirp_ai/Documents/Daniel_Nieto/PhD/AutoEncoders_Ecoacoustics\"\n",
    "    root_path = \"/media/mirp_ai/Seagate Desktop Drive/Datos Rey Zamuro/Ultrasonido\""
   ]
  },
  {
   "cell_type": "code",
   "execution_count": 39,
   "metadata": {},
   "outputs": [
    {
     "name": "stdout",
     "output_type": "stream",
     "text": [
      "cuda\n"
     ]
    }
   ],
   "source": [
    "import os\n",
    "import numpy as np\n",
    "\n",
    "import datetime\n",
    "from datetime import timedelta\n",
    "\n",
    "import torch\n",
    "from torch.utils.data import DataLoader\n",
    "import torchvision.datasets as datasets\n",
    "from torchvision.utils import make_grid\n",
    "from Zamuro_DataLoader import SoundscapeData\n",
    "\n",
    "import pandas as pd\n",
    "\n",
    "device = torch.device(\"cuda\" if torch.cuda.is_available() else \"cpu\")\n",
    "print(device)"
   ]
  },
  {
   "cell_type": "code",
   "execution_count": 40,
   "metadata": {},
   "outputs": [],
   "source": [
    "def find_csv_filenames( path_to_dir, suffix=\".csv\" ):\n",
    "    filenames = os.listdir(path_to_dir)\n",
    "    return sorted([ filename for filename in filenames if filename.endswith( suffix ) ])\n",
    "\n",
    "def find_wav_filenames( path_to_dir, suffix=\".wav\" ):\n",
    "    filenames = os.listdir(path_to_dir)\n",
    "    return sorted([ filename for filename in filenames if filename.endswith( suffix ) ])"
   ]
  },
  {
   "cell_type": "code",
   "execution_count": 43,
   "metadata": {
    "scrolled": true
   },
   "outputs": [],
   "source": [
    "files_Ais = find_csv_filenames(f\"{root}/Zamuro/AI_Caract\")\n",
    "file_rain = f\"{root}/Zamuro/Complementary_Files/Result_rain_merged.xlsx\"\n",
    "files_udas = f\"{root}/Zamuro/Complementary_Files/UDAS Pasivo_20221001_Zamuro.xlsx\"\n",
    "files_covers = f\"{root}/Zamuro/Complementary_Files/ReyZamuro_softLabels.csv\"\n",
    "files_recorders = os.listdir(\"/media/mirp_ai/Seagate Desktop Drive/Datos Rey Zamuro/Ultrasonido/\")\n",
    "files_satelites = f\"{root}/Zamuro/Complementary_Files/zamuro_satelites.csv\"\n",
    "path_recorders = \"/media/mirp_ai/Seagate Desktop Drive/Datos Rey Zamuro/Ultrasonido/\""
   ]
  },
  {
   "cell_type": "code",
   "execution_count": 75,
   "metadata": {
    "scrolled": true
   },
   "outputs": [],
   "source": [
    "UDAS = pd.read_excel(f\"{files_udas}\", sheet_name=\"Template\")\n",
    "covers = pd.read_csv(f\"{files_covers}\")\n",
    "satelites = pd.read_csv(f\"{files_satelites}\")\n",
    "satelites.rename(columns={\"site\":\"field_number_PR\"}, inplace=True)\n",
    "# AIs = pd.read_csv(files_Ais)\n",
    "habitat = [\"bosque\"]* 2 + [\"pastizal\"] + [\"bosque\"] + [\"borde\"] * 2 + [\"bosque\"] +  [\"parche\"] *2 + [\"bosque\"]*4 + [\"borde\"]*11 + [\"bosque\"] * 9 + [\"parche\"]*2 + [\"pastizal\"]*4 + [\"parche\"]*2 + [\"sabana\"]*10 + [\"borde\"] + [\"sabana\"] + [\"pastizal\"] + [\"sabana\"] + [\"bosque\"]*3 + [\"pastizal\"]*2 + [\"potrero\"] * 2 + [\"bosque\"] + [\"borde\"]* 5 +[\"bosque\"] * 9 + [\"sabana\"]* 2 + [\"pastizal\"] + [\"parche\"]\n",
    "habitat = [\n",
    "    \"bosque\", \"bosque\", \"pastizal\", \"borde\", \"borde\", \"borde\", \"bosque\", \"sabana\", \"bosque\", \"borde\",\n",
    "    \"bosque\", \"bosque\", \"bosque\", \"bosque\", \"bosque\", \"borde\", \"borde\", \"pastizal\", \"potrero\", \"sabana\",\n",
    "    \"borde\", \"bosque\", \"bosque\", \"sabana\", \"borde\", \"bosque\", \"borde\", \"bosque\", \"bosque\", \"bosque\", \"borde\",\n",
    "    \"potrero\", \"bosque\", \"bosque\", \"sabana\", \"bosque\", \"bosque\", \"sabana\", \"parche\", \"bosque\", \"pastizal\",\n",
    "    \"bosque\", \"bosque\", \"borde\", \"bosque\", \"borde\", \"borde\", \"bosque\", \"parche\", \"bosque\", \"bosque\", \"sabana\",\n",
    "    \"bosque\", \"pastizal\", \"pastizal\", \"sabana\", \"sabana\", \"borde\", \"bosque\", \"sabana\", \"bosque\", \"sabana\",\n",
    "    \"bosque\", \"sabana\", \"borde\", \"borde\", \"borde\", \"borde\", \"pastizal\", \"bosque\", \"pastizal\", \"pastizal\",\n",
    "    \"bosque\", \"bosque\", \"bosque\", \"bosque\", \"sabana\", \"pastizal\", \"parche\", \"borde\", \"sabana\", \"sabana\", \"parche\",\n",
    "    \"parche\", \"sabana\", \"borde\", \"sabana\", \"parche\", \"bosque\", \"sabana\", \"parche\", \"bosque\", \"sabana\", \"borde\",\n",
    "    \"borde\", \"sabana\", \"sabana\", \"borde\", \"bosque\", \"bosque\", \"bosque\", \"bosque\", \"bosque\", \"bosque\", \"bosque\", \"bosque\"\n",
    "]\n",
    "\n",
    "keep_cols = [\"field_number_PR\", \"longitud_IG\", \"latitude_IG\", \"day_init_TI\", \"day_end_TI\", \"samp_rate_RE\"]"
   ]
  },
  {
   "cell_type": "code",
   "execution_count": 6,
   "metadata": {},
   "outputs": [
    {
     "name": "stdout",
     "output_type": "stream",
     "text": [
      "<class 'pandas.core.frame.DataFrame'>\n",
      "RangeIndex: 106 entries, 0 to 105\n",
      "Data columns (total 7 columns):\n",
      " #   Column           Non-Null Count  Dtype  \n",
      "---  ------           --------------  -----  \n",
      " 0   field_number_PR  106 non-null    object \n",
      " 1   longitud_IG      106 non-null    float64\n",
      " 2   latitude_IG      106 non-null    float64\n",
      " 3   day_init_TI      106 non-null    int64  \n",
      " 4   day_end_TI       106 non-null    int64  \n",
      " 5   samp_rate_RE     106 non-null    int64  \n",
      " 6   habitat          106 non-null    object \n",
      "dtypes: float64(2), int64(3), object(2)\n",
      "memory usage: 5.9+ KB\n"
     ]
    },
    {
     "name": "stderr",
     "output_type": "stream",
     "text": [
      "/tmp/ipykernel_5308/3762597280.py:10: SettingWithCopyWarning: \n",
      "A value is trying to be set on a copy of a slice from a DataFrame\n",
      "\n",
      "See the caveats in the documentation: https://pandas.pydata.org/pandas-docs/stable/user_guide/indexing.html#returning-a-view-versus-a-copy\n",
      "  result_df.drop(\"index\", axis=1, inplace=True)\n",
      "/tmp/ipykernel_5308/3762597280.py:11: SettingWithCopyWarning: \n",
      "A value is trying to be set on a copy of a slice from a DataFrame.\n",
      "Try using .loc[row_indexer,col_indexer] = value instead\n",
      "\n",
      "See the caveats in the documentation: https://pandas.pydata.org/pandas-docs/stable/user_guide/indexing.html#returning-a-view-versus-a-copy\n",
      "  result_df[\"cover\"] = result_df[[\"pasture\", \"savanna\", \"forest\"]].idxmax(axis=1)\n"
     ]
    }
   ],
   "source": [
    "UDAS = UDAS[keep_cols]\n",
    "UDAS[\"habitat\"] = habitat\n",
    "UDAS.info()\n",
    "covers.rename(columns={\"field_numb\":\"field_number_PR\", \"1\":\"pasture\", \"2\": \"savanna\", \"3\": \"forest\"}, inplace=True)\n",
    "a=UDAS\n",
    "b=covers\n",
    "merged_df = a.merge(b, on='field_number_PR', how='left')\n",
    "result_df = merged_df[merged_df['pasture'].notna()]\n",
    "result_df.reset_index(inplace=True)\n",
    "result_df.drop(\"index\", axis=1, inplace=True)\n",
    "result_df[\"cover\"] = result_df[[\"pasture\", \"savanna\", \"forest\"]].idxmax(axis=1)\n",
    "result_df.to_csv(f\"{root}//Zamuro/Complementary_Files/zamuro_recorders.csv\")\n",
    "result_df_satelites = result_df.merge(satelites, on='field_number_PR', how='left')\n",
    "result_df_satelites.to_csv(f\"{root}//Zamuro/Complementary_Files/zamuro_recorders_satelites.csv\")"
   ]
  },
  {
   "cell_type": "code",
   "execution_count": 7,
   "metadata": {
    "scrolled": true
   },
   "outputs": [],
   "source": [
    "audios = pd.DataFrame(columns=result_df.columns)\n",
    "total_files=0\n",
    "for i in range(len(result_df)):\n",
    "    aux = pd.DataFrame(columns=result_df.columns)\n",
    "    path = root_path+\"/\"+result_df.loc[i, \"field_number_PR\"]\n",
    "    files = os.listdir(path)\n",
    "    total_files+=len(files)\n",
    "    aux[\"Filename\"] = files\n",
    "    name=[i.split('.', 1)[0] for i in files]\n",
    "    aux[\"name_FI\"] = name\n",
    "    for col in aux.columns[0:-2]:\n",
    "        aux[col] = result_df.loc[i,col]\n",
    "    audios = pd.concat([audios, aux])\n",
    "audios.to_csv(f\"{root}/Zamuro/Complementary_Files/zamuro_audios.csv\")\n",
    "audios.reset_index(inplace=True)"
   ]
  },
  {
   "cell_type": "code",
   "execution_count": 8,
   "metadata": {
    "scrolled": false
   },
   "outputs": [
    {
     "name": "stdout",
     "output_type": "stream",
     "text": [
      "0\n",
      "10000\n",
      "20000\n",
      "30000\n",
      "40000\n",
      "50000\n",
      "60000\n",
      "70000\n"
     ]
    }
   ],
   "source": [
    "rain = pd.read_excel(file_rain)\n",
    "rain = rain[[\"field_number_PR\", \"name_FI\",\"rain_FI\"]]\n",
    "audios[\"rain_FI\"] = \"-\"\n",
    "count = 0\n",
    "for i in range(len(audios)):\n",
    "    if i%10000 == 0:\n",
    "        print(i)\n",
    "    try:\n",
    "        audio = audios.loc[i]\n",
    "        audios.loc[i, \"rain_FI\"] = rain.loc[rain[\"field_number_PR\"] == audio[\"field_number_PR\"]].loc[rain[\"name_FI\"] == audio[\"Filename\"]][\"rain_FI\"].values[0]\n",
    "    except:\n",
    "        count+=1\n",
    "audios.to_csv(f\"{root}//Zamuro/Complementary_Files/zamuro_audios.csv\")"
   ]
  },
  {
   "cell_type": "code",
   "execution_count": null,
   "metadata": {},
   "outputs": [],
   "source": [
    "lista = list(set(audios_zamuro[\"field_number_PR\"]))\n",
    "lista.sort()\n",
    "for csv in lista:\n",
    "    temporal_csv = audios_zamuro.loc[audios_zamuro[\"field_number_PR\"] == csv]\n",
    "    temporal_csv.drop(columns=[\"index\"],inplace=True)\n",
    "    temporal_csv.to_csv(f\"{root}//Zamuro/Complementary_Files/{csv}.csv\",\n",
    "                        index=True, index_label=\"global_index\")"
   ]
  },
  {
   "cell_type": "code",
   "execution_count": 1,
   "metadata": {},
   "outputs": [
    {
     "ename": "NameError",
     "evalue": "name 'audios' is not defined",
     "output_type": "error",
     "traceback": [
      "\u001b[0;31m---------------------------------------------------------------------------\u001b[0m",
      "\u001b[0;31mNameError\u001b[0m                                 Traceback (most recent call last)",
      "Cell \u001b[0;32mIn [1], line 1\u001b[0m\n\u001b[0;32m----> 1\u001b[0m audios_zamuro \u001b[38;5;241m=\u001b[39m \u001b[43maudios\u001b[49m\n\u001b[1;32m      2\u001b[0m lista \u001b[38;5;241m=\u001b[39m \u001b[38;5;28mlist\u001b[39m(\u001b[38;5;28mset\u001b[39m(audios_zamuro[\u001b[38;5;124m\"\u001b[39m\u001b[38;5;124mfield_number_PR\u001b[39m\u001b[38;5;124m\"\u001b[39m]))\n\u001b[1;32m      3\u001b[0m lista\u001b[38;5;241m.\u001b[39msort()\n",
      "\u001b[0;31mNameError\u001b[0m: name 'audios' is not defined"
     ]
    }
   ],
   "source": [
    "audios_zamuro = audios\n",
    "lista = list(set(audios_zamuro[\"field_number_PR\"]))\n",
    "lista.sort()\n",
    "model = \"AE\"\n",
    "identifier = \"batch_size_14_num_hiddens_64_\"\n",
    "day = 4\n",
    "hour = 9\n",
    "date_format = f\"day_{day}_hour_{hour}\""
   ]
  },
  {
   "cell_type": "code",
   "execution_count": 35,
   "metadata": {},
   "outputs": [],
   "source": [
    "X = torch.load(f\"temporal_zamuro/Features/AE_features_{date_format}_rain_NO_{lista[0]}.csv.pth\",  map_location=torch.device('cpu'))\n",
    "y = torch.load(f\"temporal_zamuro/Features/AE_test_path_samples_{date_format}_rain_NO_{lista[0]}.csv.pth\",  map_location=torch.device('cpu'))\n",
    "for i, csv in enumerate(lista[1::]):\n",
    "    X_i = torch.load(f\"temporal_zamuro/Features/AE_features_{date_format}_rain_NO_{csv}.csv.pth\",  map_location=torch.device('cpu'))\n",
    "    y_i = torch.load(f\"temporal_zamuro/Features/AE_test_path_samples_{date_format}_rain_NO_{csv}.csv.pth\",  map_location=torch.device('cpu'))\n",
    "    X = torch.cat((X,X_i),0)\n",
    "    y = y + y_i\n",
    "torch.save(X, f\"temporal_zamuro/Features/AE_features_Zamuro.pth\")\n",
    "torch.save(y, f\"temporal_zamuro/Features/AE_test_path_samples_Zamuro.pth\")\n",
    "       \n",
    "path_error = torch.load(f\"temporal_zamuro/Features/AE_test_corrupted_samples_list_{date_format}_rain_NO_{lista[9]}.csv.pth\",  map_location=torch.device('cpu'))\n",
    "y_path = torch.load(f\"temporal_zamuro/Features/AE_test_path_samples_{date_format}_rain_NO_{lista[9]}.csv.pth\",  map_location=torch.device('cpu'))"
   ]
  },
  {
   "cell_type": "markdown",
   "metadata": {},
   "source": [
    "## PRUEBA - ELIMINAR CUANDO TERMINE -AÚN EN PRUEBA, ELIMINAR SI CLUSTERING FUNCIONA"
   ]
  },
  {
   "cell_type": "code",
   "execution_count": 31,
   "metadata": {},
   "outputs": [
    {
     "ename": "TypeError",
     "evalue": "unsupported operand type(s) for +: 'dict' and 'dict'",
     "output_type": "error",
     "traceback": [
      "\u001b[0;31m---------------------------------------------------------------------------\u001b[0m",
      "\u001b[0;31mTypeError\u001b[0m                                 Traceback (most recent call last)",
      "Cell \u001b[0;32mIn [31], line 11\u001b[0m\n\u001b[1;32m      9\u001b[0m \u001b[38;5;28;01mfor\u001b[39;00m i, csv \u001b[38;5;129;01min\u001b[39;00m \u001b[38;5;28menumerate\u001b[39m(lista[\u001b[38;5;241m1\u001b[39m::]):\n\u001b[1;32m     10\u001b[0m     y_i \u001b[38;5;241m=\u001b[39m torch\u001b[38;5;241m.\u001b[39mload(\u001b[38;5;124mf\u001b[39m\u001b[38;5;124m\"\u001b[39m\u001b[38;5;124mtemporal_zamuro/Features/AE_labels_\u001b[39m\u001b[38;5;132;01m{\u001b[39;00mdate_format\u001b[38;5;132;01m}\u001b[39;00m\u001b[38;5;124m_rain_NO_\u001b[39m\u001b[38;5;132;01m{\u001b[39;00mcsv\u001b[38;5;132;01m}\u001b[39;00m\u001b[38;5;124m.csv.pth\u001b[39m\u001b[38;5;124m\"\u001b[39m,  map_location\u001b[38;5;241m=\u001b[39mtorch\u001b[38;5;241m.\u001b[39mdevice(\u001b[38;5;124m'\u001b[39m\u001b[38;5;124mcpu\u001b[39m\u001b[38;5;124m'\u001b[39m))\n\u001b[0;32m---> 11\u001b[0m     y \u001b[38;5;241m=\u001b[39m \u001b[43my\u001b[49m\u001b[43m \u001b[49m\u001b[38;5;241;43m+\u001b[39;49m\u001b[43m \u001b[49m\u001b[43my_i\u001b[49m\n\u001b[1;32m     12\u001b[0m torch\u001b[38;5;241m.\u001b[39msave(y, \u001b[38;5;124mf\u001b[39m\u001b[38;5;124m\"\u001b[39m\u001b[38;5;124mtemporal_zamuro/Features/AE_labels_Zamuro.pth\u001b[39m\u001b[38;5;124m\"\u001b[39m)\n",
      "\u001b[0;31mTypeError\u001b[0m: unsupported operand type(s) for +: 'dict' and 'dict'"
     ]
    }
   ],
   "source": [
    "lista = list(set(audios_zamuro[\"field_number_PR\"]))\n",
    "lista.sort()\n",
    "model = \"AE\"\n",
    "identifier = \"batch_size_14_num_hiddens_64_\"\n",
    "day = 4\n",
    "hour = 9\n",
    "date_format = f\"day_{day}_hour_{hour}\"\n",
    "y = torch.load(f\"temporal_zamuro/Features/AE_labels_{date_format}_rain_NO_{lista[0]}.csv.pth\",  map_location=torch.device('cpu'))\n",
    "recorder_list = []\n",
    "hour_list = []\n",
    "minute_list = []\n",
    "for i, csv in enumerate(lista[1::]):\n",
    "    y_i = torch.load(f\"temporal_zamuro/Features/AE_labels_{date_format}_rain_NO_{csv}.csv.pth\",  map_location=torch.device('cpu'))\n",
    "    y = y + y_i\n",
    "torch.save(y, f\"temporal_zamuro/Features/AE_labels_Zamuro.pth\")"
   ]
  },
  {
   "cell_type": "code",
   "execution_count": 215,
   "metadata": {},
   "outputs": [],
   "source": [
    "path_flat = [item for sublist in y_path for item in sublist]\n",
    "path_flat = np.asarray(path_flat)"
   ]
  },
  {
   "cell_type": "markdown",
   "metadata": {},
   "source": [
    "### Acoustic Indices Organization"
   ]
  },
  {
   "cell_type": "code",
   "execution_count": 73,
   "metadata": {},
   "outputs": [
    {
     "data": {
      "text/plain": [
       "['RZUA01', '20220903_104500.WAV']"
      ]
     },
     "execution_count": 73,
     "metadata": {},
     "output_type": "execute_result"
    }
   ],
   "source": [
    "a = pd.read_pickle(f\"{root}/Zamuro/AI_Caract/RZUA01_AIs.pickle\")\n",
    "split = a[\"file\"][0].split(\"/\")[-2::]\n",
    "split"
   ]
  },
  {
   "cell_type": "code",
   "execution_count": 101,
   "metadata": {
    "scrolled": true
   },
   "outputs": [
    {
     "name": "stdout",
     "output_type": "stream",
     "text": [
      "1042\n",
      "678\n",
      "7\n",
      "573\n"
     ]
    },
    {
     "name": "stderr",
     "output_type": "stream",
     "text": [
      "/tmp/ipykernel_14232/3041969744.py:8: SettingWithCopyWarning: \n",
      "A value is trying to be set on a copy of a slice from a DataFrame\n",
      "\n",
      "See the caveats in the documentation: https://pandas.pydata.org/pandas-docs/stable/user_guide/indexing.html#returning-a-view-versus-a-copy\n",
      "  AI[\"file\"][i] = f\"{split[0]}_{split[1]}\"\n",
      "/tmp/ipykernel_14232/3041969744.py:8: SettingWithCopyWarning: \n",
      "A value is trying to be set on a copy of a slice from a DataFrame\n",
      "\n",
      "See the caveats in the documentation: https://pandas.pydata.org/pandas-docs/stable/user_guide/indexing.html#returning-a-view-versus-a-copy\n",
      "  AI[\"file\"][i] = f\"{split[0]}_{split[1]}\"\n",
      "/tmp/ipykernel_14232/3041969744.py:8: SettingWithCopyWarning: \n",
      "A value is trying to be set on a copy of a slice from a DataFrame\n",
      "\n",
      "See the caveats in the documentation: https://pandas.pydata.org/pandas-docs/stable/user_guide/indexing.html#returning-a-view-versus-a-copy\n",
      "  AI[\"file\"][i] = f\"{split[0]}_{split[1]}\"\n",
      "/tmp/ipykernel_14232/3041969744.py:8: SettingWithCopyWarning: \n",
      "A value is trying to be set on a copy of a slice from a DataFrame\n",
      "\n",
      "See the caveats in the documentation: https://pandas.pydata.org/pandas-docs/stable/user_guide/indexing.html#returning-a-view-versus-a-copy\n",
      "  AI[\"file\"][i] = f\"{split[0]}_{split[1]}\"\n"
     ]
    },
    {
     "name": "stdout",
     "output_type": "stream",
     "text": [
      "668\n",
      "779\n",
      "778\n"
     ]
    },
    {
     "name": "stderr",
     "output_type": "stream",
     "text": [
      "/tmp/ipykernel_14232/3041969744.py:8: SettingWithCopyWarning: \n",
      "A value is trying to be set on a copy of a slice from a DataFrame\n",
      "\n",
      "See the caveats in the documentation: https://pandas.pydata.org/pandas-docs/stable/user_guide/indexing.html#returning-a-view-versus-a-copy\n",
      "  AI[\"file\"][i] = f\"{split[0]}_{split[1]}\"\n",
      "/tmp/ipykernel_14232/3041969744.py:8: SettingWithCopyWarning: \n",
      "A value is trying to be set on a copy of a slice from a DataFrame\n",
      "\n",
      "See the caveats in the documentation: https://pandas.pydata.org/pandas-docs/stable/user_guide/indexing.html#returning-a-view-versus-a-copy\n",
      "  AI[\"file\"][i] = f\"{split[0]}_{split[1]}\"\n",
      "/tmp/ipykernel_14232/3041969744.py:8: SettingWithCopyWarning: \n",
      "A value is trying to be set on a copy of a slice from a DataFrame\n",
      "\n",
      "See the caveats in the documentation: https://pandas.pydata.org/pandas-docs/stable/user_guide/indexing.html#returning-a-view-versus-a-copy\n",
      "  AI[\"file\"][i] = f\"{split[0]}_{split[1]}\"\n"
     ]
    },
    {
     "name": "stdout",
     "output_type": "stream",
     "text": [
      "775\n",
      "858\n"
     ]
    },
    {
     "name": "stderr",
     "output_type": "stream",
     "text": [
      "/tmp/ipykernel_14232/3041969744.py:8: SettingWithCopyWarning: \n",
      "A value is trying to be set on a copy of a slice from a DataFrame\n",
      "\n",
      "See the caveats in the documentation: https://pandas.pydata.org/pandas-docs/stable/user_guide/indexing.html#returning-a-view-versus-a-copy\n",
      "  AI[\"file\"][i] = f\"{split[0]}_{split[1]}\"\n",
      "/tmp/ipykernel_14232/3041969744.py:8: SettingWithCopyWarning: \n",
      "A value is trying to be set on a copy of a slice from a DataFrame\n",
      "\n",
      "See the caveats in the documentation: https://pandas.pydata.org/pandas-docs/stable/user_guide/indexing.html#returning-a-view-versus-a-copy\n",
      "  AI[\"file\"][i] = f\"{split[0]}_{split[1]}\"\n"
     ]
    },
    {
     "name": "stdout",
     "output_type": "stream",
     "text": [
      "461\n",
      "765\n"
     ]
    },
    {
     "name": "stderr",
     "output_type": "stream",
     "text": [
      "/tmp/ipykernel_14232/3041969744.py:8: SettingWithCopyWarning: \n",
      "A value is trying to be set on a copy of a slice from a DataFrame\n",
      "\n",
      "See the caveats in the documentation: https://pandas.pydata.org/pandas-docs/stable/user_guide/indexing.html#returning-a-view-versus-a-copy\n",
      "  AI[\"file\"][i] = f\"{split[0]}_{split[1]}\"\n",
      "/tmp/ipykernel_14232/3041969744.py:8: SettingWithCopyWarning: \n",
      "A value is trying to be set on a copy of a slice from a DataFrame\n",
      "\n",
      "See the caveats in the documentation: https://pandas.pydata.org/pandas-docs/stable/user_guide/indexing.html#returning-a-view-versus-a-copy\n",
      "  AI[\"file\"][i] = f\"{split[0]}_{split[1]}\"\n"
     ]
    },
    {
     "name": "stdout",
     "output_type": "stream",
     "text": [
      "1044\n",
      "45\n",
      "1047\n"
     ]
    },
    {
     "name": "stderr",
     "output_type": "stream",
     "text": [
      "/tmp/ipykernel_14232/3041969744.py:8: SettingWithCopyWarning: \n",
      "A value is trying to be set on a copy of a slice from a DataFrame\n",
      "\n",
      "See the caveats in the documentation: https://pandas.pydata.org/pandas-docs/stable/user_guide/indexing.html#returning-a-view-versus-a-copy\n",
      "  AI[\"file\"][i] = f\"{split[0]}_{split[1]}\"\n",
      "/tmp/ipykernel_14232/3041969744.py:8: SettingWithCopyWarning: \n",
      "A value is trying to be set on a copy of a slice from a DataFrame\n",
      "\n",
      "See the caveats in the documentation: https://pandas.pydata.org/pandas-docs/stable/user_guide/indexing.html#returning-a-view-versus-a-copy\n",
      "  AI[\"file\"][i] = f\"{split[0]}_{split[1]}\"\n",
      "/tmp/ipykernel_14232/3041969744.py:8: SettingWithCopyWarning: \n",
      "A value is trying to be set on a copy of a slice from a DataFrame\n",
      "\n",
      "See the caveats in the documentation: https://pandas.pydata.org/pandas-docs/stable/user_guide/indexing.html#returning-a-view-versus-a-copy\n",
      "  AI[\"file\"][i] = f\"{split[0]}_{split[1]}\"\n"
     ]
    },
    {
     "name": "stdout",
     "output_type": "stream",
     "text": [
      "765\n",
      "783\n"
     ]
    },
    {
     "name": "stderr",
     "output_type": "stream",
     "text": [
      "/tmp/ipykernel_14232/3041969744.py:8: SettingWithCopyWarning: \n",
      "A value is trying to be set on a copy of a slice from a DataFrame\n",
      "\n",
      "See the caveats in the documentation: https://pandas.pydata.org/pandas-docs/stable/user_guide/indexing.html#returning-a-view-versus-a-copy\n",
      "  AI[\"file\"][i] = f\"{split[0]}_{split[1]}\"\n",
      "/tmp/ipykernel_14232/3041969744.py:8: SettingWithCopyWarning: \n",
      "A value is trying to be set on a copy of a slice from a DataFrame\n",
      "\n",
      "See the caveats in the documentation: https://pandas.pydata.org/pandas-docs/stable/user_guide/indexing.html#returning-a-view-versus-a-copy\n",
      "  AI[\"file\"][i] = f\"{split[0]}_{split[1]}\"\n"
     ]
    },
    {
     "name": "stdout",
     "output_type": "stream",
     "text": [
      "785\n",
      "628\n",
      "751\n"
     ]
    },
    {
     "name": "stderr",
     "output_type": "stream",
     "text": [
      "/tmp/ipykernel_14232/3041969744.py:8: SettingWithCopyWarning: \n",
      "A value is trying to be set on a copy of a slice from a DataFrame\n",
      "\n",
      "See the caveats in the documentation: https://pandas.pydata.org/pandas-docs/stable/user_guide/indexing.html#returning-a-view-versus-a-copy\n",
      "  AI[\"file\"][i] = f\"{split[0]}_{split[1]}\"\n",
      "/tmp/ipykernel_14232/3041969744.py:8: SettingWithCopyWarning: \n",
      "A value is trying to be set on a copy of a slice from a DataFrame\n",
      "\n",
      "See the caveats in the documentation: https://pandas.pydata.org/pandas-docs/stable/user_guide/indexing.html#returning-a-view-versus-a-copy\n",
      "  AI[\"file\"][i] = f\"{split[0]}_{split[1]}\"\n",
      "/tmp/ipykernel_14232/3041969744.py:8: SettingWithCopyWarning: \n",
      "A value is trying to be set on a copy of a slice from a DataFrame\n",
      "\n",
      "See the caveats in the documentation: https://pandas.pydata.org/pandas-docs/stable/user_guide/indexing.html#returning-a-view-versus-a-copy\n",
      "  AI[\"file\"][i] = f\"{split[0]}_{split[1]}\"\n"
     ]
    },
    {
     "name": "stdout",
     "output_type": "stream",
     "text": [
      "756\n",
      "451\n",
      "770\n"
     ]
    },
    {
     "name": "stderr",
     "output_type": "stream",
     "text": [
      "/tmp/ipykernel_14232/3041969744.py:8: SettingWithCopyWarning: \n",
      "A value is trying to be set on a copy of a slice from a DataFrame\n",
      "\n",
      "See the caveats in the documentation: https://pandas.pydata.org/pandas-docs/stable/user_guide/indexing.html#returning-a-view-versus-a-copy\n",
      "  AI[\"file\"][i] = f\"{split[0]}_{split[1]}\"\n",
      "/tmp/ipykernel_14232/3041969744.py:8: SettingWithCopyWarning: \n",
      "A value is trying to be set on a copy of a slice from a DataFrame\n",
      "\n",
      "See the caveats in the documentation: https://pandas.pydata.org/pandas-docs/stable/user_guide/indexing.html#returning-a-view-versus-a-copy\n",
      "  AI[\"file\"][i] = f\"{split[0]}_{split[1]}\"\n",
      "/tmp/ipykernel_14232/3041969744.py:8: SettingWithCopyWarning: \n",
      "A value is trying to be set on a copy of a slice from a DataFrame\n",
      "\n",
      "See the caveats in the documentation: https://pandas.pydata.org/pandas-docs/stable/user_guide/indexing.html#returning-a-view-versus-a-copy\n",
      "  AI[\"file\"][i] = f\"{split[0]}_{split[1]}\"\n"
     ]
    },
    {
     "name": "stdout",
     "output_type": "stream",
     "text": [
      "699\n",
      "716\n"
     ]
    },
    {
     "name": "stderr",
     "output_type": "stream",
     "text": [
      "/tmp/ipykernel_14232/3041969744.py:8: SettingWithCopyWarning: \n",
      "A value is trying to be set on a copy of a slice from a DataFrame\n",
      "\n",
      "See the caveats in the documentation: https://pandas.pydata.org/pandas-docs/stable/user_guide/indexing.html#returning-a-view-versus-a-copy\n",
      "  AI[\"file\"][i] = f\"{split[0]}_{split[1]}\"\n",
      "/tmp/ipykernel_14232/3041969744.py:8: SettingWithCopyWarning: \n",
      "A value is trying to be set on a copy of a slice from a DataFrame\n",
      "\n",
      "See the caveats in the documentation: https://pandas.pydata.org/pandas-docs/stable/user_guide/indexing.html#returning-a-view-versus-a-copy\n",
      "  AI[\"file\"][i] = f\"{split[0]}_{split[1]}\"\n"
     ]
    },
    {
     "name": "stdout",
     "output_type": "stream",
     "text": [
      "771\n",
      "1047\n"
     ]
    },
    {
     "name": "stderr",
     "output_type": "stream",
     "text": [
      "/tmp/ipykernel_14232/3041969744.py:8: SettingWithCopyWarning: \n",
      "A value is trying to be set on a copy of a slice from a DataFrame\n",
      "\n",
      "See the caveats in the documentation: https://pandas.pydata.org/pandas-docs/stable/user_guide/indexing.html#returning-a-view-versus-a-copy\n",
      "  AI[\"file\"][i] = f\"{split[0]}_{split[1]}\"\n",
      "/tmp/ipykernel_14232/3041969744.py:8: SettingWithCopyWarning: \n",
      "A value is trying to be set on a copy of a slice from a DataFrame\n",
      "\n",
      "See the caveats in the documentation: https://pandas.pydata.org/pandas-docs/stable/user_guide/indexing.html#returning-a-view-versus-a-copy\n",
      "  AI[\"file\"][i] = f\"{split[0]}_{split[1]}\"\n"
     ]
    },
    {
     "name": "stdout",
     "output_type": "stream",
     "text": [
      "860\n",
      "765\n"
     ]
    },
    {
     "name": "stderr",
     "output_type": "stream",
     "text": [
      "/tmp/ipykernel_14232/3041969744.py:8: SettingWithCopyWarning: \n",
      "A value is trying to be set on a copy of a slice from a DataFrame\n",
      "\n",
      "See the caveats in the documentation: https://pandas.pydata.org/pandas-docs/stable/user_guide/indexing.html#returning-a-view-versus-a-copy\n",
      "  AI[\"file\"][i] = f\"{split[0]}_{split[1]}\"\n",
      "/tmp/ipykernel_14232/3041969744.py:8: SettingWithCopyWarning: \n",
      "A value is trying to be set on a copy of a slice from a DataFrame\n",
      "\n",
      "See the caveats in the documentation: https://pandas.pydata.org/pandas-docs/stable/user_guide/indexing.html#returning-a-view-versus-a-copy\n",
      "  AI[\"file\"][i] = f\"{split[0]}_{split[1]}\"\n"
     ]
    },
    {
     "name": "stdout",
     "output_type": "stream",
     "text": [
      "767\n",
      "769\n"
     ]
    },
    {
     "name": "stderr",
     "output_type": "stream",
     "text": [
      "/tmp/ipykernel_14232/3041969744.py:8: SettingWithCopyWarning: \n",
      "A value is trying to be set on a copy of a slice from a DataFrame\n",
      "\n",
      "See the caveats in the documentation: https://pandas.pydata.org/pandas-docs/stable/user_guide/indexing.html#returning-a-view-versus-a-copy\n",
      "  AI[\"file\"][i] = f\"{split[0]}_{split[1]}\"\n",
      "/tmp/ipykernel_14232/3041969744.py:8: SettingWithCopyWarning: \n",
      "A value is trying to be set on a copy of a slice from a DataFrame\n",
      "\n",
      "See the caveats in the documentation: https://pandas.pydata.org/pandas-docs/stable/user_guide/indexing.html#returning-a-view-versus-a-copy\n",
      "  AI[\"file\"][i] = f\"{split[0]}_{split[1]}\"\n"
     ]
    },
    {
     "name": "stdout",
     "output_type": "stream",
     "text": [
      "760\n",
      "763\n"
     ]
    },
    {
     "name": "stderr",
     "output_type": "stream",
     "text": [
      "/tmp/ipykernel_14232/3041969744.py:8: SettingWithCopyWarning: \n",
      "A value is trying to be set on a copy of a slice from a DataFrame\n",
      "\n",
      "See the caveats in the documentation: https://pandas.pydata.org/pandas-docs/stable/user_guide/indexing.html#returning-a-view-versus-a-copy\n",
      "  AI[\"file\"][i] = f\"{split[0]}_{split[1]}\"\n",
      "/tmp/ipykernel_14232/3041969744.py:8: SettingWithCopyWarning: \n",
      "A value is trying to be set on a copy of a slice from a DataFrame\n",
      "\n",
      "See the caveats in the documentation: https://pandas.pydata.org/pandas-docs/stable/user_guide/indexing.html#returning-a-view-versus-a-copy\n",
      "  AI[\"file\"][i] = f\"{split[0]}_{split[1]}\"\n"
     ]
    },
    {
     "name": "stdout",
     "output_type": "stream",
     "text": [
      "770\n",
      "772\n"
     ]
    },
    {
     "name": "stderr",
     "output_type": "stream",
     "text": [
      "/tmp/ipykernel_14232/3041969744.py:8: SettingWithCopyWarning: \n",
      "A value is trying to be set on a copy of a slice from a DataFrame\n",
      "\n",
      "See the caveats in the documentation: https://pandas.pydata.org/pandas-docs/stable/user_guide/indexing.html#returning-a-view-versus-a-copy\n",
      "  AI[\"file\"][i] = f\"{split[0]}_{split[1]}\"\n",
      "/tmp/ipykernel_14232/3041969744.py:8: SettingWithCopyWarning: \n",
      "A value is trying to be set on a copy of a slice from a DataFrame\n",
      "\n",
      "See the caveats in the documentation: https://pandas.pydata.org/pandas-docs/stable/user_guide/indexing.html#returning-a-view-versus-a-copy\n",
      "  AI[\"file\"][i] = f\"{split[0]}_{split[1]}\"\n"
     ]
    },
    {
     "name": "stdout",
     "output_type": "stream",
     "text": [
      "771\n",
      "765\n"
     ]
    },
    {
     "name": "stderr",
     "output_type": "stream",
     "text": [
      "/tmp/ipykernel_14232/3041969744.py:8: SettingWithCopyWarning: \n",
      "A value is trying to be set on a copy of a slice from a DataFrame\n",
      "\n",
      "See the caveats in the documentation: https://pandas.pydata.org/pandas-docs/stable/user_guide/indexing.html#returning-a-view-versus-a-copy\n",
      "  AI[\"file\"][i] = f\"{split[0]}_{split[1]}\"\n",
      "/tmp/ipykernel_14232/3041969744.py:8: SettingWithCopyWarning: \n",
      "A value is trying to be set on a copy of a slice from a DataFrame\n",
      "\n",
      "See the caveats in the documentation: https://pandas.pydata.org/pandas-docs/stable/user_guide/indexing.html#returning-a-view-versus-a-copy\n",
      "  AI[\"file\"][i] = f\"{split[0]}_{split[1]}\"\n"
     ]
    },
    {
     "name": "stdout",
     "output_type": "stream",
     "text": [
      "765\n",
      "940\n"
     ]
    },
    {
     "name": "stderr",
     "output_type": "stream",
     "text": [
      "/tmp/ipykernel_14232/3041969744.py:8: SettingWithCopyWarning: \n",
      "A value is trying to be set on a copy of a slice from a DataFrame\n",
      "\n",
      "See the caveats in the documentation: https://pandas.pydata.org/pandas-docs/stable/user_guide/indexing.html#returning-a-view-versus-a-copy\n",
      "  AI[\"file\"][i] = f\"{split[0]}_{split[1]}\"\n",
      "/tmp/ipykernel_14232/3041969744.py:8: SettingWithCopyWarning: \n",
      "A value is trying to be set on a copy of a slice from a DataFrame\n",
      "\n",
      "See the caveats in the documentation: https://pandas.pydata.org/pandas-docs/stable/user_guide/indexing.html#returning-a-view-versus-a-copy\n",
      "  AI[\"file\"][i] = f\"{split[0]}_{split[1]}\"\n"
     ]
    },
    {
     "name": "stdout",
     "output_type": "stream",
     "text": [
      "620\n",
      "940\n"
     ]
    },
    {
     "name": "stderr",
     "output_type": "stream",
     "text": [
      "/tmp/ipykernel_14232/3041969744.py:8: SettingWithCopyWarning: \n",
      "A value is trying to be set on a copy of a slice from a DataFrame\n",
      "\n",
      "See the caveats in the documentation: https://pandas.pydata.org/pandas-docs/stable/user_guide/indexing.html#returning-a-view-versus-a-copy\n",
      "  AI[\"file\"][i] = f\"{split[0]}_{split[1]}\"\n",
      "/tmp/ipykernel_14232/3041969744.py:8: SettingWithCopyWarning: \n",
      "A value is trying to be set on a copy of a slice from a DataFrame\n",
      "\n",
      "See the caveats in the documentation: https://pandas.pydata.org/pandas-docs/stable/user_guide/indexing.html#returning-a-view-versus-a-copy\n",
      "  AI[\"file\"][i] = f\"{split[0]}_{split[1]}\"\n"
     ]
    },
    {
     "name": "stdout",
     "output_type": "stream",
     "text": [
      "700\n",
      "771\n"
     ]
    },
    {
     "name": "stderr",
     "output_type": "stream",
     "text": [
      "/tmp/ipykernel_14232/3041969744.py:8: SettingWithCopyWarning: \n",
      "A value is trying to be set on a copy of a slice from a DataFrame\n",
      "\n",
      "See the caveats in the documentation: https://pandas.pydata.org/pandas-docs/stable/user_guide/indexing.html#returning-a-view-versus-a-copy\n",
      "  AI[\"file\"][i] = f\"{split[0]}_{split[1]}\"\n",
      "/tmp/ipykernel_14232/3041969744.py:8: SettingWithCopyWarning: \n",
      "A value is trying to be set on a copy of a slice from a DataFrame\n",
      "\n",
      "See the caveats in the documentation: https://pandas.pydata.org/pandas-docs/stable/user_guide/indexing.html#returning-a-view-versus-a-copy\n",
      "  AI[\"file\"][i] = f\"{split[0]}_{split[1]}\"\n"
     ]
    },
    {
     "name": "stdout",
     "output_type": "stream",
     "text": [
      "772\n",
      "770\n"
     ]
    },
    {
     "name": "stderr",
     "output_type": "stream",
     "text": [
      "/tmp/ipykernel_14232/3041969744.py:8: SettingWithCopyWarning: \n",
      "A value is trying to be set on a copy of a slice from a DataFrame\n",
      "\n",
      "See the caveats in the documentation: https://pandas.pydata.org/pandas-docs/stable/user_guide/indexing.html#returning-a-view-versus-a-copy\n",
      "  AI[\"file\"][i] = f\"{split[0]}_{split[1]}\"\n",
      "/tmp/ipykernel_14232/3041969744.py:8: SettingWithCopyWarning: \n",
      "A value is trying to be set on a copy of a slice from a DataFrame\n",
      "\n",
      "See the caveats in the documentation: https://pandas.pydata.org/pandas-docs/stable/user_guide/indexing.html#returning-a-view-versus-a-copy\n",
      "  AI[\"file\"][i] = f\"{split[0]}_{split[1]}\"\n"
     ]
    },
    {
     "name": "stdout",
     "output_type": "stream",
     "text": [
      "770\n",
      "772\n"
     ]
    },
    {
     "name": "stderr",
     "output_type": "stream",
     "text": [
      "/tmp/ipykernel_14232/3041969744.py:8: SettingWithCopyWarning: \n",
      "A value is trying to be set on a copy of a slice from a DataFrame\n",
      "\n",
      "See the caveats in the documentation: https://pandas.pydata.org/pandas-docs/stable/user_guide/indexing.html#returning-a-view-versus-a-copy\n",
      "  AI[\"file\"][i] = f\"{split[0]}_{split[1]}\"\n",
      "/tmp/ipykernel_14232/3041969744.py:8: SettingWithCopyWarning: \n",
      "A value is trying to be set on a copy of a slice from a DataFrame\n",
      "\n",
      "See the caveats in the documentation: https://pandas.pydata.org/pandas-docs/stable/user_guide/indexing.html#returning-a-view-versus-a-copy\n",
      "  AI[\"file\"][i] = f\"{split[0]}_{split[1]}\"\n"
     ]
    },
    {
     "name": "stdout",
     "output_type": "stream",
     "text": [
      "773\n",
      "577\n",
      "769\n"
     ]
    },
    {
     "name": "stderr",
     "output_type": "stream",
     "text": [
      "/tmp/ipykernel_14232/3041969744.py:8: SettingWithCopyWarning: \n",
      "A value is trying to be set on a copy of a slice from a DataFrame\n",
      "\n",
      "See the caveats in the documentation: https://pandas.pydata.org/pandas-docs/stable/user_guide/indexing.html#returning-a-view-versus-a-copy\n",
      "  AI[\"file\"][i] = f\"{split[0]}_{split[1]}\"\n",
      "/tmp/ipykernel_14232/3041969744.py:8: SettingWithCopyWarning: \n",
      "A value is trying to be set on a copy of a slice from a DataFrame\n",
      "\n",
      "See the caveats in the documentation: https://pandas.pydata.org/pandas-docs/stable/user_guide/indexing.html#returning-a-view-versus-a-copy\n",
      "  AI[\"file\"][i] = f\"{split[0]}_{split[1]}\"\n",
      "/tmp/ipykernel_14232/3041969744.py:8: SettingWithCopyWarning: \n",
      "A value is trying to be set on a copy of a slice from a DataFrame\n",
      "\n",
      "See the caveats in the documentation: https://pandas.pydata.org/pandas-docs/stable/user_guide/indexing.html#returning-a-view-versus-a-copy\n",
      "  AI[\"file\"][i] = f\"{split[0]}_{split[1]}\"\n"
     ]
    },
    {
     "name": "stdout",
     "output_type": "stream",
     "text": [
      "766\n",
      "515\n",
      "938\n"
     ]
    },
    {
     "name": "stderr",
     "output_type": "stream",
     "text": [
      "/tmp/ipykernel_14232/3041969744.py:8: SettingWithCopyWarning: \n",
      "A value is trying to be set on a copy of a slice from a DataFrame\n",
      "\n",
      "See the caveats in the documentation: https://pandas.pydata.org/pandas-docs/stable/user_guide/indexing.html#returning-a-view-versus-a-copy\n",
      "  AI[\"file\"][i] = f\"{split[0]}_{split[1]}\"\n",
      "/tmp/ipykernel_14232/3041969744.py:8: SettingWithCopyWarning: \n",
      "A value is trying to be set on a copy of a slice from a DataFrame\n",
      "\n",
      "See the caveats in the documentation: https://pandas.pydata.org/pandas-docs/stable/user_guide/indexing.html#returning-a-view-versus-a-copy\n",
      "  AI[\"file\"][i] = f\"{split[0]}_{split[1]}\"\n",
      "/tmp/ipykernel_14232/3041969744.py:8: SettingWithCopyWarning: \n",
      "A value is trying to be set on a copy of a slice from a DataFrame\n",
      "\n",
      "See the caveats in the documentation: https://pandas.pydata.org/pandas-docs/stable/user_guide/indexing.html#returning-a-view-versus-a-copy\n",
      "  AI[\"file\"][i] = f\"{split[0]}_{split[1]}\"\n"
     ]
    },
    {
     "name": "stdout",
     "output_type": "stream",
     "text": [
      "765\n",
      "766\n"
     ]
    },
    {
     "name": "stderr",
     "output_type": "stream",
     "text": [
      "/tmp/ipykernel_14232/3041969744.py:8: SettingWithCopyWarning: \n",
      "A value is trying to be set on a copy of a slice from a DataFrame\n",
      "\n",
      "See the caveats in the documentation: https://pandas.pydata.org/pandas-docs/stable/user_guide/indexing.html#returning-a-view-versus-a-copy\n",
      "  AI[\"file\"][i] = f\"{split[0]}_{split[1]}\"\n",
      "/tmp/ipykernel_14232/3041969744.py:8: SettingWithCopyWarning: \n",
      "A value is trying to be set on a copy of a slice from a DataFrame\n",
      "\n",
      "See the caveats in the documentation: https://pandas.pydata.org/pandas-docs/stable/user_guide/indexing.html#returning-a-view-versus-a-copy\n",
      "  AI[\"file\"][i] = f\"{split[0]}_{split[1]}\"\n"
     ]
    },
    {
     "name": "stdout",
     "output_type": "stream",
     "text": [
      "765\n",
      "764\n"
     ]
    },
    {
     "name": "stderr",
     "output_type": "stream",
     "text": [
      "/tmp/ipykernel_14232/3041969744.py:8: SettingWithCopyWarning: \n",
      "A value is trying to be set on a copy of a slice from a DataFrame\n",
      "\n",
      "See the caveats in the documentation: https://pandas.pydata.org/pandas-docs/stable/user_guide/indexing.html#returning-a-view-versus-a-copy\n",
      "  AI[\"file\"][i] = f\"{split[0]}_{split[1]}\"\n",
      "/tmp/ipykernel_14232/3041969744.py:8: SettingWithCopyWarning: \n",
      "A value is trying to be set on a copy of a slice from a DataFrame\n",
      "\n",
      "See the caveats in the documentation: https://pandas.pydata.org/pandas-docs/stable/user_guide/indexing.html#returning-a-view-versus-a-copy\n",
      "  AI[\"file\"][i] = f\"{split[0]}_{split[1]}\"\n"
     ]
    },
    {
     "name": "stdout",
     "output_type": "stream",
     "text": [
      "771\n",
      "769\n"
     ]
    },
    {
     "name": "stderr",
     "output_type": "stream",
     "text": [
      "/tmp/ipykernel_14232/3041969744.py:8: SettingWithCopyWarning: \n",
      "A value is trying to be set on a copy of a slice from a DataFrame\n",
      "\n",
      "See the caveats in the documentation: https://pandas.pydata.org/pandas-docs/stable/user_guide/indexing.html#returning-a-view-versus-a-copy\n",
      "  AI[\"file\"][i] = f\"{split[0]}_{split[1]}\"\n",
      "/tmp/ipykernel_14232/3041969744.py:8: SettingWithCopyWarning: \n",
      "A value is trying to be set on a copy of a slice from a DataFrame\n",
      "\n",
      "See the caveats in the documentation: https://pandas.pydata.org/pandas-docs/stable/user_guide/indexing.html#returning-a-view-versus-a-copy\n",
      "  AI[\"file\"][i] = f\"{split[0]}_{split[1]}\"\n"
     ]
    },
    {
     "name": "stdout",
     "output_type": "stream",
     "text": [
      "772\n",
      "773\n"
     ]
    },
    {
     "name": "stderr",
     "output_type": "stream",
     "text": [
      "/tmp/ipykernel_14232/3041969744.py:8: SettingWithCopyWarning: \n",
      "A value is trying to be set on a copy of a slice from a DataFrame\n",
      "\n",
      "See the caveats in the documentation: https://pandas.pydata.org/pandas-docs/stable/user_guide/indexing.html#returning-a-view-versus-a-copy\n",
      "  AI[\"file\"][i] = f\"{split[0]}_{split[1]}\"\n",
      "/tmp/ipykernel_14232/3041969744.py:8: SettingWithCopyWarning: \n",
      "A value is trying to be set on a copy of a slice from a DataFrame\n",
      "\n",
      "See the caveats in the documentation: https://pandas.pydata.org/pandas-docs/stable/user_guide/indexing.html#returning-a-view-versus-a-copy\n",
      "  AI[\"file\"][i] = f\"{split[0]}_{split[1]}\"\n"
     ]
    },
    {
     "name": "stdout",
     "output_type": "stream",
     "text": [
      "767\n",
      "768\n"
     ]
    },
    {
     "name": "stderr",
     "output_type": "stream",
     "text": [
      "/tmp/ipykernel_14232/3041969744.py:8: SettingWithCopyWarning: \n",
      "A value is trying to be set on a copy of a slice from a DataFrame\n",
      "\n",
      "See the caveats in the documentation: https://pandas.pydata.org/pandas-docs/stable/user_guide/indexing.html#returning-a-view-versus-a-copy\n",
      "  AI[\"file\"][i] = f\"{split[0]}_{split[1]}\"\n",
      "/tmp/ipykernel_14232/3041969744.py:8: SettingWithCopyWarning: \n",
      "A value is trying to be set on a copy of a slice from a DataFrame\n",
      "\n",
      "See the caveats in the documentation: https://pandas.pydata.org/pandas-docs/stable/user_guide/indexing.html#returning-a-view-versus-a-copy\n",
      "  AI[\"file\"][i] = f\"{split[0]}_{split[1]}\"\n"
     ]
    },
    {
     "name": "stdout",
     "output_type": "stream",
     "text": [
      "628\n",
      "880\n"
     ]
    },
    {
     "name": "stderr",
     "output_type": "stream",
     "text": [
      "/tmp/ipykernel_14232/3041969744.py:8: SettingWithCopyWarning: \n",
      "A value is trying to be set on a copy of a slice from a DataFrame\n",
      "\n",
      "See the caveats in the documentation: https://pandas.pydata.org/pandas-docs/stable/user_guide/indexing.html#returning-a-view-versus-a-copy\n",
      "  AI[\"file\"][i] = f\"{split[0]}_{split[1]}\"\n",
      "/tmp/ipykernel_14232/3041969744.py:8: SettingWithCopyWarning: \n",
      "A value is trying to be set on a copy of a slice from a DataFrame\n",
      "\n",
      "See the caveats in the documentation: https://pandas.pydata.org/pandas-docs/stable/user_guide/indexing.html#returning-a-view-versus-a-copy\n",
      "  AI[\"file\"][i] = f\"{split[0]}_{split[1]}\"\n"
     ]
    },
    {
     "name": "stdout",
     "output_type": "stream",
     "text": [
      "881\n",
      "827\n"
     ]
    },
    {
     "name": "stderr",
     "output_type": "stream",
     "text": [
      "/tmp/ipykernel_14232/3041969744.py:8: SettingWithCopyWarning: \n",
      "A value is trying to be set on a copy of a slice from a DataFrame\n",
      "\n",
      "See the caveats in the documentation: https://pandas.pydata.org/pandas-docs/stable/user_guide/indexing.html#returning-a-view-versus-a-copy\n",
      "  AI[\"file\"][i] = f\"{split[0]}_{split[1]}\"\n",
      "/tmp/ipykernel_14232/3041969744.py:8: SettingWithCopyWarning: \n",
      "A value is trying to be set on a copy of a slice from a DataFrame\n",
      "\n",
      "See the caveats in the documentation: https://pandas.pydata.org/pandas-docs/stable/user_guide/indexing.html#returning-a-view-versus-a-copy\n",
      "  AI[\"file\"][i] = f\"{split[0]}_{split[1]}\"\n"
     ]
    },
    {
     "name": "stdout",
     "output_type": "stream",
     "text": [
      "768\n",
      "773\n"
     ]
    },
    {
     "name": "stderr",
     "output_type": "stream",
     "text": [
      "/tmp/ipykernel_14232/3041969744.py:8: SettingWithCopyWarning: \n",
      "A value is trying to be set on a copy of a slice from a DataFrame\n",
      "\n",
      "See the caveats in the documentation: https://pandas.pydata.org/pandas-docs/stable/user_guide/indexing.html#returning-a-view-versus-a-copy\n",
      "  AI[\"file\"][i] = f\"{split[0]}_{split[1]}\"\n",
      "/tmp/ipykernel_14232/3041969744.py:8: SettingWithCopyWarning: \n",
      "A value is trying to be set on a copy of a slice from a DataFrame\n",
      "\n",
      "See the caveats in the documentation: https://pandas.pydata.org/pandas-docs/stable/user_guide/indexing.html#returning-a-view-versus-a-copy\n",
      "  AI[\"file\"][i] = f\"{split[0]}_{split[1]}\"\n"
     ]
    },
    {
     "name": "stdout",
     "output_type": "stream",
     "text": [
      "771\n",
      "775\n"
     ]
    },
    {
     "name": "stderr",
     "output_type": "stream",
     "text": [
      "/tmp/ipykernel_14232/3041969744.py:8: SettingWithCopyWarning: \n",
      "A value is trying to be set on a copy of a slice from a DataFrame\n",
      "\n",
      "See the caveats in the documentation: https://pandas.pydata.org/pandas-docs/stable/user_guide/indexing.html#returning-a-view-versus-a-copy\n",
      "  AI[\"file\"][i] = f\"{split[0]}_{split[1]}\"\n",
      "/tmp/ipykernel_14232/3041969744.py:8: SettingWithCopyWarning: \n",
      "A value is trying to be set on a copy of a slice from a DataFrame\n",
      "\n",
      "See the caveats in the documentation: https://pandas.pydata.org/pandas-docs/stable/user_guide/indexing.html#returning-a-view-versus-a-copy\n",
      "  AI[\"file\"][i] = f\"{split[0]}_{split[1]}\"\n"
     ]
    },
    {
     "name": "stdout",
     "output_type": "stream",
     "text": [
      "768\n",
      "773\n"
     ]
    },
    {
     "name": "stderr",
     "output_type": "stream",
     "text": [
      "/tmp/ipykernel_14232/3041969744.py:8: SettingWithCopyWarning: \n",
      "A value is trying to be set on a copy of a slice from a DataFrame\n",
      "\n",
      "See the caveats in the documentation: https://pandas.pydata.org/pandas-docs/stable/user_guide/indexing.html#returning-a-view-versus-a-copy\n",
      "  AI[\"file\"][i] = f\"{split[0]}_{split[1]}\"\n",
      "/tmp/ipykernel_14232/3041969744.py:8: SettingWithCopyWarning: \n",
      "A value is trying to be set on a copy of a slice from a DataFrame\n",
      "\n",
      "See the caveats in the documentation: https://pandas.pydata.org/pandas-docs/stable/user_guide/indexing.html#returning-a-view-versus-a-copy\n",
      "  AI[\"file\"][i] = f\"{split[0]}_{split[1]}\"\n"
     ]
    },
    {
     "name": "stdout",
     "output_type": "stream",
     "text": [
      "763\n",
      "765\n"
     ]
    },
    {
     "name": "stderr",
     "output_type": "stream",
     "text": [
      "/tmp/ipykernel_14232/3041969744.py:8: SettingWithCopyWarning: \n",
      "A value is trying to be set on a copy of a slice from a DataFrame\n",
      "\n",
      "See the caveats in the documentation: https://pandas.pydata.org/pandas-docs/stable/user_guide/indexing.html#returning-a-view-versus-a-copy\n",
      "  AI[\"file\"][i] = f\"{split[0]}_{split[1]}\"\n",
      "/tmp/ipykernel_14232/3041969744.py:8: SettingWithCopyWarning: \n",
      "A value is trying to be set on a copy of a slice from a DataFrame\n",
      "\n",
      "See the caveats in the documentation: https://pandas.pydata.org/pandas-docs/stable/user_guide/indexing.html#returning-a-view-versus-a-copy\n",
      "  AI[\"file\"][i] = f\"{split[0]}_{split[1]}\"\n"
     ]
    },
    {
     "name": "stdout",
     "output_type": "stream",
     "text": [
      "880\n",
      "767\n"
     ]
    },
    {
     "name": "stderr",
     "output_type": "stream",
     "text": [
      "/tmp/ipykernel_14232/3041969744.py:8: SettingWithCopyWarning: \n",
      "A value is trying to be set on a copy of a slice from a DataFrame\n",
      "\n",
      "See the caveats in the documentation: https://pandas.pydata.org/pandas-docs/stable/user_guide/indexing.html#returning-a-view-versus-a-copy\n",
      "  AI[\"file\"][i] = f\"{split[0]}_{split[1]}\"\n",
      "/tmp/ipykernel_14232/3041969744.py:8: SettingWithCopyWarning: \n",
      "A value is trying to be set on a copy of a slice from a DataFrame\n",
      "\n",
      "See the caveats in the documentation: https://pandas.pydata.org/pandas-docs/stable/user_guide/indexing.html#returning-a-view-versus-a-copy\n",
      "  AI[\"file\"][i] = f\"{split[0]}_{split[1]}\"\n"
     ]
    },
    {
     "name": "stdout",
     "output_type": "stream",
     "text": [
      "610\n",
      "829\n"
     ]
    },
    {
     "name": "stderr",
     "output_type": "stream",
     "text": [
      "/tmp/ipykernel_14232/3041969744.py:8: SettingWithCopyWarning: \n",
      "A value is trying to be set on a copy of a slice from a DataFrame\n",
      "\n",
      "See the caveats in the documentation: https://pandas.pydata.org/pandas-docs/stable/user_guide/indexing.html#returning-a-view-versus-a-copy\n",
      "  AI[\"file\"][i] = f\"{split[0]}_{split[1]}\"\n",
      "/tmp/ipykernel_14232/3041969744.py:8: SettingWithCopyWarning: \n",
      "A value is trying to be set on a copy of a slice from a DataFrame\n",
      "\n",
      "See the caveats in the documentation: https://pandas.pydata.org/pandas-docs/stable/user_guide/indexing.html#returning-a-view-versus-a-copy\n",
      "  AI[\"file\"][i] = f\"{split[0]}_{split[1]}\"\n"
     ]
    },
    {
     "name": "stdout",
     "output_type": "stream",
     "text": [
      "771\n",
      "773\n"
     ]
    },
    {
     "name": "stderr",
     "output_type": "stream",
     "text": [
      "/tmp/ipykernel_14232/3041969744.py:8: SettingWithCopyWarning: \n",
      "A value is trying to be set on a copy of a slice from a DataFrame\n",
      "\n",
      "See the caveats in the documentation: https://pandas.pydata.org/pandas-docs/stable/user_guide/indexing.html#returning-a-view-versus-a-copy\n",
      "  AI[\"file\"][i] = f\"{split[0]}_{split[1]}\"\n",
      "/tmp/ipykernel_14232/3041969744.py:8: SettingWithCopyWarning: \n",
      "A value is trying to be set on a copy of a slice from a DataFrame\n",
      "\n",
      "See the caveats in the documentation: https://pandas.pydata.org/pandas-docs/stable/user_guide/indexing.html#returning-a-view-versus-a-copy\n",
      "  AI[\"file\"][i] = f\"{split[0]}_{split[1]}\"\n"
     ]
    },
    {
     "name": "stdout",
     "output_type": "stream",
     "text": [
      "772\n",
      "775\n"
     ]
    },
    {
     "name": "stderr",
     "output_type": "stream",
     "text": [
      "/tmp/ipykernel_14232/3041969744.py:8: SettingWithCopyWarning: \n",
      "A value is trying to be set on a copy of a slice from a DataFrame\n",
      "\n",
      "See the caveats in the documentation: https://pandas.pydata.org/pandas-docs/stable/user_guide/indexing.html#returning-a-view-versus-a-copy\n",
      "  AI[\"file\"][i] = f\"{split[0]}_{split[1]}\"\n",
      "/tmp/ipykernel_14232/3041969744.py:8: SettingWithCopyWarning: \n",
      "A value is trying to be set on a copy of a slice from a DataFrame\n",
      "\n",
      "See the caveats in the documentation: https://pandas.pydata.org/pandas-docs/stable/user_guide/indexing.html#returning-a-view-versus-a-copy\n",
      "  AI[\"file\"][i] = f\"{split[0]}_{split[1]}\"\n"
     ]
    },
    {
     "name": "stdout",
     "output_type": "stream",
     "text": [
      "428\n",
      "769\n"
     ]
    },
    {
     "name": "stderr",
     "output_type": "stream",
     "text": [
      "/tmp/ipykernel_14232/3041969744.py:8: SettingWithCopyWarning: \n",
      "A value is trying to be set on a copy of a slice from a DataFrame\n",
      "\n",
      "See the caveats in the documentation: https://pandas.pydata.org/pandas-docs/stable/user_guide/indexing.html#returning-a-view-versus-a-copy\n",
      "  AI[\"file\"][i] = f\"{split[0]}_{split[1]}\"\n",
      "/tmp/ipykernel_14232/3041969744.py:8: SettingWithCopyWarning: \n",
      "A value is trying to be set on a copy of a slice from a DataFrame\n",
      "\n",
      "See the caveats in the documentation: https://pandas.pydata.org/pandas-docs/stable/user_guide/indexing.html#returning-a-view-versus-a-copy\n",
      "  AI[\"file\"][i] = f\"{split[0]}_{split[1]}\"\n"
     ]
    },
    {
     "name": "stdout",
     "output_type": "stream",
     "text": [
      "889\n",
      "886\n"
     ]
    },
    {
     "name": "stderr",
     "output_type": "stream",
     "text": [
      "/tmp/ipykernel_14232/3041969744.py:8: SettingWithCopyWarning: \n",
      "A value is trying to be set on a copy of a slice from a DataFrame\n",
      "\n",
      "See the caveats in the documentation: https://pandas.pydata.org/pandas-docs/stable/user_guide/indexing.html#returning-a-view-versus-a-copy\n",
      "  AI[\"file\"][i] = f\"{split[0]}_{split[1]}\"\n",
      "/tmp/ipykernel_14232/3041969744.py:8: SettingWithCopyWarning: \n",
      "A value is trying to be set on a copy of a slice from a DataFrame\n",
      "\n",
      "See the caveats in the documentation: https://pandas.pydata.org/pandas-docs/stable/user_guide/indexing.html#returning-a-view-versus-a-copy\n",
      "  AI[\"file\"][i] = f\"{split[0]}_{split[1]}\"\n"
     ]
    },
    {
     "name": "stdout",
     "output_type": "stream",
     "text": [
      "886\n",
      "834\n"
     ]
    },
    {
     "name": "stderr",
     "output_type": "stream",
     "text": [
      "/tmp/ipykernel_14232/3041969744.py:8: SettingWithCopyWarning: \n",
      "A value is trying to be set on a copy of a slice from a DataFrame\n",
      "\n",
      "See the caveats in the documentation: https://pandas.pydata.org/pandas-docs/stable/user_guide/indexing.html#returning-a-view-versus-a-copy\n",
      "  AI[\"file\"][i] = f\"{split[0]}_{split[1]}\"\n",
      "/tmp/ipykernel_14232/3041969744.py:8: SettingWithCopyWarning: \n",
      "A value is trying to be set on a copy of a slice from a DataFrame\n",
      "\n",
      "See the caveats in the documentation: https://pandas.pydata.org/pandas-docs/stable/user_guide/indexing.html#returning-a-view-versus-a-copy\n",
      "  AI[\"file\"][i] = f\"{split[0]}_{split[1]}\"\n"
     ]
    },
    {
     "name": "stdout",
     "output_type": "stream",
     "text": [
      "832\n",
      "832\n"
     ]
    },
    {
     "name": "stderr",
     "output_type": "stream",
     "text": [
      "/tmp/ipykernel_14232/3041969744.py:8: SettingWithCopyWarning: \n",
      "A value is trying to be set on a copy of a slice from a DataFrame\n",
      "\n",
      "See the caveats in the documentation: https://pandas.pydata.org/pandas-docs/stable/user_guide/indexing.html#returning-a-view-versus-a-copy\n",
      "  AI[\"file\"][i] = f\"{split[0]}_{split[1]}\"\n",
      "/tmp/ipykernel_14232/3041969744.py:8: SettingWithCopyWarning: \n",
      "A value is trying to be set on a copy of a slice from a DataFrame\n",
      "\n",
      "See the caveats in the documentation: https://pandas.pydata.org/pandas-docs/stable/user_guide/indexing.html#returning-a-view-versus-a-copy\n",
      "  AI[\"file\"][i] = f\"{split[0]}_{split[1]}\"\n"
     ]
    },
    {
     "name": "stdout",
     "output_type": "stream",
     "text": [
      "518\n",
      "774\n"
     ]
    },
    {
     "name": "stderr",
     "output_type": "stream",
     "text": [
      "/tmp/ipykernel_14232/3041969744.py:8: SettingWithCopyWarning: \n",
      "A value is trying to be set on a copy of a slice from a DataFrame\n",
      "\n",
      "See the caveats in the documentation: https://pandas.pydata.org/pandas-docs/stable/user_guide/indexing.html#returning-a-view-versus-a-copy\n",
      "  AI[\"file\"][i] = f\"{split[0]}_{split[1]}\"\n",
      "/tmp/ipykernel_14232/3041969744.py:8: SettingWithCopyWarning: \n",
      "A value is trying to be set on a copy of a slice from a DataFrame\n",
      "\n",
      "See the caveats in the documentation: https://pandas.pydata.org/pandas-docs/stable/user_guide/indexing.html#returning-a-view-versus-a-copy\n",
      "  AI[\"file\"][i] = f\"{split[0]}_{split[1]}\"\n"
     ]
    },
    {
     "name": "stdout",
     "output_type": "stream",
     "text": [
      "773\n",
      "770\n"
     ]
    },
    {
     "name": "stderr",
     "output_type": "stream",
     "text": [
      "/tmp/ipykernel_14232/3041969744.py:8: SettingWithCopyWarning: \n",
      "A value is trying to be set on a copy of a slice from a DataFrame\n",
      "\n",
      "See the caveats in the documentation: https://pandas.pydata.org/pandas-docs/stable/user_guide/indexing.html#returning-a-view-versus-a-copy\n",
      "  AI[\"file\"][i] = f\"{split[0]}_{split[1]}\"\n",
      "/tmp/ipykernel_14232/3041969744.py:8: SettingWithCopyWarning: \n",
      "A value is trying to be set on a copy of a slice from a DataFrame\n",
      "\n",
      "See the caveats in the documentation: https://pandas.pydata.org/pandas-docs/stable/user_guide/indexing.html#returning-a-view-versus-a-copy\n",
      "  AI[\"file\"][i] = f\"{split[0]}_{split[1]}\"\n"
     ]
    },
    {
     "name": "stdout",
     "output_type": "stream",
     "text": [
      "770\n",
      "768\n"
     ]
    },
    {
     "name": "stderr",
     "output_type": "stream",
     "text": [
      "/tmp/ipykernel_14232/3041969744.py:8: SettingWithCopyWarning: \n",
      "A value is trying to be set on a copy of a slice from a DataFrame\n",
      "\n",
      "See the caveats in the documentation: https://pandas.pydata.org/pandas-docs/stable/user_guide/indexing.html#returning-a-view-versus-a-copy\n",
      "  AI[\"file\"][i] = f\"{split[0]}_{split[1]}\"\n",
      "/tmp/ipykernel_14232/3041969744.py:8: SettingWithCopyWarning: \n",
      "A value is trying to be set on a copy of a slice from a DataFrame\n",
      "\n",
      "See the caveats in the documentation: https://pandas.pydata.org/pandas-docs/stable/user_guide/indexing.html#returning-a-view-versus-a-copy\n",
      "  AI[\"file\"][i] = f\"{split[0]}_{split[1]}\"\n"
     ]
    }
   ],
   "source": [
    "files_Ais = find_csv_filenames(f\"{root}/Zamuro/AI_Caract\")\n",
    "\n",
    "for index, file in enumerate(files_Ais):\n",
    "    AI = pd.read_csv(f\"{root}/Zamuro/AI_Caract/{files_Ais[index]}\")\n",
    "    print(len(AI))\n",
    "    for i in range(len(AI)):\n",
    "        split = AI[\"file\"][i].split(\"/\")[-2::]\n",
    "        AI[\"file\"][i] = f\"{split[0]}_{split[1]}\"\n",
    "    if index == 0:\n",
    "        AIs_Zamuro = AI.copy()\n",
    "    else:\n",
    "        AIs_Zamuro = pd.concat([AIs_Zamuro, AI])\n",
    "AIs_Zamuro.to_csv(f\"{root}/Zamuro/AI_Caract/AI_Zamuro.csv\")"
   ]
  }
 ],
 "metadata": {
  "kernelspec": {
   "display_name": "Python 3 (ipykernel)",
   "language": "python",
   "name": "python3"
  },
  "language_info": {
   "codemirror_mode": {
    "name": "ipython",
    "version": 3
   },
   "file_extension": ".py",
   "mimetype": "text/x-python",
   "name": "python",
   "nbconvert_exporter": "python",
   "pygments_lexer": "ipython3",
   "version": "3.10.4"
  }
 },
 "nbformat": 4,
 "nbformat_minor": 1
}
