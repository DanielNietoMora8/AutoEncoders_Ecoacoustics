{
 "cells": [
  {
   "cell_type": "code",
   "execution_count": 1,
   "metadata": {
    "ExecuteTime": {
     "end_time": "2024-02-21T20:42:00.637636374Z",
     "start_time": "2024-02-21T20:42:00.611775016Z"
    }
   },
   "outputs": [
    {
     "name": "stdout",
     "output_type": "stream",
     "text": [
      "Running local\n"
     ]
    }
   ],
   "source": [
    "if 'google.colab' in str(get_ipython()):\n",
    "    import sys\n",
    "    from google.colab import drive, output\n",
    "    drive.mount('/content/drive')\n",
    "    !pip install torchaudio\n",
    "    !pip install wandb --upgrade\n",
    "    output.clear()\n",
    "    print(\"Running on colab\")\n",
    "    %load_ext autoreload\n",
    "    %autoreload 1\n",
    "    %cd '/content/drive/MyDrive/PhD_Thesis_Experiments/DeepLearning/AutoEncoders/Project'\n",
    "    root = \"/content/drive/MyDrive/PhD_Thesis_Experiments/DeepLearning/AutoEncoders/Project\"\n",
    "else:\n",
    "    print(\"Running local\")\n",
    "    root = \"/home/mirp_ai/Documents/Daniel_Nieto/PhD/AutoEncoders_Ecoacoustics\"\n",
    "    root_path = \"/media/mirp_ai/Seagate Desktop Drive/Datos Rey Zamuro/Ultrasonido\""
   ]
  },
  {
   "cell_type": "code",
   "execution_count": 2,
   "metadata": {},
   "outputs": [
    {
     "name": "stdout",
     "output_type": "stream",
     "text": [
      "cuda\n"
     ]
    }
   ],
   "source": [
    "import os\n",
    "import numpy as np\n",
    "\n",
    "import datetime\n",
    "from datetime import timedelta\n",
    "\n",
    "import torch\n",
    "from torch.utils.data import DataLoader\n",
    "import torchvision.datasets as datasets\n",
    "from torchvision.utils import make_grid\n",
    "from Zamuro_DataLoader import SoundscapeData\n",
    "\n",
    "import pandas as pd\n",
    "\n",
    "device = torch.device(\"cuda\" if torch.cuda.is_available() else \"cpu\")\n",
    "print(device)"
   ]
  },
  {
   "cell_type": "code",
   "execution_count": 3,
   "metadata": {},
   "outputs": [],
   "source": [
    "def find_csv_filenames( path_to_dir, suffix=\".csv\" ):\n",
    "    filenames = os.listdir(path_to_dir)\n",
    "    return sorted([ filename for filename in filenames if filename.endswith( suffix ) ])\n",
    "\n",
    "def find_wav_filenames( path_to_dir, suffix=\".wav\" ):\n",
    "    filenames = os.listdir(path_to_dir)\n",
    "    return sorted([ filename for filename in filenames if filename.endswith( suffix ) ])"
   ]
  },
  {
   "cell_type": "code",
   "execution_count": null,
   "metadata": {
    "scrolled": true
   },
   "outputs": [],
   "source": [
    "files_Ais = find_csv_filenames(f\"{root}/Zamuro/AI_Caract\")\n",
    "file_rain = f\"{root}/Zamuro/Complementary_Files/Result_rain_merged.xlsx\"\n",
    "files_udas = f\"{root}/Zamuro/Complementary_Files/UDAS Pasivo_20221001_Zamuro.xlsx\"\n",
    "files_covers = f\"{root}/Zamuro/Complementary_Files/ReyZamuro_softLabels.csv\"\n",
    "files_recorders = os.listdir(\"/media/mirp_ai/Seagate Desktop Drive/Datos Rey Zamuro/Ultrasonido/\")\n",
    "path_recorders = \"/media/mirp_ai/Seagate Desktop Drive/Datos Rey Zamuro/Ultrasonido/\""
   ]
  },
  {
   "cell_type": "code",
   "execution_count": null,
   "metadata": {
    "scrolled": true
   },
   "outputs": [],
   "source": [
    "UDAS = pd.read_excel(f\"{files_udas}\", sheet_name=\"Template\")\n",
    "covers = pd.read_csv(f\"{files_covers}\")\n",
    "# AIs = pd.read_csv(files_Ais)\n",
    "habitat = [\"bosque\"]* 2 + [\"pastizal\"] + [\"bosque\"] + [\"borde\"] * 2 + [\"bosque\"] +  [\"parche\"] *2 + [\"bosque\"]*4 + [\"borde\"]*11 + [\"bosque\"] * 9 + [\"parche\"]*2 + [\"pastizal\"]*4 + [\"parche\"]*2 + [\"sabana\"]*10 + [\"borde\"] + [\"sabana\"] + [\"pastizal\"] + [\"sabana\"] + [\"bosque\"]*3 + [\"pastizal\"]*2 + [\"potrero\"] * 2 + [\"bosque\"] + [\"borde\"]* 5 +[\"bosque\"] * 9 + [\"sabana\"]* 2 + [\"pastizal\"] + [\"parche\"]\n",
    "habitat = [\n",
    "    \"bosque\", \"bosque\", \"pastizal\", \"borde\", \"borde\", \"borde\", \"bosque\", \"sabana\", \"bosque\", \"borde\",\n",
    "    \"bosque\", \"bosque\", \"bosque\", \"bosque\", \"bosque\", \"borde\", \"borde\", \"pastizal\", \"potrero\", \"sabana\",\n",
    "    \"borde\", \"bosque\", \"bosque\", \"sabana\", \"borde\", \"bosque\", \"borde\", \"bosque\", \"bosque\", \"bosque\", \"borde\",\n",
    "    \"potrero\", \"bosque\", \"bosque\", \"sabana\", \"bosque\", \"bosque\", \"sabana\", \"parche\", \"bosque\", \"pastizal\",\n",
    "    \"bosque\", \"bosque\", \"borde\", \"bosque\", \"borde\", \"borde\", \"bosque\", \"parche\", \"bosque\", \"bosque\", \"sabana\",\n",
    "    \"bosque\", \"pastizal\", \"pastizal\", \"sabana\", \"sabana\", \"borde\", \"bosque\", \"sabana\", \"bosque\", \"sabana\",\n",
    "    \"bosque\", \"sabana\", \"borde\", \"borde\", \"borde\", \"borde\", \"pastizal\", \"bosque\", \"pastizal\", \"pastizal\",\n",
    "    \"bosque\", \"bosque\", \"bosque\", \"bosque\", \"sabana\", \"pastizal\", \"parche\", \"borde\", \"sabana\", \"sabana\", \"parche\",\n",
    "    \"parche\", \"sabana\", \"borde\", \"sabana\", \"parche\", \"bosque\", \"sabana\", \"parche\", \"bosque\", \"sabana\", \"borde\",\n",
    "    \"borde\", \"sabana\", \"sabana\", \"borde\", \"bosque\", \"bosque\", \"bosque\", \"bosque\", \"bosque\", \"bosque\", \"bosque\", \"bosque\"\n",
    "]\n",
    "\n",
    "keep_cols = [\"field_number_PR\", \"longitud_IG\", \"latitude_IG\", \"day_init_TI\", \"day_end_TI\", \"samp_rate_RE\"]"
   ]
  },
  {
   "cell_type": "code",
   "execution_count": null,
   "metadata": {},
   "outputs": [],
   "source": [
    "UDAS = UDAS[keep_cols]\n",
    "UDAS[\"habitat\"] = habitat\n",
    "UDAS.info()\n",
    "covers.rename(columns={\"field_numb\":\"field_number_PR\", \"1\":\"pasture\", \"2\": \"savanna\", \"3\": \"forest\"}, inplace=True)\n",
    "a=UDAS\n",
    "b=covers\n",
    "merged_df = a.merge(b, on='field_number_PR', how='left')\n",
    "result_df = merged_df[merged_df['pasture'].notna()]\n",
    "result_df.reset_index(inplace=True)\n",
    "result_df.drop(\"index\", axis=1, inplace=True)\n",
    "result_df[\"cover\"] = result_df[[\"pasture\", \"savanna\", \"forest\"]].idxmax(axis=1)\n",
    "result_df.to_csv(f\"{root}//Zamuro/Complementary_Files/zamuro_recorders.csv\")"
   ]
  },
  {
   "cell_type": "code",
   "execution_count": null,
   "metadata": {
    "scrolled": true
   },
   "outputs": [],
   "source": [
    "audios = pd.DataFrame(columns=result_df.columns)\n",
    "total_files=0\n",
    "for i in range(len(result_df)):\n",
    "    aux = pd.DataFrame(columns=result_df.columns)\n",
    "    path = root_path+\"/\"+result_df.loc[i, \"field_number_PR\"]\n",
    "    files = os.listdir(path)\n",
    "    total_files+=len(files)\n",
    "    aux[\"Filename\"] = files\n",
    "    name=[i.split('.', 1)[0] for i in files]\n",
    "    aux[\"name_FI\"] = name\n",
    "    for col in aux.columns[0:-2]:\n",
    "        aux[col] = result_df.loc[i,col]\n",
    "    audios = pd.concat([audios, aux])\n",
    "audios.to_csv(f\"{root}/Zamuro/Complementary_Files/zamuro_audios.csv\")\n",
    "audios.reset_index(inplace=True)"
   ]
  },
  {
   "cell_type": "code",
   "execution_count": null,
   "metadata": {
    "scrolled": false
   },
   "outputs": [],
   "source": [
    "rain = pd.read_excel(file_rain)\n",
    "rain = rain[[\"field_number_PR\", \"name_FI\",\"rain_FI\"]]\n",
    "audios[\"rain_FI\"] = \"-\"\n",
    "count = 0\n",
    "for i in range(len(audios)):\n",
    "    if i%10000 == 0:\n",
    "        print(i)\n",
    "    try:\n",
    "        audio = audios.loc[i]\n",
    "        audios.loc[i, \"rain_FI\"] = rain.loc[rain[\"field_number_PR\"] == audio[\"field_number_PR\"]].loc[rain[\"name_FI\"] == audio[\"Filename\"]][\"rain_FI\"].values[0]\n",
    "    except:\n",
    "        count+=1\n",
    "audios.to_csv(f\"{root}//Zamuro/Complementary_Files/zamuro_audios.csv\")"
   ]
  },
  {
   "cell_type": "code",
   "execution_count": 4,
   "metadata": {
    "scrolled": true
   },
   "outputs": [
    {
     "data": {
      "text/plain": [
       "{'RZUA01',\n",
       " 'RZUA02',\n",
       " 'RZUA03b',\n",
       " 'RZUA04',\n",
       " 'RZUA05',\n",
       " 'RZUA06',\n",
       " 'RZUA07',\n",
       " 'RZUA08',\n",
       " 'RZUA09',\n",
       " 'RZUA10',\n",
       " 'RZUB01',\n",
       " 'RZUB02',\n",
       " 'RZUB03',\n",
       " 'RZUB04',\n",
       " 'RZUB05',\n",
       " 'RZUB06',\n",
       " 'RZUB07',\n",
       " 'RZUB08',\n",
       " 'RZUB09',\n",
       " 'RZUB10',\n",
       " 'RZUB11',\n",
       " 'RZUC01',\n",
       " 'RZUC02',\n",
       " 'RZUC03',\n",
       " 'RZUC05',\n",
       " 'RZUC06',\n",
       " 'RZUC07',\n",
       " 'RZUC08',\n",
       " 'RZUC09',\n",
       " 'RZUC10',\n",
       " 'RZUC11',\n",
       " 'RZUC12',\n",
       " 'RZUD01M',\n",
       " 'RZUD02',\n",
       " 'RZUD03',\n",
       " 'RZUD04',\n",
       " 'RZUD05',\n",
       " 'RZUD06',\n",
       " 'RZUD07',\n",
       " 'RZUD08',\n",
       " 'RZUD09',\n",
       " 'RZUD10',\n",
       " 'RZUD11',\n",
       " 'RZUD12',\n",
       " 'RZUD13',\n",
       " 'RZUE01',\n",
       " 'RZUE02',\n",
       " 'RZUE03',\n",
       " 'RZUE04',\n",
       " 'RZUE05',\n",
       " 'RZUE06',\n",
       " 'RZUE07',\n",
       " 'RZUE08',\n",
       " 'RZUE09',\n",
       " 'RZUE10',\n",
       " 'RZUE11',\n",
       " 'RZUE12',\n",
       " 'RZUE13',\n",
       " 'RZUF02',\n",
       " 'RZUF03',\n",
       " 'RZUF04',\n",
       " 'RZUF05',\n",
       " 'RZUF06',\n",
       " 'RZUF07',\n",
       " 'RZUF08',\n",
       " 'RZUF09',\n",
       " 'RZUF10',\n",
       " 'RZUF11',\n",
       " 'RZUF12',\n",
       " 'RZUF13',\n",
       " 'RZUG02',\n",
       " 'RZUG03',\n",
       " 'RZUG04',\n",
       " 'RZUG05',\n",
       " 'RZUG06',\n",
       " 'RZUG07',\n",
       " 'RZUG08',\n",
       " 'RZUG09',\n",
       " 'RZUG10',\n",
       " 'RZUG11',\n",
       " 'RZUG12',\n",
       " 'RZUG13',\n",
       " 'RZUH02',\n",
       " 'RZUH03',\n",
       " 'RZUH04',\n",
       " 'RZUH05',\n",
       " 'RZUH06',\n",
       " 'RZUH07',\n",
       " 'RZUH08',\n",
       " 'RZUH09',\n",
       " 'RZUH10',\n",
       " 'RZUH11',\n",
       " 'RZUH12',\n",
       " 'RZUH13'}"
      ]
     },
     "execution_count": 4,
     "metadata": {},
     "output_type": "execute_result"
    }
   ],
   "source": [
    "audios_zamuro = pd.read_csv(f\"{root}//Zamuro/Complementary_Files/zamuro_audios.csv\")\n",
    "audios_zamuro.drop(columns=[\"Unnamed: 0\"], inplace=True)\n",
    "set(audios_zamuro[\"field_number_PR\"])"
   ]
  },
  {
   "cell_type": "code",
   "execution_count": null,
   "metadata": {},
   "outputs": [],
   "source": [
    "lista = list(set(audios_zamuro[\"field_number_PR\"]))\n",
    "lista.sort()\n",
    "for csv in lista:\n",
    "    temporal_csv = audios_zamuro.loc[audios_zamuro[\"field_number_PR\"] == csv]\n",
    "    temporal_csv.drop(columns=[\"index\"],inplace=True)\n",
    "    temporal_csv.to_csv(f\"{root}//Zamuro/Complementary_Files/{csv}.csv\",\n",
    "                        index=True, index_label=\"global_index\")"
   ]
  },
  {
   "cell_type": "code",
   "execution_count": 48,
   "metadata": {},
   "outputs": [],
   "source": [
    "model = \"AE\"\n",
    "identifier = \"batch_size_14_num_hiddens_64_\"\n",
    "day = 4\n",
    "hour = 9\n",
    "date_format = f\"day_{day}_hour_{hour}\"\n",
    "X = torch.load(f\"temporal_zamuro/Features/AE_features_{date_format}_rain_NO_{lista[54]}.csv.pth\",  map_location=torch.device('cpu'))"
   ]
  },
  {
   "cell_type": "code",
   "execution_count": 192,
   "metadata": {},
   "outputs": [],
   "source": [
    "X = torch.load(f\"temporal_zamuro/Features/AE_features_{date_format}_rain_NO_{lista[0]}.csv.pth\",  map_location=torch.device('cpu'))\n",
    "y = torch.load(f\"temporal_zamuro/Features/AE_test_path_samples_{date_format}_rain_NO_{lista[0]}.csv.pth\",  map_location=torch.device('cpu'))\n",
    "for i, csv in enumerate(lista[1::]):\n",
    "    X_i = torch.load(f\"temporal_zamuro/Features/AE_features_{date_format}_rain_NO_{csv}.csv.pth\",  map_location=torch.device('cpu'))\n",
    "    y_i = torch.load(f\"temporal_zamuro/Features/AE_test_path_samples_{date_format}_rain_NO_{csv}.csv.pth\",  map_location=torch.device('cpu'))\n",
    "    X = torch.cat((X,X_i),0)\n",
    "    y = y + y_i\n",
    "torch.save(X, f\"temporal_zamuro/Features/AE_features_Zamuro.pth\")\n",
    "torch.save(y, f\"temporal_zamuro/Features/AE_test_path_samples_Zamuro.pth\")\n",
    "       \n",
    "path_error = torch.load(f\"temporal_zamuro/Features/AE_test_corrupted_samples_list_{date_format}_rain_NO_{lista[9]}.csv.pth\",  map_location=torch.device('cpu'))\n",
    "y_path = torch.load(f\"temporal_zamuro/Features/AE_test_path_samples_{date_format}_rain_NO_{lista[9]}.csv.pth\",  map_location=torch.device('cpu'))"
   ]
  },
  {
   "cell_type": "code",
   "execution_count": 215,
   "metadata": {},
   "outputs": [],
   "source": [
    "path_flat = [item for sublist in y_path for item in sublist]\n",
    "path_flat = np.asarray(path_flat)"
   ]
  },
  {
   "cell_type": "code",
   "execution_count": 219,
   "metadata": {},
   "outputs": [
    {
     "data": {
      "text/plain": [
       "4270"
      ]
     },
     "execution_count": 219,
     "metadata": {},
     "output_type": "execute_result"
    }
   ],
   "source": [
    "len(y_path*5)"
   ]
  },
  {
   "cell_type": "code",
   "execution_count": 217,
   "metadata": {},
   "outputs": [
    {
     "data": {
      "text/plain": [
       "(4270,)"
      ]
     },
     "execution_count": 217,
     "metadata": {},
     "output_type": "execute_result"
    }
   ],
   "source": [
    "path_flat.shape"
   ]
  },
  {
   "cell_type": "code",
   "execution_count": 195,
   "metadata": {},
   "outputs": [],
   "source": [
    "y_0 = torch.load(f\"temporal_zamuro/Features/AE_test_path_samples_{date_format}_rain_NO_{lista[0]}.csv.pth\",  map_location=torch.device('cpu'))\n",
    "y_1 = torch.load(f\"temporal_zamuro/Features/AE_test_path_samples_{date_format}_rain_NO_{lista[1]}.csv.pth\",  map_location=torch.device('cpu'))\n",
    "y = torch.load(f\"temporal_zamuro/Features/AE_test_path_samples_Zamuro.pth\",  map_location=torch.device('cpu'))"
   ]
  },
  {
   "cell_type": "code",
   "execution_count": 94,
   "metadata": {},
   "outputs": [],
   "source": [
    "audios_zamuro_clean = audios_zamuro.copy()"
   ]
  }
 ],
 "metadata": {
  "kernelspec": {
   "display_name": "Python 3 (ipykernel)",
   "language": "python",
   "name": "python3"
  },
  "language_info": {
   "codemirror_mode": {
    "name": "ipython",
    "version": 3
   },
   "file_extension": ".py",
   "mimetype": "text/x-python",
   "name": "python",
   "nbconvert_exporter": "python",
   "pygments_lexer": "ipython3",
   "version": "3.10.4"
  }
 },
 "nbformat": 4,
 "nbformat_minor": 1
}
