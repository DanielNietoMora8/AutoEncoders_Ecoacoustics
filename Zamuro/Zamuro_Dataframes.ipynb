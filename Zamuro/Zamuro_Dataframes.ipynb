{
 "cells": [
  {
   "cell_type": "code",
   "execution_count": 1,
   "metadata": {},
   "outputs": [
    {
     "name": "stdout",
     "output_type": "stream",
     "text": [
      "Running local\n"
     ]
    }
   ],
   "source": [
    "if 'google.colab' in str(get_ipython()):\n",
    "    import sys\n",
    "    from google.colab import drive, output\n",
    "    drive.mount('/content/drive')\n",
    "    !pip install torchaudio\n",
    "    !pip install wandb --upgrade\n",
    "    output.clear()\n",
    "    print(\"Running on colab\")\n",
    "    %load_ext autoreload\n",
    "    %autoreload 1\n",
    "    %cd '/content/drive/MyDrive/PhD_Thesis_Experiments/DeepLearning/AutoEncoders/Project'\n",
    "    root = \"/content/drive/MyDrive/PhD_Thesis_Experiments/DeepLearning/AutoEncoders/Project\"\n",
    "else:\n",
    "    print(\"Running local\")\n",
    "    root = \"/home/mirp_ai/Documents/Daniel_Nieto/PhD/AutoEncoders_Ecoacoustics\"\n",
    "    root_path = \"/media/mirp_ai/Seagate Desktop Drive/Datos Rey Zamuro/Ultrasonido\""
   ]
  },
  {
   "cell_type": "code",
   "execution_count": 2,
   "metadata": {},
   "outputs": [
    {
     "name": "stdout",
     "output_type": "stream",
     "text": [
      "cuda\n"
     ]
    }
   ],
   "source": [
    "import os\n",
    "import numpy as np\n",
    "\n",
    "import datetime\n",
    "from datetime import timedelta\n",
    "\n",
    "import torch\n",
    "from torch.utils.data import DataLoader\n",
    "import torchvision.datasets as datasets\n",
    "from torchvision.utils import make_grid\n",
    "from Jaguas_DataLoader_rainless import SoundscapeData\n",
    "\n",
    "import pandas as pd\n",
    "\n",
    "device = torch.device(\"cuda\" if torch.cuda.is_available() else \"cpu\")\n",
    "print(device)"
   ]
  },
  {
   "cell_type": "code",
   "execution_count": 3,
   "metadata": {},
   "outputs": [],
   "source": [
    "def find_csv_filenames( path_to_dir, suffix=\".csv\" ):\n",
    "    filenames = os.listdir(path_to_dir)\n",
    "    return sorted([ filename for filename in filenames if filename.endswith( suffix ) ])\n",
    "\n",
    "def find_wav_filenames( path_to_dir, suffix=\".wav\" ):\n",
    "    filenames = os.listdir(path_to_dir)\n",
    "    return sorted([ filename for filename in filenames if filename.endswith( suffix ) ])"
   ]
  },
  {
   "cell_type": "code",
   "execution_count": 4,
   "metadata": {
    "scrolled": true
   },
   "outputs": [],
   "source": [
    "files_Ais = find_csv_filenames(f\"{root}/Zamuro/AI_Caract\")\n",
    "file_rain = f\"{root}/Zamuro/Complementary_Files/Result_rain_merged.xlsx\"\n",
    "files_udas = f\"{root}/Zamuro/Complementary_Files/UDAS Pasivo_20221001_Zamuro.xlsx\"\n",
    "files_covers = f\"{root}/Zamuro/Complementary_Files/ReyZamuro_softLabels.csv\"\n",
    "files_recorders = os.listdir(\"/media/mirp_ai/Seagate Desktop Drive/Datos Rey Zamuro/Ultrasonido/\")\n",
    "path_recorders = \"/media/mirp_ai/Seagate Desktop Drive/Datos Rey Zamuro/Ultrasonido/\""
   ]
  },
  {
   "cell_type": "code",
   "execution_count": 5,
   "metadata": {
    "scrolled": true
   },
   "outputs": [],
   "source": [
    "UDAS = pd.read_excel(f\"{files_udas}\", sheet_name=\"Template\")\n",
    "covers = pd.read_csv(f\"{files_covers}\")\n",
    "# AIs = pd.read_csv(files_Ais)\n",
    "habitat = [\"bosque\"]* 2 + [\"pastizal\"] + [\"bosque\"] + [\"borde\"] * 2 + [\"bosque\"] +  [\"parche\"] *2 + [\"bosque\"]*4 + [\"borde\"]*11 + [\"bosque\"] * 9 + [\"parche\"]*2 + [\"pastizal\"]*4 + [\"parche\"]*2 + [\"sabana\"]*10 + [\"borde\"] + [\"sabana\"] + [\"pastizal\"] + [\"sabana\"] + [\"bosque\"]*3 + [\"pastizal\"]*2 + [\"potrero\"] * 2 + [\"bosque\"] + [\"borde\"]* 5 +[\"bosque\"] * 9 + [\"sabana\"]* 2 + [\"pastizal\"] + [\"parche\"]\n",
    "habitat = [\n",
    "    \"bosque\", \"bosque\", \"pastizal\", \"borde\", \"borde\", \"borde\", \"bosque\", \"sabana\", \"bosque\", \"borde\",\n",
    "    \"bosque\", \"bosque\", \"bosque\", \"bosque\", \"bosque\", \"borde\", \"borde\", \"pastizal\", \"potrero\", \"sabana\",\n",
    "    \"borde\", \"bosque\", \"bosque\", \"sabana\", \"borde\", \"bosque\", \"borde\", \"bosque\", \"bosque\", \"bosque\", \"borde\",\n",
    "    \"potrero\", \"bosque\", \"bosque\", \"sabana\", \"bosque\", \"bosque\", \"sabana\", \"parche\", \"bosque\", \"pastizal\",\n",
    "    \"bosque\", \"bosque\", \"borde\", \"bosque\", \"borde\", \"borde\", \"bosque\", \"parche\", \"bosque\", \"bosque\", \"sabana\",\n",
    "    \"bosque\", \"pastizal\", \"pastizal\", \"sabana\", \"sabana\", \"borde\", \"bosque\", \"sabana\", \"bosque\", \"sabana\",\n",
    "    \"bosque\", \"sabana\", \"borde\", \"borde\", \"borde\", \"borde\", \"pastizal\", \"bosque\", \"pastizal\", \"pastizal\",\n",
    "    \"bosque\", \"bosque\", \"bosque\", \"bosque\", \"sabana\", \"pastizal\", \"parche\", \"borde\", \"sabana\", \"sabana\", \"parche\",\n",
    "    \"parche\", \"sabana\", \"borde\", \"sabana\", \"parche\", \"bosque\", \"sabana\", \"parche\", \"bosque\", \"sabana\", \"borde\",\n",
    "    \"borde\", \"sabana\", \"sabana\", \"borde\", \"bosque\", \"bosque\", \"bosque\", \"bosque\", \"bosque\", \"bosque\", \"bosque\", \"bosque\"\n",
    "]\n",
    "\n",
    "keep_cols = [\"field_number_PR\", \"longitud_IG\", \"latitude_IG\", \"day_init_TI\", \"day_end_TI\", \"samp_rate_RE\"]"
   ]
  },
  {
   "cell_type": "code",
   "execution_count": 6,
   "metadata": {},
   "outputs": [
    {
     "name": "stdout",
     "output_type": "stream",
     "text": [
      "<class 'pandas.core.frame.DataFrame'>\n",
      "RangeIndex: 106 entries, 0 to 105\n",
      "Data columns (total 7 columns):\n",
      " #   Column           Non-Null Count  Dtype  \n",
      "---  ------           --------------  -----  \n",
      " 0   field_number_PR  106 non-null    object \n",
      " 1   longitud_IG      106 non-null    float64\n",
      " 2   latitude_IG      106 non-null    float64\n",
      " 3   day_init_TI      106 non-null    int64  \n",
      " 4   day_end_TI       106 non-null    int64  \n",
      " 5   samp_rate_RE     106 non-null    int64  \n",
      " 6   habitat          106 non-null    object \n",
      "dtypes: float64(2), int64(3), object(2)\n",
      "memory usage: 5.9+ KB\n"
     ]
    },
    {
     "name": "stderr",
     "output_type": "stream",
     "text": [
      "/tmp/ipykernel_174837/3762597280.py:10: SettingWithCopyWarning: \n",
      "A value is trying to be set on a copy of a slice from a DataFrame\n",
      "\n",
      "See the caveats in the documentation: https://pandas.pydata.org/pandas-docs/stable/user_guide/indexing.html#returning-a-view-versus-a-copy\n",
      "  result_df.drop(\"index\", axis=1, inplace=True)\n",
      "/tmp/ipykernel_174837/3762597280.py:11: SettingWithCopyWarning: \n",
      "A value is trying to be set on a copy of a slice from a DataFrame.\n",
      "Try using .loc[row_indexer,col_indexer] = value instead\n",
      "\n",
      "See the caveats in the documentation: https://pandas.pydata.org/pandas-docs/stable/user_guide/indexing.html#returning-a-view-versus-a-copy\n",
      "  result_df[\"cover\"] = result_df[[\"pasture\", \"savanna\", \"forest\"]].idxmax(axis=1)\n"
     ]
    }
   ],
   "source": [
    "UDAS = UDAS[keep_cols]\n",
    "UDAS[\"habitat\"] = habitat\n",
    "UDAS.info()\n",
    "covers.rename(columns={\"field_numb\":\"field_number_PR\", \"1\":\"pasture\", \"2\": \"savanna\", \"3\": \"forest\"}, inplace=True)\n",
    "a=UDAS\n",
    "b=covers\n",
    "merged_df = a.merge(b, on='field_number_PR', how='left')\n",
    "result_df = merged_df[merged_df['pasture'].notna()]\n",
    "result_df.reset_index(inplace=True)\n",
    "result_df.drop(\"index\", axis=1, inplace=True)\n",
    "result_df[\"cover\"] = result_df[[\"pasture\", \"savanna\", \"forest\"]].idxmax(axis=1)\n",
    "result_df.to_csv(f\"{root}//Zamuro/Complementary_Files/zamuro_recorders.csv\")"
   ]
  },
  {
   "cell_type": "code",
   "execution_count": 7,
   "metadata": {
    "scrolled": true
   },
   "outputs": [],
   "source": [
    "audios = pd.DataFrame(columns=result_df.columns)\n",
    "total_files=0\n",
    "for i in range(len(result_df)):\n",
    "    aux = pd.DataFrame(columns=result_df.columns)\n",
    "    path = root_path+\"/\"+result_df.loc[i, \"field_number_PR\"]\n",
    "    files = os.listdir(path)\n",
    "    total_files+=len(files)\n",
    "    aux[\"Filename\"] = files\n",
    "    name=[i.split('.', 1)[0] for i in files]\n",
    "    aux[\"name_FI\"] = name\n",
    "    for col in aux.columns[0:-2]:\n",
    "        aux[col] = result_df.loc[i,col]\n",
    "    audios = pd.concat([audios, aux])\n",
    "audios.to_csv(f\"{root}/Zamuro/Complementary_Files/zamuro_audios.csv\")\n",
    "audios.reset_index(inplace=True)"
   ]
  },
  {
   "cell_type": "code",
   "execution_count": 9,
   "metadata": {
    "scrolled": true
   },
   "outputs": [
    {
     "name": "stdout",
     "output_type": "stream",
     "text": [
      "0\n",
      "5000\n",
      "10000\n",
      "15000\n",
      "20000\n",
      "25000\n",
      "30000\n",
      "35000\n",
      "40000\n",
      "45000\n",
      "50000\n",
      "55000\n",
      "60000\n",
      "65000\n",
      "70000\n",
      "75000\n"
     ]
    }
   ],
   "source": [
    "rain = pd.read_excel(file_rain)\n",
    "rain = rain[[\"field_number_PR\", \"name_FI\",\"rain_FI\"]]\n",
    "audios[\"rain_FI\"] = \"-\"\n",
    "count = 0\n",
    "for i in range(len(audios)):\n",
    "    if i%10000 == 0:\n",
    "        print(i)\n",
    "    try:\n",
    "        audio = audios.loc[i]\n",
    "        audios.loc[i, \"rain_FI\"] = rain.loc[rain[\"field_number_PR\"] == audio[\"field_number_PR\"]].loc[rain[\"name_FI\"] == audio[\"Filename\"]][\"rain_FI\"].values[0]\n",
    "    except:\n",
    "        count+=1\n",
    "audios.to_csv(f\"{root}//Zamuro/Complementary_Files/zamuro_audios.csv\")"
   ]
  }
 ],
 "metadata": {
  "kernelspec": {
   "display_name": "Python 3 (ipykernel)",
   "language": "python",
   "name": "python3"
  },
  "language_info": {
   "codemirror_mode": {
    "name": "ipython",
    "version": 3
   },
   "file_extension": ".py",
   "mimetype": "text/x-python",
   "name": "python",
   "nbconvert_exporter": "python",
   "pygments_lexer": "ipython3",
   "version": "3.10.4"
  }
 },
 "nbformat": 4,
 "nbformat_minor": 1
}
