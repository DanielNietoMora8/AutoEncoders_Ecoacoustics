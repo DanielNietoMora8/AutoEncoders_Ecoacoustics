{
 "cells": [
  {
   "cell_type": "code",
   "execution_count": 1,
   "id": "b48e781f",
   "metadata": {
    "ExecuteTime": {
     "end_time": "2023-10-06T23:41:31.401432057Z",
     "start_time": "2023-10-06T23:41:31.358226256Z"
    }
   },
   "outputs": [
    {
     "name": "stdout",
     "output_type": "stream",
     "text": [
      "Running local\n"
     ]
    }
   ],
   "source": [
    "if 'google.colab' in str(get_ipython()):\n",
    "    import sys\n",
    "    from google.colab import drive, output\n",
    "    drive.mount('/content/drive')\n",
    "    !pip install torchaudio\n",
    "    !pip install wandb --upgrade\n",
    "    output.clear()\n",
    "    print(\"Running on colab\")\n",
    "    %load_ext autoreload\n",
    "    %autoreload 1\n",
    "    %cd '/content/drive/MyDrive/PhD_Thesis_Experiments/DeepLearning/AutoEncoders/Project'\n",
    "    root = \"/content/drive/MyDrive/PhD_Thesis_Experiments/DeepLearning/AutoEncoders/Project\"\n",
    "else:\n",
    "    print(\"Running local\")\n",
    "    root = \"/home/mirp_ai/Documents/Daniel_Nieto/PhD/AutoEncoders_Ecoacoustics\"\n",
    "    root_path = \"/media/mirp_ai/Seagate Desktop Drive/Jaguas_2018\"\n"
   ]
  },
  {
   "cell_type": "code",
   "execution_count": 2,
   "id": "c7897669",
   "metadata": {},
   "outputs": [
    {
     "name": "stdout",
     "output_type": "stream",
     "text": [
      "cuda\n"
     ]
    }
   ],
   "source": [
    "import os\n",
    "import numpy as np\n",
    "\n",
    "import datetime\n",
    "from datetime import timedelta\n",
    "\n",
    "import torch\n",
    "from torch.utils.data import DataLoader\n",
    "import torchvision.datasets as datasets\n",
    "from torchvision.utils import make_grid\n",
    "from Jaguas_DataLoader_rainless import SoundscapeData\n",
    "import matplotlib.pyplot as plt\n",
    "import pandas as pd\n",
    "import folium\n",
    "from folium.plugins import HeatMap\n",
    "device = torch.device(\"cuda\" if torch.cuda.is_available() else \"cpu\")\n",
    "print(device)\n"
   ]
  },
  {
   "cell_type": "code",
   "execution_count": 3,
   "id": "443dd6f1",
   "metadata": {},
   "outputs": [],
   "source": [
    "class df_generator():\n",
    "    def __init__(self, root_clusters, root_audios, root_recorders, n_clusters_index = 0):\n",
    "        self.n_clusters_index = n_clusters_index\n",
    "        self.cluster_names = os.listdir(f\"{root_clusters}\")\n",
    "        self.torch_clusters = torch.load(f\"{root_clusters}/{self.cluster_names[n_clusters_index]}\")\n",
    "        self.dataframe_clusters = pd.DataFrame(self.torch_clusters)\n",
    "        self.dataframe_clusters = self.dataframe_clusters.transpose()\n",
    "        self.dataframe_audios = pd.read_csv(f\"{root_audios}\", index_col=0)\n",
    "        self.dataframe_recorders = pd.read_csv(f\"{root_recorders}\",sep = \";\", index_col = \"Recorder\")\n",
    "        self.df_clusters_len = len(self.dataframe_clusters)\n",
    "        self.df_recorders_len = len(self.dataframe_recorders)\n",
    "        self.n_clusters = np.arange(len(self.torch_clusters))\n",
    "        \n",
    "        for i in self.n_clusters:\n",
    "            self.dataframe_audios[f\"Cluster {i}\"] = 0\n",
    "        self.dataframe_audios.set_index(\"Filename\", drop=False, inplace=True)\n",
    "        for i in self.n_clusters:\n",
    "            counts = self.dataframe_clusters[i].value_counts()\n",
    "            c_index = counts.index\n",
    "            c_value = counts.values\n",
    "            for j in range(len(counts)):\n",
    "                self.dataframe_audios.loc[c_index[j], f\"Cluster {i}\"] = c_value[j]\n",
    "\n",
    "        self.dataframe_audios[\"Cluster Sum\"] = self.dataframe_audios.loc[:,\"Cluster 0\": f\"Cluster {len(self.n_clusters)-1}\"].sum(axis=1)\n",
    "        self.dataframe_audios = self.dataframe_audios[self.dataframe_audios[\"Cluster Sum\"]!=0]\n",
    "        self.dataframe_audios.set_index(pd.Index(range(0,len(self.dataframe_audios))), inplace=True)\n",
    "\n",
    "\n",
    "    def show_clusters(self, keyword=None, plot=True):\n",
    "        cluster_names = []\n",
    "        index = []\n",
    "        if keyword != None:\n",
    "            for i in range(len(self.cluster_names)):\n",
    "                if keyword in self.cluster_names[i]:\n",
    "                    cluster_names.append(self.cluster_names[i])\n",
    "                    index.append(i)\n",
    "                else:\n",
    "                    pass\n",
    "        else:\n",
    "            for i in range(len(self.cluster_names)):\n",
    "                    cluster_names.append(self.cluster_names[i])\n",
    "                    index.append(i)\n",
    "                    \n",
    "        if plot==True:\n",
    "            for i in range(len(cluster_names)):\n",
    "                print(f\"{index[i]}: {cluster_names[i]}\")\n",
    "        else:\n",
    "            pass\n",
    "        \n",
    "        return cluster_names, index\n",
    "\n",
    "    def init_clusters(self):\n",
    "        for cluster in self.n_clusters:\n",
    "            self.dataframe_recorders[f\"Cluster {cluster}\"] = 0\n",
    "    \n",
    "#     def create_clusters(self, count_cluster=False):\n",
    "#         self.init_clusters()\n",
    "#         for cluster in self.n_clusters:\n",
    "#             for i in range(self.df_clusters_len):  \n",
    "#                 if self.dataframe_clusters.iloc[i][cluster] != None:\n",
    "#                     self.dataframe_recorders.loc[self.dataframe_clusters.iloc[i][cluster].split(\"_\")[0], f\"Cluster {cluster}\"] +=1\n",
    "#                 else:\n",
    "#                     pass\n",
    "#         if count_cluster == True:\n",
    "#             self.count_cluster_data()\n",
    "#         else:\n",
    "#             pass\n",
    "    \n",
    "    def create_clusters_v2(self, count_cluster=False):\n",
    "        self.init_clusters()\n",
    "        for cluster in self.n_clusters:\n",
    "            for i in range(len(self.dataframe_audios)): \n",
    "                self.dataframe_recorders.loc[self.dataframe_audios.loc[i, \"Filename\"].split(\"_\")[0], f\"Cluster {cluster}\"] += self.dataframe_audios.loc[i, f\"Cluster {cluster}\"]\n",
    "        if count_cluster == True:\n",
    "            self.count_cluster_data()\n",
    "        else:\n",
    "            pass\n",
    "    \n",
    "    def count_cluster_data(self):\n",
    "        clusters = [f\"Cluster {i}\" for i in range(0, len(self.n_clusters))]\n",
    "        self.dataframe_recorders[\"Total_Clustering_Audios\"] = self.dataframe_recorders[clusters].sum(axis=1)\n",
    "    \n",
    "    def GLM_dataframe(self):\n",
    "        GLM = self.dataframe_recorders.copy()\n",
    "        columns = [f\"Cluster {i}\" for i in range(0, len(self.n_clusters))]\n",
    "        columns.append(\"Total_Clustering_Audios\")\n",
    "        GLM = GLM[columns]\n",
    "        for cluster in range(len(columns[0:-1])):\n",
    "            for recorder in range(self.df_recorders_len):\n",
    "                GLM.iloc[recorder, cluster] = GLM.iloc[recorder, cluster]/GLM.iloc[recorder, -1]\n",
    "        return GLM\n",
    "    \n",
    "    def regions(self):\n",
    "        dataframe_audios_regions = self.dataframe_audios.copy()\n",
    "        dataframe_audios_regions[\"Region\"] = 0\n",
    "        for audio in range(len(dataframe_audios_regions)):   \n",
    "            dataframe_audios_regions.loc[audio,\"Region\"] = self.dataframe_recorders.loc[dataframe_audios_regions.loc[audio, \"Recorder\"]].loc[\"Region\"]\n",
    "        return dataframe_audios_regions\n",
    "    \n",
    "    def recorders(self):\n",
    "        return self.dataframe_recorders\n",
    "    \n",
    "    def audios(self):\n",
    "        return self.dataframe_audios\n",
    "    \n",
    "    def clusters(self):\n",
    "        return self.dataframe_clusters\n",
    "    \n",
    "    def save(self, root_save=None):\n",
    "        if root_save != None:\n",
    "            os.makedirs(f\"{self.root_save}/dataframes\", exist_ok=True)\n",
    "            self.dataframe_recorders.to_csv(f\"{self.root_save}/dataframes/dataframe_{self.cluster_names[self.n_clusters_index]}_recorders.csv\")\n",
    "            self.dataframe_audios.to_csv(f\"{self.root_save}/dataframes/dataframe_{self.cluster_names[self.n_clusters_index]}_audios.csv\") \n",
    "            \n",
    "        else:\n",
    "            self.dataframe_recorders.to_csv(f\"{self.cluster_names[sel.n_clusters_index]}_recorders.csv\")\n",
    "            self.dataframe_audios.to_csv(f\"{self.cluster_names[sel.n_clusters_index]}_audios.csv\")\n",
    "            \n",
    "class df_results:\n",
    "    def __init__(self, df_base, trials, df_EI = None):\n",
    "        self.df_base = df_base\n",
    "#         self.r, self.index = self.df_base.show_clusters(plot=False)\n",
    "        self.df_EI = df_EI\n",
    "        self.df_clusters_EI = df_base\n",
    "        self.n_clusters = 0\n",
    "        self.trials = trials\n",
    "        self.colors_list = [[\"brown\", \"darkcyan\", \"purple\", \"forestgreen\", \"goldenrod\", \"dimgray\", \"firebrick\", \"lightseagreen\", \"darkolivegreen\", \"blueviolet\", \"darkgreen\", \"orangered\", \"deepskyblue\", \"indigo\", \"black\", \"darkorange\"],\n",
    "                            [\"crimson\", \"firebrick\", \"orangered\", \"coral\", \"peachpuff\", \"darkslategray\", \"teal\", \"dodgerblue\", \"deepskyblue\", \"skyblue\"]]\n",
    "        self.colors = self.colors_list[0]\n",
    "    def colors(self, palette=0):\n",
    "        self.colors = self.colors_list[palette]\n",
    "        return self.colors\n",
    "        \n",
    "    def random_color_generator(self):\n",
    "        colors = []\n",
    "        for i in range(n_clusters):\n",
    "            random_color = random.choice(list(mcolors.CSS4_COLORS.keys()))\n",
    "            while(random_color in colors):\n",
    "                random_color = random.choice(list(mcolors.CSS4_COLORS.keys()))\n",
    "            colors.append(random_color)\n",
    "        return colors\n",
    "    \n",
    "    def create_EI(self):\n",
    "        self.df_clusters_EI[\"Mean\"] = self.df_EI[\"Mean\"]\n",
    "        self.df_clusters_EI[\"Sum\"] = self.df_EI[\"Sum\"]\n",
    "        self.df_clusters_EI[\"Max\"] = self.df_EI[\"Max\"]\n",
    "        self.df_clusters_EI[\"Min\"] = self.df_EI[\"Min\"]\n",
    "        self.n_clusters = len(self.df_clusters_EI.iloc[0])-5\n",
    "        \n",
    "    def plot_bars(self, root=\"\", title=None):\n",
    "        columns = [f\"Cluster {i}\" for i in range(0, self.n_clusters)]\n",
    "        Bar_GLM = self.df_clusters_EI[columns]\n",
    "        Bar_GLM[\"Mean\"] = self.df_EI[\"Mean\"]\n",
    "        # Bar_GLM.index.names = recorders.index\n",
    "        Bar_GLM = Bar_GLM.sort_values(by=[\"Mean\"])\n",
    "        Bar_GLM2=Bar_GLM.drop(columns=[\"Mean\"], inplace=False)\n",
    "        ax=Bar_GLM2.plot(kind='bar', stacked=True, color=self.colors)\n",
    "        plt.title(f\"{title}\")\n",
    "        Bar_GLM[\"Mean\"].plot(ax=ax, color=\"black\")\n",
    "        plt.savefig(f\"{root}.pdf\",format=\"pdf\")\n",
    "        \n",
    "    def GLM(self,y_data=\"Mean\"):\n",
    "        GLM = self.df_clusters_EI.copy()\n",
    "        X= GLM[[f\"Cluster {i}\" for i in range(len(GLM.columns)-6)]]\n",
    "        X = X.to_numpy()\n",
    "        y = GLM[y_data]\n",
    "        y = y.to_numpy()\n",
    "        gamma_model = sm.GLM(y, X, family=sm.families.Gamma())\n",
    "        gamma_results = gamma_model.fit()\n",
    "        r2 = gamma_results.pseudo_rsquared()\n",
    "        return gamma_results, r2\n"
   ]
  },
  {
   "cell_type": "code",
   "execution_count": 4,
   "id": "9426e54b",
   "metadata": {},
   "outputs": [],
   "source": [
    "root_audios = f\"{root}/Jaguas/Complementary_Files/Audios_Jaguas/Audios_Jaguas.csv\"\n",
    "root_recorders = f\"{root}/Jaguas/Complementary_Files/df_grabadoras_reg.csv\"\n",
    "root_clusters = f\"{root}/Jaguas/temporal/clusters\"\n",
    "ecological_integrity = f\"{root}/Jaguas/Complementary_Files/Indice_Integridad_Ecologica.xlsx\"\n",
    "df_EI = pd.read_excel(ecological_integrity)\n",
    "df_EI.rename(columns={\"Sitio\":\"Recorder\"}, inplace=True)\n",
    "df_EI.set_index(\"Recorder\", inplace=True)"
   ]
  },
  {
   "cell_type": "code",
   "execution_count": 5,
   "id": "00540bf1",
   "metadata": {},
   "outputs": [
    {
     "name": "stderr",
     "output_type": "stream",
     "text": [
      "/tmp/ipykernel_646672/3847344411.py:3: UserWarning: Boolean Series key will be reindexed to match DataFrame index.\n",
      "  dataframe.dataframe_audios = dataframe.dataframe_audios[dataframe.dataframe_audios.Time>\"17:00\"][dataframe.dataframe_audios.Time<\"24:00\"]\n"
     ]
    }
   ],
   "source": [
    "dataframe = df_generator(root_clusters, root_audios, root_recorders, \n",
    "                         n_clusters_index=20)\n",
    "dataframe.dataframe_audios = dataframe.dataframe_audios[dataframe.dataframe_audios.Time>\"17:00\"][dataframe.dataframe_audios.Time<\"24:00\"]\n",
    "dataframe.dataframe_audios.reset_index(inplace=True)\n",
    "dataframe.create_clusters_v2(count_cluster=True)\n",
    "GLM = GLM = dataframe.GLM_dataframe()\n",
    "GLM[\"Mean\"] = df_EI[\"Mean\"]\n",
    "GLM[\"Sum\"] = df_EI[\"Sum\"]\n",
    "GLM[\"Max\"] = df_EI[\"Max\"]\n",
    "GLM[\"Min\"] = df_EI[\"Min\"]"
   ]
  },
  {
   "cell_type": "code",
   "execution_count": null,
   "id": "79687c37",
   "metadata": {
    "scrolled": true
   },
   "outputs": [],
   "source": [
    "r, index = dataframe.show_clusters(\"_AE_\")\n",
    "print(r, index)\n",
    "trials_3 = [19, 26, 18, 11]\n",
    "trials_5 = [2, 0, 1, 8]\n",
    "trials_10 = [9, 16, 20, 7]\n",
    "trials_15 = [14, 4, 22, 25]\n",
    "trials = [trials_3, trials_5, trials_10, trials_15]"
   ]
  },
  {
   "cell_type": "code",
   "execution_count": null,
   "id": "0f630118",
   "metadata": {},
   "outputs": [],
   "source": [
    "dataframe = df_generator(root_clusters, root_audios, root_recorders, \n",
    "                         n_clusters_index=20)\n",
    "dataframe.dataframe_audios = dataframe.dataframe_audios[dataframe.dataframe_audios.Time>\"05:00\"][dataframe.dataframe_audios.Time<\"08:00\"]\n",
    "#         dataframe.dataframe_audios = dataframe.dataframe_audios.drop(aux.index)\n",
    "dataframe.dataframe_audios.reset_index(inplace=True)\n",
    "dataframe.create_clusters_v2(count_cluster=True)\n",
    "GLM = dataframe.GLM_dataframe()\n",
    "results = df_results(GLM, trials, df_EI)\n",
    "results.create_EI()\n",
    "results.plot_bars()"
   ]
  },
  {
   "cell_type": "code",
   "execution_count": null,
   "id": "62b12ab9",
   "metadata": {},
   "outputs": [],
   "source": [
    "%matplotlib qt\n",
    "r, index = dataframe.show_clusters(plot=False)\n",
    "trials_3 = [19, 26, 18, 11]\n",
    "trials_5 = [2, 0, 1, 8]\n",
    "trials_10 = [9, 16, 20, 7]\n",
    "trials_15 = [14, 4, 22, 25]\n",
    "trials = [trials_3, trials_5, trials_10, trials_15]\n",
    "horas = [(5, 8), (8, 17), (17, 5)]\n",
    "for trial in trials:\n",
    "    for i, t in enumerate(trial):\n",
    "        dataframe = df_generator(root_clusters, root_audios, root_recorders, \n",
    "                         n_clusters_index=t)\n",
    "        dataframe.dataframe_audios = dataframe.dataframe_audios[dataframe.dataframe_audios.Time>\"05:00\"][dataframe.dataframe_audios.Time<\"08:00\"]\n",
    "#         dataframe.dataframe_audios = dataframe.dataframe_audios.drop(aux.index)\n",
    "        dataframe.dataframe_audios.reset_index(inplace=True)\n",
    "        dataframe.create_clusters_v2(count_cluster=True)\n",
    "        GLM = dataframe.GLM_dataframe()\n",
    "        results = df_results(GLM, trials, df_EI)\n",
    "        results.create_EI()\n",
    "        results.plot_bars()"
   ]
  },
  {
   "cell_type": "code",
   "execution_count": null,
   "id": "3cd05f41",
   "metadata": {},
   "outputs": [],
   "source": [
    "mapa = folium.Map(location=[6.3828, -75.0157], zoom_start=12)\n",
    "\n",
    "puntos = df[['latitude_IG', 'longitud_IG', 'number_files_FI']].values.tolist()\n",
    "valores = df[\"number_files_FI\"].tolist()\n",
    "HeatMap(puntos, radius=35, ).add_to(mapa)\n",
    "mapa"
   ]
  },
  {
   "cell_type": "markdown",
   "id": "872643f5",
   "metadata": {
    "scrolled": false
   },
   "source": [
    "%matplotlib qt\n",
    "r, index = dataframe.show_clusters(plot=False)\n",
    "trials_3 = [19, 26, 18, 11]\n",
    "trials_5 = [2, 0, 1, 8]\n",
    "trials_10 = [9, 16, 20, 7]\n",
    "trials_15 = [14, 4, 22, 25]\n",
    "trials = [trials_3, trials_5, trials_10, trials_15]\n",
    "horas = [(5, 8), (8, 17), (17, 5)]\n",
    "for trial in trials:\n",
    "    for i, t in enumerate(trial):\n",
    "        dataframe = df_generator(root_clusters, root_audios, root_recorders, \n",
    "                         n_clusters_index=t)\n",
    "        dataframe.dataframe_audios = dataframe.dataframe_audios[dataframe.dataframe_audios.Time>\"05:00\"][dataframe.dataframe_audios.Time<\"08:00\"]\n",
    "#         dataframe.dataframe_audios = dataframe.dataframe_audios.drop(aux.index)\n",
    "        dataframe.dataframe_audios.reset_index(inplace=True)\n",
    "        dataframe.create_clusters_v2(count_cluster=True)\n",
    "        GLM = dataframe.GLM_dataframe()\n",
    "        GLM[\"Mean\"] = df_EI[\"Mean\"]\n",
    "        GLM[\"Sum\"] = df_EI[\"Sum\"]\n",
    "        GLM[\"Max\"] = df_EI[\"Max\"]\n",
    "        GLM[\"Min\"] = df_EI[\"Min\"]\n",
    "        n_clusters = len(GLM.iloc[0])-5\n",
    "        columns = [f\"Cluster {i}\" for i in range(0, n_clusters)]\n",
    "        Bar_GLM = GLM[columns]\n",
    "        Bar_GLM[\"Mean\"] = df_EI[\"Mean\"]\n",
    "        # Bar_GLM.index.names = recorders.index\n",
    "        Bar_GLM = Bar_GLM.sort_values(by=[\"Mean\"])\n",
    "        Bar_GLM2=Bar_GLM.drop(columns=[\"Mean\"], inplace=False)\n",
    "        ax=Bar_GLM2.plot(kind='bar', stacked=True, color=colors_list)\n",
    "        plt.title(f\"{r[trial[i]]}_dawn\")\n",
    "        Bar_GLM[\"Mean\"].plot(ax=ax, color=\"black\")\n",
    "        plt.savefig(f\"{root}/Jaguas/temporal/ei_results/dawn/{r[trial[i]]}_dawn.pdf\",format=\"pdf\")"
   ]
  },
  {
   "cell_type": "code",
   "execution_count": null,
   "id": "ca295765",
   "metadata": {},
   "outputs": [],
   "source": [
    "%matplotlib qt\n",
    "import matplotlib.pyplot as plt\n",
    "plt.figure()\n",
    "ax=Bar_GLM2.plot(kind='bar', stacked=True, color=colors_list)\n",
    "Bar_GLM[\"Mean\"].plot(ax=ax, color=\"black\")"
   ]
  },
  {
   "cell_type": "markdown",
   "id": "f30c19bb",
   "metadata": {},
   "source": [
    "# Using StatsModels"
   ]
  },
  {
   "cell_type": "code",
   "execution_count": null,
   "id": "c95b0fb6",
   "metadata": {},
   "outputs": [],
   "source": [
    "gamma_results.pseudo_rsquared()"
   ]
  },
  {
   "cell_type": "code",
   "execution_count": null,
   "id": "fa9dab9d",
   "metadata": {},
   "outputs": [],
   "source": [
    "PCA_index = [27, 10, 6, 23]\n",
    "UMAP_index = [3, 12, 5, 21]\n",
    "TSNE_index = [29, 15, 17, 13]"
   ]
  },
  {
   "cell_type": "code",
   "execution_count": null,
   "id": "27ac2be1",
   "metadata": {},
   "outputs": [],
   "source": [
    "import matplotlib.pyplot as plt\n",
    "plt.plot(r2_PCA)\n",
    "plt.plot(r2_UMAP)\n",
    "plt.plot(r2_TSNE)\n",
    "plt.legend([\"PCA\", \"UMAP\", \"TSNE\"])\n",
    "plt.xticks((0,1,2,3),(\"3\", \"5\", \"10\", \"15\"))"
   ]
  },
  {
   "cell_type": "code",
   "execution_count": null,
   "id": "680d2353",
   "metadata": {},
   "outputs": [],
   "source": [
    "plt.plot(r2_PCA)"
   ]
  },
  {
   "cell_type": "code",
   "execution_count": null,
   "id": "2a6011f9",
   "metadata": {},
   "outputs": [],
   "source": [
    "import matplotlib.pyplot as plt\n",
    "import statsmodels.api as sm\n",
    "r2_PCA = []\n",
    "trials = TSNE_index;\n",
    "for index in trials:\n",
    "    dataframe = df_generator(root_clusters, root_audios, root_recorders, \n",
    "                         n_clusters_index=index)\n",
    "    dataframe.create_clusters(count_cluster=True)\n",
    "    GLM = dataframe.GLM_dataframe()\n",
    "#     GLM = GLM.reset_index().set_index(np.arange(len(GLM)))\n",
    "    GLM[\"Mean\"] = df_EI[\"Mean\"]\n",
    "    GLM[\"Sum\"] = df_EI[\"Sum\"]\n",
    "    GLM[\"Max\"] = df_EI[\"Max\"]\n",
    "    GLM[\"Min\"] = df_EI[\"Min\"]\n",
    "    X= GLM[[f\"Cluster {i}\" for i in range(len(GLM.columns)-6)]]\n",
    "    X = X.to_numpy()\n",
    "    y = GLM[\"Mean\"]\n",
    "    y = y.to_numpy()\n",
    "    gamma_model = sm.GLM(y, X, family=sm.families.Gamma())\n",
    "    gamma_results = gamma_model.fit()\n",
    "    r2_PCA.append(gamma_results.pseudo_rsquared())"
   ]
  },
  {
   "cell_type": "code",
   "execution_count": null,
   "id": "96246a7e",
   "metadata": {},
   "outputs": [],
   "source": [
    "import statsmodels.api as sm\n",
    "X= GLM[[f\"Cluster {i}\" for i in range(len(GLM.columns)-6)]]\n",
    "X = X.to_numpy()\n",
    "y = GLM[\"Mean\"]\n",
    "y = y.to_numpy()\n",
    "gamma_model = sm.GLM(y, X, family=sm.families.Gamma())\n",
    "gamma_results = gamma_model.fit()\n",
    "print(gamma_results.summary())"
   ]
  },
  {
   "cell_type": "code",
   "execution_count": null,
   "id": "6443a560",
   "metadata": {
    "scrolled": true
   },
   "outputs": [],
   "source": [
    "import statsmodels.api as sm\n",
    "data = sm.datasets.scotland.load()\n",
    "data.exog = sm.add_constant(data.exog)\n",
    "gamma_model = sm.GLM(data.endog, data.exog, family=sm.families.Gamma())\n",
    "gamma_results = gamma_model.fit()\n",
    "print(gamma_results.summary())"
   ]
  },
  {
   "cell_type": "markdown",
   "id": "26dfbfbf",
   "metadata": {},
   "source": [
    "# SK-Learn example"
   ]
  },
  {
   "cell_type": "code",
   "execution_count": null,
   "id": "9c97c373",
   "metadata": {},
   "outputs": [],
   "source": [
    "from sklearn import linear_model\n",
    "clf = linear_model.PoissonRegressor()\n",
    "X = [[1, 2], [2, 3], [3, 4], [4, 3]]\n",
    "y = [12, 17, 22, 21]\n",
    "clf.fit(X, y)\n",
    "clf.score(X, y)\n"
   ]
  }
 ],
 "metadata": {
  "kernelspec": {
   "display_name": "Python 3 (ipykernel)",
   "language": "python",
   "name": "python3"
  },
  "language_info": {
   "codemirror_mode": {
    "name": "ipython",
    "version": 3
   },
   "file_extension": ".py",
   "mimetype": "text/x-python",
   "name": "python",
   "nbconvert_exporter": "python",
   "pygments_lexer": "ipython3",
   "version": "3.10.4"
  }
 },
 "nbformat": 4,
 "nbformat_minor": 5
}
