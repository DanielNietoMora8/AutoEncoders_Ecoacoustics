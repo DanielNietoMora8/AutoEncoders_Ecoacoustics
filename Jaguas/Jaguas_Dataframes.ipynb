{
 "cells": [
  {
   "cell_type": "code",
   "execution_count": 30,
   "id": "b48e781f",
   "metadata": {
    "ExecuteTime": {
     "end_time": "2023-07-10T17:07:03.016181044Z",
     "start_time": "2023-07-10T17:07:02.986698585Z"
    }
   },
   "outputs": [
    {
     "name": "stdout",
     "output_type": "stream",
     "text": [
      "Running local\n"
     ]
    }
   ],
   "source": [
    "if 'google.colab' in str(get_ipython()):\n",
    "    import sys\n",
    "    from google.colab import drive, output\n",
    "    drive.mount('/content/drive')\n",
    "    !pip install torchaudio\n",
    "    !pip install wandb --upgrade\n",
    "    output.clear()\n",
    "    print(\"Running on colab\")\n",
    "    %load_ext autoreload\n",
    "    %autoreload 1\n",
    "    %cd '/content/drive/MyDrive/PhD_Thesis_Experiments/DeepLearning/AutoEncoders/Project'\n",
    "    root = \"/content/drive/MyDrive/PhD_Thesis_Experiments/DeepLearning/AutoEncoders/Project\"\n",
    "else:\n",
    "    print(\"Running local\")\n",
    "    root = \"/home/mirp_ai/Documents/Daniel_Nieto/PhD/AutoEncoders_Ecoacoustics\"\n",
    "    root_path = \"/media/mirp_ai/Seagate Desktop Drive/Jaguas_2018\"\n"
   ]
  },
  {
   "cell_type": "code",
   "execution_count": 31,
   "id": "c7897669",
   "metadata": {},
   "outputs": [
    {
     "name": "stdout",
     "output_type": "stream",
     "text": [
      "cuda\n"
     ]
    }
   ],
   "source": [
    "import os\n",
    "import numpy as np\n",
    "\n",
    "import datetime\n",
    "from datetime import timedelta\n",
    "\n",
    "import torch\n",
    "from torch.utils.data import DataLoader\n",
    "import torchvision.datasets as datasets\n",
    "from torchvision.utils import make_grid\n",
    "from Jaguas_DataLoader_rainless import SoundscapeData\n",
    "\n",
    "import pandas as pd\n",
    "\n",
    "device = torch.device(\"cuda\" if torch.cuda.is_available() else \"cpu\")\n",
    "print(device)\n"
   ]
  },
  {
   "cell_type": "code",
   "execution_count": 32,
   "id": "443dd6f1",
   "metadata": {},
   "outputs": [],
   "source": [
    "class df_generator():\n",
    "    def __init__(self, root_clusters, root_audios, root_recorders, n_clusters_index = 0):\n",
    "        self.n_clusters_index = n_clusters_index\n",
    "        self.cluster_names = os.listdir(f\"{root_clusters}\")\n",
    "        self.torch_clusters = torch.load(f\"{root_clusters}/{self.cluster_names[n_clusters_index]}\")\n",
    "        self.dataframe_clusters = pd.DataFrame(self.torch_clusters)\n",
    "        self.dataframe_clusters = self.dataframe_clusters.transpose()\n",
    "        self.dataframe_audios = pd.read_csv(f\"{root_audios}\", index_col=0)\n",
    "        self.dataframe_recorders = pd.read_csv(f\"{root_recorders}\",sep = \";\", index_col = \"Recorder\")\n",
    "        self.df_clusters_len = len(self.dataframe_clusters)\n",
    "        self.df_recorders_len = len(self.dataframe_recorders)\n",
    "        self.n_clusters = np.arange(len(self.torch_clusters))\n",
    "\n",
    "    def show_clusters(self):\n",
    "        for i in range(len(self.cluster_names)):\n",
    "            print(f\"{i}: {self.cluster_names[i]}\")\n",
    "\n",
    "    def init_clusters(self):\n",
    "        for cluster in self.n_clusters:\n",
    "            self.dataframe_recorders[f\"Cluster {cluster}\"] = 0\n",
    "    \n",
    "    def create_clusters(self, count_cluster=False):\n",
    "        self.init_clusters()\n",
    "        for cluster in self.n_clusters:\n",
    "            for i in range(self.df_clusters_len):  \n",
    "                if self.dataframe_clusters.iloc[i][cluster] != None:\n",
    "                    self.dataframe_recorders.loc[self.dataframe_clusters.iloc[i][cluster].split(\"_\")[0], f\"Cluster {cluster}\"] +=1\n",
    "                else:\n",
    "                    pass\n",
    "        if count_cluster == True:\n",
    "            self.count_cluster_data()\n",
    "        else:\n",
    "            pass\n",
    "        \n",
    "        return self.dataframe_recorders\n",
    "    \n",
    "    def count_cluster_data(self):\n",
    "        self.dataframe_recorders[\"Total_Clustering_Audios\"] = 0\n",
    "        for recorder in range(self.df_recorders_len):\n",
    "            clusters = [f\"Cluster {i}\" for i in range(0, len(self.n_clusters))]\n",
    "            clusters.append(\"Total_Clustering_Audios\")\n",
    "            self.dataframe_recorders.iloc[recorder, -1] = self.dataframe_recorders[clusters].iloc[recorder].sum()\n",
    "    \n",
    "    def GLM_dataframe(self):\n",
    "        GLM = self.dataframe_recorders.copy()\n",
    "        columns = [f\"Cluster {i}\" for i in range(0, len(self.n_clusters))]\n",
    "        columns.append(\"Total_Clustering_Audios\")\n",
    "        GLM = GLM[columns]\n",
    "        for cluster in range(len(columns[0:-1])):\n",
    "            for recorder in range(self.df_recorders_len):\n",
    "                GLM.iloc[recorder, cluster] = GLM.iloc[recorder, cluster]/GLM.iloc[recorder, -1]\n",
    "        return GLM\n",
    "    \n",
    "    def regions(self):\n",
    "        self.dataframe_audios[\"Region\"] = 0\n",
    "        for audio in range(len(self.dataframe_audios)):   \n",
    "            self.dataframe_audios.loc[audio,\"Region\"] = self.dataframe_recorders.loc[self.dataframe_audios.loc[audio, \"Recorder\"]].loc[\"Region\"]\n",
    "        return self.dataframe_audios\n",
    "    \n",
    "    def save(self, root_save=None):\n",
    "        if root_save != None:\n",
    "            os.makedirs(f\"{self.root_save}/dataframes\", exist_ok=True)\n",
    "            self.dataframe_recorders.to_csv(f\"{self.root_save}/dataframes/dataframe_{self.cluster_names[self.n_clusters_index]}_recorders.csv\")\n",
    "            self.dataframe_recorders.to_csv(f\"{self.root_save}/dataframes/dataframe_{self.cluster_names[self.n_clusters_index]}_audios.csv\") \n",
    "            \n",
    "        else:\n",
    "            self.dataframe_recorders.to_csv(f\"{self.cluster_names[sel.n_clusters_index]}_recorders.csv\")\n",
    "            self.dataframe_audios.to_csv(f\"{self.cluster_names[sel.n_clusters_index]}_audios.csv\")            "
   ]
  },
  {
   "cell_type": "code",
   "execution_count": 33,
   "id": "9426e54b",
   "metadata": {},
   "outputs": [],
   "source": [
    "root_audios = f\"{root}/Jaguas/Complementary_Files/Audios_Jaguas/Audios_Jaguas.csv\"\n",
    "root_recorders = f\"{root}/Jaguas/Complementary_Files/df_grabadoras_reg.csv\"\n",
    "root_clusters = f\"{root}/Jaguas/temporal/clusters\"\n",
    "ecological_integrity = f\"{root}/Jaguas/Complementary_Files/Indice_Integridad_Ecologica.xlsx\"\n",
    "df_EI = pd.read_excel(ecological_integrity)"
   ]
  },
  {
   "cell_type": "code",
   "execution_count": 11,
   "id": "024407c9",
   "metadata": {
    "scrolled": true
   },
   "outputs": [],
   "source": [
    "dataframe = df_generator(root_clusters, root_audios, root_recorders, \n",
    "                         n_clusters_index=12)\n",
    "dataframe.create_clusters(count_cluster=True)\n",
    "GLM = dataframe.GLM_dataframe()\n",
    "GLM = GLM.reset_index().set_index(np.arange(len(GLM)))\n",
    "GLM[\"Mean\"] = df_EI[\"Mean\"]\n",
    "GLM[\"Sum\"] = df_EI[\"Sum\"]\n",
    "GLM[\"Max\"] = df_EI[\"Max\"]\n",
    "GLM[\"Min\"] = df_EI[\"Min\"]\n",
    "# GLM"
   ]
  },
  {
   "cell_type": "code",
   "execution_count": 23,
   "id": "79687c37",
   "metadata": {
    "scrolled": true
   },
   "outputs": [
    {
     "data": {
      "text/plain": [
       "[array(['G03_20180512_083200.wav', 'G03_20180512_090400.wav',\n",
       "        'G03_20180512_090400.wav', ..., 'G58_20180629_074500.wav',\n",
       "        'G58_20180629_074500.wav', 'G58_20180629_074500.wav'], dtype='<U23'),\n",
       " array(['G03_20180512_090400.wav', 'G03_20180512_090400.wav',\n",
       "        'G03_20180512_095200.wav', ..., 'G58_20180703_194500.wav',\n",
       "        'G58_20180703_194500.wav', 'G58_20180703_194500.wav'], dtype='<U23'),\n",
       " array(['G03_20180511_224000.wav', 'G03_20180511_224000.wav',\n",
       "        'G03_20180511_224000.wav', ..., 'G58_20180703_180000.wav',\n",
       "        'G58_20180703_180000.wav', 'G58_20180704_050000.wav'], dtype='<U23'),\n",
       " array(['G03_20180515_112800.wav', 'G03_20180512_181500.wav',\n",
       "        'G03_20180512_181500.wav', ..., 'G58_20180703_184500.wav',\n",
       "        'G58_20180703_184500.wav', 'G58_20180703_184500.wav'], dtype='<U23'),\n",
       " array(['G03_20180512_145600.wav', 'G03_20180512_152800.wav',\n",
       "        'G03_20180512_152800.wav', ..., 'G58_20180629_154400.wav',\n",
       "        'G58_20180629_160000.wav', 'G58_20180629_160000.wav'], dtype='<U23'),\n",
       " array(['G03_20180511_204800.wav', 'G03_20180511_204800.wav',\n",
       "        'G03_20180511_204800.wav', ..., 'G58_20180703_180000.wav',\n",
       "        'G58_20180703_180000.wav', 'G58_20180703_180000.wav'], dtype='<U23'),\n",
       " array(['G03_20180512_044800.wav', 'G03_20180513_020800.wav',\n",
       "        'G03_20180513_020800.wav', ..., 'G58_20180704_074500.wav',\n",
       "        'G58_20180704_074500.wav', 'G58_20180704_074500.wav'], dtype='<U23'),\n",
       " array(['G03_20180511_160000.wav', 'G03_20180511_160000.wav',\n",
       "        'G03_20180511_160000.wav', ..., 'G58_20180703_171500.wav',\n",
       "        'G58_20180703_171500.wav', 'G58_20180703_173000.wav'], dtype='<U23'),\n",
       " array(['G03_20180511_200000.wav', 'G03_20180511_200000.wav',\n",
       "        'G03_20180511_200000.wav', ..., 'G58_20180704_064500.wav',\n",
       "        'G58_20180704_071500.wav', 'G58_20180704_071500.wav'], dtype='<U23'),\n",
       " array(['G03_20180511_120000.wav', 'G03_20180511_120000.wav',\n",
       "        'G03_20180511_120000.wav', ..., 'G58_20180626_170000.wav',\n",
       "        'G58_20180626_170000.wav', 'G58_20180626_170000.wav'], dtype='<U23'),\n",
       " array(['G03_20180512_083200.wav', 'G03_20180512_092000.wav',\n",
       "        'G03_20180512_093600.wav', ..., 'G58_20180703_170000.wav',\n",
       "        'G58_20180703_171500.wav', 'G58_20180704_070000.wav'], dtype='<U23'),\n",
       " array(['G03_20180512_041600.wav', 'G03_20180512_041600.wav',\n",
       "        'G03_20180512_041600.wav', ..., 'G58_20180704_051500.wav',\n",
       "        'G58_20180704_051500.wav', 'G58_20180704_054500.wav'], dtype='<U23'),\n",
       " array(['G03_20180513_220800.wav', 'G03_20180515_004800.wav',\n",
       "        'G03_20180515_004800.wav', ..., 'G58_20180704_025600.wav',\n",
       "        'G58_20180630_064500.wav', 'G58_20180630_064500.wav'], dtype='<U23'),\n",
       " array(['G03_20180512_102400.wav', 'G03_20180513_120000.wav',\n",
       "        'G03_20180513_120000.wav', ..., 'G58_20180703_173000.wav',\n",
       "        'G58_20180703_173000.wav', 'G58_20180703_181500.wav'], dtype='<U23'),\n",
       " array(['G03_20180512_080000.wav', 'G03_20180512_080000.wav',\n",
       "        'G03_20180512_080000.wav', ..., 'G57_20180619_071500.wav',\n",
       "        'G58_20180701_093600.wav', 'G58_20180630_071500.wav'], dtype='<U23')]"
      ]
     },
     "execution_count": 23,
     "metadata": {},
     "output_type": "execute_result"
    }
   ],
   "source": [
    "cl_names = os.listdir(f\"{root_clusters}\")\n",
    "clusters = torch.load(f\"{root_clusters}/{cl_names[21]}\")"
   ]
  },
  {
   "cell_type": "code",
   "execution_count": 93,
   "id": "6da3e281",
   "metadata": {},
   "outputs": [
    {
     "data": {
      "text/plain": [
       "array(['a', 'a', 'a', 'a', 'a'], dtype='<U16')"
      ]
     },
     "execution_count": 93,
     "metadata": {},
     "output_type": "execute_result"
    }
   ],
   "source": [
    "path = path.astype(\"U16\")"
   ]
  },
  {
   "cell_type": "code",
   "execution_count": 95,
   "id": "c7028692",
   "metadata": {},
   "outputs": [
    {
     "name": "stdout",
     "output_type": "stream",
     "text": [
      "a_1\n",
      "a_1\n",
      "a_2\n",
      "a_2\n",
      "a_3\n",
      "a_3\n",
      "a_4\n",
      "a_4\n",
      "a_5\n",
      "a_5\n"
     ]
    }
   ],
   "source": [
    "path = [\"a\"]\n",
    "path = np.asarray(path, dtype=\"U16\")\n",
    "path = np.repeat(path, 5) \n",
    "identifier = [\"_1\",\"_2\",\"_3\",\"_4\",\"_5\"]\n",
    "identifier = np.asarray(identifier)\n",
    "# path = path.astype(\"float64\")\n",
    "for i in range(len(path)):\n",
    "    print(path[i] + identifier[i])\n",
    "    path[i] = path[i] + identifier[i]\n",
    "    print(path[i]) \n"
   ]
  },
  {
   "cell_type": "code",
   "execution_count": 6,
   "id": "720e9ce0",
   "metadata": {},
   "outputs": [
    {
     "data": {
      "text/html": [
       "<div>\n",
       "<style scoped>\n",
       "    .dataframe tbody tr th:only-of-type {\n",
       "        vertical-align: middle;\n",
       "    }\n",
       "\n",
       "    .dataframe tbody tr th {\n",
       "        vertical-align: top;\n",
       "    }\n",
       "\n",
       "    .dataframe thead th {\n",
       "        text-align: right;\n",
       "    }\n",
       "</style>\n",
       "<table border=\"1\" class=\"dataframe\">\n",
       "  <thead>\n",
       "    <tr style=\"text-align: right;\">\n",
       "      <th></th>\n",
       "      <th>Recording</th>\n",
       "      <th>Recorder</th>\n",
       "      <th>Date</th>\n",
       "      <th>Time</th>\n",
       "      <th>Filename</th>\n",
       "      <th>Municipio</th>\n",
       "      <th>Vereda</th>\n",
       "      <th>Latitud</th>\n",
       "      <th>Longitud</th>\n",
       "      <th>Elevacion</th>\n",
       "      <th>Habitat</th>\n",
       "      <th>Rain_occurrence</th>\n",
       "      <th>Rain_Intesity</th>\n",
       "      <th>Intensity_Category</th>\n",
       "      <th>Region</th>\n",
       "    </tr>\n",
       "  </thead>\n",
       "  <tbody>\n",
       "    <tr>\n",
       "      <th>0</th>\n",
       "      <td>G03_20180511_120000</td>\n",
       "      <td>G03</td>\n",
       "      <td>2018/05/11</td>\n",
       "      <td>12:00:00</td>\n",
       "      <td>G03_20180511_120000.wav</td>\n",
       "      <td>Alejandria</td>\n",
       "      <td>El Respaldo</td>\n",
       "      <td>6.4137</td>\n",
       "      <td>-75.0366</td>\n",
       "      <td>1322</td>\n",
       "      <td>Forest</td>\n",
       "      <td>0</td>\n",
       "      <td>0</td>\n",
       "      <td>No_rain</td>\n",
       "      <td>1</td>\n",
       "    </tr>\n",
       "    <tr>\n",
       "      <th>1</th>\n",
       "      <td>G03_20180511_121600</td>\n",
       "      <td>G03</td>\n",
       "      <td>2018/05/11</td>\n",
       "      <td>12:16:00</td>\n",
       "      <td>G03_20180511_121600.wav</td>\n",
       "      <td>Alejandria</td>\n",
       "      <td>El Respaldo</td>\n",
       "      <td>6.4137</td>\n",
       "      <td>-75.0366</td>\n",
       "      <td>1322</td>\n",
       "      <td>Forest</td>\n",
       "      <td>0</td>\n",
       "      <td>0</td>\n",
       "      <td>No_rain</td>\n",
       "      <td>1</td>\n",
       "    </tr>\n",
       "    <tr>\n",
       "      <th>2</th>\n",
       "      <td>G03_20180511_123200</td>\n",
       "      <td>G03</td>\n",
       "      <td>2018/05/11</td>\n",
       "      <td>12:32:00</td>\n",
       "      <td>G03_20180511_123200.wav</td>\n",
       "      <td>Alejandria</td>\n",
       "      <td>El Respaldo</td>\n",
       "      <td>6.4137</td>\n",
       "      <td>-75.0366</td>\n",
       "      <td>1322</td>\n",
       "      <td>Forest</td>\n",
       "      <td>0</td>\n",
       "      <td>0</td>\n",
       "      <td>No_rain</td>\n",
       "      <td>1</td>\n",
       "    </tr>\n",
       "    <tr>\n",
       "      <th>3</th>\n",
       "      <td>G03_20180511_124800</td>\n",
       "      <td>G03</td>\n",
       "      <td>2018/05/11</td>\n",
       "      <td>12:48:00</td>\n",
       "      <td>G03_20180511_124800.wav</td>\n",
       "      <td>Alejandria</td>\n",
       "      <td>El Respaldo</td>\n",
       "      <td>6.4137</td>\n",
       "      <td>-75.0366</td>\n",
       "      <td>1322</td>\n",
       "      <td>Forest</td>\n",
       "      <td>0</td>\n",
       "      <td>0</td>\n",
       "      <td>No_rain</td>\n",
       "      <td>1</td>\n",
       "    </tr>\n",
       "    <tr>\n",
       "      <th>4</th>\n",
       "      <td>G03_20180511_130400</td>\n",
       "      <td>G03</td>\n",
       "      <td>2018/05/11</td>\n",
       "      <td>13:04:00</td>\n",
       "      <td>G03_20180511_130400.wav</td>\n",
       "      <td>Alejandria</td>\n",
       "      <td>El Respaldo</td>\n",
       "      <td>6.4137</td>\n",
       "      <td>-75.0366</td>\n",
       "      <td>1322</td>\n",
       "      <td>Forest</td>\n",
       "      <td>0</td>\n",
       "      <td>0</td>\n",
       "      <td>No_rain</td>\n",
       "      <td>1</td>\n",
       "    </tr>\n",
       "    <tr>\n",
       "      <th>...</th>\n",
       "      <td>...</td>\n",
       "      <td>...</td>\n",
       "      <td>...</td>\n",
       "      <td>...</td>\n",
       "      <td>...</td>\n",
       "      <td>...</td>\n",
       "      <td>...</td>\n",
       "      <td>...</td>\n",
       "      <td>...</td>\n",
       "      <td>...</td>\n",
       "      <td>...</td>\n",
       "      <td>...</td>\n",
       "      <td>...</td>\n",
       "      <td>...</td>\n",
       "      <td>...</td>\n",
       "    </tr>\n",
       "    <tr>\n",
       "      <th>20063</th>\n",
       "      <td>G58_20180704_070000</td>\n",
       "      <td>G58</td>\n",
       "      <td>2018/07/04</td>\n",
       "      <td>07:00:00</td>\n",
       "      <td>G58_20180704_070000.wav</td>\n",
       "      <td>San Rafael</td>\n",
       "      <td>Area proteccion embalse EPM</td>\n",
       "      <td>6.3471</td>\n",
       "      <td>-74.9696</td>\n",
       "      <td>1072</td>\n",
       "      <td>Forest</td>\n",
       "      <td>0</td>\n",
       "      <td>0</td>\n",
       "      <td>No_rain</td>\n",
       "      <td>12</td>\n",
       "    </tr>\n",
       "    <tr>\n",
       "      <th>20064</th>\n",
       "      <td>G58_20180704_064500</td>\n",
       "      <td>G58</td>\n",
       "      <td>2018/07/04</td>\n",
       "      <td>06:45:00</td>\n",
       "      <td>G58_20180704_064500.wav</td>\n",
       "      <td>San Rafael</td>\n",
       "      <td>Area proteccion embalse EPM</td>\n",
       "      <td>6.3471</td>\n",
       "      <td>-74.9696</td>\n",
       "      <td>1072</td>\n",
       "      <td>Forest</td>\n",
       "      <td>0</td>\n",
       "      <td>0</td>\n",
       "      <td>No_rain</td>\n",
       "      <td>12</td>\n",
       "    </tr>\n",
       "    <tr>\n",
       "      <th>20065</th>\n",
       "      <td>G58_20180704_071500</td>\n",
       "      <td>G58</td>\n",
       "      <td>2018/07/04</td>\n",
       "      <td>07:15:00</td>\n",
       "      <td>G58_20180704_071500.wav</td>\n",
       "      <td>San Rafael</td>\n",
       "      <td>Area proteccion embalse EPM</td>\n",
       "      <td>6.3471</td>\n",
       "      <td>-74.9696</td>\n",
       "      <td>1072</td>\n",
       "      <td>Forest</td>\n",
       "      <td>0</td>\n",
       "      <td>0</td>\n",
       "      <td>No_rain</td>\n",
       "      <td>12</td>\n",
       "    </tr>\n",
       "    <tr>\n",
       "      <th>20066</th>\n",
       "      <td>G58_20180704_073000</td>\n",
       "      <td>G58</td>\n",
       "      <td>2018/07/04</td>\n",
       "      <td>07:30:00</td>\n",
       "      <td>G58_20180704_073000.wav</td>\n",
       "      <td>San Rafael</td>\n",
       "      <td>Area proteccion embalse EPM</td>\n",
       "      <td>6.3471</td>\n",
       "      <td>-74.9696</td>\n",
       "      <td>1072</td>\n",
       "      <td>Forest</td>\n",
       "      <td>0</td>\n",
       "      <td>0</td>\n",
       "      <td>No_rain</td>\n",
       "      <td>12</td>\n",
       "    </tr>\n",
       "    <tr>\n",
       "      <th>20067</th>\n",
       "      <td>G58_20180704_074500</td>\n",
       "      <td>G58</td>\n",
       "      <td>2018/07/04</td>\n",
       "      <td>07:45:00</td>\n",
       "      <td>G58_20180704_074500.wav</td>\n",
       "      <td>San Rafael</td>\n",
       "      <td>Area proteccion embalse EPM</td>\n",
       "      <td>6.3471</td>\n",
       "      <td>-74.9696</td>\n",
       "      <td>1072</td>\n",
       "      <td>Forest</td>\n",
       "      <td>0</td>\n",
       "      <td>0</td>\n",
       "      <td>No_rain</td>\n",
       "      <td>12</td>\n",
       "    </tr>\n",
       "  </tbody>\n",
       "</table>\n",
       "<p>20068 rows × 15 columns</p>\n",
       "</div>"
      ],
      "text/plain": [
       "                 Recording Recorder        Date      Time  \\\n",
       "0      G03_20180511_120000      G03  2018/05/11  12:00:00   \n",
       "1      G03_20180511_121600      G03  2018/05/11  12:16:00   \n",
       "2      G03_20180511_123200      G03  2018/05/11  12:32:00   \n",
       "3      G03_20180511_124800      G03  2018/05/11  12:48:00   \n",
       "4      G03_20180511_130400      G03  2018/05/11  13:04:00   \n",
       "...                    ...      ...         ...       ...   \n",
       "20063  G58_20180704_070000      G58  2018/07/04  07:00:00   \n",
       "20064  G58_20180704_064500      G58  2018/07/04  06:45:00   \n",
       "20065  G58_20180704_071500      G58  2018/07/04  07:15:00   \n",
       "20066  G58_20180704_073000      G58  2018/07/04  07:30:00   \n",
       "20067  G58_20180704_074500      G58  2018/07/04  07:45:00   \n",
       "\n",
       "                      Filename   Municipio                       Vereda  \\\n",
       "0      G03_20180511_120000.wav  Alejandria                  El Respaldo   \n",
       "1      G03_20180511_121600.wav  Alejandria                  El Respaldo   \n",
       "2      G03_20180511_123200.wav  Alejandria                  El Respaldo   \n",
       "3      G03_20180511_124800.wav  Alejandria                  El Respaldo   \n",
       "4      G03_20180511_130400.wav  Alejandria                  El Respaldo   \n",
       "...                        ...         ...                          ...   \n",
       "20063  G58_20180704_070000.wav  San Rafael  Area proteccion embalse EPM   \n",
       "20064  G58_20180704_064500.wav  San Rafael  Area proteccion embalse EPM   \n",
       "20065  G58_20180704_071500.wav  San Rafael  Area proteccion embalse EPM   \n",
       "20066  G58_20180704_073000.wav  San Rafael  Area proteccion embalse EPM   \n",
       "20067  G58_20180704_074500.wav  San Rafael  Area proteccion embalse EPM   \n",
       "\n",
       "       Latitud  Longitud  Elevacion Habitat  Rain_occurrence  Rain_Intesity  \\\n",
       "0       6.4137  -75.0366       1322  Forest                0              0   \n",
       "1       6.4137  -75.0366       1322  Forest                0              0   \n",
       "2       6.4137  -75.0366       1322  Forest                0              0   \n",
       "3       6.4137  -75.0366       1322  Forest                0              0   \n",
       "4       6.4137  -75.0366       1322  Forest                0              0   \n",
       "...        ...       ...        ...     ...              ...            ...   \n",
       "20063   6.3471  -74.9696       1072  Forest                0              0   \n",
       "20064   6.3471  -74.9696       1072  Forest                0              0   \n",
       "20065   6.3471  -74.9696       1072  Forest                0              0   \n",
       "20066   6.3471  -74.9696       1072  Forest                0              0   \n",
       "20067   6.3471  -74.9696       1072  Forest                0              0   \n",
       "\n",
       "      Intensity_Category  Region  \n",
       "0                No_rain       1  \n",
       "1                No_rain       1  \n",
       "2                No_rain       1  \n",
       "3                No_rain       1  \n",
       "4                No_rain       1  \n",
       "...                  ...     ...  \n",
       "20063            No_rain      12  \n",
       "20064            No_rain      12  \n",
       "20065            No_rain      12  \n",
       "20066            No_rain      12  \n",
       "20067            No_rain      12  \n",
       "\n",
       "[20068 rows x 15 columns]"
      ]
     },
     "execution_count": 6,
     "metadata": {},
     "output_type": "execute_result"
    }
   ],
   "source": [
    "regiones = dataframe.regions()\n",
    "regiones"
   ]
  },
  {
   "cell_type": "markdown",
   "id": "ba610191",
   "metadata": {},
   "source": [
    "# Using SK-Learn"
   ]
  },
  {
   "cell_type": "code",
   "execution_count": null,
   "id": "d66fa717",
   "metadata": {},
   "outputs": [],
   "source": [
    "from sklearn import linear_model\n",
    "clf = linear_model.PoissonRegressor()\n",
    "clf.fit(X,y)"
   ]
  },
  {
   "cell_type": "code",
   "execution_count": null,
   "id": "78c1dc04",
   "metadata": {},
   "outputs": [],
   "source": [
    "clf.score(X,y)"
   ]
  },
  {
   "cell_type": "markdown",
   "id": "f30c19bb",
   "metadata": {},
   "source": [
    "# Using StatsModels"
   ]
  },
  {
   "cell_type": "code",
   "execution_count": 7,
   "id": "e912c649",
   "metadata": {},
   "outputs": [
    {
     "name": "stdout",
     "output_type": "stream",
     "text": [
      "0: kmeans_PCA_clustering_labels_AE_rainless_5\n",
      "1: kmeans_UMAP_clustering_labels_AE_rainless_5\n",
      "2: kmeans_scaled_clustering_labels_AE_rainless_5\n",
      "3: kmeans_UMAP_clustering_labels_PosAE_rainless_3\n",
      "4: kmeans_PCA_clustering_labels_AE_rainless_15\n",
      "5: kmeans_UMAP_clustering_labels_PosAE_rainless_10\n",
      "6: kmeans_PCA_clustering_labels_PosAE_rainless_10\n",
      "7: kmeans_TSNE_clustering_labels_AE_rainless_10\n",
      "8: kmeans_TSNE_clustering_labels_AE_rainless_5\n",
      "9: kmeans_scaled_clustering_labels_AE_rainless_10\n",
      "10: kmeans_PCA_clustering_labels_PosAE_rainless_5\n",
      "11: kmeans_TSNE_clustering_labels_AE_rainless_3\n",
      "12: kmeans_UMAP_clustering_labels_PosAE_rainless_5\n",
      "13: kmeans_TSNE_clustering_labels_PosAE_rainless_15\n",
      "14: kmeans_scaled_clustering_labels_AE_rainless_15\n",
      "15: kmeans_TSNE_clustering_labels_PosAE_rainless_5\n",
      "16: kmeans_PCA_clustering_labels_AE_rainless_10\n",
      "17: kmeans_TSNE_clustering_labels_PosAE_rainless_10\n",
      "18: kmeans_UMAP_clustering_labels_AE_rainless_3\n",
      "19: kmeans_scaled_clustering_labels_AE_rainless_3\n",
      "20: kmeans_UMAP_clustering_labels_AE_rainless_10\n",
      "21: kmeans_UMAP_clustering_labels_PosAE_rainless_15\n",
      "22: kmeans_UMAP_clustering_labels_AE_rainless_15\n",
      "23: kmeans_PCA_clustering_labels_PosAE_rainless_15\n",
      "24: kmeans_scaled_clustering_labels_PosAE_rainless_hour_5\n",
      "25: kmeans_TSNE_clustering_labels_AE_rainless_15\n",
      "26: kmeans_PCA_clustering_labels_AE_rainless_3\n",
      "27: kmeans_PCA_clustering_labels_PosAE_rainless_3\n",
      "28: kmeans_scaled_clustering_labels_PosAE_rainless_hour_10\n",
      "29: kmeans_TSNE_clustering_labels_PosAE_rainless_3\n",
      "30: kmeans_scaled_clustering_labels_PosAE_rainless_hour_3\n"
     ]
    }
   ],
   "source": [
    "dataframe.show_clusters()"
   ]
  },
  {
   "cell_type": "code",
   "execution_count": null,
   "id": "c95b0fb6",
   "metadata": {},
   "outputs": [],
   "source": [
    "gamma_results.pseudo_rsquared()"
   ]
  },
  {
   "cell_type": "code",
   "execution_count": 8,
   "id": "fa9dab9d",
   "metadata": {},
   "outputs": [],
   "source": [
    "PCA_index = [27, 10, 6, 23]\n",
    "UMAP_index = [3, 12, 5, 21]\n",
    "TSNE_index = [29, 15, 17, 13]"
   ]
  },
  {
   "cell_type": "code",
   "execution_count": 14,
   "id": "27ac2be1",
   "metadata": {},
   "outputs": [
    {
     "data": {
      "text/plain": [
       "([<matplotlib.axis.XTick at 0x7f2c48070190>,\n",
       "  <matplotlib.axis.XTick at 0x7f2c48070160>,\n",
       "  <matplotlib.axis.XTick at 0x7f2c4a021090>,\n",
       "  <matplotlib.axis.XTick at 0x7f2c11f1de40>],\n",
       " [Text(0, 0, '3'), Text(1, 0, '5'), Text(2, 0, '10'), Text(3, 0, '15')])"
      ]
     },
     "execution_count": 14,
     "metadata": {},
     "output_type": "execute_result"
    },
    {
     "data": {
      "image/png": "[encoded data removed]",
      "text/plain": [
       "<Figure size 640x480 with 1 Axes>"
      ]
     },
     "metadata": {},
     "output_type": "display_data"
    }
   ],
   "source": [
    "import matplotlib.pyplot as plt\n",
    "plt.plot(r2_PCA)\n",
    "plt.plot(r2_UMAP)\n",
    "plt.plot(r2_TSNE)\n",
    "plt.legend([\"PCA\", \"UMAP\", \"TSNE\"])\n",
    "plt.xticks((0,1,2,3),(\"3\", \"5\", \"10\", \"15\"))"
   ]
  },
  {
   "cell_type": "code",
   "execution_count": 12,
   "id": "2a6011f9",
   "metadata": {},
   "outputs": [
    {
     "name": "stderr",
     "output_type": "stream",
     "text": [
      "/home/mirp_ai/anaconda3/envs/DANM/lib/python3.10/site-packages/statsmodels/genmod/generalized_linear_model.py:307: DomainWarning: The InversePower link function does not respect the domain of the Gamma family.\n",
      "  warnings.warn((f\"The {type(family.link).__name__} link function \"\n",
      "/home/mirp_ai/anaconda3/envs/DANM/lib/python3.10/site-packages/statsmodels/genmod/generalized_linear_model.py:307: DomainWarning: The InversePower link function does not respect the domain of the Gamma family.\n",
      "  warnings.warn((f\"The {type(family.link).__name__} link function \"\n",
      "/home/mirp_ai/anaconda3/envs/DANM/lib/python3.10/site-packages/statsmodels/genmod/generalized_linear_model.py:307: DomainWarning: The InversePower link function does not respect the domain of the Gamma family.\n",
      "  warnings.warn((f\"The {type(family.link).__name__} link function \"\n",
      "/home/mirp_ai/anaconda3/envs/DANM/lib/python3.10/site-packages/statsmodels/genmod/generalized_linear_model.py:307: DomainWarning: The InversePower link function does not respect the domain of the Gamma family.\n",
      "  warnings.warn((f\"The {type(family.link).__name__} link function \"\n"
     ]
    }
   ],
   "source": [
    "import matplotlib.pyplot as plt\n",
    "import statsmodels.api as sm\n",
    "r2_PCA = []\n",
    "for index in PCA_index:\n",
    "    dataframe = df_generator(root_clusters, root_audios, root_recorders, \n",
    "                         n_clusters_index=index)\n",
    "    dataframe.create_clusters(count_cluster=True)\n",
    "    GLM = dataframe.GLM_dataframe()\n",
    "    GLM = GLM.reset_index().set_index(np.arange(len(GLM)))\n",
    "    GLM[\"Mean\"] = df_EI[\"Mean\"]\n",
    "    GLM[\"Sum\"] = df_EI[\"Sum\"]\n",
    "    GLM[\"Max\"] = df_EI[\"Max\"]\n",
    "    GLM[\"Min\"] = df_EI[\"Min\"]\n",
    "    X= GLM[[f\"Cluster {i}\" for i in range(len(GLM.columns)-6)]]\n",
    "    X = X.to_numpy()\n",
    "    y = GLM[\"Mean\"]\n",
    "    y = y.to_numpy()\n",
    "    gamma_model = sm.GLM(y, X, family=sm.families.Gamma())\n",
    "    gamma_results = gamma_model.fit()\n",
    "    r2_PCA.append(gamma_results.pseudo_rsquared())"
   ]
  },
  {
   "cell_type": "code",
   "execution_count": 17,
   "id": "176e092c",
   "metadata": {},
   "outputs": [
    {
     "name": "stdout",
     "output_type": "stream",
     "text": [
      "[0.20378621037086753, 0.3911306338307615, 0.49659688341172126, 0.8742423457264273]\n"
     ]
    }
   ],
   "source": [
    "print(r2_TSNE)"
   ]
  },
  {
   "cell_type": "code",
   "execution_count": null,
   "id": "96246a7e",
   "metadata": {},
   "outputs": [],
   "source": [
    "import statsmodels.api as sm\n",
    "X= GLM[[f\"Cluster {i}\" for i in range(len(GLM.columns)-6)]]\n",
    "X = X.to_numpy()\n",
    "y = GLM[\"Mean\"]\n",
    "y = y.to_numpy()\n",
    "gamma_model = sm.GLM(y, X, family=sm.families.Gamma())\n",
    "gamma_results = gamma_model.fit()\n",
    "print(gamma_results.summary())"
   ]
  },
  {
   "cell_type": "code",
   "execution_count": null,
   "id": "6443a560",
   "metadata": {
    "scrolled": true
   },
   "outputs": [],
   "source": [
    "import statsmodels.api as sm\n",
    "data = sm.datasets.scotland.load()\n",
    "data.exog = sm.add_constant(data.exog)\n",
    "gamma_model = sm.GLM(data.endog, data.exog, family=sm.families.Gamma())\n",
    "gamma_results = gamma_model.fit()\n",
    "print(gamma_results.summary())"
   ]
  },
  {
   "cell_type": "markdown",
   "id": "26dfbfbf",
   "metadata": {},
   "source": [
    "# SK-Learn example"
   ]
  },
  {
   "cell_type": "code",
   "execution_count": null,
   "id": "9c97c373",
   "metadata": {},
   "outputs": [],
   "source": [
    "from sklearn import linear_model\n",
    "clf = linear_model.PoissonRegressor()\n",
    "X = [[1, 2], [2, 3], [3, 4], [4, 3]]\n",
    "y = [12, 17, 22, 21]\n",
    "clf.fit(X, y)\n",
    "clf.score(X, y)\n"
   ]
  },
  {
   "cell_type": "code",
   "execution_count": null,
   "id": "a0b27778",
   "metadata": {},
   "outputs": [],
   "source": []
  }
 ],
 "metadata": {
  "kernelspec": {
   "display_name": "Python 3 (ipykernel)",
   "language": "python",
   "name": "python3"
  },
  "language_info": {
   "codemirror_mode": {
    "name": "ipython",
    "version": 3
   },
   "file_extension": ".py",
   "mimetype": "text/x-python",
   "name": "python",
   "nbconvert_exporter": "python",
   "pygments_lexer": "ipython3",
   "version": "3.10.4"
  }
 },
 "nbformat": 4,
 "nbformat_minor": 5
}
