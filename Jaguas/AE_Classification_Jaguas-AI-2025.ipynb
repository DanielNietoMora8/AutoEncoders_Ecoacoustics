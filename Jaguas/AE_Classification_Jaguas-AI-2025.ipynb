{
 "cells": [
  {
   "cell_type": "code",
   "execution_count": 3,
   "metadata": {
    "colab": {
     "base_uri": "https://localhost:8080/"
    },
    "executionInfo": {
     "elapsed": 36603,
     "status": "ok",
     "timestamp": 1678389399232,
     "user": {
      "displayName": "DANIEL ALEXIS NIETO MORA",
      "userId": "09305600849699039845"
     },
     "user_tz": 300
    },
    "id": "KwQ8Zp3llyi-",
    "is_executing": true,
    "outputId": "fd97b0c2-58fc-4afe-b939-c9890c909c2e"
   },
   "outputs": [
    {
     "name": "stdout",
     "output_type": "stream",
     "text": [
      "Running on MIRP\n"
     ]
    }
   ],
   "source": [
    "if 'google.colab' in str(get_ipython()):\n",
    "    import sys\n",
    "    from google.colab import drive, output\n",
    "    drive.mount('/content/drive')\n",
    "\n",
    "    !pip install umap-learn\n",
    "    !pip install umap-learn[plot]\n",
    "    !pip install holoviews\n",
    "\n",
    "    !pip install joypy\n",
    "    # !pip install umap-learn\n",
    "    output.clear()\n",
    "    print(\"Running on colab\")\n",
    "    %load_ext autoreload\n",
    "    %autoreload 1\n",
    "    %cd '/content/drive/MyDrive/PhD_Thesis_Experiments/DeepLearning/AutoEncoders/Project'\n",
    "    #sys.path.append('/content/drive/MyDrive/Deep Learning/AutoEncoders/Project/VQVAE_Working/data')\n",
    "    #sys.path.append('/content/drive/MyDrive/Deep Learning/AutoEncoders/Project/VQVAE_Working/models')\n",
    "    sys.path.append('/content/drive/MyDrive/PhD_Thesis_Experiments/DeepLearning/AutoEncoders/Project/Dataloader')\n",
    "    sys.path.append('/content/drive/MyDrive/PhD_Thesis_Experiments/DeepLearning/AutoEncoders/Project/Models')\n",
    "    sys.path.append('/content/drive/MyDrive/PhD_Thesis_Experiments/DeepLearning/AutoEncoders/Project/Modules')\n",
    "    sys.path.append('/content/drive/MyDrive/PhD_Thesis_Experiments/DeepLearning/AutoEncoders/Project/Clustering_Results/Results')\n",
    "    sys.path.append('/content/drive/MyDrive/PhD_Thesis_Experiments/DeepLearning/AutoEncoders/Project/Clustering_Results/Figures')\n",
    "    sys.path.append('/content/drive/MyDrive/PhD_Thesis_Experiments/DeepLearning/AutoEncoders/Project/Clustering_Result')\n",
    "elif \"zmqshell\" in str(get_ipython()):\n",
    "    print(\"Running on MIRP\")\n",
    "    root = \"/home/mirp_ai/Documents/Daniel_Nieto/PhD/AutoEncoders_Ecoacoustics/Jaguas\"\n",
    "    root_path = \"media/mirp_ai/Seagate Desktop Drive/Jaguas_2018\"\n",
    "else:\n",
    "    import pathlib\n",
    "    temp = pathlib.PosixPath\n",
    "    pathlib.PosixPath = pathlib.WindowsPath\n",
    "    print(\"Running local\")"
   ]
  },
  {
   "cell_type": "code",
   "execution_count": 4,
   "metadata": {
    "executionInfo": {
     "elapsed": 3008,
     "status": "ok",
     "timestamp": 1678389402237,
     "user": {
      "displayName": "DANIEL ALEXIS NIETO MORA",
      "userId": "09305600849699039845"
     },
     "user_tz": 300
    },
    "id": "ZeYXtNUUhRWh"
   },
   "outputs": [
    {
     "name": "stderr",
     "output_type": "stream",
     "text": [
      "/home/mirp_ai/anaconda3/envs/DANM/lib/python3.10/site-packages/umap/distances.py:1063: NumbaDeprecationWarning: The 'nopython' keyword argument was not supplied to the 'numba.jit' decorator. The implicit default value for this argument is currently False, but it will be changed to True in Numba 0.59.0. See https://numba.readthedocs.io/en/stable/reference/deprecation.html#deprecation-of-object-mode-fall-back-behaviour-when-using-jit for details.\n",
      "  @numba.jit()\n",
      "/home/mirp_ai/anaconda3/envs/DANM/lib/python3.10/site-packages/umap/distances.py:1071: NumbaDeprecationWarning: The 'nopython' keyword argument was not supplied to the 'numba.jit' decorator. The implicit default value for this argument is currently False, but it will be changed to True in Numba 0.59.0. See https://numba.readthedocs.io/en/stable/reference/deprecation.html#deprecation-of-object-mode-fall-back-behaviour-when-using-jit for details.\n",
      "  @numba.jit()\n",
      "/home/mirp_ai/anaconda3/envs/DANM/lib/python3.10/site-packages/umap/distances.py:1086: NumbaDeprecationWarning: The 'nopython' keyword argument was not supplied to the 'numba.jit' decorator. The implicit default value for this argument is currently False, but it will be changed to True in Numba 0.59.0. See https://numba.readthedocs.io/en/stable/reference/deprecation.html#deprecation-of-object-mode-fall-back-behaviour-when-using-jit for details.\n",
      "  @numba.jit()\n",
      "/home/mirp_ai/anaconda3/envs/DANM/lib/python3.10/site-packages/umap/umap_.py:660: NumbaDeprecationWarning: The 'nopython' keyword argument was not supplied to the 'numba.jit' decorator. The implicit default value for this argument is currently False, but it will be changed to True in Numba 0.59.0. See https://numba.readthedocs.io/en/stable/reference/deprecation.html#deprecation-of-object-mode-fall-back-behaviour-when-using-jit for details.\n",
      "  @numba.jit()\n"
     ]
    }
   ],
   "source": [
    "import os\n",
    "import matplotlib.pyplot as plt\n",
    "import seaborn as sns\n",
    "import numpy as np\n",
    "\n",
    "import datetime\n",
    "import gc\n",
    "import pandas as pd\n",
    "import joypy\n",
    "\n",
    "from sklearn.preprocessing import StandardScaler\n",
    "from sklearn.preprocessing import MinMaxScaler as Normalizer\n",
    "\n",
    "import torch\n",
    "import torch.nn as nn\n",
    "\n",
    "from torch.utils.data import DataLoader\n",
    "from torch.utils.data import random_split\n",
    "\n",
    "import torchvision.datasets as datasets\n",
    "\n",
    "from Jaguas_DataLoader_rainless import SoundscapeData\n",
    "from Models import ConvAE as AE\n",
    "from AE_training_functions import TestModel, TrainModel\n",
    "from AE_Clustering import AE_Clustering \n",
    "\n",
    "device = torch.device(\"cuda\" if torch.cuda.is_available() else \"cpu\")\n",
    "\n",
    "from datetime import timedelta\n",
    "\n",
    "from sklearn.manifold import TSNE\n",
    "from sklearn.decomposition import PCA\n",
    "import umap\n",
    "\n",
    "import random\n",
    "def _set_seed(seed: int):\n",
    "    \"\"\"\n",
    "    Helper function for reproducible behavior to set the seed in ``random``, ``numpy``, ``torch`` and/or ``tf`` (if\n",
    "    installed).\n",
    " \n",
    "    Args:\n",
    "        seed (:obj:`int`): The seed to set.\n",
    "    \"\"\"\n",
    "    random.seed(seed)\n",
    "    np.random.seed(seed)\n",
    "    if torch.cuda.is_available():\n",
    "        torch.manual_seed(seed)\n",
    "        torch.cuda.manual_seed_all(seed)\n",
    "        # ^^ safe to call this function even if cuda is not available\n",
    "_set_seed(1024)"
   ]
  },
  {
   "cell_type": "code",
   "execution_count": 3,
   "metadata": {},
   "outputs": [],
   "source": [
    "root_audios = f\"{root}/Complementary_Files/Audios_Jaguas/Audios_Jaguas.csv\"\n",
    "root_recorders = f\"{root}/Complementary_Files/df_grabadoras_reg.csv\"\n",
    "\n",
    "ecological_integrity = f\"{root}/Complementary_Files/Indice_Integridad_Ecologica.xlsx\"\n",
    "\n",
    "audios = pd.read_csv(root_audios, index_col=0)\n",
    "recorders = pd.read_csv(root_recorders, sep=\";\")\n",
    "ei  = pd.read_excel(ecological_integrity)\n",
    "\n",
    "audios.set_index(\"Filename\", inplace=True)"
   ]
  },
  {
   "cell_type": "code",
   "execution_count": 13,
   "metadata": {},
   "outputs": [],
   "source": [
    "def extract_parts(row):\n",
    "    parts = row.split('_')\n",
    "    location = parts[0]\n",
    "    date = parts[1]\n",
    "    time = parts[2].split('.')[0]  # Eliminar la extensión .WAV\n",
    "    day = date[-2:]  # Últimos dos caracteres para el día\n",
    "    hour = time[:2]\n",
    "    return pd.Series([location, day, hour])\n",
    "\n",
    "# Aplicar la función a la columna 'y' y crear nuevas columnas\n",
    "df_ai[['location', 'day', 'hour']] =df_ai['y'].apply(extract_parts)\n",
    "\n",
    "def define_hour_stage(hour):\n",
    "    hour = int(hour)\n",
    "    if 5 <= hour <= 8:\n",
    "        return 'morning'\n",
    "    elif 9 <= hour <= 16:\n",
    "        return 'day'\n",
    "    else:\n",
    "        return 'night'\n",
    "\n",
    "df_ai['hour_stage'] =df_ai['hour'].apply(define_hour_stage)\n",
    "df_ai.set_index(\"y\", inplace=True)\n",
    "df_ai['Habitat'] = df_ai.index.map(audios['Habitat'])"
   ]
  },
  {
   "cell_type": "code",
   "execution_count": 5,
   "metadata": {},
   "outputs": [],
   "source": [
    "df_ai = pd.read_csv(\"New_df_ai.csv\")\n",
    "df_ai.set_index(\"y\", inplace=True)"
   ]
  },
  {
   "cell_type": "code",
   "execution_count": 6,
   "metadata": {},
   "outputs": [],
   "source": [
    "# df_ai.to_csv(f'New_df_ai.csv')"
   ]
  },
  {
   "cell_type": "markdown",
   "metadata": {},
   "source": [
    "## All classification Covers"
   ]
  },
  {
   "cell_type": "code",
   "execution_count": 27,
   "metadata": {},
   "outputs": [
    {
     "name": "stdout",
     "output_type": "stream",
     "text": [
      "Accuracy: 0.8714159030446349\n",
      "f1: 0.8198458754627023\n",
      "recall 0.7953274706732656\n",
      "[[0.95772947 0.04227053]\n",
      " [0.36707453 0.63292547]]\n",
      "[[2379  105]\n",
      " [ 330  569]]\n"
     ]
    },
    {
     "data": {
      "image/png": "[encoded data removed]",
      "text/plain": [
       "<Figure size 640x480 with 2 Axes>"
      ]
     },
     "metadata": {},
     "output_type": "display_data"
    }
   ],
   "source": [
    "from sklearn import metrics\n",
    "from sklearn.metrics import accuracy_score, precision_score, recall_score, f1_score\n",
    "from sklearn.metrics import classification_report\n",
    "import matplotlib.pyplot as plt\n",
    "import seaborn as sns\n",
    "from sklearn import svm\n",
    "from sklearn.model_selection import train_test_split\n",
    "from sklearn.ensemble import RandomForestClassifier\n",
    "from sklearn import metrics\n",
    "\n",
    "X = np.asarray(df_ai.iloc[:,0:60])\n",
    "y = np.asarray(df_ai.loc[:,\"Habitat\"])\n",
    "X_train, X_test, y_train, y_test = train_test_split(X, y, test_size=0.2,random_state=0)\n",
    "clf_rf = RandomForestClassifier(max_depth=32, random_state=0, n_jobs=-1)\n",
    "clf_rf.fit(X_train, y_train)\n",
    "y_pred_rf = clf_rf.predict(X_test)\n",
    "accuracy = metrics.accuracy_score(y_test, y_pred_rf)\n",
    "f1_score = metrics.f1_score(y_test, y_pred_rf, average=\"macro\")\n",
    "recall = metrics.recall_score(y_test, y_pred_rf, average=\"macro\")\n",
    "print(\"Accuracy:\", accuracy)\n",
    "print(\"f1:\", f1_score)\n",
    "print(\"recall\", recall)\n",
    "\n",
    "confusion_matrix = metrics.confusion_matrix(y_test, y_pred_rf)\n",
    "confusion_matrix_norm = metrics.confusion_matrix(y_test, y_pred_rf, normalize=\"true\")\n",
    "print(confusion_matrix_norm)\n",
    "print(confusion_matrix)\n",
    "cm_display = metrics.ConfusionMatrixDisplay(confusion_matrix = confusion_matrix_norm, display_labels = [\"Forest\", \"non-Forest\"])\n",
    "cm_display.plot()\n",
    "plt.show()"
   ]
  },
  {
   "cell_type": "markdown",
   "metadata": {},
   "source": [
    "## All classification Hours"
   ]
  },
  {
   "cell_type": "code",
   "execution_count": 28,
   "metadata": {},
   "outputs": [
    {
     "name": "stdout",
     "output_type": "stream",
     "text": [
      "Accuracy: 0.8714159030446349\n",
      "f1: 0.8468978957980965\n",
      "recall 0.8414732146907107\n",
      "[[0.9091653  0.05646481 0.03436989]\n",
      " [0.1503876  0.70232558 0.14728682]\n",
      " [0.05474934 0.0323219  0.91292876]]\n",
      "[[1111   69   42]\n",
      " [  97  453   95]\n",
      " [  83   49 1384]]\n"
     ]
    },
    {
     "data": {
      "image/png": "[encoded data removed]",
      "text/plain": [
       "<Figure size 640x480 with 2 Axes>"
      ]
     },
     "metadata": {},
     "output_type": "display_data"
    }
   ],
   "source": [
    "from sklearn import metrics\n",
    "from sklearn.metrics import accuracy_score, precision_score, recall_score, f1_score\n",
    "from sklearn.metrics import classification_report\n",
    "import matplotlib.pyplot as plt\n",
    "import seaborn as sns\n",
    "\n",
    "\n",
    "X = np.asarray(df_ai.iloc[:,0:60])\n",
    "y = np.asarray(df_ai.loc[:,\"hour_stage\"])\n",
    "X_train, X_test, y_train, y_test = train_test_split(X, y, test_size=0.2,random_state=0)\n",
    "clf_rf = RandomForestClassifier(max_depth=32, random_state=0, n_jobs=-1)\n",
    "clf_rf.fit(X_train, y_train)\n",
    "y_pred_rf = clf_rf.predict(X_test)\n",
    "accuracy = metrics.accuracy_score(y_test, y_pred_rf)\n",
    "f1_score = metrics.f1_score(y_test, y_pred_rf, average=\"macro\")\n",
    "recall = metrics.recall_score(y_test, y_pred_rf, average=\"macro\")\n",
    "print(\"Accuracy:\", accuracy)\n",
    "print(\"f1:\", f1_score)\n",
    "print(\"recall\", recall)\n",
    "\n",
    "confusion_matrix = metrics.confusion_matrix(y_test, y_pred_rf)\n",
    "confusion_matrix_norm = metrics.confusion_matrix(y_test, y_pred_rf, normalize=\"true\")\n",
    "print(confusion_matrix_norm)\n",
    "print(confusion_matrix)\n",
    "cm_display = metrics.ConfusionMatrixDisplay(confusion_matrix = confusion_matrix_norm, display_labels = [\"day\", \"morning\", \"night\"])\n",
    "cm_display.plot()\n",
    "plt.show()"
   ]
  },
  {
   "cell_type": "markdown",
   "metadata": {},
   "source": [
    "## Cover classification"
   ]
  },
  {
   "cell_type": "code",
   "execution_count": 10,
   "metadata": {
    "scrolled": true
   },
   "outputs": [
    {
     "name": "stdout",
     "output_type": "stream",
     "text": [
      "Accuracy: 0.9316239316239316\n",
      "f1: 0.7813084112149533\n",
      "recall 0.7142857142857143\n",
      "Accuracy: 0.8857142857142857\n",
      "f1: 0.695357833655706\n",
      "recall 0.6470588235294118\n",
      "Accuracy: 0.9519230769230769\n",
      "f1: 0.9052305449243667\n",
      "recall 0.8948863636363636\n",
      "Accuracy: 0.9459459459459459\n",
      "f1: 0.8422174840085288\n",
      "recall 0.7777777777777778\n",
      "Accuracy: 1.0\n",
      "f1: 1.0\n",
      "recall 1.0\n",
      "Accuracy: 1.0\n",
      "f1: 1.0\n",
      "recall 1.0\n",
      "Accuracy: 1.0\n",
      "f1: 1.0\n",
      "recall 1.0\n",
      "Accuracy: 1.0\n",
      "f1: 1.0\n",
      "recall 1.0\n",
      "Accuracy: 1.0\n",
      "f1: 1.0\n",
      "recall 1.0\n",
      "Accuracy: 0.9431818181818182\n",
      "f1: 0.8834437086092716\n",
      "recall 0.8333333333333333\n",
      "Accuracy: 0.92\n",
      "f1: 0.9095431931252826\n",
      "recall 0.8949652777777778\n",
      "Accuracy: 0.9042553191489362\n",
      "f1: 0.9017535710138196\n",
      "recall 0.9032634032634033\n",
      "Accuracy: 0.8956521739130435\n",
      "f1: 0.8885658914728682\n",
      "recall 0.8804347826086957\n",
      "Accuracy: 0.9058823529411765\n",
      "f1: 0.896969696969697\n",
      "recall 0.8873820754716981\n",
      "Accuracy: 0.9139784946236559\n",
      "f1: 0.9110047846889953\n",
      "recall 0.9050187617260788\n",
      "Accuracy: 0.918918918918919\n",
      "f1: 0.9068183938065479\n",
      "recall 0.8875\n",
      "Accuracy: 0.9101123595505618\n",
      "f1: 0.9101010101010101\n",
      "recall 0.9103535353535352\n",
      "Accuracy: 0.8979591836734694\n",
      "f1: 0.8958333333333333\n",
      "recall 0.8938689217758985\n",
      "Accuracy: 0.9154929577464789\n",
      "f1: 0.902405498281787\n",
      "recall 0.9074675324675325\n",
      "Accuracy: 0.9545454545454546\n",
      "f1: 0.9494252873563218\n",
      "recall 0.9545454545454546\n",
      "Accuracy: 0.9361702127659575\n",
      "f1: 0.9261221400710251\n",
      "recall 0.9287722586691658\n",
      "Accuracy: 0.9464285714285714\n",
      "f1: 0.9347797955398351\n",
      "recall 0.9321728691476591\n",
      "Accuracy: 0.8666666666666667\n",
      "f1: 0.8541139856059132\n",
      "recall 0.8573390894819466\n",
      "Accuracy: 0.9555555555555556\n",
      "f1: 0.9519458946369246\n",
      "recall 0.9450280112044818\n",
      "Accuracy: 0.9166666666666666\n",
      "f1: 0.8958617227282507\n",
      "recall 0.9067746686303387\n",
      "Accuracy: 0.9492753623188406\n",
      "f1: 0.9205265322912382\n",
      "recall 0.8870967741935484\n",
      "Accuracy: 0.9432624113475178\n",
      "f1: 0.8995726495726496\n",
      "recall 0.8870689655172415\n",
      "Accuracy: 0.8924731182795699\n",
      "f1: 0.6137873754152824\n",
      "recall 0.5833333333333334\n",
      "Accuracy: 0.940677966101695\n",
      "f1: 0.870023603461841\n",
      "recall 0.8157894736842105\n",
      "Accuracy: 0.9323308270676691\n",
      "f1: 0.7858293075684379\n",
      "recall 0.7290960451977402\n"
     ]
    }
   ],
   "source": [
    "from sklearn import svm\n",
    "from sklearn.model_selection import train_test_split\n",
    "from sklearn.ensemble import RandomForestClassifier\n",
    "from sklearn import metrics\n",
    "\n",
    "accuracies_ai_cover = []\n",
    "f1_scores_ai_cover = []\n",
    "recalls_ai_cover = []\n",
    "df_day={}\n",
    "days = list(range(1,31))\n",
    "for i in range(len(days)):\n",
    "    days[i] = str(days[i])\n",
    "for i in days:\n",
    "    df_day = df_ai[df_ai['day'].isin([int(i)])]\n",
    "    X = np.asarray(df_day.iloc[:,0:60])\n",
    "    y = np.asarray(df_day.loc[:,\"Habitat\"])\n",
    "    X_train, X_test, y_train, y_test = train_test_split(X, y, test_size=0.2,random_state=0)\n",
    "    clf_rf = RandomForestClassifier(max_depth=32, random_state=0, n_jobs=-1)\n",
    "    clf_rf.fit(X_train, y_train)\n",
    "    y_pred_rf = clf_rf.predict(X_test)\n",
    "    accuracy = metrics.accuracy_score(y_test, y_pred_rf)\n",
    "    f1_score = metrics.f1_score(y_test, y_pred_rf, average=\"macro\")\n",
    "    recall = metrics.recall_score(y_test, y_pred_rf, average=\"macro\")\n",
    "    print(\"Accuracy:\", accuracy)\n",
    "    print(\"f1:\", f1_score)\n",
    "    print(\"recall\", recall)\n",
    "\n",
    "    accuracies_ai_cover.append(accuracy)\n",
    "    f1_scores_ai_cover.append(f1_score)\n",
    "    recalls_ai_cover.append(recall)\n",
    "    \n",
    "np.save(f\"{root}/temporal/classification_results/accuracies_ai_covers.npy\", accuracies_ai_cover)\n",
    "np.save(f\"{root}/temporal/classification_results/f1_scores_ai_covers.npy\", f1_scores_ai_cover)\n",
    "np.save(f\"{root}/temporal/classification_results/recalls_ai_covers.npy\", recalls_ai_cover)"
   ]
  },
  {
   "cell_type": "markdown",
   "metadata": {},
   "source": [
    "## Hour Stage Classification"
   ]
  },
  {
   "cell_type": "code",
   "execution_count": 9,
   "metadata": {
    "scrolled": true
   },
   "outputs": [
    {
     "name": "stdout",
     "output_type": "stream",
     "text": [
      "Accuracy: 0.8290598290598291\n",
      "f1: 0.7840155945419104\n",
      "recall 0.7782393589847006\n",
      "Accuracy: 0.8380952380952381\n",
      "f1: 0.8115512491688041\n",
      "recall 0.7836923111066726\n",
      "Accuracy: 0.875\n",
      "f1: 0.8475857452799703\n",
      "recall 0.8333439321674616\n",
      "Accuracy: 0.9324324324324325\n",
      "f1: 0.9366891896517494\n",
      "recall 0.9302737520128824\n",
      "Accuracy: 0.8769230769230769\n",
      "f1: 0.8215449121109498\n",
      "recall 0.7929292929292929\n",
      "Accuracy: 0.8586956521739131\n",
      "f1: 0.8379376876083579\n",
      "recall 0.839095744680851\n",
      "Accuracy: 0.9540229885057471\n",
      "f1: 0.9528253781127344\n",
      "recall 0.956501182033097\n",
      "Accuracy: 0.8478260869565217\n",
      "f1: 0.8264012196215585\n",
      "recall 0.8321133550871623\n",
      "Accuracy: 0.9130434782608695\n",
      "f1: 0.9062784997720018\n",
      "recall 0.9126361655773421\n",
      "Accuracy: 0.9090909090909091\n",
      "f1: 0.8846114695066866\n",
      "recall 0.8608785175017158\n",
      "Accuracy: 0.89\n",
      "f1: 0.8664910249757162\n",
      "recall 0.8821118991331757\n",
      "Accuracy: 0.9148936170212766\n",
      "f1: 0.8797779472836682\n",
      "recall 0.9130952380952381\n",
      "Accuracy: 0.8347826086956521\n",
      "f1: 0.8095357172626491\n",
      "recall 0.8143719806763285\n",
      "Accuracy: 0.8823529411764706\n",
      "f1: 0.8776516454535029\n",
      "recall 0.8683272283272284\n",
      "Accuracy: 0.7526881720430108\n",
      "f1: 0.6133426334490794\n",
      "recall 0.6235711229292744\n",
      "Accuracy: 0.8648648648648649\n",
      "f1: 0.846471846044191\n",
      "recall 0.8362243120863809\n",
      "Accuracy: 0.8539325842696629\n",
      "f1: 0.8294911010150989\n",
      "recall 0.834006734006734\n",
      "Accuracy: 0.8061224489795918\n",
      "f1: 0.7133267195767196\n",
      "recall 0.7109661172161172\n",
      "Accuracy: 0.8450704225352113\n",
      "f1: 0.8303731685360991\n",
      "recall 0.8344622697563874\n",
      "Accuracy: 0.8939393939393939\n",
      "f1: 0.8427508934608325\n",
      "recall 0.8292075527802556\n",
      "Accuracy: 0.8368794326241135\n",
      "f1: 0.7576002986703426\n",
      "recall 0.7384976525821596\n",
      "Accuracy: 0.8511904761904762\n",
      "f1: 0.8204449871116538\n",
      "recall 0.8087830687830687\n",
      "Accuracy: 0.8733333333333333\n",
      "f1: 0.853511085987061\n",
      "recall 0.851796157059315\n",
      "Accuracy: 0.8444444444444444\n",
      "f1: 0.8283538478395851\n",
      "recall 0.8223724471643066\n",
      "Accuracy: 0.8712121212121212\n",
      "f1: 0.8658730158730159\n",
      "recall 0.8682082722466569\n",
      "Accuracy: 0.855072463768116\n",
      "f1: 0.7979300078642849\n",
      "recall 0.7760042181957626\n",
      "Accuracy: 0.8936170212765957\n",
      "f1: 0.865453047636033\n",
      "recall 0.8523255813953489\n",
      "Accuracy: 0.8924731182795699\n",
      "f1: 0.8794669558220489\n",
      "recall 0.8562201892251154\n",
      "Accuracy: 0.9576271186440678\n",
      "f1: 0.9409745657604024\n",
      "recall 0.9530128205128205\n",
      "Accuracy: 0.8421052631578947\n",
      "f1: 0.8300575800118009\n",
      "recall 0.813968253968254\n"
     ]
    }
   ],
   "source": [
    "from sklearn import svm\n",
    "from sklearn.model_selection import train_test_split\n",
    "from sklearn.ensemble import RandomForestClassifier\n",
    "from sklearn import metrics\n",
    "\n",
    "accuracies_ai_hour = []\n",
    "f1_scores_ai_hour = []\n",
    "recalls_ai_hour = []\n",
    "df_day={}\n",
    "days = list(range(1,31))\n",
    "for i in range(len(days)):\n",
    "    days[i] = str(days[i])\n",
    "for i in days:\n",
    "    df_day = df_ai[df_ai['day'].isin([int(i)])]\n",
    "    X = np.asarray(df_day.iloc[:,0:60])\n",
    "    y = np.asarray(df_day.loc[:,\"hour_stage\"])\n",
    "    X_train, X_test, y_train, y_test = train_test_split(X, y, test_size=0.2,random_state=0)\n",
    "    clf_rf = RandomForestClassifier(max_depth=32, random_state=0, n_jobs=-1)\n",
    "    clf_rf.fit(X_train, y_train)\n",
    "    y_pred_rf = clf_rf.predict(X_test)\n",
    "    accuracy = metrics.accuracy_score(y_test, y_pred_rf)\n",
    "    f1_score = metrics.f1_score(y_test, y_pred_rf, average=\"macro\")\n",
    "    recall = metrics.recall_score(y_test, y_pred_rf, average=\"macro\")\n",
    "    print(\"Accuracy:\", accuracy)\n",
    "    print(\"f1:\", f1_score)\n",
    "    print(\"recall\", recall)\n",
    "\n",
    "    accuracies_ai_hour.append(accuracy)\n",
    "    f1_scores_ai_hour.append(f1_score)\n",
    "    recalls_ai_hour.append(recall)\n",
    "    \n",
    "np.save(f\"{root}/temporal/classification_results/accuracies_ai_hours.npy\", accuracies_ai_hour)\n",
    "np.save(f\"{root}/temporal/classification_results/f1_scores_ai_hours.npy\", f1_scores_ai_hour)\n",
    "np.save(f\"{root}/temporal/classification_results/recalls_ai_hours.npy\", recalls_ai_hour)"
   ]
  },
  {
   "cell_type": "code",
   "execution_count": null,
   "metadata": {},
   "outputs": [],
   "source": []
  }
 ],
 "metadata": {
  "colab": {
   "machine_shape": "hm",
   "provenance": [
    {
     "file_id": "15FiCdrQdIiLbRJdrnLgeGSWmPZR-eIZZ",
     "timestamp": 1668314866472
    }
   ]
  },
  "gpuClass": "standard",
  "kernelspec": {
   "display_name": "Python 3 (ipykernel)",
   "language": "python",
   "name": "python3"
  },
  "language_info": {
   "codemirror_mode": {
    "name": "ipython",
    "version": 3
   },
   "file_extension": ".py",
   "mimetype": "text/x-python",
   "name": "python",
   "nbconvert_exporter": "python",
   "pygments_lexer": "ipython3",
   "version": "3.10.4"
  }
 },
 "nbformat": 4,
 "nbformat_minor": 1
}
