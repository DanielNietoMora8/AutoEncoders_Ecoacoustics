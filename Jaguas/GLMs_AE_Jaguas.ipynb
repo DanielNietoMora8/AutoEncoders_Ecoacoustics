{
 "cells": [
  {
   "cell_type": "code",
   "execution_count": 25,
   "id": "025b7852",
   "metadata": {},
   "outputs": [
    {
     "data": {
      "text/plain": [
       "0.9904855148891535"
      ]
     },
     "execution_count": 25,
     "metadata": {},
     "output_type": "execute_result"
    }
   ],
   "source": [
    "from sklearn import linear_model\n",
    "import statsmodels.api as sm\n",
    "import statsmodels.api as glm\n",
    "clf = linear_model.PoissonRegressor()\n",
    "X = [[1, 2], [2, 3], [3, 4], [4, 3]]\n",
    "y = [12, 17, 22, 21]\n",
    "clf.fit(X, y)\n",
    "clf.score(X, y)\n"
   ]
  },
  {
   "cell_type": "code",
   "execution_count": 23,
   "id": "7ba7f2dc",
   "metadata": {},
   "outputs": [],
   "source": [
    "data = sm.datasets.scotland.load()"
   ]
  },
  {
   "cell_type": "code",
   "execution_count": 20,
   "id": "3054da27",
   "metadata": {},
   "outputs": [
    {
     "name": "stdout",
     "output_type": "stream",
     "text": [
      "                 Generalized Linear Model Regression Results                  \n",
      "==============================================================================\n",
      "Dep. Variable:                    YES   No. Observations:                   32\n",
      "Model:                            GLM   Df Residuals:                       24\n",
      "Model Family:                   Gamma   Df Model:                            7\n",
      "Link Function:           InversePower   Scale:                       0.0035843\n",
      "Method:                          IRLS   Log-Likelihood:                -83.017\n",
      "Date:                Fri, 30 Jun 2023   Deviance:                     0.087389\n",
      "Time:                        22:12:18   Pearson chi2:                   0.0860\n",
      "No. Iterations:                     6   Pseudo R-squ. (CS):             0.9800\n",
      "Covariance Type:            nonrobust                                         \n",
      "======================================================================================\n",
      "                         coef    std err          z      P>|z|      [0.025      0.975]\n",
      "--------------------------------------------------------------------------------------\n",
      "const                 -0.0178      0.011     -1.548      0.122      -0.040       0.005\n",
      "COUTAX              4.962e-05   1.62e-05      3.060      0.002    1.78e-05    8.14e-05\n",
      "UNEMPF                 0.0020      0.001      3.824      0.000       0.001       0.003\n",
      "MOR                -7.181e-05   2.71e-05     -2.648      0.008      -0.000   -1.87e-05\n",
      "ACT                    0.0001   4.06e-05      2.757      0.006    3.23e-05       0.000\n",
      "GDP                -1.468e-07   1.24e-07     -1.187      0.235   -3.89e-07    9.56e-08\n",
      "AGE                   -0.0005      0.000     -2.159      0.031      -0.001   -4.78e-05\n",
      "COUTAX_FEMALEUNEMP -2.427e-06   7.46e-07     -3.253      0.001   -3.89e-06   -9.65e-07\n",
      "======================================================================================\n"
     ]
    },
    {
     "name": "stderr",
     "output_type": "stream",
     "text": [
      "/home/mirp_ai/anaconda3/envs/DANM/lib/python3.10/site-packages/statsmodels/genmod/generalized_linear_model.py:307: DomainWarning: The InversePower link function does not respect the domain of the Gamma family.\n",
      "  warnings.warn((f\"The {type(family.link).__name__} link function \"\n"
     ]
    }
   ],
   "source": [
    "data = sm.datasets.scotland.load()\n",
    "data.exog = sm.add_constant(data.exog)\n",
    "gamma_model = sm.GLM(data.endog, data.exog, family=sm.families.Gamma())\n",
    "gamma_results = gamma_model.fit()\n",
    "print(gamma_results.summary())"
   ]
  },
  {
   "cell_type": "code",
   "execution_count": 28,
   "id": "f58cba4a",
   "metadata": {},
   "outputs": [
    {
     "ename": "NameError",
     "evalue": "name 'family' is not defined",
     "output_type": "error",
     "traceback": [
      "\u001b[0;31m---------------------------------------------------------------------------\u001b[0m",
      "\u001b[0;31mNameError\u001b[0m                                 Traceback (most recent call last)",
      "Cell \u001b[0;32mIn [28], line 2\u001b[0m\n\u001b[1;32m      1\u001b[0m X \u001b[38;5;241m=\u001b[39m sm\u001b[38;5;241m.\u001b[39madd_constant(X)\n\u001b[0;32m----> 2\u001b[0m model \u001b[38;5;241m=\u001b[39m glm(y, X, \u001b[43mfamily\u001b[49m)\n",
      "\u001b[0;31mNameError\u001b[0m: name 'family' is not defined"
     ]
    }
   ],
   "source": [
    "X = sm.add_constant(X)\n",
    "model = glm(y, X, family)"
   ]
  }
 ],
 "metadata": {
  "kernelspec": {
   "display_name": "Python 3 (ipykernel)",
   "language": "python",
   "name": "python3"
  },
  "language_info": {
   "codemirror_mode": {
    "name": "ipython",
    "version": 3
   },
   "file_extension": ".py",
   "mimetype": "text/x-python",
   "name": "python",
   "nbconvert_exporter": "python",
   "pygments_lexer": "ipython3",
   "version": "3.10.4"
  }
 },
 "nbformat": 4,
 "nbformat_minor": 5
}
