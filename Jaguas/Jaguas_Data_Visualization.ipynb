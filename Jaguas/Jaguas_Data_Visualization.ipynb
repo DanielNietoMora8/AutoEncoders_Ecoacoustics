{
 "cells": [
  {
   "cell_type": "code",
   "execution_count": 1,
   "id": "caca5280",
   "metadata": {
    "ExecuteTime": {
     "end_time": "2023-06-30T16:51:16.494237497Z",
     "start_time": "2023-06-30T16:51:16.486122941Z"
    }
   },
   "outputs": [
    {
     "name": "stdout",
     "output_type": "stream",
     "text": [
      "Running on MIRP\n"
     ]
    }
   ],
   "source": [
    "if 'google.colab' in str(get_ipython()):\n",
    "    import sys\n",
    "    from google.colab import drive, output\n",
    "    drive.mount('/content/drive')\n",
    "    !pip install torchaudio\n",
    "    !pip install wandb --upgrade\n",
    "    # !wandb login\n",
    "    !pip install umap-learn\n",
    "    !pip install umap-learn[plot]\n",
    "    !pip install holoviews\n",
    "    !pip install -U ipykernel\n",
    "    !pip install joypy\n",
    "    # !pip install umap-learn\n",
    "    output.clear()\n",
    "    print(\"Running on colab\")\n",
    "    %load_ext autoreload\n",
    "    %autoreload 1\n",
    "    %cd '/content/drive/MyDrive/PhD_Thesis_Experiments/DeepLearning/AutoEncoders/Project'\n",
    "#     #sys.path.append('/content/drive/MyDrive/Deep Learning/AutoEncoders/Project/VQVAE_Working/data')\n",
    "#     #sys.path.append('/content/drive/MyDrive/Deep Learning/AutoEncoders/Project/VQVAE_Working/models')\n",
    "#     sys.path.append('/content/drive/MyDrive/PhD_Thesis_Experiments/DeepLearning/AutoEncoders/Project/Dataloader')\n",
    "#     sys.path.append('/content/drive/MyDrive/PhD_Thesis_Experiments/DeepLearning/AutoEncoders/Project/Models')\n",
    "#     sys.path.append('/content/drive/MyDrive/PhD_Thesis_Experiments/DeepLearning/AutoEncoders/Project/Modules')\n",
    "#     sys.path.append('/content/drive/MyDrive/PhD_Thesis_Experiments/DeepLearning/AutoEncoders/Project/Clustering_Results/Results')\n",
    "#     sys.path.append('/content/drive/MyDrive/PhD_Thesis_Experiments/DeepLearning/AutoEncoders/Project/Clustering_Results/Figures')\n",
    "#     sys.path.append('/content/drive/MyDrive/PhD_Thesis_Experiments/DeepLearning/AutoEncoders/Project/Clustering_Result')\n",
    "elif \"zmqshell\" in str(get_ipython()):\n",
    "    print(\"Running on MIRP\")\n",
    "    root = \"/home/mirp_ai/Documents/Daniel_Nieto/PhD/AutoEncoders_Ecoacoustics/Jaguas\"\n",
    "    root_path = \"media/mirp_ai/Seagate Desktop Drive/Jaguas_2018\"\n",
    "else:\n",
    "    import pathlib\n",
    "    temp = pathlib.PosixPath\n",
    "    pathlib.PosixPath = pathlib.WindowsPath\n",
    "    print(\"Running local\")"
   ]
  },
  {
   "cell_type": "code",
   "execution_count": 2,
   "id": "377d8866",
   "metadata": {},
   "outputs": [
    {
     "name": "stdout",
     "output_type": "stream",
     "text": [
      "Requirement already satisfied: umap-learn in /home/mirp_ai/anaconda3/envs/DANM/lib/python3.10/site-packages (0.5.3)\n",
      "Requirement already satisfied: scipy>=1.0 in /home/mirp_ai/anaconda3/envs/DANM/lib/python3.10/site-packages (from umap-learn) (1.9.3)\n",
      "Requirement already satisfied: scikit-learn>=0.22 in /home/mirp_ai/anaconda3/envs/DANM/lib/python3.10/site-packages (from umap-learn) (1.1.3)\n",
      "Requirement already satisfied: pynndescent>=0.5 in /home/mirp_ai/anaconda3/envs/DANM/lib/python3.10/site-packages (from umap-learn) (0.5.10)\n",
      "Requirement already satisfied: tqdm in /home/mirp_ai/anaconda3/envs/DANM/lib/python3.10/site-packages (from umap-learn) (4.65.0)\n",
      "Requirement already satisfied: numpy>=1.17 in /home/mirp_ai/anaconda3/envs/DANM/lib/python3.10/site-packages (from umap-learn) (1.23.1)\n",
      "Requirement already satisfied: numba>=0.49 in /home/mirp_ai/anaconda3/envs/DANM/lib/python3.10/site-packages (from umap-learn) (0.56.4)\n",
      "Requirement already satisfied: llvmlite<0.40,>=0.39.0dev0 in /home/mirp_ai/anaconda3/envs/DANM/lib/python3.10/site-packages (from numba>=0.49->umap-learn) (0.39.1)\n",
      "Requirement already satisfied: setuptools in /home/mirp_ai/anaconda3/envs/DANM/lib/python3.10/site-packages (from numba>=0.49->umap-learn) (61.2.0)\n",
      "Requirement already satisfied: joblib>=0.11 in /home/mirp_ai/anaconda3/envs/DANM/lib/python3.10/site-packages (from pynndescent>=0.5->umap-learn) (1.2.0)\n",
      "Requirement already satisfied: threadpoolctl>=2.0.0 in /home/mirp_ai/anaconda3/envs/DANM/lib/python3.10/site-packages (from scikit-learn>=0.22->umap-learn) (3.1.0)\n",
      "Requirement already satisfied: umap-learn[plot] in /home/mirp_ai/anaconda3/envs/DANM/lib/python3.10/site-packages (0.5.3)\n",
      "Requirement already satisfied: scikit-learn>=0.22 in /home/mirp_ai/anaconda3/envs/DANM/lib/python3.10/site-packages (from umap-learn[plot]) (1.1.3)\n",
      "Requirement already satisfied: scipy>=1.0 in /home/mirp_ai/anaconda3/envs/DANM/lib/python3.10/site-packages (from umap-learn[plot]) (1.9.3)\n",
      "Requirement already satisfied: pynndescent>=0.5 in /home/mirp_ai/anaconda3/envs/DANM/lib/python3.10/site-packages (from umap-learn[plot]) (0.5.10)\n",
      "Requirement already satisfied: numba>=0.49 in /home/mirp_ai/anaconda3/envs/DANM/lib/python3.10/site-packages (from umap-learn[plot]) (0.56.4)\n",
      "Requirement already satisfied: numpy>=1.17 in /home/mirp_ai/anaconda3/envs/DANM/lib/python3.10/site-packages (from umap-learn[plot]) (1.23.1)\n",
      "Requirement already satisfied: tqdm in /home/mirp_ai/anaconda3/envs/DANM/lib/python3.10/site-packages (from umap-learn[plot]) (4.65.0)\n",
      "Requirement already satisfied: datashader in /home/mirp_ai/anaconda3/envs/DANM/lib/python3.10/site-packages (from umap-learn[plot]) (0.15.0)\n",
      "Requirement already satisfied: matplotlib in /home/mirp_ai/anaconda3/envs/DANM/lib/python3.10/site-packages (from umap-learn[plot]) (3.6.2)\n",
      "Requirement already satisfied: pandas in /home/mirp_ai/anaconda3/envs/DANM/lib/python3.10/site-packages (from umap-learn[plot]) (1.5.3)\n",
      "Requirement already satisfied: holoviews in /home/mirp_ai/anaconda3/envs/DANM/lib/python3.10/site-packages (from umap-learn[plot]) (1.16.2)\n",
      "Requirement already satisfied: bokeh in /home/mirp_ai/anaconda3/envs/DANM/lib/python3.10/site-packages (from umap-learn[plot]) (3.1.1)\n",
      "Requirement already satisfied: colorcet in /home/mirp_ai/anaconda3/envs/DANM/lib/python3.10/site-packages (from umap-learn[plot]) (3.0.1)\n",
      "Requirement already satisfied: scikit-image in /home/mirp_ai/anaconda3/envs/DANM/lib/python3.10/site-packages (from umap-learn[plot]) (0.21.0)\n",
      "Requirement already satisfied: seaborn in /home/mirp_ai/anaconda3/envs/DANM/lib/python3.10/site-packages (from umap-learn[plot]) (0.12.2)\n",
      "Requirement already satisfied: llvmlite<0.40,>=0.39.0dev0 in /home/mirp_ai/anaconda3/envs/DANM/lib/python3.10/site-packages (from numba>=0.49->umap-learn[plot]) (0.39.1)\n",
      "Requirement already satisfied: setuptools in /home/mirp_ai/anaconda3/envs/DANM/lib/python3.10/site-packages (from numba>=0.49->umap-learn[plot]) (61.2.0)\n",
      "Requirement already satisfied: joblib>=0.11 in /home/mirp_ai/anaconda3/envs/DANM/lib/python3.10/site-packages (from pynndescent>=0.5->umap-learn[plot]) (1.2.0)\n",
      "Requirement already satisfied: threadpoolctl>=2.0.0 in /home/mirp_ai/anaconda3/envs/DANM/lib/python3.10/site-packages (from scikit-learn>=0.22->umap-learn[plot]) (3.1.0)\n",
      "Requirement already satisfied: packaging>=16.8 in /home/mirp_ai/anaconda3/envs/DANM/lib/python3.10/site-packages (from bokeh->umap-learn[plot]) (21.3)\n",
      "Requirement already satisfied: xyzservices>=2021.09.1 in /home/mirp_ai/anaconda3/envs/DANM/lib/python3.10/site-packages (from bokeh->umap-learn[plot]) (2023.5.0)\n",
      "Requirement already satisfied: tornado>=5.1 in /home/mirp_ai/anaconda3/envs/DANM/lib/python3.10/site-packages (from bokeh->umap-learn[plot]) (6.2)\n",
      "Requirement already satisfied: pillow>=7.1.0 in /home/mirp_ai/anaconda3/envs/DANM/lib/python3.10/site-packages (from bokeh->umap-learn[plot]) (9.3.0)\n",
      "Requirement already satisfied: PyYAML>=3.10 in /home/mirp_ai/anaconda3/envs/DANM/lib/python3.10/site-packages (from bokeh->umap-learn[plot]) (6.0)\n",
      "Requirement already satisfied: contourpy>=1 in /home/mirp_ai/anaconda3/envs/DANM/lib/python3.10/site-packages (from bokeh->umap-learn[plot]) (1.0.6)\n",
      "Requirement already satisfied: Jinja2>=2.9 in /home/mirp_ai/anaconda3/envs/DANM/lib/python3.10/site-packages (from bokeh->umap-learn[plot]) (3.1.2)\n",
      "Requirement already satisfied: pytz>=2020.1 in /home/mirp_ai/anaconda3/envs/DANM/lib/python3.10/site-packages (from pandas->umap-learn[plot]) (2022.1)\n",
      "Requirement already satisfied: python-dateutil>=2.8.1 in /home/mirp_ai/anaconda3/envs/DANM/lib/python3.10/site-packages (from pandas->umap-learn[plot]) (2.8.2)\n",
      "Requirement already satisfied: pyct>=0.4.4 in /home/mirp_ai/anaconda3/envs/DANM/lib/python3.10/site-packages (from colorcet->umap-learn[plot]) (0.5.0)\n",
      "Requirement already satisfied: xarray in /home/mirp_ai/anaconda3/envs/DANM/lib/python3.10/site-packages (from datashader->umap-learn[plot]) (2023.6.0)\n",
      "Requirement already satisfied: toolz in /home/mirp_ai/anaconda3/envs/DANM/lib/python3.10/site-packages (from datashader->umap-learn[plot]) (0.12.0)\n",
      "Requirement already satisfied: datashape in /home/mirp_ai/anaconda3/envs/DANM/lib/python3.10/site-packages (from datashader->umap-learn[plot]) (0.5.2)\n",
      "Requirement already satisfied: requests in /home/mirp_ai/anaconda3/envs/DANM/lib/python3.10/site-packages (from datashader->umap-learn[plot]) (2.28.1)\n",
      "Requirement already satisfied: dask in /home/mirp_ai/anaconda3/envs/DANM/lib/python3.10/site-packages (from datashader->umap-learn[plot]) (2023.6.1)\n",
      "Requirement already satisfied: param in /home/mirp_ai/anaconda3/envs/DANM/lib/python3.10/site-packages (from datashader->umap-learn[plot]) (1.13.0)\n",
      "Requirement already satisfied: pyviz-comms>=0.7.4 in /home/mirp_ai/anaconda3/envs/DANM/lib/python3.10/site-packages (from holoviews->umap-learn[plot]) (2.3.2)\n",
      "Requirement already satisfied: panel>=0.13.1 in /home/mirp_ai/anaconda3/envs/DANM/lib/python3.10/site-packages (from holoviews->umap-learn[plot]) (1.1.1)\n",
      "Requirement already satisfied: cycler>=0.10 in /home/mirp_ai/anaconda3/envs/DANM/lib/python3.10/site-packages (from matplotlib->umap-learn[plot]) (0.11.0)\n",
      "Requirement already satisfied: kiwisolver>=1.0.1 in /home/mirp_ai/anaconda3/envs/DANM/lib/python3.10/site-packages (from matplotlib->umap-learn[plot]) (1.4.4)\n",
      "Requirement already satisfied: pyparsing>=2.2.1 in /home/mirp_ai/anaconda3/envs/DANM/lib/python3.10/site-packages (from matplotlib->umap-learn[plot]) (3.0.9)\n",
      "Requirement already satisfied: fonttools>=4.22.0 in /home/mirp_ai/anaconda3/envs/DANM/lib/python3.10/site-packages (from matplotlib->umap-learn[plot]) (4.38.0)\n",
      "Requirement already satisfied: imageio>=2.27 in /home/mirp_ai/anaconda3/envs/DANM/lib/python3.10/site-packages (from scikit-image->umap-learn[plot]) (2.31.1)\n",
      "Requirement already satisfied: PyWavelets>=1.1.1 in /home/mirp_ai/anaconda3/envs/DANM/lib/python3.10/site-packages (from scikit-image->umap-learn[plot]) (1.4.1)\n",
      "Requirement already satisfied: networkx>=2.8 in /home/mirp_ai/anaconda3/envs/DANM/lib/python3.10/site-packages (from scikit-image->umap-learn[plot]) (3.1)\n",
      "Requirement already satisfied: tifffile>=2022.8.12 in /home/mirp_ai/anaconda3/envs/DANM/lib/python3.10/site-packages (from scikit-image->umap-learn[plot]) (2023.4.12)\n",
      "Requirement already satisfied: lazy_loader>=0.2 in /home/mirp_ai/anaconda3/envs/DANM/lib/python3.10/site-packages (from scikit-image->umap-learn[plot]) (0.2)\n"
     ]
    },
    {
     "name": "stdout",
     "output_type": "stream",
     "text": [
      "Requirement already satisfied: MarkupSafe>=2.0 in /home/mirp_ai/anaconda3/envs/DANM/lib/python3.10/site-packages (from Jinja2>=2.9->bokeh->umap-learn[plot]) (2.1.1)\n",
      "Requirement already satisfied: markdown-it-py<3 in /home/mirp_ai/anaconda3/envs/DANM/lib/python3.10/site-packages (from panel>=0.13.1->holoviews->umap-learn[plot]) (2.2.0)\n",
      "Requirement already satisfied: mdit-py-plugins in /home/mirp_ai/anaconda3/envs/DANM/lib/python3.10/site-packages (from panel>=0.13.1->holoviews->umap-learn[plot]) (0.4.0)\n",
      "Requirement already satisfied: typing-extensions in /home/mirp_ai/anaconda3/envs/DANM/lib/python3.10/site-packages (from panel>=0.13.1->holoviews->umap-learn[plot]) (4.3.0)\n",
      "Requirement already satisfied: markdown in /home/mirp_ai/anaconda3/envs/DANM/lib/python3.10/site-packages (from panel>=0.13.1->holoviews->umap-learn[plot]) (3.4.3)\n",
      "Requirement already satisfied: linkify-it-py in /home/mirp_ai/anaconda3/envs/DANM/lib/python3.10/site-packages (from panel>=0.13.1->holoviews->umap-learn[plot]) (2.0.2)\n",
      "Requirement already satisfied: bleach in /home/mirp_ai/anaconda3/envs/DANM/lib/python3.10/site-packages (from panel>=0.13.1->holoviews->umap-learn[plot]) (4.1.0)\n",
      "Requirement already satisfied: six>=1.5 in /home/mirp_ai/anaconda3/envs/DANM/lib/python3.10/site-packages (from python-dateutil>=2.8.1->pandas->umap-learn[plot]) (1.16.0)\n",
      "Requirement already satisfied: click>=8.0 in /home/mirp_ai/anaconda3/envs/DANM/lib/python3.10/site-packages (from dask->datashader->umap-learn[plot]) (8.1.3)\n",
      "Requirement already satisfied: partd>=1.2.0 in /home/mirp_ai/anaconda3/envs/DANM/lib/python3.10/site-packages (from dask->datashader->umap-learn[plot]) (1.4.0)\n",
      "Requirement already satisfied: fsspec>=2021.09.0 in /home/mirp_ai/anaconda3/envs/DANM/lib/python3.10/site-packages (from dask->datashader->umap-learn[plot]) (2023.6.0)\n",
      "Requirement already satisfied: cloudpickle>=1.5.0 in /home/mirp_ai/anaconda3/envs/DANM/lib/python3.10/site-packages (from dask->datashader->umap-learn[plot]) (2.2.1)\n",
      "Requirement already satisfied: importlib-metadata>=4.13.0 in /home/mirp_ai/anaconda3/envs/DANM/lib/python3.10/site-packages (from dask->datashader->umap-learn[plot]) (6.7.0)\n",
      "Requirement already satisfied: multipledispatch>=0.4.7 in /home/mirp_ai/anaconda3/envs/DANM/lib/python3.10/site-packages (from datashape->datashader->umap-learn[plot]) (1.0.0)\n",
      "Requirement already satisfied: idna<4,>=2.5 in /home/mirp_ai/anaconda3/envs/DANM/lib/python3.10/site-packages (from requests->datashader->umap-learn[plot]) (3.4)\n",
      "Requirement already satisfied: certifi>=2017.4.17 in /home/mirp_ai/anaconda3/envs/DANM/lib/python3.10/site-packages (from requests->datashader->umap-learn[plot]) (2022.9.24)\n",
      "Requirement already satisfied: charset-normalizer<3,>=2 in /home/mirp_ai/anaconda3/envs/DANM/lib/python3.10/site-packages (from requests->datashader->umap-learn[plot]) (2.0.4)\n",
      "Requirement already satisfied: urllib3<1.27,>=1.21.1 in /home/mirp_ai/anaconda3/envs/DANM/lib/python3.10/site-packages (from requests->datashader->umap-learn[plot]) (1.26.12)\n",
      "Requirement already satisfied: zipp>=0.5 in /home/mirp_ai/anaconda3/envs/DANM/lib/python3.10/site-packages (from importlib-metadata>=4.13.0->dask->datashader->umap-learn[plot]) (3.15.0)\n",
      "Requirement already satisfied: mdurl~=0.1 in /home/mirp_ai/anaconda3/envs/DANM/lib/python3.10/site-packages (from markdown-it-py<3->panel>=0.13.1->holoviews->umap-learn[plot]) (0.1.2)\n",
      "Requirement already satisfied: locket in /home/mirp_ai/anaconda3/envs/DANM/lib/python3.10/site-packages (from partd>=1.2.0->dask->datashader->umap-learn[plot]) (1.0.0)\n",
      "Requirement already satisfied: webencodings in /home/mirp_ai/anaconda3/envs/DANM/lib/python3.10/site-packages (from bleach->panel>=0.13.1->holoviews->umap-learn[plot]) (0.5.1)\n",
      "Requirement already satisfied: uc-micro-py in /home/mirp_ai/anaconda3/envs/DANM/lib/python3.10/site-packages (from linkify-it-py->panel>=0.13.1->holoviews->umap-learn[plot]) (1.0.2)\n"
     ]
    }
   ],
   "source": [
    "import os\n",
    "import matplotlib.pyplot as plt\n",
    "import seaborn as sns\n",
    "import numpy as np\n",
    "\n",
    "from six.moves import xrange\n",
    "import datetime\n",
    "import gc\n",
    "import pandas as pd\n",
    "import joypy\n",
    "\n",
    "from scipy import signal\n",
    "from sklearn.preprocessing import StandardScaler\n",
    "\n",
    "import torch\n",
    "import torch.nn as nn\n",
    "import torch.nn.functional as F\n",
    "from torch.utils.data import DataLoader\n",
    "from torch.utils.data import random_split\n",
    "import torch.optim as optim\n",
    "from torch.optim import lr_scheduler\n",
    "import torchvision.datasets as datasets\n",
    "import torchvision.transforms as transforms\n",
    "from torchvision.utils import make_grid\n",
    "import torchaudio.transforms as audio_transform\n",
    "\n",
    "\n",
    "#from ResidualStack import ResidualStack\n",
    "#from Residual import Residual\n",
    "\n",
    "from Jaguas_DataLoader_rainless import SoundscapeData\n",
    "from Models import ConvAE as AE\n",
    "from AE_training_functions import TestModel, TrainModel\n",
    "from AE_Clustering import AE_Clustering \n",
    "\n",
    "device = torch.device(\"cuda\" if torch.cuda.is_available() else \"cpu\")\n",
    "#device = xm.xla_device()\n",
    "\n",
    "from datetime import timedelta\n",
    "import wandb\n",
    "from wandb import AlertLevel\n",
    "\n",
    "!pip install umap-learn\n",
    "!pip install umap-learn[plot]\n",
    "import umap\n",
    "from sklearn.manifold import TSNE\n",
    "from sklearn.decomposition import PCA\n",
    "\n",
    "import pickle as pkl"
   ]
  },
  {
   "cell_type": "code",
   "execution_count": 5,
   "id": "a4b3b6c8",
   "metadata": {},
   "outputs": [
    {
     "ename": "FileNotFoundError",
     "evalue": "[Errno 2] No such file or directory: 'temporal/Features/AE_No_rain/PosAE_labels_day_27_hour_19_No_rain_Audios_Jaguas.pth'",
     "output_type": "error",
     "traceback": [
      "\u001b[0;31m---------------------------------------------------------------------------\u001b[0m",
      "\u001b[0;31mFileNotFoundError\u001b[0m                         Traceback (most recent call last)",
      "Cell \u001b[0;32mIn [5], line 8\u001b[0m\n\u001b[1;32m      6\u001b[0m date_format \u001b[38;5;241m=\u001b[39m \u001b[38;5;124mf\u001b[39m\u001b[38;5;124m\"\u001b[39m\u001b[38;5;124mday_\u001b[39m\u001b[38;5;132;01m{\u001b[39;00mday\u001b[38;5;132;01m}\u001b[39;00m\u001b[38;5;124m_hour_\u001b[39m\u001b[38;5;132;01m{\u001b[39;00mhour\u001b[38;5;132;01m}\u001b[39;00m\u001b[38;5;124m\"\u001b[39m\n\u001b[1;32m      7\u001b[0m folder \u001b[38;5;241m=\u001b[39m \u001b[38;5;124m\"\u001b[39m\u001b[38;5;124mAE_No_rain\u001b[39m\u001b[38;5;124m\"\u001b[39m\n\u001b[0;32m----> 8\u001b[0m labels_rainless \u001b[38;5;241m=\u001b[39m \u001b[43mtorch\u001b[49m\u001b[38;5;241;43m.\u001b[39;49m\u001b[43mload\u001b[49m\u001b[43m(\u001b[49m\u001b[38;5;124;43mf\u001b[39;49m\u001b[38;5;124;43m\"\u001b[39;49m\u001b[38;5;124;43mtemporal/Features/\u001b[39;49m\u001b[38;5;132;43;01m{\u001b[39;49;00m\u001b[43mfolder\u001b[49m\u001b[38;5;132;43;01m}\u001b[39;49;00m\u001b[38;5;124;43m/PosAE_labels_\u001b[39;49m\u001b[38;5;132;43;01m{\u001b[39;49;00m\u001b[43mdate_format\u001b[49m\u001b[38;5;132;43;01m}\u001b[39;49;00m\u001b[38;5;124;43m_No_rain_Audios_Jaguas.pth\u001b[39;49m\u001b[38;5;124;43m\"\u001b[39;49m\u001b[43m,\u001b[49m\u001b[43m  \u001b[49m\u001b[43mmap_location\u001b[49m\u001b[38;5;241;43m=\u001b[39;49m\u001b[43mtorch\u001b[49m\u001b[38;5;241;43m.\u001b[39;49m\u001b[43mdevice\u001b[49m\u001b[43m(\u001b[49m\u001b[38;5;124;43m'\u001b[39;49m\u001b[38;5;124;43mcpu\u001b[39;49m\u001b[38;5;124;43m'\u001b[39;49m\u001b[43m)\u001b[49m\u001b[43m)\u001b[49m\n\u001b[1;32m      9\u001b[0m data_rainless \u001b[38;5;241m=\u001b[39m torch\u001b[38;5;241m.\u001b[39mload(\u001b[38;5;124mf\u001b[39m\u001b[38;5;124m\"\u001b[39m\u001b[38;5;124mtemporal/Features/\u001b[39m\u001b[38;5;132;01m{\u001b[39;00mfolder\u001b[38;5;132;01m}\u001b[39;00m\u001b[38;5;124m/PosAE_features_\u001b[39m\u001b[38;5;132;01m{\u001b[39;00mdate_format\u001b[38;5;132;01m}\u001b[39;00m\u001b[38;5;124m_No_rain_Audios_Jaguas.pth\u001b[39m\u001b[38;5;124m\"\u001b[39m,  map_location\u001b[38;5;241m=\u001b[39mtorch\u001b[38;5;241m.\u001b[39mdevice(\u001b[38;5;124m'\u001b[39m\u001b[38;5;124mcpu\u001b[39m\u001b[38;5;124m'\u001b[39m))\n\u001b[1;32m     10\u001b[0m \u001b[38;5;66;03m# labels_rain = torch.load(\"temporal/features/\")\u001b[39;00m\n\u001b[1;32m     11\u001b[0m \u001b[38;5;66;03m# data_rain = torch.load(\"temporal/features/\")\u001b[39;00m\n",
      "File \u001b[0;32m~/anaconda3/envs/DANM/lib/python3.10/site-packages/torch/serialization.py:771\u001b[0m, in \u001b[0;36mload\u001b[0;34m(f, map_location, pickle_module, weights_only, **pickle_load_args)\u001b[0m\n\u001b[1;32m    768\u001b[0m \u001b[38;5;28;01mif\u001b[39;00m \u001b[38;5;124m'\u001b[39m\u001b[38;5;124mencoding\u001b[39m\u001b[38;5;124m'\u001b[39m \u001b[38;5;129;01mnot\u001b[39;00m \u001b[38;5;129;01min\u001b[39;00m pickle_load_args\u001b[38;5;241m.\u001b[39mkeys():\n\u001b[1;32m    769\u001b[0m     pickle_load_args[\u001b[38;5;124m'\u001b[39m\u001b[38;5;124mencoding\u001b[39m\u001b[38;5;124m'\u001b[39m] \u001b[38;5;241m=\u001b[39m \u001b[38;5;124m'\u001b[39m\u001b[38;5;124mutf-8\u001b[39m\u001b[38;5;124m'\u001b[39m\n\u001b[0;32m--> 771\u001b[0m \u001b[38;5;28;01mwith\u001b[39;00m \u001b[43m_open_file_like\u001b[49m\u001b[43m(\u001b[49m\u001b[43mf\u001b[49m\u001b[43m,\u001b[49m\u001b[43m \u001b[49m\u001b[38;5;124;43m'\u001b[39;49m\u001b[38;5;124;43mrb\u001b[39;49m\u001b[38;5;124;43m'\u001b[39;49m\u001b[43m)\u001b[49m \u001b[38;5;28;01mas\u001b[39;00m opened_file:\n\u001b[1;32m    772\u001b[0m     \u001b[38;5;28;01mif\u001b[39;00m _is_zipfile(opened_file):\n\u001b[1;32m    773\u001b[0m         \u001b[38;5;66;03m# The zipfile reader is going to advance the current file position.\u001b[39;00m\n\u001b[1;32m    774\u001b[0m         \u001b[38;5;66;03m# If we want to actually tail call to torch.jit.load, we need to\u001b[39;00m\n\u001b[1;32m    775\u001b[0m         \u001b[38;5;66;03m# reset back to the original position.\u001b[39;00m\n\u001b[1;32m    776\u001b[0m         orig_position \u001b[38;5;241m=\u001b[39m opened_file\u001b[38;5;241m.\u001b[39mtell()\n",
      "File \u001b[0;32m~/anaconda3/envs/DANM/lib/python3.10/site-packages/torch/serialization.py:270\u001b[0m, in \u001b[0;36m_open_file_like\u001b[0;34m(name_or_buffer, mode)\u001b[0m\n\u001b[1;32m    268\u001b[0m \u001b[38;5;28;01mdef\u001b[39;00m \u001b[38;5;21m_open_file_like\u001b[39m(name_or_buffer, mode):\n\u001b[1;32m    269\u001b[0m     \u001b[38;5;28;01mif\u001b[39;00m _is_path(name_or_buffer):\n\u001b[0;32m--> 270\u001b[0m         \u001b[38;5;28;01mreturn\u001b[39;00m \u001b[43m_open_file\u001b[49m\u001b[43m(\u001b[49m\u001b[43mname_or_buffer\u001b[49m\u001b[43m,\u001b[49m\u001b[43m \u001b[49m\u001b[43mmode\u001b[49m\u001b[43m)\u001b[49m\n\u001b[1;32m    271\u001b[0m     \u001b[38;5;28;01melse\u001b[39;00m:\n\u001b[1;32m    272\u001b[0m         \u001b[38;5;28;01mif\u001b[39;00m \u001b[38;5;124m'\u001b[39m\u001b[38;5;124mw\u001b[39m\u001b[38;5;124m'\u001b[39m \u001b[38;5;129;01min\u001b[39;00m mode:\n",
      "File \u001b[0;32m~/anaconda3/envs/DANM/lib/python3.10/site-packages/torch/serialization.py:251\u001b[0m, in \u001b[0;36m_open_file.__init__\u001b[0;34m(self, name, mode)\u001b[0m\n\u001b[1;32m    250\u001b[0m \u001b[38;5;28;01mdef\u001b[39;00m \u001b[38;5;21m__init__\u001b[39m(\u001b[38;5;28mself\u001b[39m, name, mode):\n\u001b[0;32m--> 251\u001b[0m     \u001b[38;5;28msuper\u001b[39m(_open_file, \u001b[38;5;28mself\u001b[39m)\u001b[38;5;241m.\u001b[39m\u001b[38;5;21m__init__\u001b[39m(\u001b[38;5;28;43mopen\u001b[39;49m\u001b[43m(\u001b[49m\u001b[43mname\u001b[49m\u001b[43m,\u001b[49m\u001b[43m \u001b[49m\u001b[43mmode\u001b[49m\u001b[43m)\u001b[49m)\n",
      "\u001b[0;31mFileNotFoundError\u001b[0m: [Errno 2] No such file or directory: 'temporal/Features/AE_No_rain/PosAE_labels_day_27_hour_19_No_rain_Audios_Jaguas.pth'"
     ]
    }
   ],
   "source": [
    "model = \"AE_\"\n",
    "identifier = \"batch_size_14_num_hiddens_64_\"\n",
    "day = 27\n",
    "hour = 19\n",
    "month = 6\n",
    "date_format = f\"day_{day}_hour_{hour}\"\n",
    "folder = \"AE_No_rain\"\n",
    "labels_rainless = torch.load(f\"temporal/Features/{folder}/PosAE_labels_{date_format}_No_rain_Audios_Jaguas.pth\",  map_location=torch.device('cpu'))\n",
    "data_rainless = torch.load(f\"temporal/Features/{folder}/PosAE_features_{date_format}_No_rain_Audios_Jaguas.pth\",  map_location=torch.device('cpu'))\n",
    "# labels_rain = torch.load(\"temporal/features/\")\n",
    "# data_rain = torch.load(\"temporal/features/\")\n",
    "\n",
    "X_n = data_rainless.numpy()\n",
    "#Standard Scaler\n",
    "scaler = StandardScaler().fit(X_n)\n",
    "X_scaled = scaler.transform(X_n)\n",
    "#PCA\n",
    "n_components = 60\n",
    "X_PCA = PCA(n_components=n_components).fit_transform(X_scaled)\n",
    "X_PCA = StandardScaler().fit_transform(X_PCA)\n",
    "#TSNE\n",
    "X_TSNE = TSNE(n_components=2, learning_rate=\"auto\", init='random', random_state=0).fit_transform(X_PCA)\n",
    "#UMAP\n",
    "reducer = umap.UMAP()\n",
    "X_UMAP = reducer.fit_transform(X_PCA)\n",
    "\n",
    "metadata = \"recorder\"\n",
    "y_n = labels_rainless[metadata].numpy()\n",
    "\n",
    "X_ = [X_scaled, X_PCA, X_TSNE, X_UMAP]\n",
    "Feats = [\"Scaled\", f\"PCA{n_components}\", \"TSNE\", \"UMAP\"]\n",
    "# for enum, x in enumerate(X_):\n",
    "#     sns.jointplot(x=X_[enum][:,0], y= X_[enum][:,1], hue=y_n) \n",
    "#     plt.savefig(f\"Projection_{model}_{Feats[enum]}_{metadata}\")"
   ]
  },
  {
   "cell_type": "code",
   "execution_count": null,
   "id": "b2a3a7cb",
   "metadata": {},
   "outputs": [],
   "source": [
    "y_n = labels_rainless[\"hour\"].numpy()\n",
    "y_n"
   ]
  },
  {
   "cell_type": "markdown",
   "id": "9b9f3c68",
   "metadata": {},
   "source": [
    "## PCA"
   ]
  },
  {
   "cell_type": "code",
   "execution_count": 12,
   "id": "d9168235",
   "metadata": {},
   "outputs": [
    {
     "data": {
      "text/plain": [
       "<matplotlib.lines.Line2D at 0x7faccd14d3c0>"
      ]
     },
     "execution_count": 12,
     "metadata": {},
     "output_type": "execute_result"
    },
    {
     "data": {
      "image/png": "[encoded data removed]",
      "text/plain": [
       "<Figure size 1000x800 with 1 Axes>"
      ]
     },
     "metadata": {},
     "output_type": "display_data"
    }
   ],
   "source": [
    "n_components = 60\n",
    "X_PCA_ = PCA(n_components=n_components).fit(X_scaled)\n",
    "X_PCA = X_PCA_.transform(X_scaled)\n",
    "plt.figure(figsize=(10,8))\n",
    "plt.plot(range(0, n_components), X_PCA_.explained_variance_ratio_.cumsum())\n",
    "plt.title(\"Explained variance by components\")\n",
    "plt.xlabel(\"Number of components\")\n",
    "plt.ylabel(\"Cummulative Explained Variance \")\n",
    "plt.axhline(y=0.9, c=\"r\", linestyle=\"--\")"
   ]
  },
  {
   "cell_type": "markdown",
   "id": "b344840d",
   "metadata": {},
   "source": [
    "## UMAP"
   ]
  },
  {
   "cell_type": "code",
   "execution_count": null,
   "id": "d5f1ad2e",
   "metadata": {},
   "outputs": [],
   "source": [
    "X_UMAP = reducer.fit_transform(X_PCA)"
   ]
  },
  {
   "cell_type": "code",
   "execution_count": null,
   "id": "32ce9e5a",
   "metadata": {},
   "outputs": [],
   "source": [
    "a= np.arange(X_UMAP.shape[0])\n",
    "a = np.random.choice(a, size=84820)\n",
    "new_embedding = X_UMAP[a]\n",
    "y_n2 = y_n[a]\n",
    "\n",
    "plt.scatter(\n",
    "    new_embedding[:, 0],\n",
    "    new_embedding[:, 1], c=y_n2)\n",
    "plt.gca().set_aspect('equal', 'datalim')\n",
    "plt.title('UMAP projection of Jaguas dataset', fontsize=24);\n"
   ]
  },
  {
   "cell_type": "markdown",
   "id": "91c1b1dc",
   "metadata": {},
   "source": [
    "## TSNE"
   ]
  },
  {
   "cell_type": "code",
   "execution_count": null,
   "id": "94ba61a9",
   "metadata": {},
   "outputs": [],
   "source": [
    "X_TSNE = TSNE(n_components=2, learning_rate=\"auto\", init='random', random_state=0).fit_transform(X_scaled)"
   ]
  },
  {
   "cell_type": "code",
   "execution_count": null,
   "id": "cf053403",
   "metadata": {},
   "outputs": [],
   "source": [
    "a= np.arange(X_TSNE.shape[0])\n",
    "a = np.random.choice(a, size=84820)\n",
    "new_embedding = X_TSNE[a]\n",
    "y_n2 = y_n[a]\n",
    "\n",
    "plt.scatter(\n",
    "    new_embedding[:, 0],\n",
    "    new_embedding[:, 1], c=y_n2)\n",
    "plt.gca().set_aspect('equal', 'datalim')\n",
    "plt.title('TSNE projection of Jaguas dataset', fontsize=24);"
   ]
  },
  {
   "cell_type": "code",
   "execution_count": null,
   "id": "18e9249d",
   "metadata": {},
   "outputs": [],
   "source": [
    "new_embedding.shape"
   ]
  }
 ],
 "metadata": {
  "kernelspec": {
   "display_name": "Python 3 (ipykernel)",
   "language": "python",
   "name": "python3"
  },
  "language_info": {
   "codemirror_mode": {
    "name": "ipython",
    "version": 3
   },
   "file_extension": ".py",
   "mimetype": "text/x-python",
   "name": "python",
   "nbconvert_exporter": "python",
   "pygments_lexer": "ipython3",
   "version": "3.10.4"
  }
 },
 "nbformat": 4,
 "nbformat_minor": 5
}
