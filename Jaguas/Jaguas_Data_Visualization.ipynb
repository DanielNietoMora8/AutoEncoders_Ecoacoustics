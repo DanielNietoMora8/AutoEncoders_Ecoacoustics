{
 "cells": [
  {
   "cell_type": "code",
   "execution_count": 1,
   "id": "caca5280",
   "metadata": {
    "ExecuteTime": {
     "end_time": "2023-09-08T17:40:31.865147042Z",
     "start_time": "2023-09-08T17:40:31.855584862Z"
    }
   },
   "outputs": [
    {
     "name": "stdout",
     "output_type": "stream",
     "text": [
      "Running on MIRP\n"
     ]
    }
   ],
   "source": [
    "if 'google.colab' in str(get_ipython()):\n",
    "    import sys\n",
    "    from google.colab import drive, output\n",
    "    drive.mount('/content/drive')\n",
    "    !pip install torchaudio\n",
    "    !pip install wandb --upgrade\n",
    "    # !wandb login\n",
    "    !pip install umap-learn\n",
    "    !pip install umap-learn[plot]\n",
    "    !pip install holoviews\n",
    "    !pip install -U ipykernel\n",
    "    !pip install joypy\n",
    "    # !pip install umap-learn\n",
    "    output.clear()\n",
    "    print(\"Running on colab\")\n",
    "    %load_ext autoreload\n",
    "    %autoreload 1\n",
    "    %cd '/content/drive/MyDrive/PhD_Thesis_Experiments/DeepLearning/AutoEncoders/Project'\n",
    "#     #sys.path.append('/content/drive/MyDrive/Deep Learning/AutoEncoders/Project/VQVAE_Working/data')\n",
    "#     #sys.path.append('/content/drive/MyDrive/Deep Learning/AutoEncoders/Project/VQVAE_Working/models')\n",
    "#     sys.path.append('/content/drive/MyDrive/PhD_Thesis_Experiments/DeepLearning/AutoEncoders/Project/Dataloader')\n",
    "#     sys.path.append('/content/drive/MyDrive/PhD_Thesis_Experiments/DeepLearning/AutoEncoders/Project/Models')\n",
    "#     sys.path.append('/content/drive/MyDrive/PhD_Thesis_Experiments/DeepLearning/AutoEncoders/Project/Modules')\n",
    "#     sys.path.append('/content/drive/MyDrive/PhD_Thesis_Experiments/DeepLearning/AutoEncoders/Project/Clustering_Results/Results')\n",
    "#     sys.path.append('/content/drive/MyDrive/PhD_Thesis_Experiments/DeepLearning/AutoEncoders/Project/Clustering_Results/Figures')\n",
    "#     sys.path.append('/content/drive/MyDrive/PhD_Thesis_Experiments/DeepLearning/AutoEncoders/Project/Clustering_Result')\n",
    "elif \"zmqshell\" in str(get_ipython()):\n",
    "    print(\"Running on MIRP\")\n",
    "    root = \"/home/mirp_ai/Documents/Daniel_Nieto/PhD/AutoEncoders_Ecoacoustics/Jaguas\"\n",
    "    root_path = \"media/mirp_ai/Seagate Desktop Drive/Jaguas_2018\"\n",
    "else:\n",
    "    import pathlib\n",
    "    temp = pathlib.PosixPath\n",
    "    pathlib.PosixPath = pathlib.WindowsPath\n",
    "    print(\"Running local\")"
   ]
  },
  {
   "cell_type": "code",
   "execution_count": null,
   "id": "377d8866",
   "metadata": {},
   "outputs": [],
   "source": [
    "import os\n",
    "import matplotlib.pyplot as plt\n",
    "import seaborn as sns\n",
    "import numpy as np\n",
    "\n",
    "from six.moves import xrange\n",
    "import datetime\n",
    "import gc\n",
    "import pandas as pd\n",
    "import joypy\n",
    "\n",
    "from scipy import signal\n",
    "from sklearn.preprocessing import StandardScaler\n",
    "from sklearn.preprocessing import MinMaxScaler as Normalizer\n",
    "\n",
    "import torch\n",
    "import torch.nn as nn\n",
    "import torch.nn.functional as F\n",
    "from torch.utils.data import DataLoader\n",
    "from torch.utils.data import random_split\n",
    "import torch.optim as optim\n",
    "from torch.optim import lr_scheduler\n",
    "import torchvision.datasets as datasets\n",
    "import torchvision.transforms as transforms\n",
    "from torchvision.utils import make_grid\n",
    "import torchaudio.transforms as audio_transform\n",
    "\n",
    "\n",
    "#from ResidualStack import ResidualStack\n",
    "#from Residual import Residual\n",
    "\n",
    "from Jaguas_DataLoader_rainless import SoundscapeData\n",
    "from Models import ConvAE as AE\n",
    "from AE_training_functions import TestModel, TrainModel\n",
    "from AE_Clustering import AE_Clustering \n",
    "\n",
    "device = torch.device(\"cuda\" if torch.cuda.is_available() else \"cpu\")\n",
    "#device = xm.xla_device()\n",
    "\n",
    "from datetime import timedelta\n",
    "import wandb\n",
    "from wandb import AlertLevel\n",
    "\n",
    "!pip install umap-learn\n",
    "!pip install umap-learn[plot]\n",
    "import umap\n",
    "from sklearn.manifold import TSNE\n",
    "from sklearn.decomposition import PCA\n",
    "\n",
    "import seaborn as sns\n",
    "import pickle as pkl\n",
    "\n",
    "import random\n",
    "def _set_seed(seed: int):\n",
    "    \"\"\"\n",
    "    Helper function for reproducible behavior to set the seed in ``random``, ``numpy``, ``torch`` and/or ``tf`` (if\n",
    "    installed).\n",
    " \n",
    "    Args:\n",
    "        seed (:obj:`int`): The seed to set.\n",
    "    \"\"\"\n",
    "    random.seed(seed)\n",
    "    np.random.seed(seed)\n",
    "    if torch.cuda.is_available():\n",
    "        torch.manual_seed(seed)\n",
    "        torch.cuda.manual_seed_all(seed)\n",
    "        # ^^ safe to call this function even if cuda is not available\n",
    "_set_seed(1024)"
   ]
  },
  {
   "cell_type": "code",
   "execution_count": null,
   "id": "a4b3b6c8",
   "metadata": {},
   "outputs": [],
   "source": [
    "model = \"AE\"\n",
    "identifier = \"batch_size_14_num_hiddens_64_\"\n",
    "day = 27\n",
    "hour = 19\n",
    "month = 6\n",
    "date_format = f\"day_{day}_hour_{hour}\"\n",
    "folder = f\"{model}_No_rain\"\n",
    "labels_rainless = torch.load(f\"temporal/Features/{folder}/{model}_labels_{date_format}_No_rain_Audios_Jaguas.pth\",  map_location=torch.device('cpu'))\n",
    "data_rainless = torch.load(f\"temporal/Features/{folder}/{model}_features_{date_format}_No_rain_Audios_Jaguas.pth\",  map_location=torch.device('cpu'))\n",
    "# labels_rain = torch.load(\"temporal/features/\")\n",
    "# data_rain = torch.load(\"temporal/features/\")\n",
    "\n",
    "X_n = data_rainless.numpy()\n",
    "#Standard Scaler\n",
    "scaler = StandardScaler().fit(X_n)\n",
    "X_scaled = scaler.transform(X_n)\n",
    "#Normalizing\n",
    "X_norm = Normalizer().fit_transform(X_n)\n",
    "#PCA\n",
    "n_components = 30\n",
    "X_PCA = PCA(n_components=n_components).fit_transform(X_norm)\n",
    "# X_PCA = StandardScaler().fit_transform(X_PCA)\n",
    "# X_PCA = Normalizer().fit_transform(X_PCA)\n",
    "#TSNE\n",
    "X_TSNE = TSNE(n_components=2, learning_rate=\"auto\", init='random', random_state=0).fit_transform(X_PCA)\n",
    "X_TSNE_Norm = Normalizer().fit_transform(X_TSNE)\n",
    "\n",
    "#UMAP\n",
    "reducer = umap.UMAP(min_dist=0.9)\n",
    "X_UMAP = reducer.fit_transform(X_PCA)\n",
    "X_UMAP_Norm = Normalizer().fit_transform(X_UMAP)"
   ]
  },
  {
   "cell_type": "code",
   "execution_count": null,
   "id": "b81b1f3b",
   "metadata": {},
   "outputs": [],
   "source": [
    "metadata = \"hour\"\n",
    "y_n = labels_rainless[metadata].numpy()\n",
    "\n",
    "X_ = [X_scaled, X_norm, X_PCA, X_TSNE, X_UMAP]\n",
    "Feats = [\"Scaled\", \"Norm\", f\"PCA{n_components}\", \"TSNE\", \"UMAP\"]\n",
    "for enum, x in enumerate(X_):\n",
    "    sns.jointplot(x=X_[enum][:,0], y= X_[enum][:,1], hue=y_n, joint_kws={'alpha': 0.03}) \n",
    "#     plt.savefig(f\"Projection_{model}_{Feats[enum]}_{metadata}_alpha_03\")"
   ]
  },
  {
   "cell_type": "code",
   "execution_count": null,
   "id": "490b47d7",
   "metadata": {},
   "outputs": [],
   "source": [
    "# X_scaled_df = pd.DataFrame(X_scaled)\n",
    "X_PCA_df = pd.DataFrame(X_PCA)\n",
    "X_norm_df = pd.DataFrame(X_norm)\n",
    "X_UMAP_df = pd.DataFrame(X_UMAP)\n",
    "# X_scaled_df.to_csv(\"X_Scaled.csv\")\n",
    "X_UMAP_df.to_csv(\"X_UMAP.csv\")\n",
    "X_norm_df.to_csv(\"X_norm.csv\")\n",
    "X_PCA_df.to_csv(\"X_PCA.csv\")"
   ]
  },
  {
   "cell_type": "markdown",
   "id": "f7ee9f96",
   "metadata": {},
   "source": [
    "for dist in [0.2, 0.4, 0.6, 0.8, 1]  :\n",
    "    for n in [15, 30, 45, 100, 150, 250, 500, 100]:\n",
    "        reducer = umap.UMAP(n_neighbors=n, min_dist=dist)\n",
    "        X_UMAP = reducer.fit_transform(X_PCA)\n",
    "        X_ = Normalizer().fit_transform(X_UMAP)\n",
    "        sns.jointplot(x=X_[:,0], y= X_[:,1], hue=y_n, joint_kws={'alpha': 0.03})\n",
    "        plt.savefig(f\"Projection_AE_UMAP_{metadata}_alpha_03_neighboors_{reducer.n_neighbors}_dist_{reducer.min_dist}.png\")        "
   ]
  },
  {
   "cell_type": "markdown",
   "id": "9b9f3c68",
   "metadata": {},
   "source": [
    "## PCA"
   ]
  },
  {
   "cell_type": "code",
   "execution_count": null,
   "id": "d9168235",
   "metadata": {},
   "outputs": [],
   "source": [
    "n_components = 120\n",
    "X_PCA_ = PCA(n_components=n_components).fit(X_norm)\n",
    "X_PCA = X_PCA_.transform(X_norm)\n",
    "plt.figure(figsize=(10,8))\n",
    "plt.plot(range(0, n_components), X_PCA_.explained_variance_ratio_.cumsum())\n",
    "plt.title(\"Explained variance by components\")\n",
    "plt.xlabel(\"Number of components\")\n",
    "plt.ylabel(\"Cummulative Explained Variance \")\n",
    "plt.axhline(y=0.9, c=\"r\", linestyle=\"--\")"
   ]
  },
  {
   "cell_type": "markdown",
   "id": "91c1b1dc",
   "metadata": {},
   "source": [
    "## TSNE"
   ]
  },
  {
   "cell_type": "code",
   "execution_count": null,
   "id": "94ba61a9",
   "metadata": {},
   "outputs": [],
   "source": [
    "X_TSNE = TSNE(n_components=2, learning_rate=\"auto\", init='random', random_state=0).fit_transform(X_scaled)"
   ]
  },
  {
   "cell_type": "code",
   "execution_count": null,
   "id": "cf053403",
   "metadata": {},
   "outputs": [],
   "source": [
    "a= np.arange(X_TSNE.shape[0])\n",
    "a = np.random.choice(a, size=84820)\n",
    "new_embedding = X_TSNE[a]\n",
    "y_n2 = y_n[a]\n",
    "\n",
    "plt.scatter(\n",
    "    new_embedding[:, 0],\n",
    "    new_embedding[:, 1], c=y_n2)\n",
    "plt.gca().set_aspect('equal', 'datalim')\n",
    "plt.title('TSNE projection of Jaguas dataset', fontsize=24);"
   ]
  },
  {
   "cell_type": "code",
   "execution_count": null,
   "id": "18e9249d",
   "metadata": {},
   "outputs": [],
   "source": [
    "new_embedding.shape"
   ]
  },
  {
   "cell_type": "markdown",
   "id": "b344840d",
   "metadata": {},
   "source": [
    "## UMAP"
   ]
  },
  {
   "cell_type": "code",
   "execution_count": null,
   "id": "f103b41c",
   "metadata": {},
   "outputs": [],
   "source": [
    "reducer = umap.UMAP(n_components=2)"
   ]
  },
  {
   "cell_type": "code",
   "execution_count": null,
   "id": "d5f1ad2e",
   "metadata": {},
   "outputs": [],
   "source": [
    "X_UMAP = reducer.fit_transform(X_PCA)"
   ]
  },
  {
   "cell_type": "code",
   "execution_count": null,
   "id": "13098299",
   "metadata": {},
   "outputs": [],
   "source": [
    "X_desUMAP = reducer.inverse_transform(X_UMAP)"
   ]
  },
  {
   "cell_type": "code",
   "execution_count": null,
   "id": "713f4821",
   "metadata": {},
   "outputs": [],
   "source": [
    "X_desUMAP.shape"
   ]
  },
  {
   "cell_type": "code",
   "execution_count": null,
   "id": "32ce9e5a",
   "metadata": {},
   "outputs": [],
   "source": [
    "a= np.arange(X_UMAP.shape[0])\n",
    "a = np.random.choice(a, size=84820)\n",
    "new_embedding = X_UMAP[a]\n",
    "y_n2 = y_n[a]\n",
    "\n",
    "plt.scatter(\n",
    "    new_embedding[:, 0],\n",
    "    new_embedding[:, 1], c=y_n2)\n",
    "plt.gca().set_aspect('equal', 'datalim')\n",
    "plt.title('UMAP projection of Jaguas dataset', fontsize=24);\n"
   ]
  },
  {
   "cell_type": "markdown",
   "id": "5a425c5b",
   "metadata": {},
   "source": [
    "# Feature Exploration"
   ]
  },
  {
   "cell_type": "code",
   "execution_count": null,
   "id": "ddbce374",
   "metadata": {},
   "outputs": [],
   "source": [
    "X = X_norm.copy()"
   ]
  },
  {
   "cell_type": "code",
   "execution_count": null,
   "id": "5ca14bd2",
   "metadata": {},
   "outputs": [],
   "source": [
    "X = "
   ]
  }
 ],
 "metadata": {
  "kernelspec": {
   "display_name": "Python 3 (ipykernel)",
   "language": "python",
   "name": "python3"
  },
  "language_info": {
   "codemirror_mode": {
    "name": "ipython",
    "version": 3
   },
   "file_extension": ".py",
   "mimetype": "text/x-python",
   "name": "python",
   "nbconvert_exporter": "python",
   "pygments_lexer": "ipython3",
   "version": "3.10.4"
  }
 },
 "nbformat": 4,
 "nbformat_minor": 5
}
