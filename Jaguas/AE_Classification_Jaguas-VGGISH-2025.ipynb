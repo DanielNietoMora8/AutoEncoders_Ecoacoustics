{
 "cells": [
  {
   "cell_type": "code",
   "execution_count": 1,
   "metadata": {
    "colab": {
     "base_uri": "https://localhost:8080/"
    },
    "executionInfo": {
     "elapsed": 36603,
     "status": "ok",
     "timestamp": 1678389399232,
     "user": {
      "displayName": "DANIEL ALEXIS NIETO MORA",
      "userId": "09305600849699039845"
     },
     "user_tz": 300
    },
    "id": "KwQ8Zp3llyi-",
    "is_executing": true,
    "outputId": "fd97b0c2-58fc-4afe-b939-c9890c909c2e"
   },
   "outputs": [
    {
     "name": "stdout",
     "output_type": "stream",
     "text": [
      "Running on MIRP\n"
     ]
    }
   ],
   "source": [
    "if 'google.colab' in str(get_ipython()):\n",
    "    import sys\n",
    "    from google.colab import drive, output\n",
    "    drive.mount('/content/drive')\n",
    "\n",
    "    !pip install umap-learn\n",
    "    !pip install umap-learn[plot]\n",
    "    !pip install holoviews\n",
    "\n",
    "    !pip install joypy\n",
    "    # !pip install umap-learn\n",
    "    output.clear()\n",
    "    print(\"Running on colab\")\n",
    "    %load_ext autoreload\n",
    "    %autoreload 1\n",
    "    %cd '/content/drive/MyDrive/PhD_Thesis_Experiments/DeepLearning/AutoEncoders/Project'\n",
    "    #sys.path.append('/content/drive/MyDrive/Deep Learning/AutoEncoders/Project/VQVAE_Working/data')\n",
    "    #sys.path.append('/content/drive/MyDrive/Deep Learning/AutoEncoders/Project/VQVAE_Working/models')\n",
    "    sys.path.append('/content/drive/MyDrive/PhD_Thesis_Experiments/DeepLearning/AutoEncoders/Project/Dataloader')\n",
    "    sys.path.append('/content/drive/MyDrive/PhD_Thesis_Experiments/DeepLearning/AutoEncoders/Project/Models')\n",
    "    sys.path.append('/content/drive/MyDrive/PhD_Thesis_Experiments/DeepLearning/AutoEncoders/Project/Modules')\n",
    "    sys.path.append('/content/drive/MyDrive/PhD_Thesis_Experiments/DeepLearning/AutoEncoders/Project/Clustering_Results/Results')\n",
    "    sys.path.append('/content/drive/MyDrive/PhD_Thesis_Experiments/DeepLearning/AutoEncoders/Project/Clustering_Results/Figures')\n",
    "    sys.path.append('/content/drive/MyDrive/PhD_Thesis_Experiments/DeepLearning/AutoEncoders/Project/Clustering_Result')\n",
    "elif \"zmqshell\" in str(get_ipython()):\n",
    "    print(\"Running on MIRP\")\n",
    "    root = \"/home/mirp_ai/Documents/Daniel_Nieto/PhD/AutoEncoders_Ecoacoustics/Jaguas\"\n",
    "    root_path = \"media/mirp_ai/Seagate Desktop Drive/Jaguas_2018\"\n",
    "else:\n",
    "    import pathlib\n",
    "    temp = pathlib.PosixPath\n",
    "    pathlib.PosixPath = pathlib.WindowsPath\n",
    "    print(\"Running local\")"
   ]
  },
  {
   "cell_type": "code",
   "execution_count": 2,
   "metadata": {
    "executionInfo": {
     "elapsed": 3008,
     "status": "ok",
     "timestamp": 1678389402237,
     "user": {
      "displayName": "DANIEL ALEXIS NIETO MORA",
      "userId": "09305600849699039845"
     },
     "user_tz": 300
    },
    "id": "ZeYXtNUUhRWh"
   },
   "outputs": [
    {
     "name": "stderr",
     "output_type": "stream",
     "text": [
      "/home/mirp_ai/anaconda3/envs/DANM/lib/python3.10/site-packages/umap/distances.py:1063: NumbaDeprecationWarning: The 'nopython' keyword argument was not supplied to the 'numba.jit' decorator. The implicit default value for this argument is currently False, but it will be changed to True in Numba 0.59.0. See https://numba.readthedocs.io/en/stable/reference/deprecation.html#deprecation-of-object-mode-fall-back-behaviour-when-using-jit for details.\n",
      "  @numba.jit()\n",
      "/home/mirp_ai/anaconda3/envs/DANM/lib/python3.10/site-packages/umap/distances.py:1071: NumbaDeprecationWarning: The 'nopython' keyword argument was not supplied to the 'numba.jit' decorator. The implicit default value for this argument is currently False, but it will be changed to True in Numba 0.59.0. See https://numba.readthedocs.io/en/stable/reference/deprecation.html#deprecation-of-object-mode-fall-back-behaviour-when-using-jit for details.\n",
      "  @numba.jit()\n",
      "/home/mirp_ai/anaconda3/envs/DANM/lib/python3.10/site-packages/umap/distances.py:1086: NumbaDeprecationWarning: The 'nopython' keyword argument was not supplied to the 'numba.jit' decorator. The implicit default value for this argument is currently False, but it will be changed to True in Numba 0.59.0. See https://numba.readthedocs.io/en/stable/reference/deprecation.html#deprecation-of-object-mode-fall-back-behaviour-when-using-jit for details.\n",
      "  @numba.jit()\n",
      "/home/mirp_ai/anaconda3/envs/DANM/lib/python3.10/site-packages/umap/umap_.py:660: NumbaDeprecationWarning: The 'nopython' keyword argument was not supplied to the 'numba.jit' decorator. The implicit default value for this argument is currently False, but it will be changed to True in Numba 0.59.0. See https://numba.readthedocs.io/en/stable/reference/deprecation.html#deprecation-of-object-mode-fall-back-behaviour-when-using-jit for details.\n",
      "  @numba.jit()\n"
     ]
    }
   ],
   "source": [
    "import os\n",
    "import matplotlib.pyplot as plt\n",
    "import seaborn as sns\n",
    "import numpy as np\n",
    "\n",
    "import datetime\n",
    "import gc\n",
    "import pandas as pd\n",
    "import joypy\n",
    "\n",
    "from sklearn.preprocessing import StandardScaler\n",
    "from sklearn.preprocessing import MinMaxScaler as Normalizer\n",
    "\n",
    "import torch\n",
    "import torch.nn as nn\n",
    "\n",
    "from torch.utils.data import DataLoader\n",
    "from torch.utils.data import random_split\n",
    "\n",
    "import torchvision.datasets as datasets\n",
    "\n",
    "from Jaguas_DataLoader_rainless import SoundscapeData\n",
    "from Models import ConvAE as AE\n",
    "from AE_training_functions import TestModel, TrainModel\n",
    "from AE_Clustering import AE_Clustering \n",
    "\n",
    "device = torch.device(\"cuda\" if torch.cuda.is_available() else \"cpu\")\n",
    "\n",
    "from datetime import timedelta\n",
    "\n",
    "from sklearn.manifold import TSNE\n",
    "from sklearn.decomposition import PCA\n",
    "import umap\n",
    "\n",
    "import random\n",
    "def _set_seed(seed: int):\n",
    "    \"\"\"\n",
    "    Helper function for reproducible behavior to set the seed in ``random``, ``numpy``, ``torch`` and/or ``tf`` (if\n",
    "    installed).\n",
    " \n",
    "    Args:\n",
    "        seed (:obj:`int`): The seed to set.\n",
    "    \"\"\"\n",
    "    random.seed(seed)\n",
    "    np.random.seed(seed)\n",
    "    if torch.cuda.is_available():\n",
    "        torch.manual_seed(seed)\n",
    "        torch.cuda.manual_seed_all(seed)\n",
    "        # ^^ safe to call this function even if cuda is not available\n",
    "_set_seed(1024)"
   ]
  },
  {
   "cell_type": "code",
   "execution_count": 3,
   "metadata": {},
   "outputs": [],
   "source": [
    "root_audios = f\"{root}/Complementary_Files/Audios_Jaguas/Audios_Jaguas.csv\"\n",
    "root_recorders = f\"{root}/Complementary_Files/df_grabadoras_reg.csv\"\n",
    "root_clusters = f\"{root}/temporal/clusters\"\n",
    "root_vggish = f\"{root}/vggish/Features_vggish\"\n",
    "ecological_integrity = f\"{root}/Complementary_Files/Indice_Integridad_Ecologica.xlsx\"\n",
    "\n",
    "audios = pd.read_csv(root_audios, index_col=0)\n",
    "recorders = pd.read_csv(root_recorders, sep=\";\")\n",
    "ei  = pd.read_excel(ecological_integrity)\n",
    "\n",
    "audios.set_index(\"Filename\", inplace=True)"
   ]
  },
  {
   "cell_type": "markdown",
   "metadata": {},
   "source": [
    "## VGGISH Features and Labels"
   ]
  },
  {
   "cell_type": "markdown",
   "metadata": {},
   "source": [
    "X_vgg = torch.load(f\"{root_vggish}/vggish_features.pth\")\n",
    "y_vgg = torch.load(f\"{root_vggish}/vggish_filenames.pth\")\n",
    "\n",
    "y_vgg = [i.split('/')[6:8] for i in y_vgg]\n",
    "\n",
    "for i in range(len(y_vgg)):\n",
    "    y_vgg[i] = f\"{y_vgg[i][0]}\"\n",
    "\n",
    "\n",
    "X_add = []\n",
    "for i in range(len(X_vgg)):\n",
    "    if(X_vgg[i].shape == torch.Size([62, 128])):\n",
    "        X_add.append(i)\n",
    "        \n",
    "X_vgg2 = []\n",
    "y_vgg2 = []\n",
    "for i, value in enumerate(X_add):\n",
    "    X_vgg2.append(X_vgg[value])\n",
    "    y_vgg2.append(y_vgg[value])\n",
    "X_vgg2 = torch.stack(X_vgg2)\n",
    "X_vgg2 = X_vgg2.numpy()\n",
    "X_vgg2 = X_vgg2.reshape(X_vgg2.shape[0], X_vgg2.shape[1]*X_vgg2.shape[2])\n",
    "\n",
    "df_vgg = pd.DataFrame(X_vgg2)\n",
    "df_vgg[\"y\"] = y_vgg2\n",
    "df_vgg\n",
    "df_vgg.set_index(\"y\", inplace=True, drop=False)\n",
    "df_vgg['Habitat'] = df_vgg.index.map(audios['Habitat'])\n",
    "df_vgg['Rain_Intesity'] = df_vgg.index.map(audios['Rain_Intesity'])\n"
   ]
  },
  {
   "cell_type": "markdown",
   "metadata": {},
   "source": [
    "def extract_parts(row):\n",
    "    parts = row.split('_')\n",
    "    location = parts[0]\n",
    "    date = parts[1]\n",
    "    time = parts[2].split('.')[0]  # Eliminar la extensión .WAV\n",
    "    day = date[-2:]  # Últimos dos caracteres para el día\n",
    "    hour = time[:2]\n",
    "    return pd.Series([location, day, hour])\n",
    "\n",
    "# Aplicar la función a la columna 'y' y crear nuevas columnas\n",
    "df_vgg[['location', 'day', 'hour']] =df_vgg['y'].apply(extract_parts)\n",
    "\n",
    "def define_hour_stage(hour):\n",
    "    hour = int(hour)\n",
    "    if 5 <= hour <= 8:\n",
    "        return 'morning'\n",
    "    elif 9 <= hour <= 16:\n",
    "        return 'day'\n",
    "    else:\n",
    "        return 'night'\n",
    "\n",
    "df_vgg['hour_stage'] =df_vgg['hour'].apply(define_hour_stage)\n",
    "df_vgg.set_index(\"y\", inplace=True, drop=False)\n",
    "df_vgg['Habitat'] = df_vgg.index.map(audios['Habitat'])\n",
    "df_vgg = df_vgg[df_vgg['Rain_Intesity'] == 0]\n",
    "\n",
    "df_vgg.to_csv('df_vgg.csv', index=False)"
   ]
  },
  {
   "cell_type": "code",
   "execution_count": 5,
   "metadata": {},
   "outputs": [],
   "source": [
    "df_vgg = pd.read_csv(\"New_df_vgg.csv\")\n",
    "df_vgg.set_index(\"y\", inplace=True)"
   ]
  },
  {
   "cell_type": "markdown",
   "metadata": {},
   "source": [
    "## All classification covers"
   ]
  },
  {
   "cell_type": "code",
   "execution_count": 15,
   "metadata": {},
   "outputs": [
    {
     "name": "stdout",
     "output_type": "stream",
     "text": [
      "Accuracy: 0.8548625480342891\n",
      "f1: 0.7879873725683304\n",
      "recall 0.7581487034260648\n",
      "[[0.96457327 0.03542673]\n",
      " [0.44827586 0.55172414]]\n",
      "[[2396   88]\n",
      " [ 403  496]]\n"
     ]
    },
    {
     "data": {
      "image/png": "[encoded data removed]",
      "text/plain": [
       "<Figure size 640x480 with 2 Axes>"
      ]
     },
     "metadata": {},
     "output_type": "display_data"
    }
   ],
   "source": [
    "from sklearn import metrics\n",
    "from sklearn.metrics import accuracy_score, precision_score, recall_score, f1_score\n",
    "from sklearn.metrics import classification_report\n",
    "import matplotlib.pyplot as plt\n",
    "import seaborn as sns\n",
    "from sklearn import svm\n",
    "from sklearn.model_selection import train_test_split\n",
    "from sklearn.ensemble import RandomForestClassifier\n",
    "\n",
    "X = np.asarray(df_vgg.iloc[:,0:7936])\n",
    "y = np.asarray(df_vgg.loc[:,\"Habitat\"])\n",
    "X_train, X_test, y_train, y_test = train_test_split(X, y, test_size=0.2,random_state=0)\n",
    "clf_rf = RandomForestClassifier(max_depth=32, random_state=0, n_jobs=-1)\n",
    "clf_rf.fit(X_train, y_train)\n",
    "y_pred_rf = clf_rf.predict(X_test)\n",
    "accuracy = metrics.accuracy_score(y_test, y_pred_rf)\n",
    "f1_score = metrics.f1_score(y_test, y_pred_rf, average=\"macro\")\n",
    "recall = metrics.recall_score(y_test, y_pred_rf, average=\"macro\")\n",
    "print(\"Accuracy:\", accuracy)\n",
    "print(\"f1:\", f1_score)\n",
    "print(\"recall\", recall)\n",
    "\n",
    "confusion_matrix = metrics.confusion_matrix(y_test, y_pred_rf)\n",
    "confusion_matrix_norm = metrics.confusion_matrix(y_test, y_pred_rf, normalize=\"true\")\n",
    "print(confusion_matrix_norm)\n",
    "print(confusion_matrix)\n",
    "cm_display = metrics.ConfusionMatrixDisplay(confusion_matrix = confusion_matrix_norm, display_labels = [\"Forest\", \"Non-Forest\"])\n",
    "cm_display.plot()\n",
    "plt.show()"
   ]
  },
  {
   "cell_type": "markdown",
   "metadata": {},
   "source": [
    "## All classification Hours"
   ]
  },
  {
   "cell_type": "code",
   "execution_count": 14,
   "metadata": {},
   "outputs": [
    {
     "name": "stdout",
     "output_type": "stream",
     "text": [
      "Accuracy: 0.8530889742831806\n",
      "f1: 0.8098394250017013\n",
      "recall 0.7983810301466338\n",
      "[[0.91734861 0.04091653 0.04173486]\n",
      " [0.21705426 0.54573643 0.2372093 ]\n",
      " [0.03957784 0.02836412 0.93205805]]\n",
      "[[1121   50   51]\n",
      " [ 140  352  153]\n",
      " [  60   43 1413]]\n"
     ]
    },
    {
     "data": {
      "image/png": "[encoded data removed]",
      "text/plain": [
       "<Figure size 640x480 with 2 Axes>"
      ]
     },
     "metadata": {},
     "output_type": "display_data"
    }
   ],
   "source": [
    "from sklearn import metrics\n",
    "from sklearn.metrics import accuracy_score, precision_score, recall_score, f1_score\n",
    "from sklearn.metrics import classification_report\n",
    "import matplotlib.pyplot as plt\n",
    "import seaborn as sns\n",
    "\n",
    "\n",
    "X = np.asarray(df_vgg.iloc[:,0:7936])\n",
    "y = np.asarray(df_vgg.loc[:,\"hour_stage\"])\n",
    "X_train, X_test, y_train, y_test = train_test_split(X, y, test_size=0.2,random_state=0)\n",
    "clf_rf = RandomForestClassifier(max_depth=32, random_state=0, n_jobs=-1)\n",
    "clf_rf.fit(X_train, y_train)\n",
    "y_pred_rf = clf_rf.predict(X_test)\n",
    "accuracy = metrics.accuracy_score(y_test, y_pred_rf)\n",
    "f1_score = metrics.f1_score(y_test, y_pred_rf, average=\"macro\")\n",
    "recall = metrics.recall_score(y_test, y_pred_rf, average=\"macro\")\n",
    "print(\"Accuracy:\", accuracy)\n",
    "print(\"f1:\", f1_score)\n",
    "print(\"recall\", recall)\n",
    "\n",
    "confusion_matrix = metrics.confusion_matrix(y_test, y_pred_rf)\n",
    "confusion_matrix_norm = metrics.confusion_matrix(y_test, y_pred_rf, normalize=\"true\")\n",
    "print(confusion_matrix_norm)\n",
    "print(confusion_matrix)\n",
    "cm_display = metrics.ConfusionMatrixDisplay(confusion_matrix = confusion_matrix_norm, display_labels = [\"day\", \"morning\", \"night\"])\n",
    "cm_display.plot()\n",
    "plt.show()\n"
   ]
  },
  {
   "cell_type": "markdown",
   "metadata": {},
   "source": [
    "## Cover classification"
   ]
  },
  {
   "cell_type": "code",
   "execution_count": 80,
   "metadata": {
    "scrolled": true
   },
   "outputs": [
    {
     "name": "stdout",
     "output_type": "stream",
     "text": [
      "Accuracy: 0.8974358974358975\n",
      "f1: 0.6388888888888888\n",
      "recall 0.6022884882108183\n",
      "Accuracy: 0.8666666666666667\n",
      "f1: 0.6131578947368421\n",
      "recall 0.5882352941176471\n",
      "Accuracy: 0.9038461538461539\n",
      "f1: 0.7644927536231885\n",
      "recall 0.7130681818181819\n",
      "Accuracy: 0.918918918918919\n",
      "f1: 0.7279411764705883\n",
      "recall 0.6666666666666666\n",
      "Accuracy: 1.0\n",
      "f1: 1.0\n",
      "recall 1.0\n",
      "Accuracy: 1.0\n",
      "f1: 1.0\n",
      "recall 1.0\n",
      "Accuracy: 1.0\n",
      "f1: 1.0\n",
      "recall 1.0\n",
      "Accuracy: 1.0\n",
      "f1: 1.0\n",
      "recall 1.0\n",
      "Accuracy: 1.0\n",
      "f1: 1.0\n",
      "recall 1.0\n",
      "Accuracy: 0.9431818181818182\n",
      "f1: 0.8834437086092716\n",
      "recall 0.8333333333333333\n",
      "Accuracy: 0.83\n",
      "f1: 0.8062678062678064\n",
      "recall 0.7942708333333333\n",
      "Accuracy: 0.925531914893617\n",
      "f1: 0.9235861107885264\n",
      "recall 0.9251748251748252\n",
      "Accuracy: 0.8608695652173913\n",
      "f1: 0.8483849703361899\n",
      "recall 0.8369565217391304\n",
      "Accuracy: 0.9058823529411765\n",
      "f1: 0.896969696969697\n",
      "recall 0.8873820754716981\n",
      "Accuracy: 0.8924731182795699\n",
      "f1: 0.888755980861244\n",
      "recall 0.8832082551594747\n",
      "Accuracy: 0.918918918918919\n",
      "f1: 0.9068183938065479\n",
      "recall 0.8875\n",
      "Accuracy: 0.8764044943820225\n",
      "f1: 0.8763420487558419\n",
      "recall 0.8767676767676768\n",
      "Accuracy: 0.8775510204081632\n",
      "f1: 0.8710526315789473\n",
      "recall 0.8630021141649049\n",
      "Accuracy: 0.8943661971830986\n",
      "f1: 0.8641148325358852\n",
      "recall 0.8358070500927643\n",
      "Accuracy: 0.8333333333333334\n",
      "f1: 0.7967525195968646\n",
      "recall 0.7784090909090909\n",
      "Accuracy: 0.8865248226950354\n",
      "f1: 0.8559018906489525\n",
      "recall 0.8305998125585754\n",
      "Accuracy: 0.8988095238095238\n",
      "f1: 0.8718995290423861\n",
      "recall 0.8565426170468187\n",
      "Accuracy: 0.8733333333333333\n",
      "f1: 0.8567767224483642\n",
      "recall 0.848901098901099\n",
      "Accuracy: 0.8592592592592593\n",
      "f1: 0.8471485608724152\n",
      "recall 0.8406862745098038\n",
      "Accuracy: 0.8712121212121212\n",
      "f1: 0.8227908078654347\n",
      "recall 0.80279823269514\n",
      "Accuracy: 0.8405797101449275\n",
      "f1: 0.6783898305084746\n",
      "recall 0.6451612903225806\n",
      "Accuracy: 0.9290780141843972\n",
      "f1: 0.8601190476190477\n",
      "recall 0.8156896551724138\n",
      "Accuracy: 0.946236559139785\n",
      "f1: 0.8534509927513394\n",
      "recall 0.7916666666666667\n",
      "Accuracy: 0.847457627118644\n",
      "f1: 0.5825471698113207\n",
      "recall 0.5688463583200425\n",
      "Accuracy: 0.9548872180451128\n",
      "f1: 0.8626033057851239\n",
      "recall 0.8\n"
     ]
    }
   ],
   "source": [
    "from sklearn import svm\n",
    "from sklearn.model_selection import train_test_split\n",
    "from sklearn.ensemble import RandomForestClassifier\n",
    "from sklearn import metrics\n",
    "\n",
    "accuracies_vgg_covers = []\n",
    "f1_scores_vgg_covers = []\n",
    "recalls_vgg_covers = []\n",
    "df_day={}\n",
    "days = list(range(1,31))\n",
    "for i in range(len(days)):\n",
    "    days[i] = str(days[i])\n",
    "for i in days:\n",
    "    df_day = df_vgg[df_vgg['day'].isin([int(i)])]\n",
    "    X = np.asarray(df_day.iloc[:,0:7936])\n",
    "    y = np.asarray(df_day.loc[:,\"Habitat\"])\n",
    "    X_train, X_test, y_train, y_test = train_test_split(X, y, test_size=0.2,random_state=0)\n",
    "    clf_rf = RandomForestClassifier(max_depth=32, random_state=0, n_jobs=-1)\n",
    "    clf_rf.fit(X_train, y_train)\n",
    "    y_pred_rf = clf_rf.predict(X_test)\n",
    "    accuracy = metrics.accuracy_score(y_test, y_pred_rf)\n",
    "    f1_score = metrics.f1_score(y_test, y_pred_rf, average=\"macro\")\n",
    "    recall = metrics.recall_score(y_test, y_pred_rf, average=\"macro\")\n",
    "    print(\"Accuracy:\", accuracy)\n",
    "    print(\"f1:\", f1_score)\n",
    "    print(\"recall\", recall)\n",
    "\n",
    "    accuracies_vgg_covers.append(accuracy)\n",
    "    f1_scores_vgg_covers.append(f1_score)\n",
    "    recalls_vgg_covers.append(recall)\n",
    "    \n",
    "np.save(f\"{root}/temporal/classification_results/accuracies_vgg_covers.npy\", accuracies_vgg_covers)\n",
    "np.save(f\"{root}/temporal/classification_results/f1_scores_vgg_covers.npy\", f1_scores_vgg_covers)\n",
    "np.save(f\"{root}/temporal/classification_results/recalls_vgg_covers.npy\", recalls_vgg_covers)"
   ]
  },
  {
   "cell_type": "markdown",
   "metadata": {},
   "source": [
    "## Hour Stage Classification"
   ]
  },
  {
   "cell_type": "code",
   "execution_count": 87,
   "metadata": {
    "scrolled": true
   },
   "outputs": [
    {
     "name": "stdout",
     "output_type": "stream",
     "text": [
      "Accuracy: 0.811965811965812\n",
      "f1: 0.7510025196067994\n",
      "recall 0.7479363286816701\n",
      "Accuracy: 0.8476190476190476\n",
      "f1: 0.761431623931624\n",
      "recall 0.7443101745508617\n",
      "Accuracy: 0.8269230769230769\n",
      "f1: 0.7272804774083547\n",
      "recall 0.7223635400105989\n",
      "Accuracy: 0.8783783783783784\n",
      "f1: 0.8762270593256508\n",
      "recall 0.8904991948470209\n",
      "Accuracy: 0.8615384615384616\n",
      "f1: 0.6091575091575091\n",
      "recall 0.6527777777777778\n",
      "Accuracy: 0.8695652173913043\n",
      "f1: 0.8426353833392581\n",
      "recall 0.8285797260943996\n",
      "Accuracy: 0.8275862068965517\n",
      "f1: 0.7042600394862714\n",
      "recall 0.7058156028368794\n",
      "Accuracy: 0.9130434782608695\n",
      "f1: 0.8929637173171656\n",
      "recall 0.880221653878943\n",
      "Accuracy: 0.8695652173913043\n",
      "f1: 0.8459217644610902\n",
      "recall 0.8427015250544662\n",
      "Accuracy: 0.9090909090909091\n",
      "f1: 0.8135466952738543\n",
      "recall 0.7858156028368795\n",
      "Accuracy: 0.87\n",
      "f1: 0.8107585427173056\n",
      "recall 0.8042328042328042\n",
      "Accuracy: 0.9148936170212766\n",
      "f1: 0.8456105280692987\n",
      "recall 0.8095238095238096\n",
      "Accuracy: 0.8695652173913043\n",
      "f1: 0.850088431127757\n",
      "recall 0.8440016103059582\n",
      "Accuracy: 0.8705882352941177\n",
      "f1: 0.8582512315270936\n",
      "recall 0.8378021978021978\n",
      "Accuracy: 0.7849462365591398\n",
      "f1: 0.6058671530627755\n",
      "recall 0.6322819243230026\n",
      "Accuracy: 0.8108108108108109\n",
      "f1: 0.7666429449440383\n",
      "recall 0.7630016641510894\n",
      "Accuracy: 0.8202247191011236\n",
      "f1: 0.7863039510098333\n",
      "recall 0.7885521885521886\n",
      "Accuracy: 0.8979591836734694\n",
      "f1: 0.8586060753303948\n",
      "recall 0.8422619047619048\n",
      "Accuracy: 0.8169014084507042\n",
      "f1: 0.7677402508531347\n",
      "recall 0.7633689839572192\n",
      "Accuracy: 0.8787878787878788\n",
      "f1: 0.7946965452847806\n",
      "recall 0.77215903459213\n",
      "Accuracy: 0.851063829787234\n",
      "f1: 0.7219302635969301\n",
      "recall 0.717887323943662\n",
      "Accuracy: 0.8630952380952381\n",
      "f1: 0.7837874707661511\n",
      "recall 0.7685714285714286\n",
      "Accuracy: 0.8933333333333333\n",
      "f1: 0.85906900164646\n",
      "recall 0.8449456975772764\n",
      "Accuracy: 0.8518518518518519\n",
      "f1: 0.8190376015453414\n",
      "recall 0.7994070068075617\n",
      "Accuracy: 0.8409090909090909\n",
      "f1: 0.8189558073279004\n",
      "recall 0.809804966902128\n",
      "Accuracy: 0.8043478260869565\n",
      "f1: 0.6857610027373052\n",
      "recall 0.6805915060876234\n",
      "Accuracy: 0.8439716312056738\n",
      "f1: 0.785935036266162\n",
      "recall 0.7689922480620154\n",
      "Accuracy: 0.8172043010752689\n",
      "f1: 0.736331569664903\n",
      "recall 0.7020095394479631\n",
      "Accuracy: 0.923728813559322\n",
      "f1: 0.865920745920746\n",
      "recall 0.8408333333333333\n",
      "Accuracy: 0.8045112781954887\n",
      "f1: 0.7450273186547385\n",
      "recall 0.729100529100529\n"
     ]
    }
   ],
   "source": [
    "from sklearn import svm\n",
    "from sklearn.model_selection import train_test_split\n",
    "from sklearn.ensemble import RandomForestClassifier\n",
    "from sklearn import metrics\n",
    "\n",
    "accuracies_vgg_hours = []\n",
    "f1_scores_vgg_hours = []\n",
    "recalls_vgg_hours = []\n",
    "df_day={}\n",
    "days = list(range(1,31))\n",
    "for i in range(len(days)):\n",
    "    days[i] = str(days[i])\n",
    "for i in days:\n",
    "    df_day = df_vgg[df_vgg['day'].isin([int(i)])]\n",
    "    X = np.asarray(df_day.iloc[:,0:7936])\n",
    "    y = np.asarray(df_day.loc[:,\"hour_stage\"])\n",
    "    X_train, X_test, y_train, y_test = train_test_split(X, y, test_size=0.2,random_state=0)\n",
    "    clf_rf = RandomForestClassifier(max_depth=32, random_state=0, n_jobs=-1)\n",
    "    clf_rf.fit(X_train, y_train)\n",
    "    y_pred_rf = clf_rf.predict(X_test)\n",
    "    accuracy = metrics.accuracy_score(y_test, y_pred_rf)\n",
    "    f1_score = metrics.f1_score(y_test, y_pred_rf, average=\"macro\")\n",
    "    recall = metrics.recall_score(y_test, y_pred_rf, average=\"macro\")\n",
    "    print(\"Accuracy:\", accuracy)\n",
    "    print(\"f1:\", f1_score)\n",
    "    print(\"recall\", recall)\n",
    "\n",
    "    accuracies_vgg_hours.append(accuracy)\n",
    "    f1_scores_vgg_hours.append(f1_score)\n",
    "    recalls_vgg_hours.append(recall)\n",
    "    \n",
    "np.save(f\"{root}/temporal/classification_results/accuracies_vgg_hours.npy\", accuracies_vgg_hours)\n",
    "np.save(f\"{root}/temporal/classification_results/f1_scores_vgg_hours.npy\", f1_scores_vgg_hours)\n",
    "np.save(f\"{root}/temporal/classification_results/recalls_vgg_hours.npy\", recalls_vgg_hours)"
   ]
  }
 ],
 "metadata": {
  "colab": {
   "machine_shape": "hm",
   "provenance": [
    {
     "file_id": "15FiCdrQdIiLbRJdrnLgeGSWmPZR-eIZZ",
     "timestamp": 1668314866472
    }
   ]
  },
  "gpuClass": "standard",
  "kernelspec": {
   "display_name": "Python 3 (ipykernel)",
   "language": "python",
   "name": "python3"
  },
  "language_info": {
   "codemirror_mode": {
    "name": "ipython",
    "version": 3
   },
   "file_extension": ".py",
   "mimetype": "text/x-python",
   "name": "python",
   "nbconvert_exporter": "python",
   "pygments_lexer": "ipython3",
   "version": "3.10.4"
  }
 },
 "nbformat": 4,
 "nbformat_minor": 1
}
