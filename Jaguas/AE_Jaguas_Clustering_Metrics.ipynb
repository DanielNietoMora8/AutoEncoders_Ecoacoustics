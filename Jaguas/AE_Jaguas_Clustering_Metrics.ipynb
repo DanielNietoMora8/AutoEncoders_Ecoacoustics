{
 "cells": [
  {
   "cell_type": "code",
   "execution_count": 1,
   "id": "b2d4ee3b",
   "metadata": {},
   "outputs": [],
   "source": [
    "import numpy as np\n",
    "import pickle\n",
    "import matplotlib.pyplot as plt"
   ]
  },
  {
   "cell_type": "code",
   "execution_count": 13,
   "id": "3cdef8ce",
   "metadata": {},
   "outputs": [],
   "source": [
    "file_path = \"your_file.pkl\"\n",
    "\n",
    "# Open the file in binary read mode\n",
    "with open(f\"temporal/clustering_results/Kmeans_UMAP/UMAP_2c_silhouette_n-clusters_35\", 'rb') as file:\n",
    "    # Load the data from the file\n",
    "    Kmeans_UMAP_Silhouette = pickle.load(file)\n",
    "    \n",
    "with open(f\"temporal/clustering_results/Kmeans_UMAP/UMAP_2c_DB_n-clusters_35\", 'rb') as file:\n",
    "    # Load the data from the file\n",
    "    Kmeans_UMAP_DB = pickle.load(file)\n",
    "    \n",
    "with open(f\"temporal/clustering_results/Kmeans_UMAP/UMAP_2c_CH_n-clusters_35\", 'rb') as file:\n",
    "    # Load the data from the file\n",
    "    Kmeans_UMAP_CH = pickle.load(file)\n",
    "    \n",
    "with open(f\"temporal/clustering_results/Kmeans/silhouette_n-clusters_35\", 'rb') as file:\n",
    "    # Load the data from the file\n",
    "    Kmeans_Silhouette = pickle.load(file)\n",
    "    \n",
    "with open(f\"temporal/clustering_results/Kmeans/DB_n-clusters_35\", 'rb') as file:\n",
    "    # Load the data from the file\n",
    "    Kmeans_DB = pickle.load(file)\n",
    "    \n",
    "with open(f\"temporal/clustering_results/Kmeans/CH_n-clusters_35\", 'rb') as file:\n",
    "    # Load the data from the file\n",
    "    Kmeans_CH = pickle.load(file)\n",
    "    \n",
    "with open(f\"temporal/clustering_results/Kmeans_TSNE/TSNE_2c_silhouette_n-clusters_35\", 'rb') as file:\n",
    "    # Load the data from the file\n",
    "    Kmeans_TSNE_Silhouette = pickle.load(file)\n",
    "    \n",
    "with open(f\"temporal/clustering_results/Kmeans_TSNE/TSNE_2c_DB_n-clusters_35\", 'rb') as file:\n",
    "    # Load the data from the file\n",
    "    Kmeans_TSNE_DB = pickle.load(file)\n",
    "    \n",
    "with open(f\"temporal/clustering_results/Kmeans_TSNE/TSNE_2c_CH_n-clusters_35\", 'rb') as file:\n",
    "    # Load the data from the file\n",
    "    Kmeans_TSNE_CH = pickle.load(file)\n",
    "    \n",
    "with open(f\"temporal/clustering_results/Kmeans_PCA/PCA_2c_silhouette_n-clusters_35\", 'rb') as file:\n",
    "    # Load the data from the file\n",
    "    Kmeans_PCA_Silhouette = pickle.load(file)\n",
    "    \n",
    "with open(f\"temporal/clustering_results/Kmeans_PCA/PCA_2c_DB_n-clusters_35\", 'rb') as file:\n",
    "    # Load the data from the file\n",
    "    Kmeans_PCA_DB = pickle.load(file)\n",
    "    \n",
    "with open(f\"temporal/clustering_results/Kmeans_PCA/PCA_2c_CH_n-clusters_35\", 'rb') as file:\n",
    "    # Load the data from the file\n",
    "    Kmeans_PCA_CH = pickle.load(file)"
   ]
  },
  {
   "cell_type": "code",
   "execution_count": 14,
   "id": "10325e39",
   "metadata": {},
   "outputs": [],
   "source": [
    "UMAP = [Kmeans_UMAP_Silhouette, Kmeans_UMAP_DB, Kmeans_UMAP_CH]\n",
    "Normal = [Kmeans_Silhouette, Kmeans_DB, Kmeans_CH]\n",
    "TSNE = [Kmeans_TSNE_Silhouette, Kmeans_TSNE_DB, Kmeans_TSNE_CH]\n",
    "PCA = [Kmeans_PCA_Silhouette, Kmeans_PCA_DB, Kmeans_PCA_CH]"
   ]
  },
  {
   "cell_type": "code",
   "execution_count": 15,
   "id": "c9736610",
   "metadata": {},
   "outputs": [
    {
     "data": {
      "text/plain": [
       "[[0.2493698405063901,\n",
       "  0.17730226193146215,\n",
       "  0.17558772434684075,\n",
       "  0.17539982919880207,\n",
       "  0.15379316633344028,\n",
       "  0.14830733683054623,\n",
       "  0.14280168803057638,\n",
       "  0.13215295956309617,\n",
       "  0.1304577315918199],\n",
       " [1.549082311395976,\n",
       "  1.7393957726765197,\n",
       "  1.6660657028510306,\n",
       "  1.6801222062561112,\n",
       "  1.6943251436461844,\n",
       "  1.7404655405016225,\n",
       "  1.7605114704496543,\n",
       "  1.7655499373192167,\n",
       "  1.7801271859493875],\n",
       " [37770.9500965026,\n",
       "  27896.96021827034,\n",
       "  23248.481055194745,\n",
       "  18927.73403695438,\n",
       "  14755.677960212286,\n",
       "  12251.888614490212,\n",
       "  10572.377952215431,\n",
       "  9361.94945569297,\n",
       "  8490.21622077409]]"
      ]
     },
     "execution_count": 15,
     "metadata": {},
     "output_type": "execute_result"
    }
   ],
   "source": [
    "PCA"
   ]
  }
 ],
 "metadata": {
  "kernelspec": {
   "display_name": "Python 3 (ipykernel)",
   "language": "python",
   "name": "python3"
  },
  "language_info": {
   "codemirror_mode": {
    "name": "ipython",
    "version": 3
   },
   "file_extension": ".py",
   "mimetype": "text/x-python",
   "name": "python",
   "nbconvert_exporter": "python",
   "pygments_lexer": "ipython3",
   "version": "3.10.4"
  }
 },
 "nbformat": 4,
 "nbformat_minor": 5
}
