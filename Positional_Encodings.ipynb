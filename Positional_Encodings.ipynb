{
 "cells": [
  {
   "cell_type": "code",
   "execution_count": 1,
   "id": "e17a2715",
   "metadata": {},
   "outputs": [
    {
     "name": "stdout",
     "output_type": "stream",
     "text": [
      "Requirement already satisfied: positional-encodings[pytorch] in /home/mirp_ai/anaconda3/envs/DANM/lib/python3.10/site-packages (6.0.1)\r\n",
      "Requirement already satisfied: numpy in /home/mirp_ai/anaconda3/envs/DANM/lib/python3.10/site-packages (from positional-encodings[pytorch]) (1.23.1)\r\n",
      "Requirement already satisfied: torch in /home/mirp_ai/anaconda3/envs/DANM/lib/python3.10/site-packages (from positional-encodings[pytorch]) (1.13.0)\r\n",
      "Requirement already satisfied: typing_extensions in /home/mirp_ai/anaconda3/envs/DANM/lib/python3.10/site-packages (from torch->positional-encodings[pytorch]) (4.3.0)\r\n"
     ]
    }
   ],
   "source": [
    "import numpy as np\n",
    "import torch \n",
    "import torchvision \n",
    "import torchaudio\n",
    "import torch.nn as nn\n",
    "import math\n",
    "import torch.nn.functional as F\n",
    "from Jaguas_DataLoader import SoundscapeData\n",
    "from torch.utils.data import DataLoader\n",
    "import torch.optim as optim\n",
    "from torch.optim import lr_scheduler\n",
    "from torch.utils.data import random_split\n",
    "!pip install positional-encodings[pytorch]\n",
    "from positional_encodings.torch_encodings import PositionalEncoding1D, PositionalEncoding2D, PositionalEncoding3D, Summer, PositionalEncodingPermute2D\n",
    "device = torch.device(\"cuda\" if torch.cuda.is_available() else \"cpu\")"
   ]
  },
  {
   "cell_type": "code",
   "execution_count": 2,
   "id": "84f929da",
   "metadata": {},
   "outputs": [
    {
     "name": "stdout",
     "output_type": "stream",
     "text": [
      "torch.Size([1, 6, 2, 8])\n"
     ]
    },
    {
     "data": {
      "text/plain": [
       "tensor([[[[ 0.0000,  0.0000,  0.0000,  0.0000,  0.0000,  0.0000,  0.0000,\n",
       "            0.0000],\n",
       "          [ 0.8415,  0.8415,  0.8415,  0.8415,  0.8415,  0.8415,  0.8415,\n",
       "            0.8415]],\n",
       "\n",
       "         [[ 1.0000,  1.0000,  1.0000,  1.0000,  1.0000,  1.0000,  1.0000,\n",
       "            1.0000],\n",
       "          [ 0.5403,  0.5403,  0.5403,  0.5403,  0.5403,  0.5403,  0.5403,\n",
       "            0.5403]],\n",
       "\n",
       "         [[ 0.0000,  0.0000,  0.0000,  0.0000,  0.0000,  0.0000,  0.0000,\n",
       "            0.0000],\n",
       "          [ 0.0100,  0.0100,  0.0100,  0.0100,  0.0100,  0.0100,  0.0100,\n",
       "            0.0100]],\n",
       "\n",
       "         [[ 1.0000,  1.0000,  1.0000,  1.0000,  1.0000,  1.0000,  1.0000,\n",
       "            1.0000],\n",
       "          [ 0.9999,  0.9999,  0.9999,  0.9999,  0.9999,  0.9999,  0.9999,\n",
       "            0.9999]],\n",
       "\n",
       "         [[ 0.0000,  0.8415,  0.9093,  0.1411, -0.7568, -0.9589, -0.2794,\n",
       "            0.6570],\n",
       "          [ 0.0000,  0.8415,  0.9093,  0.1411, -0.7568, -0.9589, -0.2794,\n",
       "            0.6570]],\n",
       "\n",
       "         [[ 1.0000,  0.5403, -0.4161, -0.9900, -0.6536,  0.2837,  0.9602,\n",
       "            0.7539],\n",
       "          [ 1.0000,  0.5403, -0.4161, -0.9900, -0.6536,  0.2837,  0.9602,\n",
       "            0.7539]]]])"
      ]
     },
     "execution_count": 2,
     "metadata": {},
     "output_type": "execute_result"
    }
   ],
   "source": [
    "p_enc_2d = PositionalEncodingPermute2D(5)\n",
    "y = torch.zeros((1,6,2,8))\n",
    "print(p_enc_2d(y).shape) # (1, 6, 2, 8)\n",
    "p_enc_2d(y)"
   ]
  },
  {
   "cell_type": "code",
   "execution_count": 3,
   "id": "ebfe3c2d",
   "metadata": {},
   "outputs": [],
   "source": [
    "class PositionalEncoding2d(nn.Module):\n",
    "\n",
    "    def __init__(self, d_model: int, height: int = 515, width: int =515, dropout: float = 0.1, max_len: int = 5000):\n",
    "        super().__init__()\n",
    "        self.dropout = nn.Dropout(p=dropout)\n",
    "\n",
    "        pe = torch.zeros(d_model, height, width)\n",
    "        # Each dimension use half of d_model\n",
    "        d_model = int(d_model / 2)\n",
    "        div_term = torch.exp(torch.arange(0., d_model, 2) *\n",
    "                             -(math.log(10000.0) / d_model))\n",
    "        pos_w = torch.arange(0., width).unsqueeze(1)\n",
    "        pos_h = torch.arange(0., height).unsqueeze(1)\n",
    "        pe[0:d_model:2, :, :] = torch.sin(pos_w * div_term).transpose(0, 1).unsqueeze(1).repeat(1, height, 1)\n",
    "        pe[1:d_model:2, :, :] = torch.cos(pos_w * div_term).transpose(0, 1).unsqueeze(1).repeat(1, height, 1)\n",
    "        pe[d_model::2, :, :] = torch.sin(pos_h * div_term).transpose(0, 1).unsqueeze(2).repeat(1, 1, width)\n",
    "        pe[d_model + 1::2, :, :] = torch.cos(pos_h * div_term).transpose(0, 1).unsqueeze(2).repeat(1, 1, width)\n",
    "        self.register_buffer('pe', pe)\n",
    "        \n",
    "    def forward(self, x, index: int, dropout: bool=False):\n",
    "        \"\"\"\n",
    "        Args:\n",
    "            x: Tensor, shape [seq_len, batch_size, embedding_dim]\n",
    "        \"\"\"\n",
    "        x = x + self.pe[index]\n",
    "        if dropout:\n",
    "            x = self.dropout(x)\n",
    "        else:\n",
    "            x = x\n",
    "        return x"
   ]
  },
  {
   "cell_type": "code",
   "execution_count": 4,
   "id": "b2da9201",
   "metadata": {},
   "outputs": [],
   "source": [
    "class posautoencoding_m1(nn.Module):\n",
    "\n",
    "    \"\"\"\n",
    "    Convolutional autoencoder made to reconstruct the audios spectrograms generated by the EcoDataTesis dataloader.\n",
    "    \"\"\"\n",
    "\n",
    "    def __init__(self, num_hiddens: int=64):\n",
    "        \"\"\"\n",
    "        Constructor of the convolutional autoencoder model.\n",
    "        \"\"\"\n",
    "        super().__init__()\n",
    "        # TODO: To design the final architechture considering the spectrograms sizes.\n",
    "        # TODO: To correct the current sizes of the decoder.\n",
    "\n",
    "        self.encoder = nn.Sequential(\n",
    "            nn.Conv2d(1, num_hiddens // 8, kernel_size=8, stride=3, padding=0),  # N, 256, 127, 8004\n",
    "            nn.ReLU(),\n",
    "            nn.Conv2d(num_hiddens // 8, num_hiddens // 4, kernel_size=8, stride=3, padding=0),  # N, 512, 125,969\n",
    "            nn.ReLU(),\n",
    "            nn.Conv2d(num_hiddens // 4, num_hiddens // 2, kernel_size=4, stride=3, padding=0),  # N, 512, 125,969\n",
    "            nn.ReLU(),\n",
    "            nn.Conv2d(num_hiddens // 2, num_hiddens, kernel_size=2, stride=2, padding=0),  # N, 512, 125,969\n",
    "            nn.ReLU()\n",
    "             )\n",
    "        self.decoder = nn.Sequential(  # This is like go in opposite direction respect the encoder\n",
    "            nn.ConvTranspose2d(num_hiddens, num_hiddens // 2, kernel_size=2, stride=2, padding=0, output_padding=0),  # N, 32, 126,8000\n",
    "            nn.ReLU(),\n",
    "            nn.ConvTranspose2d(num_hiddens // 2, num_hiddens // 4, kernel_size=4, stride=3, padding=0, output_padding=0),  # N, 32, 127,64248\n",
    "            nn.ReLU(),\n",
    "            nn.ConvTranspose2d(num_hiddens // 4, num_hiddens // 8, kernel_size=8, stride=3, padding=0, output_padding=0),  # N, 32, 127,64248\n",
    "            nn.ReLU(),\n",
    "            nn.ConvTranspose2d(num_hiddens // 8, 1, kernel_size=8, stride=3, padding=0, output_padding=0),  # N, 32, 127,64248\n",
    "            nn.Sigmoid()\n",
    "             )\n",
    "            \n",
    "#         self.posencoding = PositionalEncodingPermute2D(5)\n",
    "            \n",
    "            \n",
    "    def forward(self, x, y):\n",
    "        \n",
    "        \"\"\"\n",
    "        Method to compute an image output based on the performed model.\n",
    "\n",
    "        :param x: Input spectrogram images as tensors.\n",
    "        :type x: torch.tensor\n",
    "        :return: Reconstructed images\n",
    "        \"\"\"\n",
    "        \n",
    "        #print(f\"x_shape:{x.shape}\")\n",
    "        posencoding_2d = PositionalEncodingPermute2D(y) \n",
    "        encoded = self.encoder(x)\n",
    "        penc_no_sum = posencoding_2d(encoded)\n",
    "        print(\"encoder_shape: \", encoded.shape)\n",
    "        decoded = self.decoder(encoded)\n",
    "        print(\"decoder_shape: \",decoded.shape)\n",
    "        return penc_no_sum, decoded"
   ]
  },
  {
   "cell_type": "code",
   "execution_count": 5,
   "id": "16723e5b",
   "metadata": {},
   "outputs": [
    {
     "ename": "NameError",
     "evalue": "name 'data' is not defined",
     "output_type": "error",
     "traceback": [
      "\u001B[0;31m---------------------------------------------------------------------------\u001B[0m",
      "\u001B[0;31mNameError\u001B[0m                                 Traceback (most recent call last)",
      "Cell \u001B[0;32mIn [5], line 3\u001B[0m\n\u001B[1;32m      1\u001B[0m grabadora \u001B[38;5;241m=\u001B[39m \u001B[38;5;241m3\u001B[39m\n\u001B[1;32m      2\u001B[0m pos_encoder \u001B[38;5;241m=\u001B[39m PositionalEncoding2d(\u001B[38;5;241m64\u001B[39m, dropout \u001B[38;5;241m=\u001B[39m \u001B[38;5;241m0.1\u001B[39m, max_len \u001B[38;5;241m=\u001B[39m \u001B[38;5;241m20\u001B[39m)\n\u001B[0;32m----> 3\u001B[0m sensores_embedding \u001B[38;5;241m=\u001B[39m pos_encoder(\u001B[43mdata\u001B[49m,c[\u001B[38;5;124m\"\u001B[39m\u001B[38;5;124mrecorder\u001B[39m\u001B[38;5;124m\"\u001B[39m],dropout\u001B[38;5;241m=\u001B[39m\u001B[38;5;28;01mFalse\u001B[39;00m)\n",
      "\u001B[0;31mNameError\u001B[0m: name 'data' is not defined"
     ]
    }
   ],
   "source": [
    "grabadora = 3\n",
    "pos_encoder = PositionalEncoding2d(64, dropout = 0.1, max_len = 20)\n",
    "sensores_embedding = pos_encoder(data,c[\"recorder\"],dropout=False)"
   ]
  },
  {
   "cell_type": "code",
   "execution_count": null,
   "id": "7dd8dc74",
   "metadata": {},
   "outputs": [],
   "source": []
  },
  {
   "cell_type": "code",
   "execution_count": null,
   "id": "28526910",
   "metadata": {},
   "outputs": [],
   "source": [
    "label = {\"recorder\": c[\"recorder\"], \"hour\": c[\"recorder\"]*0.05}\n",
    "labels = {}\n",
    "labels[\"recorder\"] = np.repeat(label[\"recorder\"], 1)\n",
    "labels"
   ]
  },
  {
   "cell_type": "code",
   "execution_count": null,
   "id": "b46587d1",
   "metadata": {},
   "outputs": [],
   "source": [
    "sensores_embedding.shape"
   ]
  },
  {
   "cell_type": "code",
   "execution_count": null,
   "id": "80e99717",
   "metadata": {},
   "outputs": [],
   "source": [
    "(sensores_embedding[0,0] == sensores_embedding[0,10]).all()"
   ]
  },
  {
   "cell_type": "code",
   "execution_count": 6,
   "id": "fd74acef",
   "metadata": {},
   "outputs": [
    {
     "name": "stdout",
     "output_type": "stream",
     "text": [
      "/media/mirp_ai/DATA1/Jaguas_2018\n"
     ]
    }
   ],
   "source": [
    "root_path = 'media/mirp_ai/DATA1/Jaguas_2018'\n",
    "dataset = SoundscapeData(root_path, audio_length=12, ext=\"wav\", win_length=1028)\n",
    "dataset_train, dataset_test = random_split(dataset,\n",
    "                                           [round(len(dataset)*0.7), len(dataset) - round(len(dataset)*0.7)], \n",
    "                                           generator=torch.Generator().manual_seed(1024))\n",
    "\n",
    "config = {\n",
    "    \"project\" : \"positionalAE-Jaguas\",\n",
    "    \"audio_length\": dataset.audio_length,\n",
    "    \"batch_size\" : 14,\n",
    "    \"num_epochs\": 3,\n",
    "    \"num_hiddens\" : 64,\n",
    "    \"gamma_lr\" : 0.1,\n",
    "    \"learning_rate\" : 1e-3,\n",
    "    \"dataset\" : \"Audios Jaguas\",\n",
    "    \"architecture\": \"AE\",\n",
    "    \"win_length\" : dataset.win_length\n",
    "}\n",
    "\n",
    "training_loader = DataLoader(dataset_train, batch_size=config[\"batch_size\"])\n",
    "test_loader = DataLoader(dataset_test, batch_size=config[\"batch_size\"])\n",
    "\n",
    "model = posautoencoding_m1(num_hiddens=config[\"num_hiddens\"]).to(device)\n",
    "\n",
    "optimizer = optim.Adam(model.parameters(), lr=config[\"learning_rate\"], amsgrad=False)\n",
    "scheduler = lr_scheduler.StepLR(optimizer, step_size = 6, gamma = config[\"gamma_lr\"] )\n",
    "\n",
    "config[\"optimizer\"] = optimizer\n",
    "config[\"scheduler\"] = scheduler\n",
    "config[\"num_training_updates\"] = len(training_loader)"
   ]
  },
  {
   "cell_type": "code",
   "execution_count": 7,
   "id": "ed83460f",
   "metadata": {},
   "outputs": [
    {
     "data": {
      "text/plain": [
       "torch.Size([70, 1, 515, 515])"
      ]
     },
     "execution_count": 7,
     "metadata": {},
     "output_type": "execute_result"
    }
   ],
   "source": [
    "iterador = iter(training_loader)\n",
    "data, b, c, d = next(iterador)\n",
    "data = torch.reshape(data, (data.shape[0] * data.shape[1] * data.shape[2], data.shape[3], data.shape[4]))\n",
    "data = torch.unsqueeze(data, 1)\n",
    "data.shape"
   ]
  },
  {
   "cell_type": "code",
   "execution_count": 9,
   "id": "ff1bdb6b",
   "metadata": {},
   "outputs": [
    {
     "data": {
      "text/plain": [
       "torch.Size([14, 5])"
      ]
     },
     "execution_count": 9,
     "metadata": {},
     "output_type": "execute_result"
    }
   ],
   "source": [
    "c[\"recorder\"]"
   ]
  },
  {
   "cell_type": "code",
   "execution_count": 111,
   "id": "3f73fe65",
   "metadata": {},
   "outputs": [],
   "source": [
    "class TrainModel:\n",
    "\n",
    "    def __init__(self, model):\n",
    "        self._model = model\n",
    "        self.device = torch.device(\"cuda\" if torch.cuda.is_available() else \"cpu\")\n",
    "        self._model.to(self.device)\n",
    "        print(self.device)\n",
    "\n",
    "\n",
    "    def fordward(self, training_loader, test_loader, config):\n",
    "        iterator = iter(test_loader)\n",
    "        run_name = \"PE_try\"\n",
    "        optimizer = config[\"optimizer\"]\n",
    "        scheduler = config[\"scheduler\"]\n",
    "        \n",
    "        logs = []\n",
    "        # best_loss = 10000\n",
    "\n",
    "        for epoch in range(config[\"num_epochs\"]):\n",
    "            iterator_train = iter(training_loader)\n",
    "            for i in xrange(config[\"num_training_updates\"]):\n",
    "                self._model.train()\n",
    "                try:\n",
    "                    data, _, label, _ = next(iterator_train)\n",
    "                except Exception as e:\n",
    "                    print(\"error\")\n",
    "                    print(e)\n",
    "                    logs.append(e)\n",
    "                    continue\n",
    "\n",
    "                data = torch.reshape(data, (data.shape[0] * data.shape[1] * data.shape[2], data.shape[3], data.shape[4]))\n",
    "                data = torch.unsqueeze(data, 1)\n",
    "                data = data.to(self.device)\n",
    "\n",
    "                optimizer.zero_grad()\n",
    "                data_recon = self._model(data,label )\n",
    "\n",
    "                loss = F.mse_loss(data_recon, data)\n",
    "                loss.backward()\n",
    "\n",
    "                optimizer.step()\n",
    "                print(\n",
    "                    f'epoch: {epoch + 1} of {config[\"num_epochs\"]} \\t iteration: {(i + 1)} of {config[\"num_training_updates\"]} \\t loss: {np.round(loss.item(), 4)}')\n",
    "                dict = {\"loss\": loss.item()}\n",
    "\n",
    "                if loss < 0.04:\n",
    "                    # wandb.alert(\n",
    "                    #     title='High accuracy',\n",
    "                    #     text=f'Recon error {loss} is lower than 0.04',\n",
    "                    #     level=AlertLevel.WARN,\n",
    "                    #     wait_duration=timedelta(minutes=1)\n",
    "                    # )\n",
    "                    time = datetime.datetime.now()\n",
    "                    torch.save(self._model.state_dict(), f'{run_name}_day_{time.day}_hour_{time.hour}_low_error.pkl')\n",
    "                else:\n",
    "                    pass\n",
    "\n",
    "            scheduler.step()\n",
    "            torch.cuda.empty_cache()\n",
    "            time = datetime.datetime.now()\n",
    "            torch.save(self._model.state_dict(), f'{run_name}_day_{time.day}_hour_{time.hour}_epoch_{epoch + 1}.pkl')\n",
    "            clear_output()\n",
    "            print(optimizer.state_dict()[\"param_groups\"][0][\"lr\"])\n",
    "\n",
    "        wandb.finish()\n",
    "        return self._model, logs, run_name"
   ]
  },
  {
   "cell_type": "code",
   "execution_count": 103,
   "id": "32261255",
   "metadata": {},
   "outputs": [
    {
     "name": "stdout",
     "output_type": "stream",
     "text": [
      "cuda\n"
     ]
    }
   ],
   "source": [
    "train = TrainModel(model=model)"
   ]
  },
  {
   "cell_type": "code",
   "execution_count": null,
   "id": "ae6fe0bb",
   "metadata": {},
   "outputs": [],
   "source": []
  }
 ],
 "metadata": {
  "kernelspec": {
   "display_name": "Python 3 (ipykernel)",
   "language": "python",
   "name": "python3"
  },
  "language_info": {
   "codemirror_mode": {
    "name": "ipython",
    "version": 3
   },
   "file_extension": ".py",
   "mimetype": "text/x-python",
   "name": "python",
   "nbconvert_exporter": "python",
   "pygments_lexer": "ipython3",
   "version": "3.10.4"
  }
 },
 "nbformat": 4,
 "nbformat_minor": 5
}
