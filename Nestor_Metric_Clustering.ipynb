{
 "cells": [
  {
   "cell_type": "code",
   "execution_count": 1,
   "metadata": {},
   "outputs": [
    {
     "name": "stdout",
     "output_type": "stream",
     "text": [
      "Running local\n"
     ]
    }
   ],
   "source": [
    "if 'google.colab' in str(get_ipython()):\n",
    "    import sys\n",
    "    from google.colab import drive, output\n",
    "    drive.mount('/content/drive')\n",
    "    !pip install torchaudio\n",
    "    !pip install wandb --upgrade\n",
    "    # !wandb login\n",
    "    # !pip install umap-learn\n",
    "    output.clear()\n",
    "    print(\"Running on colab\")\n",
    "    %load_ext autoreload\n",
    "    %autoreload 1\n",
    "    %cd '/content/drive/MyDrive/PhD_Thesis_Experiments/DeepLearning/AutoEncoders/Project'\n",
    "    sys.path.append('/content/drive/MyDrive/PhD_Thesis_Experiments/DeepLearning/AutoEncoders/Project/Dataloader')\n",
    "    sys.path.append('/content/drive/MyDrive/PhD_Thesis_Experiments/DeepLearning/AutoEncoders/Project/Models')\n",
    "    sys.path.append('/content/drive/MyDrive/PhD_Thesis_Experiments/DeepLearning/AutoEncoders/Project/Modules')\n",
    "    sys.path.append('/content/drive/MyDrive/PhD_Thesis_Experiments/DeepLearning/AutoEncoders/Project/temporal')\n",
    "    sys.path.append('/content/drive/MyDrive/PhD_Thesis_Experiments/DeepLearning/AutoEncoders/Project/Extra_and_Unused')\n",
    "    root = \"/content/drive/MyDrive/PhD_Thesis_Experiments/DeepLearning/AutoEncoders/Project\"\n",
    "else:\n",
    "    print(\"Running local\")\n",
    "    root = \"/home/mirp_ai/Documents/Daniel_Nieto/PhD/AutoEncoders_Ecoacoustics\"\n",
    "    root_path = \"media/mirp_ai/Seagate Desktop Drive/Jaguas_2018\""
   ]
  },
  {
   "cell_type": "code",
   "execution_count": 2,
   "metadata": {
    "id": "5Jo5E4cmabyk"
   },
   "outputs": [],
   "source": [
    "import os\n",
    "import math\n",
    "import numpy as np\n",
    "import pandas as pd\n",
    "import statistics\n",
    "import matplotlib.pyplot as plt\n",
    "from scipy import signal, stats\n",
    "from scipy.spatial import distance\n",
    "from numpy import linalg as LA\n",
    "from sklearn.metrics.cluster import adjusted_mutual_info_score\n",
    "from sklearn import metrics\n",
    "from sklearn.cluster import kmeans_plusplus\n",
    "from sklearn.datasets import make_blobs\n",
    "import matplotlib.pyplot as plt\n",
    "from sklearn.metrics import accuracy_score\n",
    "from sklearn.metrics import classification_report\n",
    "from sklearn.mixture import GaussianMixture\n",
    "from sklearn.metrics import accuracy_score\n",
    "from sklearn.metrics import classification_report\n",
    "from sklearn.metrics import f1_score\n",
    "import warnings\n",
    "warnings.filterwarnings(\"ignore\")\n",
    "\n",
    "# from google.colab import drive\n",
    "# drive.mount('/content/drive')\n",
    "\n",
    "import numpy as np\n",
    "import torch\n",
    "import pandas as pd\n",
    "from sklearn.datasets import load_iris"
   ]
  },
  {
   "cell_type": "code",
   "execution_count": 3,
   "metadata": {
    "id": "lumrCsRYbMvs"
   },
   "outputs": [],
   "source": [
    "def uncertainity_mean(X_train1,pred,means,covariances,weights,km,numberofdimens):\n",
    "    X_train1[\"pred\"]=pred\n",
    "    meanss=means\n",
    "    weiths=weights\n",
    "    variances=[]\n",
    "    covariancematrix=covariances\n",
    "    for i in covariancematrix: #The diagonal of cov is the variance of each gmm\n",
    "        diag=np.diag(i)\n",
    "        variances.append(diag)\n",
    "    variances=np.array(variances)\n",
    "    countiterations=0\n",
    "    unc=[]\n",
    "    un=[]\n",
    "\n",
    "    sep=[]\n",
    "    for g in range(0,len(meanss)):    ##Frechet distance\n",
    "        for t in range(0,len(meanss)):\n",
    "            if (t==g):\n",
    "                continue\n",
    "            else:\n",
    "                sep.append(frechetDistance(meanss[t],meanss[g],covariancematrix[t],covariancematrix[g]))\n",
    "    separation=np.array(sep)\n",
    "    Dmin=np.array(separation).min()\n",
    "    Dmax=np.array(separation).max()\n",
    "    Sep=(Dmax/Dmin)*(1/separation.sum())\n",
    "\n",
    "    for i in range(0,len(meanss)):    #Uncertainty    ##i run each cluster\n",
    "        cweight=weiths[i]\n",
    "        cmean=meanss[i]\n",
    "        cvar=variances[i]\n",
    "        lim_inf=cmean-(km*cvar)\n",
    "        lim_sup=cmean+(km*cvar)\n",
    "        unc=[]\n",
    "        o=X_train1[X_train1[\"pred\"]==i].iloc[:,:numberofdimens].copy()\n",
    "\n",
    "        for j in range(len(o)): # j run each data\n",
    "            DM=distance.mahalanobis(np.array(o.iloc[j]), cmean, np.linalg.inv(covariancematrix[i]))\n",
    "            varbool=(DM>=km)\n",
    "            varunc=[]\n",
    "            #print(\"varbool\",varbool)\n",
    "            if (varbool):\n",
    "                varunc.append(2*km*DM)\n",
    "            else:\n",
    "                vs=((DM**2)+(km*DM)+(km**2)/2)\n",
    "                varunc.append(vs)\n",
    "        un.append(np.array(varunc))\n",
    "    return np.sum(un)/Sep"
   ]
  },
  {
   "cell_type": "code",
   "execution_count": 4,
   "metadata": {
    "id": "q5CMBV6pUcIo"
   },
   "outputs": [],
   "source": [
    "def merguncertain (xtrain,y,Means,covariances,weights,numberofdimens):\n",
    "    X_train11=xtrain\n",
    "    X_train11[\"pred\"]=y\n",
    "    UNIndex=[]\n",
    "    len(Means)\n",
    "    Pairwise=np.ones((len(Means), len(Means)))\n",
    "    labels=[]\n",
    "    for i in range(len(Means)):\n",
    "        labels.append(i)\n",
    "        for j in range(len(Means)):\n",
    "                if (i==j):\n",
    "                    continue\n",
    "                Pairwise[j,i]=(frechetDistance(Means[i],Means[j],covariances[i],covariances[j]))\n",
    "\n",
    "    while len(Pairwise) > 2 :\n",
    "            UNIndex.append(uncertainity_mean(X_train11.iloc[:,:numberofdimens],X_train11[\"pred\"],Means,covariances,weights,1,numberofdimens))\n",
    "\n",
    "            Similar_clusters=np.unravel_index(Pairwise.argmin(),Pairwise.shape)\n",
    "            Similar_clusters_labels=( labels[Similar_clusters[0]],labels[Similar_clusters[1]])\n",
    "\n",
    "            #update Mean\n",
    "            data_size_1=len(X_train11[X_train11[\"pred\"]==Similar_clusters_labels[0]])\n",
    "            data_size_2=len(X_train11[X_train11[\"pred\"]==Similar_clusters_labels[1]])\n",
    "            mean_1=Means[Similar_clusters[0]]\n",
    "            mean_2=Means[Similar_clusters[1]]\n",
    "            new_mean = (data_size_1* mean_1 + data_size_2*mean_2)/(data_size_1 + data_size_2)\n",
    "            Means[Similar_clusters[0]]=new_mean\n",
    "\n",
    "            #Update labels\n",
    "            X_train11[\"pred\"]=X_train11[\"pred\"].replace(Similar_clusters_labels[1], Similar_clusters_labels[0])\n",
    "            #print(X_train11[\"pred\"].unique())\n",
    "            NewCovariance=X_train11[X_train11[\"pred\"]==Similar_clusters_labels[0]].iloc[:,:numberofdimens].cov()\n",
    "            covariances[Similar_clusters[0]]=NewCovariance\n",
    "            weights[Similar_clusters[0]]=weights[Similar_clusters[0]]+weights[Similar_clusters[1]]\n",
    "\n",
    "            updpairwisecolum=[]\n",
    "            for j in range(0,len(Means)):\n",
    "                    updpairwisecolum.append((frechetDistance(Means[Similar_clusters[0]],Means[j],covariances[Similar_clusters[0]],covariances[j])))\n",
    "            #print(updpairwisecolum)\n",
    "            Pairwise[:,Similar_clusters[0]]=updpairwisecolum\n",
    "            Pairwise[Similar_clusters[0],:]=updpairwisecolum\n",
    "\n",
    "            Means= np.delete(Means, (Similar_clusters[1]), axis=0)\n",
    "            weights= np.delete(weights, (Similar_clusters[1]), axis=0)\n",
    "            covariances=np.delete(covariances, (Similar_clusters[1]), axis=0)\n",
    "            labels.remove(Similar_clusters_labels[1])\n",
    "            Pairwise= np.delete(Pairwise, (Similar_clusters[1]), axis=0)\n",
    "            Pairwise= np.delete(Pairwise, (Similar_clusters[1]), axis=1)\n",
    "            np.fill_diagonal(Pairwise, 1)\n",
    "    return UNIndex"
   ]
  },
  {
   "cell_type": "code",
   "execution_count": 5,
   "metadata": {
    "id": "F7SrKoKiyvkP"
   },
   "outputs": [],
   "source": [
    "def frechetDistance(u1,u2,E1,E2):\n",
    "    return (LA.norm(np.absolute(u1-u2)**2))+np.trace(E1+E2-(2*(E1*E2)**(0.5)))"
   ]
  },
  {
   "cell_type": "code",
   "execution_count": 9,
   "metadata": {},
   "outputs": [],
   "source": [
    "X = torch.load(f'{root}/Jaguas/temporal/Features/AE_No_rain_98/AE_features_day_11_hour_21_No_rain_Audios_Jaguas.pth', map_location=\"cpu\")\n",
    "df = pd.DataFrame(X.numpy())"
   ]
  },
  {
   "cell_type": "code",
   "execution_count": 11,
   "metadata": {},
   "outputs": [
    {
     "name": "stderr",
     "output_type": "stream",
     "text": [
      "OMP: Info #276: omp_set_nested routine deprecated, please use omp_set_max_active_levels instead.\n"
     ]
    }
   ],
   "source": [
    "from sklearn.preprocessing import StandardScaler\n",
    "from sklearn.preprocessing import MinMaxScaler as Normalizer\n",
    "from sklearn.manifold import TSNE\n",
    "from sklearn.decomposition import PCA\n",
    "import umap\n",
    "\n",
    "scaler = StandardScaler().fit(X)\n",
    "X_scaled = scaler.transform(X)\n",
    "Normalizer_ = Normalizer().fit(X)\n",
    "X_norm = Normalizer_.transform(X)\n",
    "PCA_ = PCA(n_components=30).fit(X_norm)\n",
    "X_PCA = PCA_.transform(X_norm)\n",
    "# X_TSNE = TSNE(n_components=2, learning_rate=\"auto\", init='random', random_state=0).fit_transform(X_PCA)\n",
    "reducer = umap.UMAP(min_dist=0.9, n_components=2)\n",
    "X_UMAP = reducer.fit_transform(X)"
   ]
  },
  {
   "cell_type": "code",
   "execution_count": 13,
   "metadata": {},
   "outputs": [],
   "source": [
    "df = pd.DataFrame(X_UMAP)\n"
   ]
  },
  {
   "cell_type": "code",
   "execution_count": null,
   "metadata": {
    "id": "KmM3oDe6UhOt"
   },
   "outputs": [],
   "source": [
    "df=pd.read_csv(f'{root}/Jaguas/temporal/Features/AE_No_rain_98/AE_features_day_11_hour_21_No_rain_Audios_Jaguas.pth')"
   ]
  },
  {
   "cell_type": "code",
   "execution_count": 15,
   "metadata": {
    "id": "MfJfcKP7UhRG"
   },
   "outputs": [],
   "source": [
    "df=df.iloc[:,1:]"
   ]
  },
  {
   "cell_type": "markdown",
   "metadata": {
    "id": "ZeXg56ASq5pa"
   },
   "source": [
    "## Approach 1: Calculating performance in base of index UF\n"
   ]
  },
  {
   "cell_type": "code",
   "execution_count": null,
   "metadata": {
    "id": "ms37QYslqC2n"
   },
   "outputs": [],
   "source": [
    "Index=[]\n",
    "liminfierior=2\n",
    "limsuperior=20\n",
    "for i in range(2,20):\n",
    "\n",
    "    X_train111=df.copy()\n",
    "    GM = GaussianMixture(n_components=i, covariance_type=\"full\",random_state=1).fit(X_train111)\n",
    "    X_train111[\"pred\"]=GM.predict(X_train111)\n",
    "    Means=GM.means_\n",
    "    covariances=GM.covariances_\n",
    "    weights=GM.weights_\n",
    "    numberofdimens=X_train111.shape[1]-1\n",
    "    y=X_train111[\"pred\"]\n",
    "    Index.append(uncertainity_mean(X_train111.iloc[:,:numberofdimens],X_train111[\"pred\"],Means,covariances,weights,1,numberofdimens))\n"
   ]
  },
  {
   "cell_type": "code",
   "execution_count": null,
   "metadata": {
    "colab": {
     "base_uri": "https://localhost:8080/",
     "height": 467
    },
    "id": "z6G-8oV0q4Vd",
    "outputId": "9f060f85-a211-48cd-9ee3-debb9f18a8a2"
   },
   "outputs": [],
   "source": [
    "change=pd.DataFrame(Index,columns=[\"UFindex\"])\n",
    "change[\"ind\"]=np.linspace(2,len(change)+2,len(change))\n",
    "\n",
    "change.plot(\"ind\",[\"UFindex\"])"
   ]
  },
  {
   "cell_type": "code",
   "execution_count": null,
   "metadata": {
    "colab": {
     "base_uri": "https://localhost:8080/"
    },
    "id": "4Y7mEwGRnn-Y",
    "outputId": "d0d40edd-5db5-4d84-ed1d-859dc4ad2c0e"
   },
   "outputs": [],
   "source": [
    "change[\"UFindex\"].argmin()"
   ]
  },
  {
   "cell_type": "markdown",
   "metadata": {
    "id": "b-y4yVx4dkrQ"
   },
   "source": [
    "## Approach 2: Meging methodology\n"
   ]
  },
  {
   "cell_type": "code",
   "execution_count": null,
   "metadata": {
    "colab": {
     "base_uri": "https://localhost:8080/",
     "height": 483
    },
    "id": "IEFl9INY5OU6",
    "outputId": "a166a1bb-5236-4c6b-bdd8-c96955f7375a"
   },
   "outputs": [],
   "source": [
    "from sklearn.model_selection import train_test_split\n",
    "\n",
    "X=df\n",
    "X_train111=df.copy()\n",
    "GM = GaussianMixture(n_components=20, covariance_type=\"full\", random_state=2).fit(X_train111)\n",
    "X_train111[\"pred\"]=GM.predict(X_train111)\n",
    "Means=GM.means_\n",
    "covariances=GM.covariances_\n",
    "weights=GM.weights_\n",
    "y=X_train111[\"pred\"]\n",
    "index=merguncertain (X,y,Means,covariances,weights,X.shape[1])\n",
    "index.reverse()\n",
    "change=pd.DataFrame(index,columns=[\"a\"])\n",
    "change[\"ind\"]=np.linspace(0,len(change),len(change))\n",
    "\n",
    "change.plot(\"ind\",[\"a\"])\n"
   ]
  },
  {
   "cell_type": "code",
   "execution_count": null,
   "metadata": {
    "id": "ggCZKnZcDt71"
   },
   "outputs": [],
   "source": [
    "change=change.iloc[:-1,:]"
   ]
  },
  {
   "cell_type": "code",
   "execution_count": null,
   "metadata": {
    "colab": {
     "base_uri": "https://localhost:8080/"
    },
    "id": "i0tmChDa-9gH",
    "outputId": "16fc5166-d4f9-4614-ca31-96a2b331b8e4"
   },
   "outputs": [],
   "source": [
    "recomended=change[\"a\"].argmin()+2\n",
    "GMM_test= GaussianMixture(n_components=recomended, covariance_type=\"full\",random_state=0).fit(X)\n",
    "predy=GMM_test.predict(X)\n",
    "recomended"
   ]
  },
  {
   "cell_type": "code",
   "execution_count": null,
   "metadata": {
    "id": "rUW99_1oQucl"
   },
   "outputs": [],
   "source": [
    "import numpy as np\n",
    "import pandas as pd\n",
    "from sklearn.datasets import load_iris\n",
    "\n",
    "df=pd.read_csv('/content/drive/MyDrive/Doctorado/2023/Agosto/Daniel Nieto/X_PCA.csv')"
   ]
  },
  {
   "cell_type": "code",
   "execution_count": null,
   "metadata": {
    "colab": {
     "base_uri": "https://localhost:8080/",
     "height": 461
    },
    "id": "rrHTT_58fk97",
    "outputId": "bade3366-ff02-4f62-827f-23f5e8dcc8da"
   },
   "outputs": [],
   "source": [
    "df.numpy().copy()"
   ]
  },
  {
   "cell_type": "code",
   "execution_count": null,
   "metadata": {
    "id": "H6CsrxeCQucl"
   },
   "outputs": [],
   "source": [
    "df=df.iloc[:,1:10]"
   ]
  },
  {
   "cell_type": "markdown",
   "metadata": {
    "id": "8d7V7HYvQucm"
   },
   "source": [
    "## Approach 1: Calculating performance in base of index UF\n"
   ]
  },
  {
   "cell_type": "code",
   "execution_count": null,
   "metadata": {
    "id": "KqydUu55Qucm"
   },
   "outputs": [],
   "source": [
    "Index=[]\n",
    "liminfierior=2\n",
    "limsuperior=20\n",
    "for i in range(2,20):\n",
    "\n",
    "    X_train111=df.numpy().copy()\n",
    "    GM = GaussianMixture(n_components=i, covariance_type=\"full\",random_state=1).fit(X_train111)\n",
    "    X_train111[\"pred\"]=GM.predict(X_train111)\n",
    "    Means=GM.means_\n",
    "    covariances=GM.covariances_\n",
    "    weights=GM.weights_\n",
    "    numberofdimens=X_train111.shape[1]-1\n",
    "    y=X_train111[\"pred\"]\n",
    "    Index.append(uncertainity_mean(X_train111.iloc[:,:numberofdimens],X_train111[\"pred\"],Means,covariances,weights,1,numberofdimens))\n"
   ]
  },
  {
   "cell_type": "code",
   "execution_count": null,
   "metadata": {
    "colab": {
     "base_uri": "https://localhost:8080/",
     "height": 467
    },
    "id": "_uQmyJEiQucm",
    "outputId": "5253a288-0b2d-429a-f1fa-28f1f376bc4b"
   },
   "outputs": [],
   "source": [
    "change=pd.DataFrame(Index,columns=[\"UFindex\"])\n",
    "change[\"ind\"]=np.linspace(2,len(change)+2,len(change))\n",
    "\n",
    "change.plot(\"ind\",[\"UFindex\"])"
   ]
  },
  {
   "cell_type": "code",
   "execution_count": null,
   "metadata": {
    "colab": {
     "base_uri": "https://localhost:8080/"
    },
    "id": "TjM66A5WQucn",
    "outputId": "6ea69e08-65d9-4f4a-dcdc-1641522d9c39"
   },
   "outputs": [],
   "source": [
    "change[\"UFindex\"].argmin()"
   ]
  },
  {
   "cell_type": "markdown",
   "metadata": {
    "id": "cCPX1F0gQucn"
   },
   "source": [
    "## Approach 2: Meging methodology\n"
   ]
  },
  {
   "cell_type": "code",
   "execution_count": 29,
   "metadata": {
    "id": "63nCam9JQucn"
   },
   "outputs": [
    {
     "data": {
      "text/plain": [
       "<AxesSubplot: xlabel='ind'>"
      ]
     },
     "execution_count": 29,
     "metadata": {},
     "output_type": "execute_result"
    },
    {
     "data": {
      "image/png": "[encoded data removed]",
      "text/plain": [
       "<Figure size 640x480 with 1 Axes>"
      ]
     },
     "metadata": {},
     "output_type": "display_data"
    }
   ],
   "source": [
    "from sklearn.model_selection import train_test_split\n",
    "\n",
    "X=df\n",
    "X_train111=df.copy()\n",
    "GM = GaussianMixture(n_components=36, covariance_type=\"full\", random_state=2).fit(X_train111)\n",
    "X_train111[\"pred\"]=GM.predict(X_train111)\n",
    "Means=GM.means_\n",
    "covariances=GM.covariances_\n",
    "weights=GM.weights_\n",
    "y=X_train111[\"pred\"]\n",
    "index=merguncertain (X,y,Means,covariances,weights,X.shape[1])\n",
    "\n",
    "index.reverse()\n",
    "change=pd.DataFrame(index,columns=[\"a\"])\n",
    "change[\"ind\"]=np.linspace(0,len(change),len(change))\n",
    "\n",
    "change.plot(\"ind\",[\"a\"])\n"
   ]
  },
  {
   "cell_type": "code",
   "execution_count": null,
   "metadata": {
    "colab": {
     "base_uri": "https://localhost:8080/",
     "height": 483
    },
    "id": "qpzgh0tTHaHQ",
    "outputId": "938d8432-8190-4d62-f9ba-8268b63ec8ec"
   },
   "outputs": [],
   "source": [
    "change.plot(\"ind\",[\"a\"])"
   ]
  },
  {
   "cell_type": "code",
   "execution_count": 27,
   "metadata": {},
   "outputs": [
    {
     "data": {
      "text/html": [
       "<div>\n",
       "<style scoped>\n",
       "    .dataframe tbody tr th:only-of-type {\n",
       "        vertical-align: middle;\n",
       "    }\n",
       "\n",
       "    .dataframe tbody tr th {\n",
       "        vertical-align: top;\n",
       "    }\n",
       "\n",
       "    .dataframe thead th {\n",
       "        text-align: right;\n",
       "    }\n",
       "</style>\n",
       "<table border=\"1\" class=\"dataframe\">\n",
       "  <thead>\n",
       "    <tr style=\"text-align: right;\">\n",
       "      <th></th>\n",
       "      <th>a</th>\n",
       "      <th>ind</th>\n",
       "    </tr>\n",
       "  </thead>\n",
       "  <tbody>\n",
       "    <tr>\n",
       "      <th>0</th>\n",
       "      <td>2.008328e+07</td>\n",
       "      <td>0.000000</td>\n",
       "    </tr>\n",
       "    <tr>\n",
       "      <th>1</th>\n",
       "      <td>6.256518e+06</td>\n",
       "      <td>1.034483</td>\n",
       "    </tr>\n",
       "    <tr>\n",
       "      <th>2</th>\n",
       "      <td>9.882955e+06</td>\n",
       "      <td>2.068966</td>\n",
       "    </tr>\n",
       "    <tr>\n",
       "      <th>3</th>\n",
       "      <td>1.651573e+07</td>\n",
       "      <td>3.103448</td>\n",
       "    </tr>\n",
       "    <tr>\n",
       "      <th>4</th>\n",
       "      <td>2.508966e+07</td>\n",
       "      <td>4.137931</td>\n",
       "    </tr>\n",
       "    <tr>\n",
       "      <th>5</th>\n",
       "      <td>3.309882e+07</td>\n",
       "      <td>5.172414</td>\n",
       "    </tr>\n",
       "    <tr>\n",
       "      <th>6</th>\n",
       "      <td>2.471635e+07</td>\n",
       "      <td>6.206897</td>\n",
       "    </tr>\n",
       "    <tr>\n",
       "      <th>7</th>\n",
       "      <td>2.532054e+07</td>\n",
       "      <td>7.241379</td>\n",
       "    </tr>\n",
       "    <tr>\n",
       "      <th>8</th>\n",
       "      <td>3.904083e+07</td>\n",
       "      <td>8.275862</td>\n",
       "    </tr>\n",
       "    <tr>\n",
       "      <th>9</th>\n",
       "      <td>5.352207e+07</td>\n",
       "      <td>9.310345</td>\n",
       "    </tr>\n",
       "    <tr>\n",
       "      <th>10</th>\n",
       "      <td>6.617185e+07</td>\n",
       "      <td>10.344828</td>\n",
       "    </tr>\n",
       "    <tr>\n",
       "      <th>11</th>\n",
       "      <td>9.600248e+07</td>\n",
       "      <td>11.379310</td>\n",
       "    </tr>\n",
       "    <tr>\n",
       "      <th>12</th>\n",
       "      <td>1.144665e+08</td>\n",
       "      <td>12.413793</td>\n",
       "    </tr>\n",
       "    <tr>\n",
       "      <th>13</th>\n",
       "      <td>1.340967e+08</td>\n",
       "      <td>13.448276</td>\n",
       "    </tr>\n",
       "    <tr>\n",
       "      <th>14</th>\n",
       "      <td>1.990879e+07</td>\n",
       "      <td>14.482759</td>\n",
       "    </tr>\n",
       "    <tr>\n",
       "      <th>15</th>\n",
       "      <td>2.403514e+07</td>\n",
       "      <td>15.517241</td>\n",
       "    </tr>\n",
       "    <tr>\n",
       "      <th>16</th>\n",
       "      <td>2.939800e+07</td>\n",
       "      <td>16.551724</td>\n",
       "    </tr>\n",
       "    <tr>\n",
       "      <th>17</th>\n",
       "      <td>3.247008e+07</td>\n",
       "      <td>17.586207</td>\n",
       "    </tr>\n",
       "    <tr>\n",
       "      <th>18</th>\n",
       "      <td>3.633482e+07</td>\n",
       "      <td>18.620690</td>\n",
       "    </tr>\n",
       "    <tr>\n",
       "      <th>19</th>\n",
       "      <td>4.076175e+07</td>\n",
       "      <td>19.655172</td>\n",
       "    </tr>\n",
       "    <tr>\n",
       "      <th>20</th>\n",
       "      <td>5.340019e+07</td>\n",
       "      <td>20.689655</td>\n",
       "    </tr>\n",
       "    <tr>\n",
       "      <th>21</th>\n",
       "      <td>6.547115e+07</td>\n",
       "      <td>21.724138</td>\n",
       "    </tr>\n",
       "    <tr>\n",
       "      <th>22</th>\n",
       "      <td>8.311975e+07</td>\n",
       "      <td>22.758621</td>\n",
       "    </tr>\n",
       "    <tr>\n",
       "      <th>23</th>\n",
       "      <td>9.204588e+07</td>\n",
       "      <td>23.793103</td>\n",
       "    </tr>\n",
       "    <tr>\n",
       "      <th>24</th>\n",
       "      <td>9.340400e+07</td>\n",
       "      <td>24.827586</td>\n",
       "    </tr>\n",
       "    <tr>\n",
       "      <th>25</th>\n",
       "      <td>1.043734e+08</td>\n",
       "      <td>25.862069</td>\n",
       "    </tr>\n",
       "    <tr>\n",
       "      <th>26</th>\n",
       "      <td>1.213004e+08</td>\n",
       "      <td>26.896552</td>\n",
       "    </tr>\n",
       "    <tr>\n",
       "      <th>27</th>\n",
       "      <td>1.446794e+08</td>\n",
       "      <td>27.931034</td>\n",
       "    </tr>\n",
       "    <tr>\n",
       "      <th>28</th>\n",
       "      <td>1.600465e+08</td>\n",
       "      <td>28.965517</td>\n",
       "    </tr>\n",
       "    <tr>\n",
       "      <th>29</th>\n",
       "      <td>1.656966e+08</td>\n",
       "      <td>30.000000</td>\n",
       "    </tr>\n",
       "  </tbody>\n",
       "</table>\n",
       "</div>"
      ],
      "text/plain": [
       "               a        ind\n",
       "0   2.008328e+07   0.000000\n",
       "1   6.256518e+06   1.034483\n",
       "2   9.882955e+06   2.068966\n",
       "3   1.651573e+07   3.103448\n",
       "4   2.508966e+07   4.137931\n",
       "5   3.309882e+07   5.172414\n",
       "6   2.471635e+07   6.206897\n",
       "7   2.532054e+07   7.241379\n",
       "8   3.904083e+07   8.275862\n",
       "9   5.352207e+07   9.310345\n",
       "10  6.617185e+07  10.344828\n",
       "11  9.600248e+07  11.379310\n",
       "12  1.144665e+08  12.413793\n",
       "13  1.340967e+08  13.448276\n",
       "14  1.990879e+07  14.482759\n",
       "15  2.403514e+07  15.517241\n",
       "16  2.939800e+07  16.551724\n",
       "17  3.247008e+07  17.586207\n",
       "18  3.633482e+07  18.620690\n",
       "19  4.076175e+07  19.655172\n",
       "20  5.340019e+07  20.689655\n",
       "21  6.547115e+07  21.724138\n",
       "22  8.311975e+07  22.758621\n",
       "23  9.204588e+07  23.793103\n",
       "24  9.340400e+07  24.827586\n",
       "25  1.043734e+08  25.862069\n",
       "26  1.213004e+08  26.896552\n",
       "27  1.446794e+08  27.931034\n",
       "28  1.600465e+08  28.965517\n",
       "29  1.656966e+08  30.000000"
      ]
     },
     "execution_count": 27,
     "metadata": {},
     "output_type": "execute_result"
    }
   ],
   "source": [
    "change"
   ]
  },
  {
   "cell_type": "code",
   "execution_count": 18,
   "metadata": {
    "id": "ePOmQq7GQucn"
   },
   "outputs": [],
   "source": [
    "change=change.iloc[:-1,:]"
   ]
  },
  {
   "cell_type": "code",
   "execution_count": 19,
   "metadata": {
    "colab": {
     "base_uri": "https://localhost:8080/"
    },
    "id": "BVYrb9NlQuco",
    "outputId": "ad057da3-df6c-428f-cca0-23bffa6e3e55"
   },
   "outputs": [
    {
     "data": {
      "text/plain": [
       "2"
      ]
     },
     "execution_count": 19,
     "metadata": {},
     "output_type": "execute_result"
    }
   ],
   "source": [
    "\n",
    "recomended=change[\"a\"].argmin()+2\n",
    "GMM_test= GaussianMixture(n_components=recomended, covariance_type=\"full\",random_state=0).fit(X)\n",
    "predy=GMM_test.predict(X)\n",
    "recomended"
   ]
  }
 ],
 "metadata": {
  "colab": {
   "provenance": [],
   "toc_visible": true
  },
  "kernelspec": {
   "display_name": "Python 3 (ipykernel)",
   "language": "python",
   "name": "python3"
  },
  "language_info": {
   "codemirror_mode": {
    "name": "ipython",
    "version": 3
   },
   "file_extension": ".py",
   "mimetype": "text/x-python",
   "name": "python",
   "nbconvert_exporter": "python",
   "pygments_lexer": "ipython3",
   "version": "3.10.4"
  }
 },
 "nbformat": 4,
 "nbformat_minor": 1
}
